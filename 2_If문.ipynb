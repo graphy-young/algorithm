{
  "nbformat": 4,
  "nbformat_minor": 0,
  "metadata": {
    "kernelspec": {
      "display_name": "Python 3",
      "language": "python",
      "name": "python3"
    },
    "language_info": {
      "codemirror_mode": {
        "name": "ipython",
        "version": 3
      },
      "file_extension": ".py",
      "mimetype": "text/x-python",
      "name": "python",
      "nbconvert_exporter": "python",
      "pygments_lexer": "ipython3",
      "version": "3.7.3"
    },
    "colab": {
      "name": "2. If문.ipynb",
      "provenance": [],
      "include_colab_link": true
    }
  },
  "cells": [
    {
      "cell_type": "markdown",
      "metadata": {
        "id": "view-in-github",
        "colab_type": "text"
      },
      "source": [
        "<a href=\"https://colab.research.google.com/github/graphy-young/algorithm/blob/main/Baekjoon%20Online%20judge/2.%20If%EB%AC%B8.ipynb\" target=\"_parent\"><img src=\"https://colab.research.google.com/assets/colab-badge.svg\" alt=\"Open In Colab\"/></a>"
      ]
    },
    {
      "cell_type": "markdown",
      "metadata": {
        "id": "6abwrAlCYbVk"
      },
      "source": [
        "# 2단계. if문\n",
        "\n",
        "if문을 사용해 봅시다."
      ]
    },
    {
      "cell_type": "markdown",
      "metadata": {
        "id": "ewXH2UmKYbVu"
      },
      "source": [
        "## 1330. 두 수 비교하기\n",
        "\n",
        "### 문제\n",
        "    두 정수 A와 B가 주어졌을 때, A와 B를 비교하는 프로그램을 작성하시오.\n",
        "\n",
        "### 입력\n",
        "    첫째 줄에 A와 B가 주어진다. A와 B는 공백 한 칸으로 구분되어져 있다.\n",
        "\n",
        "### 출력\n",
        "    첫째 줄에 다음 세 가지 중 하나를 출력한다.\n",
        "    A가 B보다 큰 경우에는 '>'를 출력한다.\n",
        "    A가 B보다 작은 경우에는 '<'를 출력한다.\n",
        "    A와 B가 같은 경우에는 '=='를 출력한다.\n",
        "\n",
        "### 제한\n",
        "    -10,000 ≤ A, B ≤ 10,000\n",
        "\n",
        "### 예제 입력 1\n",
        "    1 2\n",
        "### 예제 출력 1\n",
        "    <\n",
        "### 예제 입력 2\n",
        "    10 2\n",
        "### 예제 출력 2\n",
        "    >\n",
        "### 예제 입력 3\n",
        "    5 5\n",
        "### 예제 출력 3\n",
        "    =="
      ]
    },
    {
      "cell_type": "code",
      "metadata": {
        "id": "49w11xt2YbVv",
        "outputId": "88fd5b28-5da8-4c0f-c2ce-8cf82a5369e9"
      },
      "source": [
        "def comparison(args):\n",
        "    values = [int(x) for x in args.split()]\n",
        "    for val in values:\n",
        "        if -10000 <= val <= 10000: pass\n",
        "        else: raise ValueError\n",
        "    a, b = values\n",
        "    if a > b: print('>')\n",
        "    elif a < b: print('<')\n",
        "    else: print('==')\n",
        "\n",
        "comparison(input())"
      ],
      "execution_count": null,
      "outputs": [
        {
          "output_type": "stream",
          "text": [
            "5 5\n",
            "==\n"
          ],
          "name": "stdout"
        }
      ]
    },
    {
      "cell_type": "markdown",
      "metadata": {
        "id": "vqq4IjVXYbVx"
      },
      "source": [
        "## 9498. 시험 성적\n",
        "\n",
        "### 문제\n",
        "    시험 점수를 입력받아 90 ~ 100점은 A, 80 ~ 89점은 B, 70 ~ 79점은 C, 60 ~ 69점은 D, 나머지 점수는 F를 출력하는 프로그램을 작성하시오.\n",
        "\n",
        "### 입력\n",
        "    첫째 줄에 시험 점수가 주어진다. 시험 점수는 0보다 크거나 같고, 100보다 작거나 같은 정수이다.\n",
        "\n",
        "### 출력\n",
        "    시험 성적을 출력한다.\n",
        "\n",
        "### 예제 입력 1\n",
        "    100\n",
        "### 예제 출력 1\n",
        "    A"
      ]
    },
    {
      "cell_type": "code",
      "metadata": {
        "scrolled": true,
        "id": "LIrQyoxrYbVx",
        "outputId": "c16f4dbd-798b-4493-c007-08a17ce5904c"
      },
      "source": [
        "def testGrade(arg):\n",
        "    score = int(arg)\n",
        "    if 90 <= score <= 100: \n",
        "        print('A')\n",
        "    elif 80 <= score <= 89: \n",
        "        print('B')\n",
        "    elif 70 <= score <= 79:\n",
        "        print('C')\n",
        "    elif 60 <= score <= 69:\n",
        "        print('D')\n",
        "    else: \n",
        "        print('F')\n",
        "        \n",
        "testGrade(input())"
      ],
      "execution_count": null,
      "outputs": [
        {
          "output_type": "stream",
          "text": [
            "100\n",
            "A\n"
          ],
          "name": "stdout"
        }
      ]
    },
    {
      "cell_type": "markdown",
      "metadata": {
        "id": "bICxp7fJYbVy"
      },
      "source": [
        "## 2753. 윤년\n",
        "\n",
        "### 문제\n",
        "    연도가 주어졌을 때, 윤년이면 1, 아니면 0을 출력하는 프로그램을 작성하시오.\n",
        "    \n",
        "    윤년은 연도가 4의 배수이면서, 100의 배수가 아닐 때 또는 400의 배수일 때 이다.\n",
        "    \n",
        "    예를들어, 2012년은 4의 배수라서 윤년이지만, 1900년은 4의 배수이지만, 100의 배수이기 때문에 윤년이 아니다.\n",
        "    \n",
        "    하지만, 2000년은 400의 배수이기 때문에 윤년이다.\n",
        "\n",
        "### 입력\n",
        "    첫째 줄에 연도가 주어진다. 연도는 1보다 크거나 같고, 4000보다 작거나 같은 자연수이다.\n",
        "\n",
        "### 출력\n",
        "    첫째 줄에 윤년이면 1, 아니면 0을 출력한다.\n",
        "\n",
        "### 예제 입력 1\n",
        "    2000\n",
        "### 예제 출력 1\n",
        "    1"
      ]
    },
    {
      "cell_type": "code",
      "metadata": {
        "id": "cTWhjBkNYbVy",
        "outputId": "25725672-c0be-4227-af32-c147c406f3c3"
      },
      "source": [
        "def isLeafYear(arg):\n",
        "    year = int(arg)\n",
        "    if 1 <= year <= 4000: \n",
        "        pass\n",
        "    else: \n",
        "        raise ValueError\n",
        "    if (year%4 == 0) and ( (year%100 != 0) or (year%400 == 0) ):\n",
        "        print(1)\n",
        "    else: \n",
        "        print(0)\n",
        "        \n",
        "isLeafYear(input())"
      ],
      "execution_count": null,
      "outputs": [
        {
          "output_type": "stream",
          "text": [
            "2020\n",
            "1\n"
          ],
          "name": "stdout"
        }
      ]
    },
    {
      "cell_type": "markdown",
      "metadata": {
        "id": "oDlDOtycYbV0"
      },
      "source": [
        "## 10817. 세 수 (삭제됨)\n",
        "\n",
        "### 문제\n",
        "    세 정수 A, B, C가 주어진다. 이때, 두 번째로 큰 정수를 출력하는 프로그램을 작성하시오. \n",
        "\n",
        "### 입력\n",
        "    첫째 줄에 세 정수 A, B, C가 공백으로 구분되어 주어진다. (1 ≤ A, B, C ≤ 100)\n",
        "\n",
        "### 출력\n",
        "    두 번째로 큰 정수를 출력한다.\n",
        "\n",
        "### 예제 입력 1\n",
        "    20 30 10\n",
        "### 예제 출력 1\n",
        "    20\n",
        "### 예제 입력 2\n",
        "    30 30 10\n",
        "### 예제 출력 2\n",
        "    30\n",
        "### 예제 입력 3\n",
        "    40 40 40\n",
        "### 예제 출력 3\n",
        "    40\n",
        "### 예제 입력 4\n",
        "    20 10 10\n",
        "### 예제 출력 4\n",
        "    10"
      ]
    },
    {
      "cell_type": "code",
      "metadata": {
        "id": "93NTdqJnYbV0",
        "outputId": "ca798963-5800-44f9-c0d7-a26fa141ef72"
      },
      "source": [
        "def threeDigits(args):\n",
        "    values = [int(x) for x in args.split()]\n",
        "    for val in values:\n",
        "        if 1 <= val <= 100: \n",
        "            pass\n",
        "        else: \n",
        "            raise ValueError\n",
        "    values.sort()\n",
        "    print(values[1])\n",
        "    \n",
        "threeDigits(input())"
      ],
      "execution_count": null,
      "outputs": [
        {
          "output_type": "stream",
          "text": [
            "30 30 10\n",
            "30\n"
          ],
          "name": "stdout"
        }
      ]
    },
    {
      "cell_type": "markdown",
      "metadata": {
        "id": "B9d7ru0ZYfIZ"
      },
      "source": [
        "## 14681. 사분면 고르기\r\n",
        "\r\n",
        "### 문제\r\n",
        "    흔한 수학 문제 중 하나는 주어진 점이 어느 사분면에 속하는지 알아내는 것이다. 사분면은 아래 그림처럼 1부터 4까지 번호를 갖는다. \"Quadrant n\"은 \"제n사분면\"이라는 뜻이다.\r\n",
        "\r\n",
        "    예를 들어, 좌표가 (12, 5)인 점 A는 x좌표와 y좌표가 모두 양수이므로 제1사분면에 속한다. 점 B는 x좌표가 음수이고 y좌표가 양수이므로 제2사분면에 속한다.\r\n",
        "\r\n",
        "    점의 좌표를 입력받아 그 점이 어느 사분면에 속하는지 알아내는 프로그램을 작성하시오. 단, x좌표와 y좌표는 모두 양수나 음수라고 가정한다.\r\n",
        "\r\n",
        "### 입력\r\n",
        "    첫 줄에는 정수 x가 주어진다. (−1000 ≤ x ≤ 1000; x ≠ 0) 다음 줄에는 정수 y가 주어진다. (−1000 ≤ y ≤ 1000; y ≠ 0)\r\n",
        "\r\n",
        "### 출력\r\n",
        "    점 (x, y)의 사분면 번호(1, 2, 3, 4 중 하나)를 출력한다.\r\n",
        "\r\n",
        "### 예제 입력 1 \r\n",
        "    12\r\n",
        "    5\r\n",
        "### 예제 출력 1 \r\n",
        "    1\r\n",
        "### 예제 입력 2 \r\n",
        "    9\r\n",
        "    -13\r\n",
        "### 예제 출력 2 \r\n",
        "    4"
      ]
    },
    {
      "cell_type": "code",
      "metadata": {
        "id": "5Fl7v_MFeNPY",
        "colab": {
          "base_uri": "https://localhost:8080/"
        },
        "outputId": "6b0799d2-d999-48af-8339-18275f645aa2"
      },
      "source": [
        "points = dict()\r\n",
        "points['x'] = int(input())\r\n",
        "points['y'] = int(input())\r\n",
        "\r\n",
        "if points['x'] > 0 and points['y'] > 0:\r\n",
        "  print(1)\r\n",
        "elif points['x'] < 0 and points['y'] > 0:\r\n",
        "  print(2)\r\n",
        "elif points['x'] > 0 and points['y'] < 0:\r\n",
        "  print(4)\r\n",
        "elif points['x'] < 0 and points['y'] < 0:\r\n",
        "  print(3)\r\n",
        "else:\r\n",
        "  raise NoQuadrantException"
      ],
      "execution_count": null,
      "outputs": [
        {
          "output_type": "stream",
          "text": [
            "9\n",
            "-13\n",
            "4\n"
          ],
          "name": "stdout"
        }
      ]
    },
    {
      "cell_type": "markdown",
      "metadata": {
        "id": "H3JclujzfekW"
      },
      "source": [
        "## 2884.\t알람 시계\r\n",
        "\r\n",
        "### 문제\r\n",
        "    상근이는 매일 아침 알람을 듣고 일어난다. 알람을 듣고 바로 일어나면 다행이겠지만, 항상 조금만 더 자려는 마음 때문에 매일 학교를 지각하고 있다.\r\n",
        "    \r\n",
        "    상근이는 모든 방법을 동원해보았지만, 조금만 더 자려는 마음은 그 어떤 것도 없앨 수가 없었다.\r\n",
        "    \r\n",
        "    이런 상근이를 불쌍하게 보던, 창영이는 자신이 사용하는 방법을 추천해 주었다.\r\n",
        "    \r\n",
        "    바로 \"45분 일찍 알람 설정하기\"이다.\r\n",
        "    \r\n",
        "    이 방법은 단순하다. 원래 설정되어 있는 알람을 45분 앞서는 시간으로 바꾸는 것이다. 어차피 알람 소리를 들으면, 알람을 끄고 조금 더 잘 것이기 때문이다. 이 방법을 사용하면, 매일 아침 더 잤다는 기분을 느낄 수 있고, 학교도 지각하지 않게 된다.\r\n",
        "    \r\n",
        "    현재 상근이가 설정한 알람 시각이 주어졌을 때, 창영이의 방법을 사용한다면, 이를 언제로 고쳐야 하는지 구하는 프로그램을 작성하시오.\r\n",
        "\r\n",
        "### 입력\r\n",
        "    첫째 줄에 두 정수 H와 M이 주어진다. (0 ≤ H ≤ 23, 0 ≤ M ≤ 59) 그리고 이것은 현재 상근이가 설정한 놓은 알람 시간 H시 M분을 의미한다.\r\n",
        "    \r\n",
        "    입력 시간은 24시간 표현을 사용한다. 24시간 표현에서 하루의 시작은 0:0(자정)이고, 끝은 23:59(다음날 자정 1분 전)이다. 시간을 나타낼 때, 불필요한 0은 사용하지 않는다.\r\n",
        "\r\n",
        "### 출력\r\n",
        "    첫째 줄에 상근이가 창영이의 방법을 사용할 때, 설정해야 하는 알람 시간을 출력한다. (입력과 같은 형태로 출력하면 된다.)\r\n",
        "\r\n",
        "### 예제 입력 1 \r\n",
        "    10 10\r\n",
        "### 예제 출력 1 \r\n",
        "    9 25\r\n",
        "### 예제 입력 2 \r\n",
        "    0 30\r\n",
        "### 예제 출력 2 \r\n",
        "    23 45\r\n",
        "### 예제 입력 3 \r\n",
        "    23 40\r\n",
        "### 예제 출력 3 \r\n",
        "    22 55"
      ]
    },
    {
      "cell_type": "code",
      "metadata": {
        "id": "DYzyFwp8vXpa",
        "outputId": "555ecbb3-cd45-462d-d846-82719673c854",
        "colab": {
          "base_uri": "https://localhost:8080/"
        }
      },
      "source": [
        "H, M = [int(i) for i in input().split()]\r\n",
        "\r\n",
        "if 0 <= H <= 23 and 0 <= M <= 59:\r\n",
        "  pass\r\n",
        "else:\r\n",
        "  raise WrongInputException\r\n",
        "\r\n",
        "if M-45 < 0:\r\n",
        "  H = H - 1\r\n",
        "  M = 60 - abs(M-45)\r\n",
        "else:\r\n",
        "  M = M - 45\r\n",
        "\r\n",
        "if H < 0:\r\n",
        "  H = 24 + H\r\n",
        "else:\r\n",
        "  pass\r\n",
        "\r\n",
        "print(H, M)"
      ],
      "execution_count": 6,
      "outputs": [
        {
          "output_type": "stream",
          "text": [
            "0 30\n",
            "23 45\n"
          ],
          "name": "stdout"
        }
      ]
    }
  ]
}