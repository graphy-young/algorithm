{
  "nbformat": 4,
  "nbformat_minor": 0,
  "metadata": {
    "colab": {
      "name": "5_1차원 배열.ipynb",
      "provenance": [],
      "authorship_tag": "ABX9TyOuHZTI0XMeVigvxWRxCYGf",
      "include_colab_link": true
    },
    "kernelspec": {
      "name": "python3",
      "display_name": "Python 3"
    }
  },
  "cells": [
    {
      "cell_type": "markdown",
      "metadata": {
        "id": "view-in-github",
        "colab_type": "text"
      },
      "source": [
        "<a href=\"https://colab.research.google.com/github/graphy-young/algorithm/blob/main/Baekjoon%20Online%20Judge/5_1%EC%B0%A8%EC%9B%90_%EB%B0%B0%EC%97%B4.ipynb\" target=\"_parent\"><img src=\"https://colab.research.google.com/assets/colab-badge.svg\" alt=\"Open In Colab\"/></a>"
      ]
    },
    {
      "cell_type": "markdown",
      "metadata": {
        "id": "oF-9SIpItIjk"
      },
      "source": [
        "# 5. 1차원 배열\n",
        "\n",
        "    배열을 사용해 봅시다."
      ]
    },
    {
      "cell_type": "markdown",
      "metadata": {
        "id": "MvkYgUqctYiy"
      },
      "source": [
        "## 10818. 최소, 최대"
      ]
    },
    {
      "cell_type": "markdown",
      "metadata": {
        "id": "cIXBJjrUtRDP"
      },
      "source": [
        "### 문제\n",
        "    N개의 정수가 주어진다. 이때, 최솟값과 최댓값을 구하는 프로그램을 작성하시오.\n",
        "\n",
        "### 입력\n",
        "    첫째 줄에 정수의 개수 N (1 ≤ N ≤ 1,000,000)이 주어진다. 둘째 줄에는 N개의 정수를 공백으로 구분해서 주어진다. 모든 정수는 -1,000,000보다 크거나 같고, 1,000,000보다 작거나 같은 정수이다.\n",
        "\n",
        "### 출력\n",
        "    첫째 줄에 주어진 정수 N개의 최솟값과 최댓값을 공백으로 구분해 출력한다.\n",
        "\n",
        "### 예제 입력 1 \n",
        "    5\n",
        "    20 10 35 30 7\n",
        "### 예제 출력 1 \n",
        "    7 35"
      ]
    },
    {
      "cell_type": "markdown",
      "metadata": {
        "id": "5aHf13idtl1k"
      },
      "source": [
        "### Code"
      ]
    },
    {
      "cell_type": "code",
      "metadata": {
        "colab": {
          "base_uri": "https://localhost:8080/"
        },
        "id": "hdeedr_0tnPu",
        "outputId": "2f366e70-b222-448a-f095-e478f720c5b8"
      },
      "source": [
        "digitNums = int(input())\n",
        "numbers = list(map(int, input().split()))\n",
        "\n",
        "print(min(numbers), max(numbers))"
      ],
      "execution_count": 1,
      "outputs": [
        {
          "output_type": "stream",
          "text": [
            "5\n",
            "20 10 35 30 7\n",
            "35 7\n"
          ],
          "name": "stdout"
        }
      ]
    },
    {
      "cell_type": "markdown",
      "metadata": {
        "id": "xVV8gwsVunfH"
      },
      "source": [
        "## 2562. 최댓값"
      ]
    },
    {
      "cell_type": "markdown",
      "metadata": {
        "id": "_ta2Lg-yuqFO"
      },
      "source": [
        "### 문제\n",
        "    9개의 서로 다른 자연수가 주어질 때, 이들 중 최댓값을 찾고 그 최댓값이 몇 번째 수인지를 구하는 프로그램을 작성하시오.\n",
        "    \n",
        "    예를 들어, 서로 다른 9개의 자연수\n",
        "    \n",
        "    3, 29, 38, 12, 57, 74, 40, 85, 61\n",
        "    \n",
        "    이 주어지면, 이들 중 최댓값은 85이고, 이 값은 8번째 수이다.\n",
        "\n",
        "### 입력\n",
        "    첫째 줄부터 아홉 번째 줄까지 한 줄에 하나의 자연수가 주어진다. 주어지는 자연수는 100 보다 작다.\n",
        "\n",
        "### 출력\n",
        "    첫째 줄에 최댓값을 출력하고, 둘째 줄에 최댓값이 몇 번째 수인지를 출력한다.\n",
        "\n",
        "### 예제 입력 1 \n",
        "    3\n",
        "    29\n",
        "    38\n",
        "    12\n",
        "    57\n",
        "    74\n",
        "    40\n",
        "    85\n",
        "    61\n",
        "\n",
        "### 예제 출력 1 \n",
        "    85\n",
        "    8"
      ]
    },
    {
      "cell_type": "markdown",
      "metadata": {
        "id": "q6UZG6pVu3Y4"
      },
      "source": [
        "### Code"
      ]
    },
    {
      "cell_type": "code",
      "metadata": {
        "colab": {
          "base_uri": "https://localhost:8080/"
        },
        "id": "Ngq-bQ4qu44s",
        "outputId": "2ad30b53-2c82-466d-f97c-16d27c6fc6ae"
      },
      "source": [
        "maxValue = 0\n",
        "cnt = 0\n",
        "\n",
        "for i in range(9):\n",
        "  digit = int(input())\n",
        "  if maxValue < digit:\n",
        "    maxValue = digit\n",
        "    cnt = i + 1  \n",
        "  else:\n",
        "    continue\n",
        "else:\n",
        "  print(maxValue)\n",
        "  print(cnt)"
      ],
      "execution_count": 3,
      "outputs": [
        {
          "output_type": "stream",
          "text": [
            "3\n",
            "29\n",
            "38\n",
            "12\n",
            "57\n",
            "74\n",
            "40\n",
            "85\n",
            "61\n",
            "85\n",
            "8\n"
          ],
          "name": "stdout"
        }
      ]
    },
    {
      "cell_type": "markdown",
      "metadata": {
        "id": "XGsvTPwwwjFo"
      },
      "source": [
        "## 2577. 숫자의 개수"
      ]
    },
    {
      "cell_type": "markdown",
      "metadata": {
        "id": "vnYDuwduwlhH"
      },
      "source": [
        "### 문제\n",
        "    세 개의 자연수 A, B, C가 주어질 때 A×B×C를 계산한 결과에 0부터 9까지 각각의 숫자가 몇 번씩 쓰였는지를 구하는 프로그램을 작성하시오.\n",
        "    \n",
        "    예를 들어 A = 150, B = 266, C = 427 이라면 \n",
        "    \n",
        "    A × B × C = 150 × 266 × 427 = 17037300 이 되고, \n",
        "    \n",
        "    계산한 결과 17037300 에는 0이 3번, 1이 1번, 3이 2번, 7이 2번 쓰였다.\n",
        "\n",
        "### 입력\n",
        "    첫째 줄에 A, 둘째 줄에 B, 셋째 줄에 C가 주어진다. A, B, C는 모두 100보다 같거나 크고, 1,000보다 작은 자연수이다.\n",
        "\n",
        "### 출력\n",
        "    첫째 줄에는 A×B×C의 결과에 0 이 몇 번 쓰였는지 출력한다. 마찬가지로 둘째 줄부터 열 번째 줄까지 A×B×C의 결과에 1부터 9까지의 숫자가 각각 몇 번 쓰였는지 차례로 한 줄에 하나씩 출력한다.\n",
        "\n",
        "### 예제 입력 1 \n",
        "    150\n",
        "    266\n",
        "    427\n",
        "\n",
        "\n",
        "### 예제 출력 1 \n",
        "    3\n",
        "    1\n",
        "    0\n",
        "    2\n",
        "    0\n",
        "    0\n",
        "    0\n",
        "    2\n",
        "    0\n",
        "    0"
      ]
    },
    {
      "cell_type": "markdown",
      "metadata": {
        "id": "FFw7jJjKwzIe"
      },
      "source": [
        "### Code"
      ]
    },
    {
      "cell_type": "code",
      "metadata": {
        "colab": {
          "base_uri": "https://localhost:8080/"
        },
        "id": "4e6AFYTVw0Fz",
        "outputId": "0caef99e-aa1b-4eaa-a5a8-3cae0f67e4b1"
      },
      "source": [
        "numbers = 1\n",
        "for i in range(3):\n",
        "  numbers *= int(input())\n",
        "numbers = list(map(int, list(str(numbers))))\n",
        "\n",
        "for digit in range(10):\n",
        "  cnt = 0\n",
        "  for number in numbers:\n",
        "    if number == digit:\n",
        "      cnt += 1\n",
        "  print(cnt)"
      ],
      "execution_count": 9,
      "outputs": [
        {
          "output_type": "stream",
          "text": [
            "150\n",
            "266\n",
            "427\n",
            "[1, 7, 0, 3, 7, 3, 0, 0]\n",
            "3\n",
            "1\n",
            "0\n",
            "2\n",
            "0\n",
            "0\n",
            "0\n",
            "2\n",
            "0\n",
            "0\n"
          ],
          "name": "stdout"
        }
      ]
    }
  ]
}