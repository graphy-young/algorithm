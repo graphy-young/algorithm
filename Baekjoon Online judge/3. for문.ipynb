{
  "nbformat": 4,
  "nbformat_minor": 0,
  "metadata": {
    "colab": {
      "name": "3. for문.ipynb",
      "provenance": [],
      "collapsed_sections": [],
      "include_colab_link": true
    },
    "kernelspec": {
      "name": "python3",
      "display_name": "Python 3"
    }
  },
  "cells": [
    {
      "cell_type": "markdown",
      "metadata": {
        "id": "view-in-github",
        "colab_type": "text"
      },
      "source": [
        "<a href=\"https://colab.research.google.com/github/graphy-young/algorithm/blob/main/Baekjoon%20Online%20judge/3.%20for%EB%AC%B8.ipynb\" target=\"_parent\"><img src=\"https://colab.research.google.com/assets/colab-badge.svg\" alt=\"Open In Colab\"/></a>"
      ]
    },
    {
      "cell_type": "markdown",
      "metadata": {
        "id": "QExAhuSu9HDR"
      },
      "source": [
        "# 3. for문\r\n",
        "\r\n",
        "for문을 사용해 봅시다."
      ]
    },
    {
      "cell_type": "markdown",
      "metadata": {
        "id": "DRJr-E7t9cmO"
      },
      "source": [
        "## 2739. 구구단"
      ]
    },
    {
      "cell_type": "markdown",
      "metadata": {
        "id": "J72le2r3tfS3"
      },
      "source": [
        "### 문제\n",
        "    N을 입력받은 뒤, 구구단 N단을 출력하는 프로그램을 작성하시오. 출력 형식에 맞춰서 출력하면 된다.\n",
        "\n",
        "### 입력\n",
        "    첫째 줄에 N이 주어진다. N은 1보다 크거나 같고, 9보다 작거나 같다.\n",
        "\n",
        "### 출력\n",
        "    출력형식과 같게 N*1부터 N*9까지 출력한다.\n",
        "\n",
        "### 예제 입력 1 \n",
        "    2\n",
        "### 예제 출력 1 \n",
        "    2 * 1 = 2\n",
        "    2 * 2 = 4\n",
        "    2 * 3 = 6\n",
        "    2 * 4 = 8\n",
        "    2 * 5 = 10\n",
        "    2 * 6 = 12\n",
        "    2 * 7 = 14\n",
        "    2 * 8 = 16\n",
        "    2 * 9 = 18"
      ]
    },
    {
      "cell_type": "markdown",
      "metadata": {
        "id": "1MYZZn8juXbz"
      },
      "source": [
        "### Code"
      ]
    },
    {
      "cell_type": "code",
      "metadata": {
        "colab": {
          "base_uri": "https://localhost:8080/"
        },
        "id": "eeXLZkN6-_42",
        "outputId": "815ce09d-7834-4f06-8de2-d99f7f31a2ca"
      },
      "source": [
        "digit = int(input())\r\n",
        "\r\n",
        "for i in range(1, 10):\r\n",
        "  message = \"{} * {} = {}\".format(digit, i, digit*i)\r\n",
        "  print(message)\r\n",
        "  #result = digit * i\r\n",
        "  #print(\"{digit} * {i} = {result}\")\r\n"
      ],
      "execution_count": null,
      "outputs": [
        {
          "output_type": "stream",
          "text": [
            "2\n",
            "2 * 1 = 2\n",
            "2 * 2 = 4\n",
            "2 * 3 = 6\n",
            "2 * 4 = 8\n",
            "2 * 5 = 10\n",
            "2 * 6 = 12\n",
            "2 * 7 = 14\n",
            "2 * 8 = 16\n",
            "2 * 9 = 18\n"
          ],
          "name": "stdout"
        }
      ]
    },
    {
      "cell_type": "markdown",
      "metadata": {
        "id": "LSxcviJhAx4R"
      },
      "source": [
        "## 10950. A+B - 3"
      ]
    },
    {
      "cell_type": "markdown",
      "metadata": {
        "id": "ccbKoxrYtidX"
      },
      "source": [
        "### 문제\n",
        "    두 정수 A와 B를 입력받은 다음, A+B를 출력하는 프로그램을 작성하시오.\n",
        "\n",
        "### 입력\n",
        "    첫째 줄에 테스트 케이스의 개수 T가 주어진다.\n",
        "    \n",
        "    각 테스트 케이스는 한 줄로 이루어져 있으며, 각 줄에 A와 B가 주어진다. (0 < A, B < 10)\n",
        "\n",
        "### 출력\n",
        "    각 테스트 케이스마다 A+B를 출력한다.\n",
        "\n",
        "### 예제 입력 1 \n",
        "    5\n",
        "    1 1\n",
        "    2 3\n",
        "    3 4\n",
        "    9 8\n",
        "    5 2\n",
        "\n",
        "### 예제 출력 1 \n",
        "    2\n",
        "    5\n",
        "    7\n",
        "    17\n",
        "    7"
      ]
    },
    {
      "cell_type": "markdown",
      "metadata": {
        "id": "NABSioYrucFD"
      },
      "source": [
        "### Code"
      ]
    },
    {
      "cell_type": "code",
      "metadata": {
        "colab": {
          "base_uri": "https://localhost:8080/"
        },
        "id": "63AQWjQbBRm1",
        "outputId": "27c0d996-b28b-4b30-85a9-93722094f823"
      },
      "source": [
        "testCase = int(input())\r\n",
        "\r\n",
        "for i in range(1, testCase+1):\r\n",
        "  digits = list()\r\n",
        "  digits = [int(i) for i in input().split()]\r\n",
        "  for digit in digits:\r\n",
        "    if 0 < digit < 10:\r\n",
        "      pass\r\n",
        "    else:\r\n",
        "      raise WrongInputException\r\n",
        "  print(sum(digits))"
      ],
      "execution_count": null,
      "outputs": [
        {
          "output_type": "stream",
          "text": [
            "5\n",
            "1 1\n",
            "2\n",
            "2 3\n",
            "5\n",
            "3 4\n",
            "7\n",
            "9 8\n",
            "17\n",
            "5 2\n",
            "7\n"
          ],
          "name": "stdout"
        }
      ]
    },
    {
      "cell_type": "markdown",
      "metadata": {
        "id": "2Ud6VkEksVqV"
      },
      "source": [
        "## 8393. 합"
      ]
    },
    {
      "cell_type": "markdown",
      "metadata": {
        "id": "NKWAZxa_tmOR"
      },
      "source": [
        "### 문제\n",
        "    n이 주어졌을 때, 1부터 n까지 합을 구하는 프로그램을 작성하시오.\n",
        "\n",
        "### 입력\n",
        "    첫째 줄에 n (1 ≤ n ≤ 10,000)이 주어진다.\n",
        "\n",
        "### 출력\n",
        "    1부터 n까지 합을 출력한다.\n",
        "\n",
        "### 예제 입력 1 \n",
        "    3\n",
        "### 예제 출력 1 \n",
        "    6"
      ]
    },
    {
      "cell_type": "markdown",
      "metadata": {
        "id": "7QLsdnacuft1"
      },
      "source": [
        "### Code"
      ]
    },
    {
      "cell_type": "code",
      "metadata": {
        "id": "4MLPi63bse4E"
      },
      "source": [
        "digit = int(input())\n",
        "\n",
        "if 1 <= digit <= 10000:\n",
        "  pass\n",
        "else:\n",
        "  raise WrongInputException\n",
        "\n",
        "result = 0\n",
        "\n",
        "for i in range(1, digit+1):\n",
        "  result += i\n",
        "\n",
        "print(result)"
      ],
      "execution_count": null,
      "outputs": []
    },
    {
      "cell_type": "markdown",
      "metadata": {
        "id": "CY7FFGtlskLt"
      },
      "source": [
        "## 15552. 빠른 A+B"
      ]
    },
    {
      "cell_type": "markdown",
      "metadata": {
        "id": "L37o_Og-tWZp"
      },
      "source": [
        "### 문제\n",
        "    본격적으로 for문 문제를 풀기 전에 주의해야 할 점이 있다. 입출력 방식이 느리면 여러 줄을 입력받거나 출력할 때 시간초과가 날 수 있다는 점이다.\n",
        "    \n",
        "    C++을 사용하고 있고 cin/cout을 사용하고자 한다면, cin.tie(NULL)과 sync_with_stdio(false)를 둘 다 적용해 주고, endl 대신 개행문자(\\n)를 쓰자. 단, 이렇게 하면 더 이상 scanf/printf/puts/getchar/putchar 등 C의 입출력 방식을 사용하면 안 된다.\n",
        "    \n",
        "    Java를 사용하고 있다면, Scanner와 System.out.println 대신 BufferedReader와 BufferedWriter를 사용할 수 있다. BufferedWriter.flush는 맨 마지막에 한 번만 하면 된다.\n",
        "    \n",
        "    Python을 사용하고 있다면, input 대신 sys.stdin.readline을 사용할 수 있다. 단, 이때는 맨 끝의 개행문자까지 같이 입력받기 때문에 문자열을 저장하고 싶을 경우 .rstrip()을 추가로 해 주는 것이 좋다.\n",
        "    \n",
        "    또한 입력과 출력 스트림은 별개이므로, 테스트케이스를 전부 입력받아서 저장한 뒤 전부 출력할 필요는 없다. 테스트케이스를 하나 받은 뒤 하나 출력해도 된다.\n",
        "    \n",
        "    자세한 설명 및 다른 언어의 경우는 이 글에 설명되어 있다.\n",
        "    \n",
        "    이 블로그 글에서 BOJ의 기타 여러 가지 팁을 볼 수 있다.\n",
        "\n",
        "### 입력\n",
        "    첫 줄에 테스트케이스의 개수 T가 주어진다. T는 최대 1,000,000이다. 다음 T줄에는 각각 두 정수 A와 B가 주어진다. A와 B는 1 이상, 1,000 이하이다.\n",
        "\n",
        "### 출력\n",
        "    각 테스트케이스마다 A+B를 한 줄에 하나씩 순서대로 출력한다.\n",
        "\n",
        "### 예제 입력 1\n",
        "    5\n",
        "    1 1\n",
        "    12 34\n",
        "    5 500\n",
        "    40 60\n",
        "    1000 1000\n",
        "\n",
        "### 예제 출력 1\n",
        "    2\n",
        "    46\n",
        "    505\n",
        "    100\n",
        "    2000"
      ]
    },
    {
      "cell_type": "markdown",
      "metadata": {
        "id": "sERT0afqumN0"
      },
      "source": [
        "### Code"
      ]
    },
    {
      "cell_type": "code",
      "metadata": {
        "id": "WkLGElBptHva"
      },
      "source": [
        "# this doesn't work in colab\n",
        "from sys import stdin\n",
        "\n",
        "t = int(stdin.readline())\n",
        "\n",
        "for i in range(t):\n",
        "  digits = map(int, stdin.readline().split())\n",
        "  result = sum(digits)\n",
        "  print(result)"
      ],
      "execution_count": null,
      "outputs": []
    },
    {
      "cell_type": "markdown",
      "metadata": {
        "id": "me3zFONXtL0L"
      },
      "source": [
        "## 2741. N 찍기"
      ]
    },
    {
      "cell_type": "markdown",
      "metadata": {
        "id": "L8ESCcj6tv8Q"
      },
      "source": [
        "### 문제\n",
        "    자연수 N이 주어졌을 때, 1부터 N까지 한 줄에 하나씩 출력하는 프로그램을 작성하시오.\n",
        "\n",
        "### 입력\n",
        "    첫째 줄에 100,000보다 작거나 같은 자연수 N이 주어진다.\n",
        "\n",
        "### 출력\n",
        "    첫째 줄부터 N번째 줄 까지 차례대로 출력한다.\n",
        "\n",
        "### 예제 입력 1\n",
        "    5\n",
        "\n",
        "### 예제 출력 1\n",
        "    1\n",
        "    2\n",
        "    3\n",
        "    4\n",
        "    5"
      ]
    },
    {
      "cell_type": "markdown",
      "metadata": {
        "id": "zjbhcTpbt6fc"
      },
      "source": [
        "### Code"
      ]
    },
    {
      "cell_type": "code",
      "metadata": {
        "id": "QFAN0nMhuqkr"
      },
      "source": [
        "from sys import stdin\n",
        "N = int(stdin.readline().rstrip())\n",
        "\n",
        "for i in range(N):\n",
        "  print(i+1)"
      ],
      "execution_count": null,
      "outputs": []
    },
    {
      "cell_type": "markdown",
      "metadata": {
        "id": "c6aq3ZkruvP2"
      },
      "source": [
        "## 2742. 기찍 N"
      ]
    },
    {
      "cell_type": "markdown",
      "metadata": {
        "id": "4wSW0Zm5uzMj"
      },
      "source": [
        "### 문제\n",
        "    자연수 N이 주어졌을 때, N부터 1까지 한 줄에 하나씩 출력하는 프로그램을 작성하시오.\n",
        "\n",
        "### 입력\n",
        "    첫째 줄에 100,000보다 작거나 같은 자연수 N이 주어진다.\n",
        "\n",
        "### 출력\n",
        "    첫째 줄부터 N번째 줄 까지 차례대로 출력한다.\n",
        "\n",
        "### 예제 입력 1\n",
        "    5\n",
        "### 예제 출력 1\n",
        "    5\n",
        "    4\n",
        "    3\n",
        "    2\n",
        "    1"
      ]
    },
    {
      "cell_type": "markdown",
      "metadata": {
        "id": "1Yo62AtVu9zk"
      },
      "source": [
        "### Code"
      ]
    },
    {
      "cell_type": "code",
      "metadata": {
        "id": "uvnfU2mvu_xO"
      },
      "source": [
        "# N = int(input())\n",
        "from sys import stdin\n",
        "N = int(stdin.readline())\n",
        "\n",
        "for i in range(N, 0, -1):\n",
        "  print(i)"
      ],
      "execution_count": null,
      "outputs": []
    },
    {
      "cell_type": "markdown",
      "metadata": {
        "id": "-zAQCQIGvD6D"
      },
      "source": [
        "## 11021. A+B - 7"
      ]
    },
    {
      "cell_type": "markdown",
      "metadata": {
        "id": "cAnnewAXvJJ7"
      },
      "source": [
        "### 문제\n",
        "    두 정수 A와 B를 입력받은 다음, A+B를 출력하는 프로그램을 작성하시오.\n",
        "\n",
        "### 입력\n",
        "    첫째 줄에 테스트 케이스의 개수 T가 주어진다.\n",
        "    \n",
        "    각 테스트 케이스는 한 줄로 이루어져 있으며, 각 줄에 A와 B가 주어진다. (0 < A, B < 10)\n",
        "\n",
        "### 출력\n",
        "    각 테스트 케이스마다 \"Case #x: \"를 출력한 다음, A+B를 출력한다. 테스트 케이스 번호는 1부터 시작한다.\n",
        "\n",
        "### 예제 입력 1\n",
        "    5\n",
        "    1 1\n",
        "    2 3\n",
        "    3 4\n",
        "    9 8\n",
        "    5 2\n",
        "\n",
        "### 예제 출력 1\n",
        "    Case #1: 2\n",
        "    Case #2: 5\n",
        "    Case #3: 7\n",
        "    Case #4: 17\n",
        "    Case #5: 7"
      ]
    },
    {
      "cell_type": "markdown",
      "metadata": {
        "id": "9gqJ_-6DvXwl"
      },
      "source": [
        "### Code\n"
      ]
    },
    {
      "cell_type": "code",
      "metadata": {
        "id": "bydRGWVPvY8M"
      },
      "source": [
        "from sys import stdin\n",
        "t = int(stdin.readline())\n",
        "\n",
        "for i in range(t):\n",
        "  digits = map(int, stdin.readline().split())\n",
        "  print(\"Case #{}:\".format(i+1), str(sum(digits)))"
      ],
      "execution_count": null,
      "outputs": []
    },
    {
      "cell_type": "markdown",
      "metadata": {
        "id": "su-bz0kCvf-x"
      },
      "source": [
        "## 11022. A+B - 8"
      ]
    },
    {
      "cell_type": "markdown",
      "metadata": {
        "id": "b34w_gYTvpWJ"
      },
      "source": [
        "### 문제\n",
        "    두 정수 A와 B를 입력받은 다음, A+B를 출력하는 프로그램을 작성하시오.\n",
        "\n",
        "### 입력\n",
        "    첫째 줄에 테스트 케이스의 개수 T가 주어진다.\n",
        "    \n",
        "    각 테스트 케이스는 한 줄로 이루어져 있으며, 각 줄에 A와 B가 주어진다. (0 < A, B < 10)\n",
        "\n",
        "### 출력\n",
        "    각 테스트 케이스마다 \"Case #x: A + B = C\" 형식으로 출력한다. x는 테스트 케이스 번호이고 1부터 시작하며, C는 A+B이다.\n",
        "\n",
        "### 예제 입력 1\n",
        "    5\n",
        "    1 1\n",
        "    2 3\n",
        "    3 4\n",
        "    9 8\n",
        "    5 2\n",
        "\n",
        "### 예제 출력 1\n",
        "    Case #1: 1 + 1 = 2\n",
        "    Case #2: 2 + 3 = 5\n",
        "    Case #3: 3 + 4 = 7\n",
        "    Case #4: 9 + 8 = 17\n",
        "    Case #5: 5 + 2 = 7"
      ]
    },
    {
      "cell_type": "markdown",
      "metadata": {
        "id": "HxRV0r9SwW-g"
      },
      "source": [
        "### Code"
      ]
    },
    {
      "cell_type": "code",
      "metadata": {
        "id": "8omWdB5GwYih"
      },
      "source": [
        "from sys import stdin\n",
        "t = int(stdin.readline())\n",
        "\n",
        "for i in range(t):\n",
        "  digits = list(map(int, stdin.readline().split()))\n",
        "  print(\"Case #{}: {} + {} = {}\".format(i+1, digits[0], digits[1], sum(digits)))"
      ],
      "execution_count": null,
      "outputs": []
    },
    {
      "cell_type": "markdown",
      "metadata": {
        "id": "ztSxShNiwbCq"
      },
      "source": [
        "## 2438\t별 찍기 - 1"
      ]
    },
    {
      "cell_type": "markdown",
      "metadata": {
        "id": "WN9kKSkBwf6a"
      },
      "source": [
        "### 문제\n",
        "    첫째 줄에는 별 1개, 둘째 줄에는 별 2개, N번째 줄에는 별 N개를 찍는 문제\n",
        "\n",
        "### 입력\n",
        "    첫째 줄에 N(1 ≤ N ≤ 100)이 주어진다.\n",
        "\n",
        "### 출력\n",
        "    첫째 줄부터 N번째 줄까지 차례대로 별을 출력한다.\n",
        "\n",
        "### 예제 입력 1\n",
        "    5\n",
        "\n",
        "### 예제 출력 1\n",
        "    *\n",
        "    **\n",
        "    ***\n",
        "    ****\n",
        "    *****"
      ]
    },
    {
      "cell_type": "markdown",
      "metadata": {
        "id": "p-Rd7AE8wvLR"
      },
      "source": [
        "### Code"
      ]
    },
    {
      "cell_type": "code",
      "metadata": {
        "id": "tbM3inyuwv_S"
      },
      "source": [
        "from sys import stdin, stdout\n",
        "n = int(stdin.readline())\n",
        "\n",
        "for i in range(n):\n",
        "  for j in range(i+1):\n",
        "    stdout.write('*')\n",
        "  if i+1 != n: \n",
        "    stdout.write('\\n')"
      ],
      "execution_count": null,
      "outputs": []
    },
    {
      "cell_type": "markdown",
      "metadata": {
        "id": "SC1bldelwykD"
      },
      "source": [
        "## 2439. 별 찍기 - 2"
      ]
    },
    {
      "cell_type": "markdown",
      "metadata": {
        "id": "92PZf1QUw8AE"
      },
      "source": [
        "### 문제\n",
        "    첫째 줄에는 별 1개, 둘째 줄에는 별 2개, N번째 줄에는 별 N개를 찍는 문제\n",
        "    \n",
        "    하지만, 오른쪽을 기준으로 정렬한 별(예제 참고)을 출력하시오.\n",
        "\n",
        "### 입력\n",
        "    첫째 줄에 N(1 ≤ N ≤ 100)이 주어진다.\n",
        "\n",
        "### 출력\n",
        "    첫째 줄부터 N번째 줄까지 차례대로 별을 출력한다.\n",
        "\n",
        "### 예제 입력 1\n",
        "    5\n",
        "### 예제 출력 1\n",
        "        *\n",
        "       **\n",
        "      ***\n",
        "     ****\n",
        "    *****"
      ]
    },
    {
      "cell_type": "markdown",
      "metadata": {
        "id": "tAbkVuUxxG0T"
      },
      "source": [
        "### Code"
      ]
    },
    {
      "cell_type": "code",
      "metadata": {
        "id": "D6GbCtYCxIBK"
      },
      "source": [
        "from sys import stdin\n",
        "n = int(stdin.readline())\n",
        "#n = int(input())\n",
        "\n",
        "for i in range(n):\n",
        "  result = \"\"\n",
        "  for j in range(i+1):\n",
        "    result += \"*\"\n",
        "  print(result.rjust(n))"
      ],
      "execution_count": null,
      "outputs": []
    },
    {
      "cell_type": "markdown",
      "metadata": {
        "id": "r9yzCr40xQM9"
      },
      "source": [
        "## 10871. X보다 작은 수"
      ]
    },
    {
      "cell_type": "markdown",
      "metadata": {
        "id": "ivHZmK-DxXR4"
      },
      "source": [
        "### 문제\n",
        "    정수 N개로 이루어진 수열 A와 정수 X가 주어진다. 이때, A에서 X보다 작은 수를 모두 출력하는 프로그램을 작성하시오.\n",
        "\n",
        "### 입력\n",
        "    첫째 줄에 N과 X가 주어진다. (1 ≤ N, X ≤ 10,000)\n",
        "    \n",
        "    둘째 줄에 수열 A를 이루는 정수 N개가 주어진다. 주어지는 정수는 모두 1보다 크거나 같고, 10,000보다 작거나 같은 정수이다.\n",
        "\n",
        "### 출력\n",
        "    X보다 작은 수를 입력받은 순서대로 공백으로 구분해 출력한다. X보다 작은 수는 적어도 하나 존재한다.\n",
        "\n",
        "### 예제 입력 1\n",
        "    10 5\n",
        "    1 10 4 9 2 3 8 5 7 6\n",
        "\n",
        "### 예제 출력 1\n",
        "    1 4 2 3"
      ]
    },
    {
      "cell_type": "markdown",
      "metadata": {
        "id": "9QScuoV4xgKQ"
      },
      "source": [
        "### Code"
      ]
    },
    {
      "cell_type": "code",
      "metadata": {
        "id": "oQORMwBIxhIo"
      },
      "source": [
        "from sys import stdin\n",
        "n, x = list(map(int, stdin.readline().split()))\n",
        "\n",
        "a = list(map(int, stdin.readline().split()))\n",
        "result = list()\n",
        "\n",
        "for i in a:\n",
        "  if i < x:\n",
        "    result.append(str(i))\n",
        "  else:\n",
        "    pass\n",
        "\n",
        "print(' '.join(result))"
      ],
      "execution_count": null,
      "outputs": []
    }
  ]
}