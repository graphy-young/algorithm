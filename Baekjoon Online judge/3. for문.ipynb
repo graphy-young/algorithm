{
  "nbformat": 4,
  "nbformat_minor": 0,
  "metadata": {
    "colab": {
      "name": "3. for문.ipynb",
      "provenance": [],
      "collapsed_sections": [],
      "authorship_tag": "ABX9TyNr2lzhANzx5NQ0vm+3WVlU",
      "include_colab_link": true
    },
    "kernelspec": {
      "name": "python3",
      "display_name": "Python 3"
    }
  },
  "cells": [
    {
      "cell_type": "markdown",
      "metadata": {
        "id": "view-in-github",
        "colab_type": "text"
      },
      "source": [
        "<a href=\"https://colab.research.google.com/github/graphy-young/algorithm/blob/main/Baekjoon%20Online%20judge/3.%20for%EB%AC%B8.ipynb\" target=\"_parent\"><img src=\"https://colab.research.google.com/assets/colab-badge.svg\" alt=\"Open In Colab\"/></a>"
      ]
    },
    {
      "cell_type": "markdown",
      "metadata": {
        "id": "QExAhuSu9HDR"
      },
      "source": [
        "# 3. for문\r\n",
        "\r\n",
        "for문을 사용해 봅시다."
      ]
    },
    {
      "cell_type": "markdown",
      "metadata": {
        "id": "DRJr-E7t9cmO"
      },
      "source": [
        "## Q2739. 구구단\r\n",
        "\r\n",
        "### 문제\r\n",
        "    N을 입력받은 뒤, 구구단 N단을 출력하는 프로그램을 작성하시오. 출력 형식에 맞춰서 출력하면 된다.\r\n",
        "\r\n",
        "### 입력\r\n",
        "    첫째 줄에 N이 주어진다. N은 1보다 크거나 같고, 9보다 작거나 같다.\r\n",
        "\r\n",
        "### 출력\r\n",
        "    출력형식과 같게 N*1부터 N*9까지 출력한다.\r\n",
        "\r\n",
        "### 예제 입력 1 \r\n",
        "    2\r\n",
        "### 예제 출력 1 \r\n",
        "    2 * 1 = 2\r\n",
        "    2 * 2 = 4\r\n",
        "    2 * 3 = 6\r\n",
        "    2 * 4 = 8\r\n",
        "    2 * 5 = 10\r\n",
        "    2 * 6 = 12\r\n",
        "    2 * 7 = 14\r\n",
        "    2 * 8 = 16\r\n",
        "    2 * 9 = 18"
      ]
    },
    {
      "cell_type": "code",
      "metadata": {
        "colab": {
          "base_uri": "https://localhost:8080/"
        },
        "id": "eeXLZkN6-_42",
        "outputId": "815ce09d-7834-4f06-8de2-d99f7f31a2ca"
      },
      "source": [
        "digit = int(input())\r\n",
        "\r\n",
        "for i in range(1, 10):\r\n",
        "  message = \"{} * {} = {}\".format(digit, i, digit*i)\r\n",
        "  print(message)\r\n",
        "  #result = digit * i\r\n",
        "  #print(\"{digit} * {i} = {result}\")\r\n"
      ],
      "execution_count": 3,
      "outputs": [
        {
          "output_type": "stream",
          "text": [
            "2\n",
            "2 * 1 = 2\n",
            "2 * 2 = 4\n",
            "2 * 3 = 6\n",
            "2 * 4 = 8\n",
            "2 * 5 = 10\n",
            "2 * 6 = 12\n",
            "2 * 7 = 14\n",
            "2 * 8 = 16\n",
            "2 * 9 = 18\n"
          ],
          "name": "stdout"
        }
      ]
    },
    {
      "cell_type": "markdown",
      "metadata": {
        "id": "LSxcviJhAx4R"
      },
      "source": [
        "## Q10950. A+B - 3\r\n",
        "\r\n",
        "### 문제\r\n",
        "    두 정수 A와 B를 입력받은 다음, A+B를 출력하는 프로그램을 작성하시오.\r\n",
        "\r\n",
        "### 입력\r\n",
        "    첫째 줄에 테스트 케이스의 개수 T가 주어진다.\r\n",
        "    \r\n",
        "    각 테스트 케이스는 한 줄로 이루어져 있으며, 각 줄에 A와 B가 주어진다. (0 < A, B < 10)\r\n",
        "\r\n",
        "### 출력\r\n",
        "    각 테스트 케이스마다 A+B를 출력한다.\r\n",
        "\r\n",
        "### 예제 입력 1 \r\n",
        "    5\r\n",
        "    1 1\r\n",
        "    2 3\r\n",
        "    3 4\r\n",
        "    9 8\r\n",
        "    5 2\r\n",
        "\r\n",
        "### 예제 출력 1 \r\n",
        "    2\r\n",
        "    5\r\n",
        "    7\r\n",
        "    17\r\n",
        "    7"
      ]
    },
    {
      "cell_type": "code",
      "metadata": {
        "colab": {
          "base_uri": "https://localhost:8080/"
        },
        "id": "63AQWjQbBRm1",
        "outputId": "27c0d996-b28b-4b30-85a9-93722094f823"
      },
      "source": [
        "testCase = int(input())\r\n",
        "\r\n",
        "for i in range(1, testCase+1):\r\n",
        "  digits = list()\r\n",
        "  digits = [int(i) for i in input().split()]\r\n",
        "  for digit in digits:\r\n",
        "    if 0 < digit < 10:\r\n",
        "      pass\r\n",
        "    else:\r\n",
        "      raise WrongInputException\r\n",
        "  print(sum(digits))"
      ],
      "execution_count": 11,
      "outputs": [
        {
          "output_type": "stream",
          "text": [
            "5\n",
            "1 1\n",
            "2\n",
            "2 3\n",
            "5\n",
            "3 4\n",
            "7\n",
            "9 8\n",
            "17\n",
            "5 2\n",
            "7\n"
          ],
          "name": "stdout"
        }
      ]
    }
  ]
}