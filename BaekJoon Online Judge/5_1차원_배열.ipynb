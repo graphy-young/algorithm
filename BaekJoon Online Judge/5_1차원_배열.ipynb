{
  "nbformat": 4,
  "nbformat_minor": 0,
  "metadata": {
    "colab": {
      "name": "5_1차원 배열.ipynb",
      "provenance": [],
      "collapsed_sections": [],
      "authorship_tag": "ABX9TyPETlvKSbLlKLVqnvky485U",
      "include_colab_link": true
    },
    "kernelspec": {
      "name": "python3",
      "display_name": "Python 3"
    }
  },
  "cells": [
    {
      "cell_type": "markdown",
      "metadata": {
        "id": "view-in-github",
        "colab_type": "text"
      },
      "source": [
        "<a href=\"https://colab.research.google.com/github/graphy-young/algorithm/blob/main/BaekJoon%20Online%20Judge/5_1%EC%B0%A8%EC%9B%90_%EB%B0%B0%EC%97%B4.ipynb\" target=\"_parent\"><img src=\"https://colab.research.google.com/assets/colab-badge.svg\" alt=\"Open In Colab\"/></a>"
      ]
    },
    {
      "cell_type": "markdown",
      "metadata": {
        "id": "oF-9SIpItIjk"
      },
      "source": [
        "# 5. 1차원 배열\n",
        "\n",
        "    배열을 사용해 봅시다."
      ]
    },
    {
      "cell_type": "markdown",
      "metadata": {
        "id": "MvkYgUqctYiy"
      },
      "source": [
        "## 10818. 최소, 최대"
      ]
    },
    {
      "cell_type": "markdown",
      "metadata": {
        "id": "cIXBJjrUtRDP"
      },
      "source": [
        "### 문제\n",
        "    N개의 정수가 주어진다. 이때, 최솟값과 최댓값을 구하는 프로그램을 작성하시오.\n",
        "\n",
        "### 입력\n",
        "    첫째 줄에 정수의 개수 N (1 ≤ N ≤ 1,000,000)이 주어진다. 둘째 줄에는 N개의 정수를 공백으로 구분해서 주어진다. 모든 정수는 -1,000,000보다 크거나 같고, 1,000,000보다 작거나 같은 정수이다.\n",
        "\n",
        "### 출력\n",
        "    첫째 줄에 주어진 정수 N개의 최솟값과 최댓값을 공백으로 구분해 출력한다.\n",
        "\n",
        "### 예제 입력 1 \n",
        "    5\n",
        "    20 10 35 30 7\n",
        "### 예제 출력 1 \n",
        "    7 35"
      ]
    },
    {
      "cell_type": "markdown",
      "metadata": {
        "id": "5aHf13idtl1k"
      },
      "source": [
        "### Code"
      ]
    },
    {
      "cell_type": "code",
      "metadata": {
        "colab": {
          "base_uri": "https://localhost:8080/"
        },
        "id": "hdeedr_0tnPu",
        "outputId": "2f366e70-b222-448a-f095-e478f720c5b8"
      },
      "source": [
        "digitNums = int(input())\n",
        "numbers = list(map(int, input().split()))\n",
        "\n",
        "print(min(numbers), max(numbers))"
      ],
      "execution_count": 1,
      "outputs": [
        {
          "output_type": "stream",
          "text": [
            "5\n",
            "20 10 35 30 7\n",
            "35 7\n"
          ],
          "name": "stdout"
        }
      ]
    },
    {
      "cell_type": "markdown",
      "metadata": {
        "id": "xVV8gwsVunfH"
      },
      "source": [
        "## 2562. 최댓값"
      ]
    },
    {
      "cell_type": "markdown",
      "metadata": {
        "id": "_ta2Lg-yuqFO"
      },
      "source": [
        "### 문제\n",
        "    9개의 서로 다른 자연수가 주어질 때, 이들 중 최댓값을 찾고 그 최댓값이 몇 번째 수인지를 구하는 프로그램을 작성하시오.\n",
        "    \n",
        "    예를 들어, 서로 다른 9개의 자연수\n",
        "    \n",
        "    3, 29, 38, 12, 57, 74, 40, 85, 61\n",
        "    \n",
        "    이 주어지면, 이들 중 최댓값은 85이고, 이 값은 8번째 수이다.\n",
        "\n",
        "### 입력\n",
        "    첫째 줄부터 아홉 번째 줄까지 한 줄에 하나의 자연수가 주어진다. 주어지는 자연수는 100 보다 작다.\n",
        "\n",
        "### 출력\n",
        "    첫째 줄에 최댓값을 출력하고, 둘째 줄에 최댓값이 몇 번째 수인지를 출력한다.\n",
        "\n",
        "### 예제 입력 1 \n",
        "    3\n",
        "    29\n",
        "    38\n",
        "    12\n",
        "    57\n",
        "    74\n",
        "    40\n",
        "    85\n",
        "    61\n",
        "\n",
        "### 예제 출력 1 \n",
        "    85\n",
        "    8"
      ]
    },
    {
      "cell_type": "markdown",
      "metadata": {
        "id": "q6UZG6pVu3Y4"
      },
      "source": [
        "### Code"
      ]
    },
    {
      "cell_type": "code",
      "metadata": {
        "colab": {
          "base_uri": "https://localhost:8080/"
        },
        "id": "Ngq-bQ4qu44s",
        "outputId": "2ad30b53-2c82-466d-f97c-16d27c6fc6ae"
      },
      "source": [
        "maxValue = 0\n",
        "cnt = 0\n",
        "\n",
        "for i in range(9):\n",
        "  digit = int(input())\n",
        "  if maxValue < digit:\n",
        "    maxValue = digit\n",
        "    cnt = i + 1  \n",
        "  else:\n",
        "    continue\n",
        "else:\n",
        "  print(maxValue)\n",
        "  print(cnt)"
      ],
      "execution_count": 3,
      "outputs": [
        {
          "output_type": "stream",
          "text": [
            "3\n",
            "29\n",
            "38\n",
            "12\n",
            "57\n",
            "74\n",
            "40\n",
            "85\n",
            "61\n",
            "85\n",
            "8\n"
          ],
          "name": "stdout"
        }
      ]
    },
    {
      "cell_type": "markdown",
      "metadata": {
        "id": "XGsvTPwwwjFo"
      },
      "source": [
        "## 2577. 숫자의 개수"
      ]
    },
    {
      "cell_type": "markdown",
      "metadata": {
        "id": "vnYDuwduwlhH"
      },
      "source": [
        "### 문제\n",
        "    세 개의 자연수 A, B, C가 주어질 때 A×B×C를 계산한 결과에 0부터 9까지 각각의 숫자가 몇 번씩 쓰였는지를 구하는 프로그램을 작성하시오.\n",
        "    \n",
        "    예를 들어 A = 150, B = 266, C = 427 이라면 \n",
        "    \n",
        "    A × B × C = 150 × 266 × 427 = 17037300 이 되고, \n",
        "    \n",
        "    계산한 결과 17037300 에는 0이 3번, 1이 1번, 3이 2번, 7이 2번 쓰였다.\n",
        "\n",
        "### 입력\n",
        "    첫째 줄에 A, 둘째 줄에 B, 셋째 줄에 C가 주어진다. A, B, C는 모두 100보다 같거나 크고, 1,000보다 작은 자연수이다.\n",
        "\n",
        "### 출력\n",
        "    첫째 줄에는 A×B×C의 결과에 0 이 몇 번 쓰였는지 출력한다. 마찬가지로 둘째 줄부터 열 번째 줄까지 A×B×C의 결과에 1부터 9까지의 숫자가 각각 몇 번 쓰였는지 차례로 한 줄에 하나씩 출력한다.\n",
        "\n",
        "### 예제 입력 1 \n",
        "    150\n",
        "    266\n",
        "    427\n",
        "\n",
        "\n",
        "### 예제 출력 1 \n",
        "    3\n",
        "    1\n",
        "    0\n",
        "    2\n",
        "    0\n",
        "    0\n",
        "    0\n",
        "    2\n",
        "    0\n",
        "    0"
      ]
    },
    {
      "cell_type": "markdown",
      "metadata": {
        "id": "FFw7jJjKwzIe"
      },
      "source": [
        "### Code"
      ]
    },
    {
      "cell_type": "code",
      "metadata": {
        "colab": {
          "base_uri": "https://localhost:8080/"
        },
        "id": "4e6AFYTVw0Fz",
        "outputId": "0caef99e-aa1b-4eaa-a5a8-3cae0f67e4b1"
      },
      "source": [
        "numbers = 1\n",
        "for i in range(3):\n",
        "  numbers *= int(input())\n",
        "numbers = list(map(int, list(str(numbers))))\n",
        "\n",
        "for digit in range(10):\n",
        "  cnt = 0\n",
        "  for number in numbers:\n",
        "    if number == digit:\n",
        "      cnt += 1\n",
        "  print(cnt)"
      ],
      "execution_count": 9,
      "outputs": [
        {
          "output_type": "stream",
          "text": [
            "150\n",
            "266\n",
            "427\n",
            "[1, 7, 0, 3, 7, 3, 0, 0]\n",
            "3\n",
            "1\n",
            "0\n",
            "2\n",
            "0\n",
            "0\n",
            "0\n",
            "2\n",
            "0\n",
            "0\n"
          ],
          "name": "stdout"
        }
      ]
    },
    {
      "cell_type": "markdown",
      "metadata": {
        "id": "bi2KLxnfWGqf"
      },
      "source": [
        "## 3052. 나머지"
      ]
    },
    {
      "cell_type": "markdown",
      "metadata": {
        "id": "SOZRXAR-WI4L"
      },
      "source": [
        "### 문제\n",
        "    두 자연수 A와 B가 있을 때, A%B는 A를 B로 나눈 나머지 이다. 예를 들어, 7, 14, 27, 38을 3으로 나눈 나머지는 1, 2, 0, 2이다. \n",
        "    \n",
        "    수 10개를 입력받은 뒤, 이를 42로 나눈 나머지를 구한다. 그 다음 서로 다른 값이 몇 개 있는지 출력하는 프로그램을 작성하시오.\n",
        "\n",
        "### 입력\n",
        "    첫째 줄부터 열번째 줄 까지 숫자가 한 줄에 하나씩 주어진다. 이 숫자는 1,000보다 작거나 같고, 음이 아닌 정수이다.\n",
        "\n",
        "### 출력\n",
        "    첫째 줄에, 42로 나누었을 때, 서로 다른 나머지가 몇 개 있는지 출력한다.\n",
        "\n",
        "### 예제 입력 1 \n",
        "    1\n",
        "    2\n",
        "    3\n",
        "    4\n",
        "    5\n",
        "    6\n",
        "    7\n",
        "    8\n",
        "    9\n",
        "    10\n",
        "\n",
        "### 예제 출력 1 \n",
        "    10\n",
        "각 수를 42로 나눈 나머지는 1, 2, 3, 4, 5, 6, 7, 8, 9, 10이다.\n",
        "\n",
        "### 예제 입력 2 \n",
        "    42\n",
        "    84\n",
        "    252\n",
        "    420\n",
        "    840\n",
        "    126\n",
        "    42\n",
        "    84\n",
        "    420\n",
        "    126\n",
        "\n",
        "### 예제 출력 2 \n",
        "    1\n",
        "모든 수를 42로 나눈 나머지는 0이다.\n",
        "\n",
        "### 예제 입력 3 \n",
        "    39\n",
        "    40\n",
        "    41\n",
        "    42\n",
        "    43\n",
        "    44\n",
        "    82\n",
        "    83\n",
        "    84\n",
        "    85\n",
        "\n",
        "### 예제 출력 3 \n",
        "    6\n",
        "각 수를 42로 나눈 나머지는 39, 40, 41, 0, 1, 2, 40, 41, 0, 1이다. 서로 다른 값은 6개가 있다."
      ]
    },
    {
      "cell_type": "markdown",
      "metadata": {
        "id": "DsFoZ0WOWxSn"
      },
      "source": [
        "### Code"
      ]
    },
    {
      "cell_type": "code",
      "metadata": {
        "colab": {
          "base_uri": "https://localhost:8080/"
        },
        "id": "nzLG3uJtWykK",
        "outputId": "b663c1dd-15f1-4bf7-d068-1af7d6aeeb89"
      },
      "source": [
        "numbers = list()\n",
        "\n",
        "for i in range(10):\n",
        "  numbers.append(int(input()))\n",
        "  numbers[i] = numbers[i] % 42\n",
        "\n",
        "numbers = list(set(numbers))\n",
        "print(len(numbers))"
      ],
      "execution_count": 2,
      "outputs": [
        {
          "output_type": "stream",
          "text": [
            "39\n",
            "40\n",
            "41\n",
            "42\n",
            "43\n",
            "44\n",
            "82\n",
            "83\n",
            "84\n",
            "85\n",
            "6\n"
          ],
          "name": "stdout"
        }
      ]
    },
    {
      "cell_type": "markdown",
      "metadata": {
        "id": "Ue_loKmpfzjb"
      },
      "source": [
        "## 1546. 평균"
      ]
    },
    {
      "cell_type": "markdown",
      "metadata": {
        "id": "VK1lVYHKf3Uj"
      },
      "source": [
        "### 문제\n",
        "    세준이는 기말고사를 망쳤다. 세준이는 점수를 조작해서 집에 가져가기로 했다. 일단 세준이는 자기 점수 중에 최댓값을 골랐다. 이 값을 M이라고 한다. 그리고 나서 모든 점수를 점수/M*100으로 고쳤다.\n",
        "    \n",
        "    예를 들어, 세준이의 최고점이 70이고, 수학점수가 50이었으면 수학점수는 50/70*100이 되어 71.43점이 된다.\n",
        "    \n",
        "    세준이의 성적을 위의 방법대로 새로 계산했을 때, 새로운 평균을 구하는 프로그램을 작성하시오.\n",
        "\n",
        "### 입력\n",
        "    첫째 줄에 시험 본 과목의 개수 N이 주어진다. 이 값은 1000보다 작거나 같다. 둘째 줄에 세준이의 현재 성적이 주어진다. 이 값은 100보다 작거나 같은 음이 아닌 정수이고, 적어도 하나의 값은 0보다 크다.\n",
        "\n",
        "### 출력\n",
        "    첫째 줄에 새로운 평균을 출력한다. 실제 정답과 출력값의 절대오차 또는 상대오차가 10-2 이하이면 정답이다.\n",
        "\n",
        "### 예제 입력 1 \n",
        "    3\n",
        "    40 80 60\n",
        "\n",
        "### 예제 출력 1 \n",
        "    75.0\n",
        "\n",
        "### 예제 입력 2 \n",
        "    3\n",
        "    10 20 30\n",
        "\n",
        "### 예제 출력 2 \n",
        "    66.666667\n",
        "10-2 이하의 오차를 허용한다는 말은 정확히 소수 2번째 자리까지 출력하라는 뜻이 아니다.\n",
        "\n",
        "### 예제 입력 3 \n",
        "    4\n",
        "    1 100 100 100\n",
        "\n",
        "### 예제 출력 3 \n",
        "    75.25\n",
        "\n",
        "### 예제 입력 4 \n",
        "    5\n",
        "    1 2 4 8 16\n",
        "\n",
        "### 예제 출력 4 \n",
        "    38.75\n",
        "### 예제 입력 5 \n",
        "    2\n",
        "    3 10\n",
        "\n",
        "### 예제 출력 5 \n",
        "    65.0"
      ]
    },
    {
      "cell_type": "markdown",
      "metadata": {
        "id": "ktD7b0yEgW-6"
      },
      "source": [
        "### Code"
      ]
    },
    {
      "cell_type": "code",
      "metadata": {
        "colab": {
          "base_uri": "https://localhost:8080/"
        },
        "id": "V2uI77A8gYrL",
        "outputId": "2d98442c-2670-4857-e04f-c51f4bc03468"
      },
      "source": [
        "subjectNumber = int(input())\n",
        "scores = list(map(int, input().split()))\n",
        "\n",
        "maxScore = max(scores)\n",
        "for score in scores:\n",
        "  scores[scores.index(score)] = score / maxScore * 100\n",
        "\n",
        "avg = sum(scores) / len(scores)\n",
        "print(avg)"
      ],
      "execution_count": 7,
      "outputs": [
        {
          "output_type": "stream",
          "text": [
            "3\n",
            "40 80 60\n",
            "[50.0, 100.0, 75.0]\n",
            "75.0\n"
          ],
          "name": "stdout"
        }
      ]
    },
    {
      "cell_type": "markdown",
      "metadata": {
        "id": "1qtzR_E5l0L8"
      },
      "source": [
        "## 8958. OX퀴즈"
      ]
    },
    {
      "cell_type": "markdown",
      "metadata": {
        "id": "zhX_BIANl3Gh"
      },
      "source": [
        "### 문제\n",
        "    \"OOXXOXXOOO\"와 같은 OX퀴즈의 결과가 있다. O는 문제를 맞은 것이고, X는 문제를 틀린 것이다. 문제를 맞은 경우 그 문제의 점수는 그 문제까지 연속된 O의 개수가 된다. 예를 들어, 10번 문제의 점수는 3이 된다.\n",
        "    \n",
        "    \"OOXXOXXOOO\"의 점수는 1+2+0+0+1+0+0+1+2+3 = 10점이다.\n",
        "    \n",
        "    OX퀴즈의 결과가 주어졌을 때, 점수를 구하는 프로그램을 작성하시오.\n",
        "\n",
        "### 입력\n",
        "    첫째 줄에 테스트 케이스의 개수가 주어진다. 각 테스트 케이스는 한 줄로 이루어져 있고, 길이가 0보다 크고 80보다 작은 문자열이 주어진다. 문자열은 O와 X만으로 이루어져 있다.\n",
        "\n",
        "### 출력\n",
        "    각 테스트 케이스마다 점수를 출력한다.\n",
        "\n",
        "### 예제 입력 1 \n",
        "    5\n",
        "    OOXXOXXOOO\n",
        "    OOXXOOXXOO\n",
        "    OXOXOXOXOXOXOX\n",
        "    OOOOOOOOOO\n",
        "    OOOOXOOOOXOOOOX\n",
        "\n",
        "### 예제 출력 1 \n",
        "    10\n",
        "    9\n",
        "    7\n",
        "    55\n",
        "    30"
      ]
    },
    {
      "cell_type": "markdown",
      "metadata": {
        "id": "Tv6K-5bEmAmY"
      },
      "source": [
        "### Code"
      ]
    },
    {
      "cell_type": "code",
      "metadata": {
        "colab": {
          "base_uri": "https://localhost:8080/"
        },
        "id": "PRWqlkrRmBuy",
        "outputId": "6059072c-9102-4ef0-f303-6b0fadea36fc"
      },
      "source": [
        "testCase = int(input())\n",
        "\n",
        "for i in range(testCase):\n",
        "  scores = list(input())\n",
        "  cumCnt = 0\n",
        "  result = 0\n",
        "  for score in scores:\n",
        "    if score == 'O':\n",
        "      cumCnt += 1\n",
        "    else:\n",
        "      cumCnt = 0\n",
        "    result += cumCnt\n",
        "  print(result)"
      ],
      "execution_count": 8,
      "outputs": [
        {
          "output_type": "stream",
          "text": [
            "5\n",
            "OOXXOXXOOO\n",
            "10\n",
            "OOXXOOXXOO\n",
            "9\n",
            "OXOXOXOXOXOXOX\n",
            "7\n",
            "OOOOOOOOOO\n",
            "55\n",
            "OOOOXOOOOXOOOOX\n",
            "30\n"
          ],
          "name": "stdout"
        }
      ]
    },
    {
      "cell_type": "markdown",
      "metadata": {
        "id": "ILep3fziGEAa"
      },
      "source": [
        "## 4344. 평균은 넘겠지"
      ]
    },
    {
      "cell_type": "markdown",
      "metadata": {
        "id": "DW54fKWtGGaT"
      },
      "source": [
        "### 문제\n",
        "    대학생 새내기들의 90%는 자신이 반에서 평균은 넘는다고 생각한다. 당신은 그들에게 슬픈 진실을 알려줘야 한다.\n",
        "\n",
        "### 입력\n",
        "    첫째 줄에는 테스트 케이스의 개수 C가 주어진다.\n",
        "    \n",
        "    둘째 줄부터 각 테스트 케이스마다 학생의 수 N(1 ≤ N ≤ 1000, N은 정수)이 첫 수로 주어지고, 이어서 N명의 점수가 주어진다. 점수는 0보다 크거나 같고, 100보다 작거나 같은 정수이다.\n",
        "\n",
        "### 출력\n",
        "    각 케이스마다 한 줄씩 평균을 넘는 학생들의 비율을 반올림하여 소수점 셋째 자리까지 출력한다.\n",
        "\n",
        "### 예제 입력 1 \n",
        "    5\n",
        "    5 50 50 70 80 100\n",
        "    7 100 95 90 80 70 60 50\n",
        "    3 70 90 80\n",
        "    3 70 90 81\n",
        "    9 100 99 98 97 96 95 94 93 91\n",
        "\n",
        "### 예제 출력 1 \n",
        "    40.000%\n",
        "    57.143%\n",
        "    33.333%\n",
        "    66.667%\n",
        "    55.556%"
      ]
    },
    {
      "cell_type": "markdown",
      "metadata": {
        "id": "7M2mgdQyGWsh"
      },
      "source": [
        "### Code"
      ]
    },
    {
      "cell_type": "code",
      "metadata": {
        "colab": {
          "base_uri": "https://localhost:8080/"
        },
        "id": "UHE7U_D9J_Mj",
        "outputId": "78b9e182-259c-4033-d03a-ee2ff347d5b5"
      },
      "source": [
        "#from sys import stdin\n",
        "\n",
        "testCase = int(input())\n",
        "#testCase = int(stdin.readline().rstrip())\n",
        "\n",
        "for i in range(testCase):\n",
        "  scores = list(map(int, input().split(' ')))\n",
        "  #scores = list(map(int, stdin.readline().split()))\n",
        "  groupAvg = sum(scores[1:]) / scores[0]\n",
        "  for score in scores[1:]:\n",
        "    if score > groupAvg:\n",
        "      scores[scores.index(score)] = True\n",
        "    else:\n",
        "      scores[scores.index(score)] = False\n",
        "  aboveRatio = round(sum(scores[1:]) / scores[0] * 100, 3)\n",
        "  print(\"%0.3f\" % aboveRatio + \"%\")"
      ],
      "execution_count": 25,
      "outputs": [
        {
          "output_type": "stream",
          "text": [
            "5\n",
            "5 50 50 70 80 100\n",
            "40.000%\n",
            "7 100 95 90 80 70 60 50\n",
            "57.143%\n",
            "3 70 90 80\n",
            "33.333%\n",
            "3 70 90 81\n",
            "66.667%\n",
            "9 100 99 98 97 96 95 94 93 91\n",
            "55.556%\n"
          ],
          "name": "stdout"
        }
      ]
    }
  ]
}