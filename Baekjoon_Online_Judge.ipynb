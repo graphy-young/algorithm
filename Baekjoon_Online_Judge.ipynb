{
  "nbformat": 4,
  "nbformat_minor": 0,
  "metadata": {
    "colab": {
      "name": "Copy of Baekjoon Online Judge.ipynb",
      "provenance": [],
      "collapsed_sections": [
        "43kRMmvtearb",
        "TaEKhBEOe8cq",
        "JCUzTzBfearc",
        "2QJJW6EAfBBr",
        "nCvxUslQeard",
        "u5TK3Xvqeare",
        "gr_ZEAcieare",
        "ZjVQQonMeare",
        "yICfLdiRearf",
        "4-QUwz2Bearf",
        "D1dmQ3tEearf",
        "XlLmcr03earg",
        "VqLY_AMsearg",
        "6abwrAlCYbVk",
        "ewXH2UmKYbVu",
        "vqq4IjVXYbVx",
        "bICxp7fJYbVy",
        "oDlDOtycYbV0",
        "B9d7ru0ZYfIZ",
        "H3JclujzfekW",
        "QExAhuSu9HDR",
        "DRJr-E7t9cmO",
        "J72le2r3tfS3",
        "1MYZZn8juXbz",
        "LSxcviJhAx4R",
        "ccbKoxrYtidX",
        "NABSioYrucFD",
        "2Ud6VkEksVqV",
        "NKWAZxa_tmOR",
        "7QLsdnacuft1",
        "CY7FFGtlskLt",
        "L37o_Og-tWZp",
        "sERT0afqumN0",
        "me3zFONXtL0L",
        "L8ESCcj6tv8Q",
        "zjbhcTpbt6fc",
        "c6aq3ZkruvP2",
        "4wSW0Zm5uzMj",
        "1Yo62AtVu9zk",
        "-zAQCQIGvD6D",
        "cAnnewAXvJJ7",
        "9gqJ_-6DvXwl",
        "su-bz0kCvf-x",
        "b34w_gYTvpWJ",
        "HxRV0r9SwW-g",
        "ztSxShNiwbCq",
        "WN9kKSkBwf6a",
        "p-Rd7AE8wvLR",
        "SC1bldelwykD",
        "92PZf1QUw8AE",
        "tAbkVuUxxG0T",
        "r9yzCr40xQM9",
        "ivHZmK-DxXR4",
        "9QScuoV4xgKQ",
        "PvdeqBdb1Iod",
        "uOC0uK3A1UZu",
        "vtkpr_-c1Y3V",
        "ITdkrEcX1bbW",
        "NUbiGawR92qv",
        "nAbTk7dH96Sz",
        "sY6htPjN-EYY",
        "ugA_wKe1UFo4",
        "32tP9rFgUIm4",
        "S4aDFttkUUtX",
        "oF-9SIpItIjk",
        "MvkYgUqctYiy",
        "cIXBJjrUtRDP",
        "5aHf13idtl1k",
        "xVV8gwsVunfH",
        "_ta2Lg-yuqFO",
        "q6UZG6pVu3Y4",
        "XGsvTPwwwjFo",
        "vnYDuwduwlhH",
        "FFw7jJjKwzIe",
        "bi2KLxnfWGqf",
        "SOZRXAR-WI4L",
        "DsFoZ0WOWxSn",
        "Ue_loKmpfzjb",
        "VK1lVYHKf3Uj",
        "ktD7b0yEgW-6",
        "1qtzR_E5l0L8",
        "zhX_BIANl3Gh",
        "Tv6K-5bEmAmY",
        "ILep3fziGEAa",
        "DW54fKWtGGaT",
        "7M2mgdQyGWsh",
        "PPVGEoEFvc13",
        "Ep_DFg5wvuqC",
        "53nVEGoCv00d",
        "ZOqzHTbhId6j",
        "1vz5TD3jIfgl",
        "OWAGE3bKImsn",
        "vQPbPlxaJCpX",
        "3A1EMO8xRQKH",
        "J1gLXSQpRO0R",
        "Y5JPmbLTm3Xj",
        "O5KjFc2rm6qT",
        "bHiNoD1LnE4j"
      ],
      "include_colab_link": true
    },
    "kernelspec": {
      "display_name": "Python 3",
      "language": "python",
      "name": "python3"
    },
    "language_info": {
      "codemirror_mode": {
        "name": "ipython",
        "version": 3
      },
      "file_extension": ".py",
      "mimetype": "text/x-python",
      "name": "python",
      "nbconvert_exporter": "python",
      "pygments_lexer": "ipython3",
      "version": "3.7.3"
    }
  },
  "cells": [
    {
      "cell_type": "markdown",
      "metadata": {
        "id": "view-in-github",
        "colab_type": "text"
      },
      "source": [
        "<a href=\"https://colab.research.google.com/github/graphy-young/algorithm/blob/main/Baekjoon_Online_Judge.ipynb\" target=\"_parent\"><img src=\"https://colab.research.google.com/assets/colab-badge.svg\" alt=\"Open In Colab\"/></a>"
      ]
    },
    {
      "cell_type": "markdown",
      "metadata": {
        "id": "t0QSnzjkearX"
      },
      "source": [
        "# 1단계. 입출력과 사칙연산\n",
        "\n",
        "입력, 출력과 사칙연산을 연습해 봅시다. Hello World!"
      ]
    },
    {
      "cell_type": "markdown",
      "metadata": {
        "id": "43kRMmvtearb"
      },
      "source": [
        "## Q2557. Hello World"
      ]
    },
    {
      "cell_type": "markdown",
      "metadata": {
        "id": "ludzacpye6yU"
      },
      "source": [
        "### 문제\n",
        "    Hello World!를 출력하시오.\n",
        "\n",
        "### 입력\n",
        "    없음\n",
        "\n",
        "### 출력\n",
        "    Hello World!를 출력하시오."
      ]
    },
    {
      "cell_type": "markdown",
      "metadata": {
        "id": "TaEKhBEOe8cq"
      },
      "source": [
        "### Code"
      ]
    },
    {
      "cell_type": "code",
      "metadata": {
        "id": "eM5eis3vearb"
      },
      "source": [
        "print('Hello World!')"
      ],
      "execution_count": null,
      "outputs": []
    },
    {
      "cell_type": "markdown",
      "metadata": {
        "id": "JCUzTzBfearc"
      },
      "source": [
        "## Q10718. We love kriii"
      ]
    },
    {
      "cell_type": "markdown",
      "metadata": {
        "id": "AHoCZttYe2mQ"
      },
      "source": [
        "### 문제\n",
        "    ACM-ICPC 인터넷 예선, Regional, 그리고 World Finals까지 이미 2회씩 진출해버린 kriii는 미련을 버리지 못하고 왠지 모르게 올 해에도 파주 World Finals 준비 캠프에 참여했다.\n",
        "    \n",
        "    대회를 뜰 줄 모르는 지박령 kriii를 위해서 격려의 문구를 출력해주자.\n",
        "\n",
        "### 입력\n",
        "    본 문제는 입력이 없다.\n",
        "\n",
        "### 출력\n",
        "    두 줄에 걸쳐 \"강한친구 대한육군\"을 한 줄에 한 번씩 출력한다."
      ]
    },
    {
      "cell_type": "markdown",
      "metadata": {
        "id": "2QJJW6EAfBBr"
      },
      "source": [
        "### Code"
      ]
    },
    {
      "cell_type": "code",
      "metadata": {
        "id": "AztfZEzceard"
      },
      "source": [
        "print('강한친구 대한육군\\n강한친구 대한육군')"
      ],
      "execution_count": null,
      "outputs": []
    },
    {
      "cell_type": "code",
      "metadata": {
        "id": "bj75Hq98eard"
      },
      "source": [
        "for i in range(2): print('강한친구 대한육군')"
      ],
      "execution_count": null,
      "outputs": []
    },
    {
      "cell_type": "markdown",
      "metadata": {
        "id": "nCvxUslQeard"
      },
      "source": [
        "## Q10171. 고양이"
      ]
    },
    {
      "cell_type": "markdown",
      "metadata": {
        "id": "Frqh7dRufJnK"
      },
      "source": [
        "### 문제\n",
        "    아래 예제와 같이 고양이를 출력하시오.\n",
        "\n",
        "### 입력\n",
        "    없음.\n",
        "\n",
        "### 출력\n",
        "    고양이를 출력한다."
      ]
    },
    {
      "cell_type": "markdown",
      "metadata": {
        "id": "0tg-hJPJfKvn"
      },
      "source": [
        "### Code"
      ]
    },
    {
      "cell_type": "code",
      "metadata": {
        "id": "l1YTltrNeard"
      },
      "source": [
        "print('''\\    /\\ \n",
        " )  ( ')\n",
        "(  /  )\n",
        " \\(__)|''')"
      ],
      "execution_count": null,
      "outputs": []
    },
    {
      "cell_type": "markdown",
      "metadata": {
        "id": "u5TK3Xvqeare"
      },
      "source": [
        "## Q10172. 개"
      ]
    },
    {
      "cell_type": "markdown",
      "metadata": {
        "id": "KLmuB1HdfsZ6"
      },
      "source": [
        "### 문제\n",
        "    아래 예제와 같이 개를 출력하시오.\n",
        "\n",
        "### 입력\n",
        "    없음.\n",
        "\n",
        "### 출력\n",
        "    개를 출력한다."
      ]
    },
    {
      "cell_type": "markdown",
      "metadata": {
        "id": "v-fO3sL4ftn-"
      },
      "source": [
        "### Code"
      ]
    },
    {
      "cell_type": "code",
      "metadata": {
        "id": "OGvz2p-Peare"
      },
      "source": [
        "print('''|\\_/|\n",
        "|q p|   /}\n",
        "( 0 )\"\"\"\\\\\n",
        "|\"^\"`    |\n",
        "||_/=\\\\\\\\__|''')"
      ],
      "execution_count": null,
      "outputs": []
    },
    {
      "cell_type": "markdown",
      "metadata": {
        "id": "gr_ZEAcieare"
      },
      "source": [
        "## Q1000. A+B"
      ]
    },
    {
      "cell_type": "markdown",
      "metadata": {
        "id": "B63iX3y7f4pM"
      },
      "source": [
        "### 문제\n",
        "    두 정수 A와 B를 입력받은 다음, A+B를 출력하는 프로그램을 작성하시오.\n",
        "\n",
        "### 입력\n",
        "    첫째 줄에 A와 B가 주어진다. (0 < A, B < 10)\n",
        "\n",
        "### 출력\n",
        "    첫째 줄에 A+B를 출력한다."
      ]
    },
    {
      "cell_type": "markdown",
      "metadata": {
        "id": "Hnp_PecOf5pA"
      },
      "source": [
        "### Code"
      ]
    },
    {
      "cell_type": "code",
      "metadata": {
        "scrolled": true,
        "id": "lpFc-EEeeare"
      },
      "source": [
        "func = lambda x: sum(x)\n",
        "\n",
        "values = input().split()\n",
        "\n",
        "for idx in range(len(values)): values[idx] = int(values[idx])\n",
        "print(func(values))"
      ],
      "execution_count": null,
      "outputs": []
    },
    {
      "cell_type": "markdown",
      "metadata": {
        "id": "ZjVQQonMeare"
      },
      "source": [
        "## Q1001. A-B"
      ]
    },
    {
      "cell_type": "markdown",
      "metadata": {
        "id": "RK0bQaN6gIoE"
      },
      "source": [
        "### 문제\n",
        "    두 정수 A와 B를 입력받은 다음, A-B를 출력하는 프로그램을 작성하시오.\n",
        "\n",
        "### 입력\n",
        "    첫째 줄에 A와 B가 주어진다. (0 < A, B < 10)\n",
        "\n",
        "### 출력\n",
        "    첫째 줄에 A-B를 출력한다.\n",
        "\n",
        "### 예제 입력 1\n",
        "    3 2\n",
        "### 예제 출력 1\n",
        "    1"
      ]
    },
    {
      "cell_type": "markdown",
      "metadata": {
        "id": "YoCfTRWcgJm1"
      },
      "source": [
        "### Code"
      ]
    },
    {
      "cell_type": "code",
      "metadata": {
        "id": "8GPtMH6Jeare"
      },
      "source": [
        "def func(*args):\n",
        "    values = args[0]\n",
        "    for idx in range(len(values)):\n",
        "        if idx == len(values)-1: return values[0]\n",
        "        reverse_idx = (len(values)-1)-idx\n",
        "        values[0] -= values[reverse_idx]\n",
        "\n",
        "values = input().split()\n",
        "\n",
        "for idx in range(len(values)): values[idx] = int(values[idx])\n",
        "\n",
        "print(func(values))"
      ],
      "execution_count": null,
      "outputs": []
    },
    {
      "cell_type": "markdown",
      "metadata": {
        "id": "yICfLdiRearf"
      },
      "source": [
        "## Q10998. AxB"
      ]
    },
    {
      "cell_type": "markdown",
      "metadata": {
        "id": "sHuCjHbAgUIE"
      },
      "source": [
        "### 문제\n",
        "    두 정수 A와 B를 입력받은 다음, A×B를 출력하는 프로그램을 작성하시오.\n",
        "\n",
        "### 입력\n",
        "    첫째 줄에 A와 B가 주어진다. (0 < A, B < 10)\n",
        "\n",
        "### 출력\n",
        "    첫째 줄에 A×B를 출력한다.\n",
        "\n",
        "### 예제 입력 1\n",
        "    1 2\n",
        "### 예제 출력 1\n",
        "    2\n",
        "\n",
        "### 예제 입력 2\n",
        "    3 4\n",
        "### 예제 출력 2\n",
        "    12"
      ]
    },
    {
      "cell_type": "markdown",
      "metadata": {
        "id": "PH7ijTl1gU8G"
      },
      "source": [
        "### Code"
      ]
    },
    {
      "cell_type": "code",
      "metadata": {
        "id": "XsQVo8Ltearf"
      },
      "source": [
        "print((lambda x: int(x[0]) * int(x[2]))(input()))"
      ],
      "execution_count": null,
      "outputs": []
    },
    {
      "cell_type": "markdown",
      "metadata": {
        "id": "4-QUwz2Bearf"
      },
      "source": [
        "## Q. 1008. A/B"
      ]
    },
    {
      "cell_type": "markdown",
      "metadata": {
        "id": "IBm-80eJgvx1"
      },
      "source": [
        "### 문제\n",
        "    두 정수 A와 B를 입력받은 다음, A/B를 출력하는 프로그램을 작성하시오.\n",
        "\n",
        "### 입력\n",
        "    첫째 줄에 A와 B가 주어진다. (0 < A, B < 10)\n",
        "\n",
        "### 출력\n",
        "    첫째 줄에 A/B를 출력한다. 실제 정답과 출력값의 절대오차 또는 상대오차가 10-9 이하이면 정답이다.\n",
        "\n",
        "### 예제 입력 1\n",
        "    1 3\n",
        "### 예제 출력 1\n",
        "    0.33333333333333333333333333333333\n",
        "\n",
        "**10-9 이하의 오차를 허용한다는 말은 꼭 소수 9번째 자리까지만 출력하라는 뜻이 아니다.**\n",
        "\n",
        "### 예제 입력 2\n",
        "    4 5\n",
        "### 예제 출력 2\n",
        "    0.8"
      ]
    },
    {
      "cell_type": "markdown",
      "metadata": {
        "id": "aElnm9nJgxJu"
      },
      "source": [
        "### Code"
      ]
    },
    {
      "cell_type": "code",
      "metadata": {
        "id": "8IAw5ZInearf"
      },
      "source": [
        "print( (lambda x: int(x[0]) / int(x[2]))(input()) )"
      ],
      "execution_count": null,
      "outputs": []
    },
    {
      "cell_type": "markdown",
      "metadata": {
        "id": "D1dmQ3tEearf"
      },
      "source": [
        "## Q10869. 사칙연산"
      ]
    },
    {
      "cell_type": "markdown",
      "metadata": {
        "id": "ZcpzafkznkGj"
      },
      "source": [
        "### 문제\n",
        "    두 자연수 A와 B가 주어진다. 이때, A+B, A-B, A*B, A/B(몫), A%B(나머지)를 출력하는 프로그램을 작성하시오. \n",
        "\n",
        "### 입력\n",
        "    두 자연수 A와 B가 주어진다. (1 ≤ A, B ≤ 10,000)\n",
        "\n",
        "### 출력\n",
        "    첫째 줄에 A+B, 둘째 줄에 A-B, 셋째 줄에 A*B, 넷째 줄에 A/B, 다섯째 줄에 A%B를 출력한다.\n",
        "\n",
        "### 예제 입력 1\n",
        "    7 3\n",
        "### 예제 출력 1\n",
        "    10\n",
        "    4\n",
        "    21\n",
        "    2\n",
        "    1"
      ]
    },
    {
      "cell_type": "markdown",
      "metadata": {
        "id": "lFw2cd_NhXa5"
      },
      "source": [
        "### Code"
      ]
    },
    {
      "cell_type": "code",
      "metadata": {
        "id": "ynBWZGgzhRg8"
      },
      "source": [
        "def func(args):\n",
        "    values = [int(x) for x in args.split()]\n",
        "    a, b = values\n",
        "    if (1 <= a <= 10000) and (1 <= b <= 10000): \n",
        "        print(a+b)\n",
        "        print(a-b)\n",
        "        print(a*b)\n",
        "        print(a//b)\n",
        "        print(a%b)\n",
        "    else: print('Worng input')\n",
        "\n",
        "func(input())"
      ],
      "execution_count": null,
      "outputs": []
    },
    {
      "cell_type": "markdown",
      "metadata": {
        "id": "XlLmcr03earg"
      },
      "source": [
        "## Q10430. 나머지"
      ]
    },
    {
      "cell_type": "markdown",
      "metadata": {
        "id": "KWXaxBBanwMF"
      },
      "source": [
        "### 문제\n",
        "    (A+B)%C는 (A%C + B%C)%C 와 같을까?\n",
        "    \n",
        "    (A×B)%C는 (A%C × B%C)%C 와 같을까?\n",
        "    \n",
        "    세 수 A, B, C가 주어졌을 때, 위의 네 가지 값을 구하는 프로그램을 작성하시오.\n",
        "\n",
        "### 입력\n",
        "    첫째 줄에 A, B, C가 순서대로 주어진다. (2 ≤ A, B, C ≤ 10000)\n",
        "\n",
        "### 출력\n",
        "    첫째 줄에 (A+B)%C, 둘째 줄에 (A%C + B%C)%C, 셋째 줄에 (A×B)%C, 넷째 줄에 (A%C × B%C)%C를 출력한다.\n",
        "\n",
        "### 예제 입력 1\n",
        "    5 8 4\n",
        "### 예제 출력 1\n",
        "    1\n",
        "    1\n",
        "    0\n",
        "    0"
      ]
    },
    {
      "cell_type": "markdown",
      "metadata": {
        "id": "Cb-9b4nyn-Im"
      },
      "source": [
        "### Code"
      ]
    },
    {
      "cell_type": "code",
      "metadata": {
        "id": "JJT2chkNearg"
      },
      "source": [
        "def func(args):\n",
        "    values = [int(x) for x in args.split()]\n",
        "    for val in values:\n",
        "        if 2 <= val <= 10000: pass\n",
        "        else: raise ValueError\n",
        "    a, b, c = values[0], values[1], values[2]\n",
        "    print( (a+b)%c )\n",
        "    print( (a%c + b%c)%c )\n",
        "    print( (a*b)%c )\n",
        "    print( (a%c * b%c)%c )\n",
        "\n",
        "func(input())"
      ],
      "execution_count": null,
      "outputs": []
    },
    {
      "cell_type": "markdown",
      "metadata": {
        "id": "VqLY_AMsearg"
      },
      "source": [
        "## Q2588. 곱셈"
      ]
    },
    {
      "cell_type": "markdown",
      "metadata": {
        "id": "qoq5WszioQEc"
      },
      "source": [
        "\n",
        "### 문제\n",
        "    (세 자리 수) × (세 자리 수)는 다음과 같은 과정을 통하여 이루어진다.\n",
        "    \n",
        "    (1)과 (2)위치에 들어갈 세 자리 자연수가 주어질 때 (3), (4), (5), (6)위치에 들어갈 값을 구하는 프로그램을 작성하시오.\n",
        "\n",
        "### 입력\n",
        "    첫째 줄에 (1)의 위치에 들어갈 세 자리 자연수가, 둘째 줄에 (2)의 위치에 들어갈 세자리 자연수가 주어진다.\n",
        "\n",
        "### 출력\n",
        "    첫째 줄부터 넷째 줄까지 차례대로 (3), (4), (5), (6)에 들어갈 값을 출력한다.\n",
        "\n",
        "### 예제 입력 1\n",
        "    472\n",
        "    385\n",
        "### 예제 출력 1\n",
        "    2360\n",
        "    3776\n",
        "    1416\n",
        "    181720"
      ]
    },
    {
      "cell_type": "markdown",
      "metadata": {
        "id": "OXDBScKrohoL"
      },
      "source": [
        "### Code"
      ]
    },
    {
      "cell_type": "code",
      "metadata": {
        "id": "TM--7FyCearg"
      },
      "source": [
        "def func():\n",
        "    values = list()\n",
        "    for i in range(2): values.append(int(input()))\n",
        "    #values = [int(x) for x in args.split('\\n')]\n",
        "    multiplicand = values[0] # 피승수\n",
        "    multiplier = values[1] # 승수\n",
        "    for i in range( len(str(multiplier))-1, -1, -1 ):\n",
        "        print(multiplicand * int(str(multiplier)[i]))\n",
        "    print(multiplicand * multiplier)\n",
        "        \n",
        "func()"
      ],
      "execution_count": null,
      "outputs": []
    },
    {
      "cell_type": "code",
      "metadata": {
        "id": "WOwppJsUearh"
      },
      "source": [
        ""
      ],
      "execution_count": null,
      "outputs": []
    },
    {
      "cell_type": "markdown",
      "metadata": {
        "id": "6abwrAlCYbVk"
      },
      "source": [
        "# 2단계. if문\n",
        "\n",
        "if문을 사용해 봅시다."
      ]
    },
    {
      "cell_type": "markdown",
      "metadata": {
        "id": "ewXH2UmKYbVu"
      },
      "source": [
        "## 1330. 두 수 비교하기"
      ]
    },
    {
      "cell_type": "markdown",
      "metadata": {
        "id": "OiuMJBXLovUy"
      },
      "source": [
        "### 문제\n",
        "    두 정수 A와 B가 주어졌을 때, A와 B를 비교하는 프로그램을 작성하시오.\n",
        "\n",
        "### 입력\n",
        "    첫째 줄에 A와 B가 주어진다. A와 B는 공백 한 칸으로 구분되어져 있다.\n",
        "\n",
        "### 출력\n",
        "    첫째 줄에 다음 세 가지 중 하나를 출력한다.\n",
        "    A가 B보다 큰 경우에는 '>'를 출력한다.\n",
        "    A가 B보다 작은 경우에는 '<'를 출력한다.\n",
        "    A와 B가 같은 경우에는 '=='를 출력한다.\n",
        "\n",
        "### 제한\n",
        "    -10,000 ≤ A, B ≤ 10,000\n",
        "\n",
        "### 예제 입력 1\n",
        "    1 2\n",
        "### 예제 출력 1\n",
        "    <\n",
        "### 예제 입력 2\n",
        "    10 2\n",
        "### 예제 출력 2\n",
        "    >\n",
        "### 예제 입력 3\n",
        "    5 5\n",
        "### 예제 출력 3\n",
        "    =="
      ]
    },
    {
      "cell_type": "markdown",
      "metadata": {
        "id": "jQzqdUbBoqNu"
      },
      "source": [
        "### Code"
      ]
    },
    {
      "cell_type": "code",
      "metadata": {
        "id": "49w11xt2YbVv"
      },
      "source": [
        "def comparison(args):\n",
        "    values = [int(x) for x in args.split()]\n",
        "    for val in values:\n",
        "        if -10000 <= val <= 10000: pass\n",
        "        else: raise ValueError\n",
        "    a, b = values\n",
        "    if a > b: print('>')\n",
        "    elif a < b: print('<')\n",
        "    else: print('==')\n",
        "\n",
        "comparison(input())"
      ],
      "execution_count": null,
      "outputs": []
    },
    {
      "cell_type": "markdown",
      "metadata": {
        "id": "vqq4IjVXYbVx"
      },
      "source": [
        "## 9498. 시험 성적"
      ]
    },
    {
      "cell_type": "markdown",
      "metadata": {
        "id": "8pdV97LLozIy"
      },
      "source": [
        "### 문제\n",
        "    시험 점수를 입력받아 90 ~ 100점은 A, 80 ~ 89점은 B, 70 ~ 79점은 C, 60 ~ 69점은 D, 나머지 점수는 F를 출력하는 프로그램을 작성하시오.\n",
        "\n",
        "### 입력\n",
        "    첫째 줄에 시험 점수가 주어진다. 시험 점수는 0보다 크거나 같고, 100보다 작거나 같은 정수이다.\n",
        "\n",
        "### 출력\n",
        "    시험 성적을 출력한다.\n",
        "\n",
        "### 예제 입력 1\n",
        "    100\n",
        "### 예제 출력 1\n",
        "    A"
      ]
    },
    {
      "cell_type": "markdown",
      "metadata": {
        "id": "n4p2shBho0v-"
      },
      "source": [
        "### Code"
      ]
    },
    {
      "cell_type": "code",
      "metadata": {
        "id": "LIrQyoxrYbVx",
        "scrolled": true
      },
      "source": [
        "def testGrade(arg):\n",
        "    score = int(arg)\n",
        "    if 90 <= score <= 100: \n",
        "        print('A')\n",
        "    elif 80 <= score <= 89: \n",
        "        print('B')\n",
        "    elif 70 <= score <= 79:\n",
        "        print('C')\n",
        "    elif 60 <= score <= 69:\n",
        "        print('D')\n",
        "    else: \n",
        "        print('F')\n",
        "        \n",
        "testGrade(input())"
      ],
      "execution_count": null,
      "outputs": []
    },
    {
      "cell_type": "markdown",
      "metadata": {
        "id": "bICxp7fJYbVy"
      },
      "source": [
        "## 2753. 윤년"
      ]
    },
    {
      "cell_type": "markdown",
      "metadata": {
        "id": "59kfjSn9pXFN"
      },
      "source": [
        "### 문제\n",
        "    연도가 주어졌을 때, 윤년이면 1, 아니면 0을 출력하는 프로그램을 작성하시오.\n",
        "    \n",
        "    윤년은 연도가 4의 배수이면서, 100의 배수가 아닐 때 또는 400의 배수일 때 이다.\n",
        "    \n",
        "    예를들어, 2012년은 4의 배수라서 윤년이지만, 1900년은 4의 배수이지만, 100의 배수이기 때문에 윤년이 아니다.\n",
        "    \n",
        "    하지만, 2000년은 400의 배수이기 때문에 윤년이다.\n",
        "\n",
        "### 입력\n",
        "    첫째 줄에 연도가 주어진다. 연도는 1보다 크거나 같고, 4000보다 작거나 같은 자연수이다.\n",
        "\n",
        "### 출력\n",
        "    첫째 줄에 윤년이면 1, 아니면 0을 출력한다.\n",
        "\n",
        "### 예제 입력 1\n",
        "    2000\n",
        "### 예제 출력 1\n",
        "    1"
      ]
    },
    {
      "cell_type": "markdown",
      "metadata": {
        "id": "L3CdqIm6pZTx"
      },
      "source": [
        "### Code"
      ]
    },
    {
      "cell_type": "code",
      "metadata": {
        "id": "cTWhjBkNYbVy"
      },
      "source": [
        "def isLeafYear(arg):\n",
        "    year = int(arg)\n",
        "    if 1 <= year <= 4000: \n",
        "        pass\n",
        "    else: \n",
        "        raise ValueError\n",
        "    if (year%4 == 0) and ( (year%100 != 0) or (year%400 == 0) ):\n",
        "        print(1)\n",
        "    else: \n",
        "        print(0)\n",
        "        \n",
        "isLeafYear(input())"
      ],
      "execution_count": null,
      "outputs": []
    },
    {
      "cell_type": "markdown",
      "metadata": {
        "id": "oDlDOtycYbV0"
      },
      "source": [
        "## 10817. 세 수 (삭제됨)"
      ]
    },
    {
      "cell_type": "markdown",
      "metadata": {
        "id": "sHBAHaaWpcQC"
      },
      "source": [
        "### 문제\n",
        "    세 정수 A, B, C가 주어진다. 이때, 두 번째로 큰 정수를 출력하는 프로그램을 작성하시오. \n",
        "\n",
        "### 입력\n",
        "    첫째 줄에 세 정수 A, B, C가 공백으로 구분되어 주어진다. (1 ≤ A, B, C ≤ 100)\n",
        "\n",
        "### 출력\n",
        "    두 번째로 큰 정수를 출력한다.\n",
        "\n",
        "### 예제 입력 1\n",
        "    20 30 10\n",
        "### 예제 출력 1\n",
        "    20\n",
        "### 예제 입력 2\n",
        "    30 30 10\n",
        "### 예제 출력 2\n",
        "    30\n",
        "### 예제 입력 3\n",
        "    40 40 40\n",
        "### 예제 출력 3\n",
        "    40\n",
        "### 예제 입력 4\n",
        "    20 10 10\n",
        "### 예제 출력 4\n",
        "    10"
      ]
    },
    {
      "cell_type": "markdown",
      "metadata": {
        "id": "WI965EF5pfE6"
      },
      "source": [
        "### Code"
      ]
    },
    {
      "cell_type": "code",
      "metadata": {
        "id": "93NTdqJnYbV0"
      },
      "source": [
        "def threeDigits(args):\n",
        "    values = [int(x) for x in args.split()]\n",
        "    for val in values:\n",
        "        if 1 <= val <= 100: \n",
        "            pass\n",
        "        else: \n",
        "            raise ValueError\n",
        "    values.sort()\n",
        "    print(values[1])\n",
        "    \n",
        "threeDigits(input())"
      ],
      "execution_count": null,
      "outputs": []
    },
    {
      "cell_type": "markdown",
      "metadata": {
        "id": "B9d7ru0ZYfIZ"
      },
      "source": [
        "## 14681. 사분면 고르기"
      ]
    },
    {
      "cell_type": "markdown",
      "metadata": {
        "id": "lgdD6f7Ip5hq"
      },
      "source": [
        "### 문제\n",
        "    흔한 수학 문제 중 하나는 주어진 점이 어느 사분면에 속하는지 알아내는 것이다. 사분면은 아래 그림처럼 1부터 4까지 번호를 갖는다. \"Quadrant n\"은 \"제n사분면\"이라는 뜻이다.\n",
        "\n",
        "    예를 들어, 좌표가 (12, 5)인 점 A는 x좌표와 y좌표가 모두 양수이므로 제1사분면에 속한다. 점 B는 x좌표가 음수이고 y좌표가 양수이므로 제2사분면에 속한다.\n",
        "\n",
        "    점의 좌표를 입력받아 그 점이 어느 사분면에 속하는지 알아내는 프로그램을 작성하시오. 단, x좌표와 y좌표는 모두 양수나 음수라고 가정한다.\n",
        "\n",
        "### 입력\n",
        "    첫 줄에는 정수 x가 주어진다. (−1000 ≤ x ≤ 1000; x ≠ 0) 다음 줄에는 정수 y가 주어진다. (−1000 ≤ y ≤ 1000; y ≠ 0)\n",
        "\n",
        "### 출력\n",
        "    점 (x, y)의 사분면 번호(1, 2, 3, 4 중 하나)를 출력한다.\n",
        "\n",
        "### 예제 입력 1 \n",
        "    12\n",
        "    5\n",
        "### 예제 출력 1 \n",
        "    1\n",
        "### 예제 입력 2 \n",
        "    9\n",
        "    -13\n",
        "### 예제 출력 2 \n",
        "    4"
      ]
    },
    {
      "cell_type": "markdown",
      "metadata": {
        "id": "i9VDC-DOp6t8"
      },
      "source": [
        "### Code"
      ]
    },
    {
      "cell_type": "code",
      "metadata": {
        "id": "5Fl7v_MFeNPY"
      },
      "source": [
        "points = dict()\n",
        "points['x'] = int(input())\n",
        "points['y'] = int(input())\n",
        "\n",
        "if points['x'] > 0 and points['y'] > 0:\n",
        "  print(1)\n",
        "elif points['x'] < 0 and points['y'] > 0:\n",
        "  print(2)\n",
        "elif points['x'] > 0 and points['y'] < 0:\n",
        "  print(4)\n",
        "elif points['x'] < 0 and points['y'] < 0:\n",
        "  print(3)\n",
        "else:\n",
        "  raise NoQuadrantException"
      ],
      "execution_count": null,
      "outputs": []
    },
    {
      "cell_type": "markdown",
      "metadata": {
        "id": "H3JclujzfekW"
      },
      "source": [
        "## 2884.\t알람 시계\n",
        "\n",
        "### 문제\n",
        "    상근이는 매일 아침 알람을 듣고 일어난다. 알람을 듣고 바로 일어나면 다행이겠지만, 항상 조금만 더 자려는 마음 때문에 매일 학교를 지각하고 있다.\n",
        "    \n",
        "    상근이는 모든 방법을 동원해보았지만, 조금만 더 자려는 마음은 그 어떤 것도 없앨 수가 없었다.\n",
        "    \n",
        "    이런 상근이를 불쌍하게 보던, 창영이는 자신이 사용하는 방법을 추천해 주었다.\n",
        "    \n",
        "    바로 \"45분 일찍 알람 설정하기\"이다.\n",
        "    \n",
        "    이 방법은 단순하다. 원래 설정되어 있는 알람을 45분 앞서는 시간으로 바꾸는 것이다. 어차피 알람 소리를 들으면, 알람을 끄고 조금 더 잘 것이기 때문이다. 이 방법을 사용하면, 매일 아침 더 잤다는 기분을 느낄 수 있고, 학교도 지각하지 않게 된다.\n",
        "    \n",
        "    현재 상근이가 설정한 알람 시각이 주어졌을 때, 창영이의 방법을 사용한다면, 이를 언제로 고쳐야 하는지 구하는 프로그램을 작성하시오.\n",
        "\n",
        "### 입력\n",
        "    첫째 줄에 두 정수 H와 M이 주어진다. (0 ≤ H ≤ 23, 0 ≤ M ≤ 59) 그리고 이것은 현재 상근이가 설정한 놓은 알람 시간 H시 M분을 의미한다.\n",
        "    \n",
        "    입력 시간은 24시간 표현을 사용한다. 24시간 표현에서 하루의 시작은 0:0(자정)이고, 끝은 23:59(다음날 자정 1분 전)이다. 시간을 나타낼 때, 불필요한 0은 사용하지 않는다.\n",
        "\n",
        "### 출력\n",
        "    첫째 줄에 상근이가 창영이의 방법을 사용할 때, 설정해야 하는 알람 시간을 출력한다. (입력과 같은 형태로 출력하면 된다.)\n",
        "\n",
        "### 예제 입력 1 \n",
        "    10 10\n",
        "### 예제 출력 1 \n",
        "    9 25\n",
        "### 예제 입력 2 \n",
        "    0 30\n",
        "### 예제 출력 2 \n",
        "    23 45\n",
        "### 예제 입력 3 \n",
        "    23 40\n",
        "### 예제 출력 3 \n",
        "    22 55"
      ]
    },
    {
      "cell_type": "code",
      "metadata": {
        "id": "DYzyFwp8vXpa"
      },
      "source": [
        "H, M = [int(i) for i in input().split()]\n",
        "\n",
        "if 0 <= H <= 23 and 0 <= M <= 59:\n",
        "  pass\n",
        "else:\n",
        "  raise WrongInputException\n",
        "\n",
        "if M-45 < 0:\n",
        "  H = H - 1\n",
        "  M = 60 - abs(M-45)\n",
        "else:\n",
        "  M = M - 45\n",
        "\n",
        "if H < 0:\n",
        "  H = 24 + H\n",
        "else:\n",
        "  pass\n",
        "\n",
        "print(H, M)"
      ],
      "execution_count": null,
      "outputs": []
    },
    {
      "cell_type": "markdown",
      "metadata": {
        "id": "oADJwnpgearj"
      },
      "source": [
        "<a href=\"https://colab.research.google.com/github/graphy-young/algorithm/blob/main/Baekjoon%20Online%20judge/3.%20for%EB%AC%B8.ipynb\" target=\"_parent\"><img src=\"https://colab.research.google.com/assets/colab-badge.svg\" alt=\"Open In Colab\"/></a>"
      ]
    },
    {
      "cell_type": "markdown",
      "metadata": {
        "id": "QExAhuSu9HDR"
      },
      "source": [
        "# 3. for문\n",
        "\n",
        "for문을 사용해 봅시다."
      ]
    },
    {
      "cell_type": "markdown",
      "metadata": {
        "id": "DRJr-E7t9cmO"
      },
      "source": [
        "## 2739. 구구단"
      ]
    },
    {
      "cell_type": "markdown",
      "metadata": {
        "id": "J72le2r3tfS3"
      },
      "source": [
        "### 문제\n",
        "    N을 입력받은 뒤, 구구단 N단을 출력하는 프로그램을 작성하시오. 출력 형식에 맞춰서 출력하면 된다.\n",
        "\n",
        "### 입력\n",
        "    첫째 줄에 N이 주어진다. N은 1보다 크거나 같고, 9보다 작거나 같다.\n",
        "\n",
        "### 출력\n",
        "    출력형식과 같게 N*1부터 N*9까지 출력한다.\n",
        "\n",
        "### 예제 입력 1 \n",
        "    2\n",
        "### 예제 출력 1 \n",
        "    2 * 1 = 2\n",
        "    2 * 2 = 4\n",
        "    2 * 3 = 6\n",
        "    2 * 4 = 8\n",
        "    2 * 5 = 10\n",
        "    2 * 6 = 12\n",
        "    2 * 7 = 14\n",
        "    2 * 8 = 16\n",
        "    2 * 9 = 18"
      ]
    },
    {
      "cell_type": "markdown",
      "metadata": {
        "id": "1MYZZn8juXbz"
      },
      "source": [
        "### Code"
      ]
    },
    {
      "cell_type": "code",
      "metadata": {
        "id": "eeXLZkN6-_42"
      },
      "source": [
        "digit = int(input())\n",
        "\n",
        "for i in range(1, 10):\n",
        "  message = \"{} * {} = {}\".format(digit, i, digit*i)\n",
        "  print(message)\n",
        "  #result = digit * i\n",
        "  #print(\"{digit} * {i} = {result}\")\n"
      ],
      "execution_count": null,
      "outputs": []
    },
    {
      "cell_type": "markdown",
      "metadata": {
        "id": "LSxcviJhAx4R"
      },
      "source": [
        "## 10950. A+B - 3"
      ]
    },
    {
      "cell_type": "markdown",
      "metadata": {
        "id": "ccbKoxrYtidX"
      },
      "source": [
        "### 문제\n",
        "    두 정수 A와 B를 입력받은 다음, A+B를 출력하는 프로그램을 작성하시오.\n",
        "\n",
        "### 입력\n",
        "    첫째 줄에 테스트 케이스의 개수 T가 주어진다.\n",
        "    \n",
        "    각 테스트 케이스는 한 줄로 이루어져 있으며, 각 줄에 A와 B가 주어진다. (0 < A, B < 10)\n",
        "\n",
        "### 출력\n",
        "    각 테스트 케이스마다 A+B를 출력한다.\n",
        "\n",
        "### 예제 입력 1 \n",
        "    5\n",
        "    1 1\n",
        "    2 3\n",
        "    3 4\n",
        "    9 8\n",
        "    5 2\n",
        "\n",
        "### 예제 출력 1 \n",
        "    2\n",
        "    5\n",
        "    7\n",
        "    17\n",
        "    7"
      ]
    },
    {
      "cell_type": "markdown",
      "metadata": {
        "id": "NABSioYrucFD"
      },
      "source": [
        "### Code"
      ]
    },
    {
      "cell_type": "code",
      "metadata": {
        "id": "63AQWjQbBRm1"
      },
      "source": [
        "testCase = int(input())\n",
        "\n",
        "for i in range(1, testCase+1):\n",
        "  digits = list()\n",
        "  digits = [int(i) for i in input().split()]\n",
        "  for digit in digits:\n",
        "    if 0 < digit < 10:\n",
        "      pass\n",
        "    else:\n",
        "      raise WrongInputException\n",
        "  print(sum(digits))"
      ],
      "execution_count": null,
      "outputs": []
    },
    {
      "cell_type": "markdown",
      "metadata": {
        "id": "2Ud6VkEksVqV"
      },
      "source": [
        "## 8393. 합"
      ]
    },
    {
      "cell_type": "markdown",
      "metadata": {
        "id": "NKWAZxa_tmOR"
      },
      "source": [
        "### 문제\n",
        "    n이 주어졌을 때, 1부터 n까지 합을 구하는 프로그램을 작성하시오.\n",
        "\n",
        "### 입력\n",
        "    첫째 줄에 n (1 ≤ n ≤ 10,000)이 주어진다.\n",
        "\n",
        "### 출력\n",
        "    1부터 n까지 합을 출력한다.\n",
        "\n",
        "### 예제 입력 1 \n",
        "    3\n",
        "### 예제 출력 1 \n",
        "    6"
      ]
    },
    {
      "cell_type": "markdown",
      "metadata": {
        "id": "7QLsdnacuft1"
      },
      "source": [
        "### Code"
      ]
    },
    {
      "cell_type": "code",
      "metadata": {
        "id": "4MLPi63bse4E"
      },
      "source": [
        "digit = int(input())\n",
        "\n",
        "if 1 <= digit <= 10000:\n",
        "  pass\n",
        "else:\n",
        "  raise WrongInputException\n",
        "\n",
        "result = 0\n",
        "\n",
        "for i in range(1, digit+1):\n",
        "  result += i\n",
        "\n",
        "print(result)"
      ],
      "execution_count": null,
      "outputs": []
    },
    {
      "cell_type": "markdown",
      "metadata": {
        "id": "CY7FFGtlskLt"
      },
      "source": [
        "## 15552. 빠른 A+B"
      ]
    },
    {
      "cell_type": "markdown",
      "metadata": {
        "id": "L37o_Og-tWZp"
      },
      "source": [
        "### 문제\n",
        "    본격적으로 for문 문제를 풀기 전에 주의해야 할 점이 있다. 입출력 방식이 느리면 여러 줄을 입력받거나 출력할 때 시간초과가 날 수 있다는 점이다.\n",
        "    \n",
        "    C++을 사용하고 있고 cin/cout을 사용하고자 한다면, cin.tie(NULL)과 sync_with_stdio(false)를 둘 다 적용해 주고, endl 대신 개행문자(\\n)를 쓰자. 단, 이렇게 하면 더 이상 scanf/printf/puts/getchar/putchar 등 C의 입출력 방식을 사용하면 안 된다.\n",
        "    \n",
        "    Java를 사용하고 있다면, Scanner와 System.out.println 대신 BufferedReader와 BufferedWriter를 사용할 수 있다. BufferedWriter.flush는 맨 마지막에 한 번만 하면 된다.\n",
        "    \n",
        "    Python을 사용하고 있다면, input 대신 sys.stdin.readline을 사용할 수 있다. 단, 이때는 맨 끝의 개행문자까지 같이 입력받기 때문에 문자열을 저장하고 싶을 경우 .rstrip()을 추가로 해 주는 것이 좋다.\n",
        "    \n",
        "    또한 입력과 출력 스트림은 별개이므로, 테스트케이스를 전부 입력받아서 저장한 뒤 전부 출력할 필요는 없다. 테스트케이스를 하나 받은 뒤 하나 출력해도 된다.\n",
        "    \n",
        "    자세한 설명 및 다른 언어의 경우는 이 글에 설명되어 있다.\n",
        "    \n",
        "    이 블로그 글에서 BOJ의 기타 여러 가지 팁을 볼 수 있다.\n",
        "\n",
        "### 입력\n",
        "    첫 줄에 테스트케이스의 개수 T가 주어진다. T는 최대 1,000,000이다. 다음 T줄에는 각각 두 정수 A와 B가 주어진다. A와 B는 1 이상, 1,000 이하이다.\n",
        "\n",
        "### 출력\n",
        "    각 테스트케이스마다 A+B를 한 줄에 하나씩 순서대로 출력한다.\n",
        "\n",
        "### 예제 입력 1\n",
        "    5\n",
        "    1 1\n",
        "    12 34\n",
        "    5 500\n",
        "    40 60\n",
        "    1000 1000\n",
        "\n",
        "### 예제 출력 1\n",
        "    2\n",
        "    46\n",
        "    505\n",
        "    100\n",
        "    2000"
      ]
    },
    {
      "cell_type": "markdown",
      "metadata": {
        "id": "sERT0afqumN0"
      },
      "source": [
        "### Code"
      ]
    },
    {
      "cell_type": "code",
      "metadata": {
        "id": "WkLGElBptHva"
      },
      "source": [
        "# this doesn't work in colab\n",
        "from sys import stdin\n",
        "\n",
        "t = int(stdin.readline())\n",
        "\n",
        "for i in range(t):\n",
        "  digits = map(int, stdin.readline().split())\n",
        "  result = sum(digits)\n",
        "  print(result)"
      ],
      "execution_count": null,
      "outputs": []
    },
    {
      "cell_type": "markdown",
      "metadata": {
        "id": "me3zFONXtL0L"
      },
      "source": [
        "## 2741. N 찍기"
      ]
    },
    {
      "cell_type": "markdown",
      "metadata": {
        "id": "L8ESCcj6tv8Q"
      },
      "source": [
        "### 문제\n",
        "    자연수 N이 주어졌을 때, 1부터 N까지 한 줄에 하나씩 출력하는 프로그램을 작성하시오.\n",
        "\n",
        "### 입력\n",
        "    첫째 줄에 100,000보다 작거나 같은 자연수 N이 주어진다.\n",
        "\n",
        "### 출력\n",
        "    첫째 줄부터 N번째 줄 까지 차례대로 출력한다.\n",
        "\n",
        "### 예제 입력 1\n",
        "    5\n",
        "\n",
        "### 예제 출력 1\n",
        "    1\n",
        "    2\n",
        "    3\n",
        "    4\n",
        "    5"
      ]
    },
    {
      "cell_type": "markdown",
      "metadata": {
        "id": "zjbhcTpbt6fc"
      },
      "source": [
        "### Code"
      ]
    },
    {
      "cell_type": "code",
      "metadata": {
        "id": "QFAN0nMhuqkr"
      },
      "source": [
        "from sys import stdin\n",
        "N = int(stdin.readline().rstrip())\n",
        "\n",
        "for i in range(N):\n",
        "  print(i+1)"
      ],
      "execution_count": null,
      "outputs": []
    },
    {
      "cell_type": "markdown",
      "metadata": {
        "id": "c6aq3ZkruvP2"
      },
      "source": [
        "## 2742. 기찍 N"
      ]
    },
    {
      "cell_type": "markdown",
      "metadata": {
        "id": "4wSW0Zm5uzMj"
      },
      "source": [
        "### 문제\n",
        "    자연수 N이 주어졌을 때, N부터 1까지 한 줄에 하나씩 출력하는 프로그램을 작성하시오.\n",
        "\n",
        "### 입력\n",
        "    첫째 줄에 100,000보다 작거나 같은 자연수 N이 주어진다.\n",
        "\n",
        "### 출력\n",
        "    첫째 줄부터 N번째 줄 까지 차례대로 출력한다.\n",
        "\n",
        "### 예제 입력 1\n",
        "    5\n",
        "### 예제 출력 1\n",
        "    5\n",
        "    4\n",
        "    3\n",
        "    2\n",
        "    1"
      ]
    },
    {
      "cell_type": "markdown",
      "metadata": {
        "id": "1Yo62AtVu9zk"
      },
      "source": [
        "### Code"
      ]
    },
    {
      "cell_type": "code",
      "metadata": {
        "id": "uvnfU2mvu_xO"
      },
      "source": [
        "# N = int(input())\n",
        "from sys import stdin\n",
        "N = int(stdin.readline())\n",
        "\n",
        "for i in range(N, 0, -1):\n",
        "  print(i)"
      ],
      "execution_count": null,
      "outputs": []
    },
    {
      "cell_type": "markdown",
      "metadata": {
        "id": "-zAQCQIGvD6D"
      },
      "source": [
        "## 11021. A+B - 7"
      ]
    },
    {
      "cell_type": "markdown",
      "metadata": {
        "id": "cAnnewAXvJJ7"
      },
      "source": [
        "### 문제\n",
        "    두 정수 A와 B를 입력받은 다음, A+B를 출력하는 프로그램을 작성하시오.\n",
        "\n",
        "### 입력\n",
        "    첫째 줄에 테스트 케이스의 개수 T가 주어진다.\n",
        "    \n",
        "    각 테스트 케이스는 한 줄로 이루어져 있으며, 각 줄에 A와 B가 주어진다. (0 < A, B < 10)\n",
        "\n",
        "### 출력\n",
        "    각 테스트 케이스마다 \"Case #x: \"를 출력한 다음, A+B를 출력한다. 테스트 케이스 번호는 1부터 시작한다.\n",
        "\n",
        "### 예제 입력 1\n",
        "    5\n",
        "    1 1\n",
        "    2 3\n",
        "    3 4\n",
        "    9 8\n",
        "    5 2\n",
        "\n",
        "### 예제 출력 1\n",
        "    Case #1: 2\n",
        "    Case #2: 5\n",
        "    Case #3: 7\n",
        "    Case #4: 17\n",
        "    Case #5: 7"
      ]
    },
    {
      "cell_type": "markdown",
      "metadata": {
        "id": "9gqJ_-6DvXwl"
      },
      "source": [
        "### Code\n"
      ]
    },
    {
      "cell_type": "code",
      "metadata": {
        "id": "bydRGWVPvY8M"
      },
      "source": [
        "from sys import stdin\n",
        "t = int(stdin.readline())\n",
        "\n",
        "for i in range(t):\n",
        "  digits = map(int, stdin.readline().split())\n",
        "  print(\"Case #{}:\".format(i+1), str(sum(digits)))"
      ],
      "execution_count": null,
      "outputs": []
    },
    {
      "cell_type": "markdown",
      "metadata": {
        "id": "su-bz0kCvf-x"
      },
      "source": [
        "## 11022. A+B - 8"
      ]
    },
    {
      "cell_type": "markdown",
      "metadata": {
        "id": "b34w_gYTvpWJ"
      },
      "source": [
        "### 문제\n",
        "    두 정수 A와 B를 입력받은 다음, A+B를 출력하는 프로그램을 작성하시오.\n",
        "\n",
        "### 입력\n",
        "    첫째 줄에 테스트 케이스의 개수 T가 주어진다.\n",
        "    \n",
        "    각 테스트 케이스는 한 줄로 이루어져 있으며, 각 줄에 A와 B가 주어진다. (0 < A, B < 10)\n",
        "\n",
        "### 출력\n",
        "    각 테스트 케이스마다 \"Case #x: A + B = C\" 형식으로 출력한다. x는 테스트 케이스 번호이고 1부터 시작하며, C는 A+B이다.\n",
        "\n",
        "### 예제 입력 1\n",
        "    5\n",
        "    1 1\n",
        "    2 3\n",
        "    3 4\n",
        "    9 8\n",
        "    5 2\n",
        "\n",
        "### 예제 출력 1\n",
        "    Case #1: 1 + 1 = 2\n",
        "    Case #2: 2 + 3 = 5\n",
        "    Case #3: 3 + 4 = 7\n",
        "    Case #4: 9 + 8 = 17\n",
        "    Case #5: 5 + 2 = 7"
      ]
    },
    {
      "cell_type": "markdown",
      "metadata": {
        "id": "HxRV0r9SwW-g"
      },
      "source": [
        "### Code"
      ]
    },
    {
      "cell_type": "code",
      "metadata": {
        "id": "8omWdB5GwYih"
      },
      "source": [
        "from sys import stdin\n",
        "t = int(stdin.readline())\n",
        "\n",
        "for i in range(t):\n",
        "  digits = list(map(int, stdin.readline().split()))\n",
        "  print(\"Case #{}: {} + {} = {}\".format(i+1, digits[0], digits[1], sum(digits)))"
      ],
      "execution_count": null,
      "outputs": []
    },
    {
      "cell_type": "markdown",
      "metadata": {
        "id": "ztSxShNiwbCq"
      },
      "source": [
        "## 2438\t별 찍기 - 1"
      ]
    },
    {
      "cell_type": "markdown",
      "metadata": {
        "id": "WN9kKSkBwf6a"
      },
      "source": [
        "### 문제\n",
        "    첫째 줄에는 별 1개, 둘째 줄에는 별 2개, N번째 줄에는 별 N개를 찍는 문제\n",
        "\n",
        "### 입력\n",
        "    첫째 줄에 N(1 ≤ N ≤ 100)이 주어진다.\n",
        "\n",
        "### 출력\n",
        "    첫째 줄부터 N번째 줄까지 차례대로 별을 출력한다.\n",
        "\n",
        "### 예제 입력 1\n",
        "    5\n",
        "\n",
        "### 예제 출력 1\n",
        "    *\n",
        "    **\n",
        "    ***\n",
        "    ****\n",
        "    *****"
      ]
    },
    {
      "cell_type": "markdown",
      "metadata": {
        "id": "p-Rd7AE8wvLR"
      },
      "source": [
        "### Code"
      ]
    },
    {
      "cell_type": "code",
      "metadata": {
        "id": "tbM3inyuwv_S"
      },
      "source": [
        "from sys import stdin, stdout\n",
        "n = int(stdin.readline())\n",
        "\n",
        "for i in range(n):\n",
        "  for j in range(i+1):\n",
        "    stdout.write('*')\n",
        "  if i+1 != n: \n",
        "    stdout.write('\\n')"
      ],
      "execution_count": null,
      "outputs": []
    },
    {
      "cell_type": "markdown",
      "metadata": {
        "id": "SC1bldelwykD"
      },
      "source": [
        "## 2439. 별 찍기 - 2"
      ]
    },
    {
      "cell_type": "markdown",
      "metadata": {
        "id": "92PZf1QUw8AE"
      },
      "source": [
        "### 문제\n",
        "    첫째 줄에는 별 1개, 둘째 줄에는 별 2개, N번째 줄에는 별 N개를 찍는 문제\n",
        "    \n",
        "    하지만, 오른쪽을 기준으로 정렬한 별(예제 참고)을 출력하시오.\n",
        "\n",
        "### 입력\n",
        "    첫째 줄에 N(1 ≤ N ≤ 100)이 주어진다.\n",
        "\n",
        "### 출력\n",
        "    첫째 줄부터 N번째 줄까지 차례대로 별을 출력한다.\n",
        "\n",
        "### 예제 입력 1\n",
        "    5\n",
        "### 예제 출력 1\n",
        "        *\n",
        "       **\n",
        "      ***\n",
        "     ****\n",
        "    *****"
      ]
    },
    {
      "cell_type": "markdown",
      "metadata": {
        "id": "tAbkVuUxxG0T"
      },
      "source": [
        "### Code"
      ]
    },
    {
      "cell_type": "code",
      "metadata": {
        "id": "D6GbCtYCxIBK"
      },
      "source": [
        "from sys import stdin\n",
        "n = int(stdin.readline())\n",
        "#n = int(input())\n",
        "\n",
        "for i in range(n):\n",
        "  result = \"\"\n",
        "  for j in range(i+1):\n",
        "    result += \"*\"\n",
        "  print(result.rjust(n))"
      ],
      "execution_count": null,
      "outputs": []
    },
    {
      "cell_type": "markdown",
      "metadata": {
        "id": "r9yzCr40xQM9"
      },
      "source": [
        "## 10871. X보다 작은 수"
      ]
    },
    {
      "cell_type": "markdown",
      "metadata": {
        "id": "ivHZmK-DxXR4"
      },
      "source": [
        "### 문제\n",
        "    정수 N개로 이루어진 수열 A와 정수 X가 주어진다. 이때, A에서 X보다 작은 수를 모두 출력하는 프로그램을 작성하시오.\n",
        "\n",
        "### 입력\n",
        "    첫째 줄에 N과 X가 주어진다. (1 ≤ N, X ≤ 10,000)\n",
        "    \n",
        "    둘째 줄에 수열 A를 이루는 정수 N개가 주어진다. 주어지는 정수는 모두 1보다 크거나 같고, 10,000보다 작거나 같은 정수이다.\n",
        "\n",
        "### 출력\n",
        "    X보다 작은 수를 입력받은 순서대로 공백으로 구분해 출력한다. X보다 작은 수는 적어도 하나 존재한다.\n",
        "\n",
        "### 예제 입력 1\n",
        "    10 5\n",
        "    1 10 4 9 2 3 8 5 7 6\n",
        "\n",
        "### 예제 출력 1\n",
        "    1 4 2 3"
      ]
    },
    {
      "cell_type": "markdown",
      "metadata": {
        "id": "9QScuoV4xgKQ"
      },
      "source": [
        "### Code"
      ]
    },
    {
      "cell_type": "code",
      "metadata": {
        "id": "oQORMwBIxhIo"
      },
      "source": [
        "from sys import stdin\n",
        "n, x = list(map(int, stdin.readline().split()))\n",
        "\n",
        "a = list(map(int, stdin.readline().split()))\n",
        "result = list()\n",
        "\n",
        "for i in a:\n",
        "  if i < x:\n",
        "    result.append(str(i))\n",
        "  else:\n",
        "    pass\n",
        "\n",
        "print(' '.join(result))"
      ],
      "execution_count": null,
      "outputs": []
    },
    {
      "cell_type": "markdown",
      "metadata": {
        "id": "zSEQTW55earo"
      },
      "source": [
        "<a href=\"https://colab.research.google.com/github/graphy-young/algorithm/blob/main/Baekjoon%20Online%20Judge/4_While%EB%AC%B8.ipynb\" target=\"_parent\"><img src=\"https://colab.research.google.com/assets/colab-badge.svg\" alt=\"Open In Colab\"/></a>"
      ]
    },
    {
      "cell_type": "markdown",
      "metadata": {
        "id": "PvdeqBdb1Iod"
      },
      "source": [
        "# 4. While문"
      ]
    },
    {
      "cell_type": "markdown",
      "metadata": {
        "id": "bMriFQRF1ScM"
      },
      "source": [
        "while문을 사용해 봅시다."
      ]
    },
    {
      "cell_type": "markdown",
      "metadata": {
        "id": "uOC0uK3A1UZu"
      },
      "source": [
        "## 10952. A+B - 5"
      ]
    },
    {
      "cell_type": "markdown",
      "metadata": {
        "id": "vtkpr_-c1Y3V"
      },
      "source": [
        "### 문제\n",
        "    두 정수 A와 B를 입력받은 다음, A+B를 출력하는 프로그램을 작성하시오.\n",
        "\n",
        "### 입력\n",
        "    입력은 여러 개의 테스트 케이스로 이루어져 있다.\n",
        "    \n",
        "    각 테스트 케이스는 한 줄로 이루어져 있으며, 각 줄에 A와 B가 주어진다. (0 < A, B < 10)\n",
        "    \n",
        "    입력의 마지막에는 0 두 개가 들어온다.\n",
        "\n",
        "### 출력\n",
        "    각 테스트 케이스마다 A+B를 출력한다.\n",
        "\n",
        "### 예제 입력 1\n",
        "    1 1\n",
        "    2 3\n",
        "    3 4\n",
        "    9 8\n",
        "    5 2\n",
        "    0 0\n",
        "\n",
        "### 예제 출력 1\n",
        "    2\n",
        "    5\n",
        "    7\n",
        "    17\n",
        "    7"
      ]
    },
    {
      "cell_type": "markdown",
      "metadata": {
        "id": "ITdkrEcX1bbW"
      },
      "source": [
        "### Code"
      ]
    },
    {
      "cell_type": "code",
      "metadata": {
        "id": "iXRpnAOO1qHh"
      },
      "source": [
        "from sys import stdin\n",
        "\n",
        "while(True):\n",
        "  #A, B = list(map(int, stdin.readline().split()))\n",
        "  A, B = list(map(int, input().split()))\n",
        "  if A == 0 and B == 0:\n",
        "    break\n",
        "  else:\n",
        "    print(A+B)"
      ],
      "execution_count": null,
      "outputs": []
    },
    {
      "cell_type": "markdown",
      "metadata": {
        "id": "NUbiGawR92qv"
      },
      "source": [
        "## 10951. A+B - 4"
      ]
    },
    {
      "cell_type": "markdown",
      "metadata": {
        "id": "nAbTk7dH96Sz"
      },
      "source": [
        "### 문제\n",
        "    두 정수 A와 B를 입력받은 다음, A+B를 출력하는 프로그램을 작성하시오.\n",
        "\n",
        "### 입력\n",
        "    입력은 여러 개의 테스트 케이스로 이루어져 있다.\n",
        "    \n",
        "    각 테스트 케이스는 한 줄로 이루어져 있으며, 각 줄에 A와 B가 주어진다. (0 < A, B < 10)\n",
        "\n",
        "### 출력\n",
        "    각 테스트 케이스마다 A+B를 출력한다.\n",
        "\n",
        "### 예제 입력 1\n",
        "    1 1\n",
        "    2 3\n",
        "    3 4\n",
        "    9 8\n",
        "    5 2\n",
        "\n",
        "### 예제 출력 1\n",
        "    2\n",
        "    5\n",
        "    7\n",
        "    17\n",
        "    7"
      ]
    },
    {
      "cell_type": "markdown",
      "metadata": {
        "id": "sY6htPjN-EYY"
      },
      "source": [
        "### Code"
      ]
    },
    {
      "cell_type": "markdown",
      "metadata": {
        "id": "7ar-wcz1_DSq"
      },
      "source": [
        "EOF에 대응하는 방법을 알아야는데, 마땅히 괜찮은 방법이 인터넷에 안보임.."
      ]
    },
    {
      "cell_type": "code",
      "metadata": {
        "id": "ZTaEkKod-FnD"
      },
      "source": [
        "from sys import stdin\n",
        "\n",
        "while(True):\n",
        "  try:\n",
        "    A, B = list(map(int, stdin.readline().split()))\n",
        "    #A, B = list(map(int, input().split()))\n",
        "  except ValueError:\n",
        "    break\n",
        "  print(A+B)"
      ],
      "execution_count": null,
      "outputs": []
    },
    {
      "cell_type": "markdown",
      "metadata": {
        "id": "ugA_wKe1UFo4"
      },
      "source": [
        "## 1110. 더하기 사이클"
      ]
    },
    {
      "cell_type": "markdown",
      "metadata": {
        "id": "32tP9rFgUIm4"
      },
      "source": [
        "### 입력\n",
        "    첫째 줄에 N이 주어진다. N은 0보다 크거나 같고, 99보다 작거나 같은 정수이다.\n",
        "\n",
        "### 출력\n",
        "    첫째 줄에 N의 사이클 길이를 출력한다.\n",
        "\n",
        "### 예제 입력 1 \n",
        "    26\n",
        "### 예제 출력 1 \n",
        "    4\n",
        "### 예제 입력 2 \n",
        "    55\n",
        "### 예제 출력 2 \n",
        "     3\n",
        "### 예제 입력 3 \n",
        "    1\n",
        "### 예제 출력 3 \n",
        "    60\n",
        "### 예제 입력 4 \n",
        "    0\n",
        "### 예제 출력 4\n",
        "    1"
      ]
    },
    {
      "cell_type": "markdown",
      "metadata": {
        "id": "S4aDFttkUUtX"
      },
      "source": [
        "### Code"
      ]
    },
    {
      "cell_type": "code",
      "metadata": {
        "id": "ZrNhSXV5UWU4"
      },
      "source": [
        "digit = int(input())\n",
        "\n",
        "if digit < 10:\n",
        "  digit = digit * 10\n",
        "\n",
        "tens = digit // 10\n",
        "units = digit % 10\n",
        "cnt = 0\n",
        "\n",
        "while(True):\n",
        "  tens, units = units, tens\n",
        "  units = tens + units\n",
        "  if units >= 10: \n",
        "    units = units % 10\n",
        "  cnt += 1\n",
        "  if digit == tens*10 + units:\n",
        "    break\n",
        "\n",
        "print(cnt)"
      ],
      "execution_count": null,
      "outputs": []
    },
    {
      "cell_type": "markdown",
      "metadata": {
        "id": "SrSLIN0Qearq"
      },
      "source": [
        "<a href=\"https://colab.research.google.com/github/graphy-young/algorithm/blob/main/Baekjoon%20Online%20Judge/5_1%EC%B0%A8%EC%9B%90%20%EB%B0%B0%EC%97%B4.ipynb\" target=\"_parent\"><img src=\"https://colab.research.google.com/assets/colab-badge.svg\" alt=\"Open In Colab\"/></a>"
      ]
    },
    {
      "cell_type": "markdown",
      "metadata": {
        "id": "oF-9SIpItIjk"
      },
      "source": [
        "# 5. 1차원 배열\n",
        "\n",
        "배열을 사용해 봅시다."
      ]
    },
    {
      "cell_type": "markdown",
      "metadata": {
        "id": "MvkYgUqctYiy"
      },
      "source": [
        "## 10818. 최소, 최대"
      ]
    },
    {
      "cell_type": "markdown",
      "metadata": {
        "id": "cIXBJjrUtRDP"
      },
      "source": [
        "### 문제\n",
        "    N개의 정수가 주어진다. 이때, 최솟값과 최댓값을 구하는 프로그램을 작성하시오.\n",
        "\n",
        "### 입력\n",
        "    첫째 줄에 정수의 개수 N (1 ≤ N ≤ 1,000,000)이 주어진다. 둘째 줄에는 N개의 정수를 공백으로 구분해서 주어진다. 모든 정수는 -1,000,000보다 크거나 같고, 1,000,000보다 작거나 같은 정수이다.\n",
        "\n",
        "### 출력\n",
        "    첫째 줄에 주어진 정수 N개의 최솟값과 최댓값을 공백으로 구분해 출력한다.\n",
        "\n",
        "### 예제 입력 1 \n",
        "    5\n",
        "    20 10 35 30 7\n",
        "### 예제 출력 1 \n",
        "    7 35"
      ]
    },
    {
      "cell_type": "markdown",
      "metadata": {
        "id": "5aHf13idtl1k"
      },
      "source": [
        "### Code"
      ]
    },
    {
      "cell_type": "code",
      "metadata": {
        "id": "hdeedr_0tnPu"
      },
      "source": [
        "digitNums = int(input())\n",
        "numbers = list(map(int, input().split()))\n",
        "\n",
        "print(min(numbers), max(numbers))"
      ],
      "execution_count": null,
      "outputs": []
    },
    {
      "cell_type": "markdown",
      "metadata": {
        "id": "xVV8gwsVunfH"
      },
      "source": [
        "## 2562. 최댓값"
      ]
    },
    {
      "cell_type": "markdown",
      "metadata": {
        "id": "_ta2Lg-yuqFO"
      },
      "source": [
        "### 문제\n",
        "    9개의 서로 다른 자연수가 주어질 때, 이들 중 최댓값을 찾고 그 최댓값이 몇 번째 수인지를 구하는 프로그램을 작성하시오.\n",
        "    \n",
        "    예를 들어, 서로 다른 9개의 자연수\n",
        "    \n",
        "    3, 29, 38, 12, 57, 74, 40, 85, 61\n",
        "    \n",
        "    이 주어지면, 이들 중 최댓값은 85이고, 이 값은 8번째 수이다.\n",
        "\n",
        "### 입력\n",
        "    첫째 줄부터 아홉 번째 줄까지 한 줄에 하나의 자연수가 주어진다. 주어지는 자연수는 100 보다 작다.\n",
        "\n",
        "### 출력\n",
        "    첫째 줄에 최댓값을 출력하고, 둘째 줄에 최댓값이 몇 번째 수인지를 출력한다.\n",
        "\n",
        "### 예제 입력 1 \n",
        "    3\n",
        "    29\n",
        "    38\n",
        "    12\n",
        "    57\n",
        "    74\n",
        "    40\n",
        "    85\n",
        "    61\n",
        "\n",
        "### 예제 출력 1 \n",
        "    85\n",
        "    8"
      ]
    },
    {
      "cell_type": "markdown",
      "metadata": {
        "id": "q6UZG6pVu3Y4"
      },
      "source": [
        "### Code"
      ]
    },
    {
      "cell_type": "code",
      "metadata": {
        "id": "Ngq-bQ4qu44s"
      },
      "source": [
        "maxValue = 0\n",
        "cnt = 0\n",
        "\n",
        "for i in range(9):\n",
        "  digit = int(input())\n",
        "  if maxValue < digit:\n",
        "    maxValue = digit\n",
        "    cnt = i + 1  \n",
        "  else:\n",
        "    continue\n",
        "else:\n",
        "  print(maxValue)\n",
        "  print(cnt)"
      ],
      "execution_count": null,
      "outputs": []
    },
    {
      "cell_type": "markdown",
      "metadata": {
        "id": "XGsvTPwwwjFo"
      },
      "source": [
        "## 2577. 숫자의 개수"
      ]
    },
    {
      "cell_type": "markdown",
      "metadata": {
        "id": "vnYDuwduwlhH"
      },
      "source": [
        "### 문제\n",
        "    세 개의 자연수 A, B, C가 주어질 때 A×B×C를 계산한 결과에 0부터 9까지 각각의 숫자가 몇 번씩 쓰였는지를 구하는 프로그램을 작성하시오.\n",
        "    \n",
        "    예를 들어 A = 150, B = 266, C = 427 이라면 \n",
        "    \n",
        "    A × B × C = 150 × 266 × 427 = 17037300 이 되고, \n",
        "    \n",
        "    계산한 결과 17037300 에는 0이 3번, 1이 1번, 3이 2번, 7이 2번 쓰였다.\n",
        "\n",
        "### 입력\n",
        "    첫째 줄에 A, 둘째 줄에 B, 셋째 줄에 C가 주어진다. A, B, C는 모두 100보다 같거나 크고, 1,000보다 작은 자연수이다.\n",
        "\n",
        "### 출력\n",
        "    첫째 줄에는 A×B×C의 결과에 0 이 몇 번 쓰였는지 출력한다. 마찬가지로 둘째 줄부터 열 번째 줄까지 A×B×C의 결과에 1부터 9까지의 숫자가 각각 몇 번 쓰였는지 차례로 한 줄에 하나씩 출력한다.\n",
        "\n",
        "### 예제 입력 1 \n",
        "    150\n",
        "    266\n",
        "    427\n",
        "\n",
        "\n",
        "### 예제 출력 1 \n",
        "    3\n",
        "    1\n",
        "    0\n",
        "    2\n",
        "    0\n",
        "    0\n",
        "    0\n",
        "    2\n",
        "    0\n",
        "    0"
      ]
    },
    {
      "cell_type": "markdown",
      "metadata": {
        "id": "FFw7jJjKwzIe"
      },
      "source": [
        "### Code"
      ]
    },
    {
      "cell_type": "code",
      "metadata": {
        "id": "4e6AFYTVw0Fz"
      },
      "source": [
        "numbers = 1\n",
        "for i in range(3):\n",
        "  numbers *= int(input())\n",
        "numbers = list(map(int, list(str(numbers))))\n",
        "\n",
        "for digit in range(10):\n",
        "  cnt = 0\n",
        "  for number in numbers:\n",
        "    if number == digit:\n",
        "      cnt += 1\n",
        "  print(cnt)"
      ],
      "execution_count": null,
      "outputs": []
    },
    {
      "cell_type": "markdown",
      "metadata": {
        "id": "bi2KLxnfWGqf"
      },
      "source": [
        "## 3052. 나머지"
      ]
    },
    {
      "cell_type": "markdown",
      "metadata": {
        "id": "SOZRXAR-WI4L"
      },
      "source": [
        "### 문제\n",
        "    두 자연수 A와 B가 있을 때, A%B는 A를 B로 나눈 나머지 이다. 예를 들어, 7, 14, 27, 38을 3으로 나눈 나머지는 1, 2, 0, 2이다. \n",
        "    \n",
        "    수 10개를 입력받은 뒤, 이를 42로 나눈 나머지를 구한다. 그 다음 서로 다른 값이 몇 개 있는지 출력하는 프로그램을 작성하시오.\n",
        "\n",
        "### 입력\n",
        "    첫째 줄부터 열번째 줄 까지 숫자가 한 줄에 하나씩 주어진다. 이 숫자는 1,000보다 작거나 같고, 음이 아닌 정수이다.\n",
        "\n",
        "### 출력\n",
        "    첫째 줄에, 42로 나누었을 때, 서로 다른 나머지가 몇 개 있는지 출력한다.\n",
        "\n",
        "### 예제 입력 1 \n",
        "    1\n",
        "    2\n",
        "    3\n",
        "    4\n",
        "    5\n",
        "    6\n",
        "    7\n",
        "    8\n",
        "    9\n",
        "    10\n",
        "\n",
        "### 예제 출력 1 \n",
        "    10\n",
        "각 수를 42로 나눈 나머지는 1, 2, 3, 4, 5, 6, 7, 8, 9, 10이다.\n",
        "\n",
        "### 예제 입력 2 \n",
        "    42\n",
        "    84\n",
        "    252\n",
        "    420\n",
        "    840\n",
        "    126\n",
        "    42\n",
        "    84\n",
        "    420\n",
        "    126\n",
        "\n",
        "### 예제 출력 2 \n",
        "    1\n",
        "모든 수를 42로 나눈 나머지는 0이다.\n",
        "\n",
        "### 예제 입력 3 \n",
        "    39\n",
        "    40\n",
        "    41\n",
        "    42\n",
        "    43\n",
        "    44\n",
        "    82\n",
        "    83\n",
        "    84\n",
        "    85\n",
        "\n",
        "### 예제 출력 3 \n",
        "    6\n",
        "각 수를 42로 나눈 나머지는 39, 40, 41, 0, 1, 2, 40, 41, 0, 1이다. 서로 다른 값은 6개가 있다."
      ]
    },
    {
      "cell_type": "markdown",
      "metadata": {
        "id": "DsFoZ0WOWxSn"
      },
      "source": [
        "### Code"
      ]
    },
    {
      "cell_type": "code",
      "metadata": {
        "id": "nzLG3uJtWykK"
      },
      "source": [
        "numbers = list()\n",
        "\n",
        "for i in range(10):\n",
        "  numbers.append(int(input()))\n",
        "  numbers[i] = numbers[i] % 42\n",
        "\n",
        "numbers = list(set(numbers))\n",
        "print(len(numbers))"
      ],
      "execution_count": null,
      "outputs": []
    },
    {
      "cell_type": "markdown",
      "metadata": {
        "id": "Ue_loKmpfzjb"
      },
      "source": [
        "## 1546. 평균"
      ]
    },
    {
      "cell_type": "markdown",
      "metadata": {
        "id": "VK1lVYHKf3Uj"
      },
      "source": [
        "### 문제\n",
        "    세준이는 기말고사를 망쳤다. 세준이는 점수를 조작해서 집에 가져가기로 했다. 일단 세준이는 자기 점수 중에 최댓값을 골랐다. 이 값을 M이라고 한다. 그리고 나서 모든 점수를 점수/M*100으로 고쳤다.\n",
        "    \n",
        "    예를 들어, 세준이의 최고점이 70이고, 수학점수가 50이었으면 수학점수는 50/70*100이 되어 71.43점이 된다.\n",
        "    \n",
        "    세준이의 성적을 위의 방법대로 새로 계산했을 때, 새로운 평균을 구하는 프로그램을 작성하시오.\n",
        "\n",
        "### 입력\n",
        "    첫째 줄에 시험 본 과목의 개수 N이 주어진다. 이 값은 1000보다 작거나 같다. 둘째 줄에 세준이의 현재 성적이 주어진다. 이 값은 100보다 작거나 같은 음이 아닌 정수이고, 적어도 하나의 값은 0보다 크다.\n",
        "\n",
        "### 출력\n",
        "    첫째 줄에 새로운 평균을 출력한다. 실제 정답과 출력값의 절대오차 또는 상대오차가 10-2 이하이면 정답이다.\n",
        "\n",
        "### 예제 입력 1 \n",
        "    3\n",
        "    40 80 60\n",
        "\n",
        "### 예제 출력 1 \n",
        "    75.0\n",
        "\n",
        "### 예제 입력 2 \n",
        "    3\n",
        "    10 20 30\n",
        "\n",
        "### 예제 출력 2 \n",
        "    66.666667\n",
        "10-2 이하의 오차를 허용한다는 말은 정확히 소수 2번째 자리까지 출력하라는 뜻이 아니다.\n",
        "\n",
        "### 예제 입력 3 \n",
        "    4\n",
        "    1 100 100 100\n",
        "\n",
        "### 예제 출력 3 \n",
        "    75.25\n",
        "\n",
        "### 예제 입력 4 \n",
        "    5\n",
        "    1 2 4 8 16\n",
        "\n",
        "### 예제 출력 4 \n",
        "    38.75\n",
        "### 예제 입력 5 \n",
        "    2\n",
        "    3 10\n",
        "\n",
        "### 예제 출력 5 \n",
        "    65.0"
      ]
    },
    {
      "cell_type": "markdown",
      "metadata": {
        "id": "ktD7b0yEgW-6"
      },
      "source": [
        "### Code"
      ]
    },
    {
      "cell_type": "code",
      "metadata": {
        "id": "V2uI77A8gYrL"
      },
      "source": [
        "subjectNumber = int(input())\n",
        "scores = list(map(int, input().split()))\n",
        "\n",
        "maxScore = max(scores)\n",
        "for score in scores:\n",
        "  scores[scores.index(score)] = score / maxScore * 100\n",
        "\n",
        "avg = sum(scores) / len(scores)\n",
        "print(avg)"
      ],
      "execution_count": null,
      "outputs": []
    },
    {
      "cell_type": "markdown",
      "metadata": {
        "id": "1qtzR_E5l0L8"
      },
      "source": [
        "## 8958. OX퀴즈"
      ]
    },
    {
      "cell_type": "markdown",
      "metadata": {
        "id": "zhX_BIANl3Gh"
      },
      "source": [
        "### 문제\n",
        "    \"OOXXOXXOOO\"와 같은 OX퀴즈의 결과가 있다. O는 문제를 맞은 것이고, X는 문제를 틀린 것이다. 문제를 맞은 경우 그 문제의 점수는 그 문제까지 연속된 O의 개수가 된다. 예를 들어, 10번 문제의 점수는 3이 된다.\n",
        "    \n",
        "    \"OOXXOXXOOO\"의 점수는 1+2+0+0+1+0+0+1+2+3 = 10점이다.\n",
        "    \n",
        "    OX퀴즈의 결과가 주어졌을 때, 점수를 구하는 프로그램을 작성하시오.\n",
        "\n",
        "### 입력\n",
        "    첫째 줄에 테스트 케이스의 개수가 주어진다. 각 테스트 케이스는 한 줄로 이루어져 있고, 길이가 0보다 크고 80보다 작은 문자열이 주어진다. 문자열은 O와 X만으로 이루어져 있다.\n",
        "\n",
        "### 출력\n",
        "    각 테스트 케이스마다 점수를 출력한다.\n",
        "\n",
        "### 예제 입력 1 \n",
        "    5\n",
        "    OOXXOXXOOO\n",
        "    OOXXOOXXOO\n",
        "    OXOXOXOXOXOXOX\n",
        "    OOOOOOOOOO\n",
        "    OOOOXOOOOXOOOOX\n",
        "\n",
        "### 예제 출력 1 \n",
        "    10\n",
        "    9\n",
        "    7\n",
        "    55\n",
        "    30"
      ]
    },
    {
      "cell_type": "markdown",
      "metadata": {
        "id": "Tv6K-5bEmAmY"
      },
      "source": [
        "### Code"
      ]
    },
    {
      "cell_type": "code",
      "metadata": {
        "id": "PRWqlkrRmBuy"
      },
      "source": [
        "testCase = int(input())\n",
        "\n",
        "for i in range(testCase):\n",
        "  scores = list(input())\n",
        "  cumCnt = 0\n",
        "  result = 0\n",
        "  for score in scores:\n",
        "    if score == 'O':\n",
        "      cumCnt += 1\n",
        "    else:\n",
        "      cumCnt = 0\n",
        "    result += cumCnt\n",
        "  print(result)"
      ],
      "execution_count": null,
      "outputs": []
    },
    {
      "cell_type": "markdown",
      "metadata": {
        "id": "ILep3fziGEAa"
      },
      "source": [
        "## 4344. 평균은 넘겠지"
      ]
    },
    {
      "cell_type": "markdown",
      "metadata": {
        "id": "DW54fKWtGGaT"
      },
      "source": [
        "### 문제\n",
        "    대학생 새내기들의 90%는 자신이 반에서 평균은 넘는다고 생각한다. 당신은 그들에게 슬픈 진실을 알려줘야 한다.\n",
        "\n",
        "### 입력\n",
        "    첫째 줄에는 테스트 케이스의 개수 C가 주어진다.\n",
        "    \n",
        "    둘째 줄부터 각 테스트 케이스마다 학생의 수 N(1 ≤ N ≤ 1000, N은 정수)이 첫 수로 주어지고, 이어서 N명의 점수가 주어진다. 점수는 0보다 크거나 같고, 100보다 작거나 같은 정수이다.\n",
        "\n",
        "### 출력\n",
        "    각 케이스마다 한 줄씩 평균을 넘는 학생들의 비율을 반올림하여 소수점 셋째 자리까지 출력한다.\n",
        "\n",
        "### 예제 입력 1 \n",
        "    5\n",
        "    5 50 50 70 80 100\n",
        "    7 100 95 90 80 70 60 50\n",
        "    3 70 90 80\n",
        "    3 70 90 81\n",
        "    9 100 99 98 97 96 95 94 93 91\n",
        "\n",
        "### 예제 출력 1 \n",
        "    40.000%\n",
        "    57.143%\n",
        "    33.333%\n",
        "    66.667%\n",
        "    55.556%"
      ]
    },
    {
      "cell_type": "markdown",
      "metadata": {
        "id": "7M2mgdQyGWsh"
      },
      "source": [
        "### Code"
      ]
    },
    {
      "cell_type": "code",
      "metadata": {
        "id": "UHE7U_D9J_Mj"
      },
      "source": [
        "#from sys import stdin\n",
        "\n",
        "testCase = int(input())\n",
        "#testCase = int(stdin.readline().rstrip())\n",
        "\n",
        "for i in range(testCase):\n",
        "  scores = list(map(int, input().split(' ')))\n",
        "  #scores = list(map(int, stdin.readline().split()))\n",
        "  groupAvg = sum(scores[1:]) / scores[0]\n",
        "  for score in scores[1:]:\n",
        "    if score > groupAvg:\n",
        "      scores[scores.index(score)] = True\n",
        "    else:\n",
        "      scores[scores.index(score)] = False\n",
        "  aboveRatio = round(sum(scores[1:]) / scores[0] * 100, 3)\n",
        "  print(\"%0.3f\" % aboveRatio + \"%\")"
      ],
      "execution_count": null,
      "outputs": []
    },
    {
      "cell_type": "markdown",
      "metadata": {
        "id": "0qH_K9d_N-qA"
      },
      "source": [
        "** Colab에서는 정상 작동하나, 백준 제출에서는 런타임 에러 발생. 수정 필요할듯 **"
      ]
    },
    {
      "cell_type": "markdown",
      "metadata": {
        "id": "E6RXyzWfearw"
      },
      "source": [
        "<a href=\"https://colab.research.google.com/github/graphy-young/algorithm/blob/main/Baekjoon%20Online%20Judge/6_%ED%95%A8%EC%88%98.ipynb\" target=\"_parent\"><img src=\"https://colab.research.google.com/assets/colab-badge.svg\" alt=\"Open In Colab\"/></a>"
      ]
    },
    {
      "cell_type": "markdown",
      "metadata": {
        "id": "PPVGEoEFvc13"
      },
      "source": [
        "# 6. 함수\n",
        "\n",
        "함수를 정의하면 코드가 깔끔해지고 관리하기 쉬워집니다."
      ]
    },
    {
      "cell_type": "markdown",
      "metadata": {
        "id": "Ep_DFg5wvuqC"
      },
      "source": [
        "## 15596. 정수 N개의 합"
      ]
    },
    {
      "cell_type": "markdown",
      "metadata": {
        "id": "53nVEGoCv00d"
      },
      "source": [
        "### 문제\n",
        "    정수 n개가 주어졌을 때, n개의 합을 구하는 함수를 작성하시오.\n",
        "    \n",
        "    작성해야 하는 함수는 다음과 같다.\n",
        "    \n",
        "    C, C11, C (Clang), C11 (Clang): long long sum(int *a, int n);\n",
        "    a: 합을 구해야 하는 정수 n개가 저장되어 있는 배열 (0 ≤ a[i] ≤ 1,000,000, 1 ≤ n ≤ 3,000,000)\n",
        "    n: 합을 구해야 하는 정수의 개수\n",
        "    리턴값: a에 포함되어 있는 정수 n개의 합\n",
        "    \n",
        "    C++, C++11, C++14, C++17, C++ (Clang), C++11 (Clang), C++14 (Clang), C++17 (Clang): long long sum(std::vector<int> &a);\n",
        "    a: 합을 구해야 하는 정수 n개가 저장되어 있는 배열 (0 ≤ a[i] ≤ 1,000,000, 1 ≤ n ≤ 3,000,000)\n",
        "    리턴값: a에 포함되어 있는 정수 n개의 합\n",
        "    \n",
        "    Python 2, Python 3, PyPy, PyPy3: def solve(a: list) -> int\n",
        "    a: 합을 구해야 하는 정수 n개가 저장되어 있는 리스트 (0 ≤ a[i] ≤ 1,000,000, 1 ≤ n ≤ 3,000,000)\n",
        "    리턴값: a에 포함되어 있는 정수 n개의 합 (정수)\n",
        "    \n",
        "    Java: long sum(int[] a); (클래스 이름: Test)\n",
        "    a: 합을 구해야 하는 정수 n개가 저장되어 있는 배열 (0 ≤ a[i] ≤ 1,000,000, 1 ≤ n ≤ 3,000,000)\n",
        "    리턴값: a에 포함되어 있는 정수 n개의 합\n",
        "    \n",
        "    Go: sum(a []int) int\n",
        "    a: 합을 구해야 하는 정수 n개가 저장되어 있는 배열 (0 ≤ a[i] ≤ 1,000,000, 1 ≤ n ≤ 3,000,000)\n",
        "    리턴값: a에 포함되어 있는 정수 n개의 합"
      ]
    },
    {
      "cell_type": "markdown",
      "metadata": {
        "id": "ZOqzHTbhId6j"
      },
      "source": [
        "### Code"
      ]
    },
    {
      "cell_type": "code",
      "metadata": {
        "id": "WuYtwHGQwD2W"
      },
      "source": [
        "def solve(a):\n",
        "    return sum(a)"
      ],
      "execution_count": null,
      "outputs": []
    },
    {
      "cell_type": "markdown",
      "metadata": {
        "id": "1vz5TD3jIfgl"
      },
      "source": [
        "## 4673. 셀프 넘버"
      ]
    },
    {
      "cell_type": "markdown",
      "metadata": {
        "id": "OWAGE3bKImsn"
      },
      "source": [
        "### 문제\n",
        "    셀프 넘버는 1949년 인도 수학자 D.R. Kaprekar가 이름 붙였다. 양의 정수 n에 대해서 d(n)을 n과 n의 각 자리수를 더하는 함수라고 정의하자. 예를 들어, d(75) = 75+7+5 = 87이다.\n",
        "    \n",
        "    양의 정수 n이 주어졌을 때, 이 수를 시작해서 n, d(n), d(d(n)), d(d(d(n))), ...과 같은 무한 수열을 만들 수 있다. \n",
        "    \n",
        "    예를 들어, 33으로 시작한다면 다음 수는 33 + 3 + 3 = 39이고, 그 다음 수는 39 + 3 + 9 = 51, 다음 수는 51 + 5 + 1 = 57이다. 이런식으로 다음과 같은 수열을 만들 수 있다.\n",
        "    \n",
        "    33, 39, 51, 57, 69, 84, 96, 111, 114, 120, 123, 129, 141, ...\n",
        "    \n",
        "    n을 d(n)의 생성자라고 한다. 위의 수열에서 33은 39의 생성자이고, 39는 51의 생성자, 51은 57의 생성자이다. 생성자가 한 개보다 많은 경우도 있다. 예를 들어, 101은 생성자가 2개(91과 100) 있다. \n",
        "    \n",
        "    생성자가 없는 숫자를 셀프 넘버라고 한다. 100보다 작은 셀프 넘버는 총 13개가 있다. 1, 3, 5, 7, 9, 20, 31, 42, 53, 64, 75, 86, 97\n",
        "    \n",
        "    10000보다 작거나 같은 셀프 넘버를 한 줄에 하나씩 출력하는 프로그램을 작성하시오.\n",
        "\n",
        "### 입력\n",
        "    입력은 없다.\n",
        "\n",
        "### 출력\n",
        "    10,000보다 작거나 같은 셀프 넘버를 한 줄에 하나씩 증가하는 순서로 출력한다.\n",
        "\n",
        "### 예제 출력 1 \n",
        "    1\n",
        "    3\n",
        "    5\n",
        "    7\n",
        "    9\n",
        "    20\n",
        "    31\n",
        "    42\n",
        "    53\n",
        "    64\n",
        "     |\n",
        "     |       <-- a lot more numbers\n",
        "     |\n",
        "    9903\n",
        "    9914\n",
        "    9925\n",
        "    9927\n",
        "    9938\n",
        "    9949\n",
        "    9960\n",
        "    9971\n",
        "    9982\n",
        "    9993"
      ]
    },
    {
      "cell_type": "markdown",
      "metadata": {
        "id": "vQPbPlxaJCpX"
      },
      "source": [
        "### Code"
      ]
    },
    {
      "cell_type": "markdown",
      "metadata": {
        "id": "3A1EMO8xRQKH"
      },
      "source": [
        "#### 1st try. 시간초과\n",
        "\n",
        "오답인거같음..."
      ]
    },
    {
      "cell_type": "code",
      "metadata": {
        "id": "qgRDbWEoJEAW"
      },
      "source": [
        "def getSelfNumber(num, numList=[]):\n",
        "  selfNumber = num + (num // 10) + (num % 10)\n",
        "  if selfNumber <= 10000:\n",
        "    numList.append(selfNumber)\n",
        "    return getSelfNumber(selfNumber, numList)\n",
        "  else:\n",
        "    return numList\n",
        "\n",
        "targetList = [i for i in range(1, 10001)]\n",
        "selfNumList = set()\n",
        "\n",
        "for i in range(1, 10001):\n",
        "  selfNumList.update(getSelfNumber(i))\n",
        "\n",
        "result = sorted(list(set(targetList) - selfNumList))\n",
        "\n",
        "for j in result:\n",
        "  print(j)"
      ],
      "execution_count": null,
      "outputs": []
    },
    {
      "cell_type": "markdown",
      "metadata": {
        "id": "J1gLXSQpRO0R"
      },
      "source": [
        "#### 2nd try"
      ]
    },
    {
      "cell_type": "code",
      "metadata": {
        "id": "9G4Wv_h4Rb_O"
      },
      "source": [
        "def showSelfNumbers(selfNumList=[]):\n",
        "  \n",
        "  maxValue = 10000\n",
        "\n",
        "  if selfNumList == []:\n",
        "    selfNumList = [i for i in range(1, maxValue+1)]\n",
        "\n",
        "  def generateNumber(number):\n",
        "    digits = [ int(i) for i in list(str(number)) ]\n",
        "    return number + sum(digits)\n",
        "  \n",
        "  while(selfNumList != []):\n",
        "    number = selfNumList[0]\n",
        "    print(number)\n",
        "    selfNumList.remove(number)\n",
        "\n",
        "    generatedNumber = generateNumber(number)\n",
        "    while(generatedNumber <= maxValue):\n",
        "      if generatedNumber in selfNumList:\n",
        "        selfNumList.remove(generatedNumber)\n",
        "      else:\n",
        "        break\n",
        "      generatedNumber = generateNumber(generatedNumber)\n",
        "\n",
        "showSelfNumbers()"
      ],
      "execution_count": null,
      "outputs": []
    },
    {
      "cell_type": "markdown",
      "metadata": {
        "id": "Y5JPmbLTm3Xj"
      },
      "source": [
        "## 1065. 한수"
      ]
    },
    {
      "cell_type": "markdown",
      "metadata": {
        "id": "O5KjFc2rm6qT"
      },
      "source": [
        "### 문제\n",
        "    어떤 양의 정수 X의 각 자리가 등차수열을 이룬다면, 그 수를 한수라고 한다. 등차수열은 연속된 두 개의 수의 차이가 일정한 수열을 말한다. N이 주어졌을 때, 1보다 크거나 같고, N보다 작거나 같은 한수의 개수를 출력하는 프로그램을 작성하시오. \n",
        "\n",
        "### 입력\n",
        "    첫째 줄에 1,000보다 작거나 같은 자연수 N이 주어진다.\n",
        "\n",
        "### 출력\n",
        "    첫째 줄에 1보다 크거나 같고, N보다 작거나 같은 한수의 개수를 출력한다.\n",
        "\n",
        "### 예제 입력 1 \n",
        "    110\n",
        "### 예제 출력 1 \n",
        "    99\n",
        "### 예제 입력 2 \n",
        "    1\n",
        "### 예제 출력 2 \n",
        "    1\n",
        "### 예제 입력 3 \n",
        "    210\n",
        "### 예제 출력 3 \n",
        "    105\n",
        "### 예제 입력 4 \n",
        "    1000\n",
        "### 예제 출력 4 \n",
        "    144"
      ]
    },
    {
      "cell_type": "markdown",
      "metadata": {
        "id": "bHiNoD1LnE4j"
      },
      "source": [
        "### Code"
      ]
    },
    {
      "cell_type": "code",
      "metadata": {
        "id": "_EkLxDo9nG5j"
      },
      "source": [
        "# I don't know what means hansu in english..\n",
        "def getAllHansu(maxRange):\n",
        "  cnt = 0\n",
        "  for i in range(1, maxRange+1):\n",
        "    digits = [ int(d) for d in list(str(i)) ]\n",
        "    if len(digits) <= 2:\n",
        "      cnt += 1\n",
        "    else:\n",
        "      apList = []\n",
        "      for j in range(len(digits)-1):\n",
        "        apList.append(digits[j] - digits[j+1])\n",
        "      for k in range(len(apList)-1):\n",
        "        if apList[k] == apList[k+1]:\n",
        "          continue\n",
        "        else:\n",
        "          break\n",
        "      else:\n",
        "        cnt += 1\n",
        "  print(cnt)\n",
        "\n",
        "\n",
        "getAllHansu(int(input()))"
      ],
      "execution_count": null,
      "outputs": []
    },
    {
      "cell_type": "markdown",
      "metadata": {
        "id": "_OMhNzy5xNYB"
      },
      "source": [
        "# 7. 문자열\n",
        "\n",
        "문자열을 다루는 문제들을 해결해 봅시다."
      ]
    },
    {
      "cell_type": "markdown",
      "metadata": {
        "id": "KDX4JEjvxTWB"
      },
      "source": [
        "## 11654. 아스키 코드"
      ]
    },
    {
      "cell_type": "markdown",
      "metadata": {
        "id": "dX0dZ3h9xYWo"
      },
      "source": [
        "### 문제\n",
        "    알파벳 소문자, 대문자, 숫자 0-9중 하나가 주어졌을 때, 주어진 글자의 아스키 코드값을 출력하는 프로그램을 작성하시오.\n",
        "\n",
        "### 입력\n",
        "    알파벳 소문자, 대문자, 숫자 0-9 중 하나가 첫째 줄에 주어진다.\n",
        "\n",
        "### 출력\n",
        "    입력으로 주어진 글자의 아스키 코드 값을 출력한다.\n",
        "\n",
        "### 예제 입력 1 \n",
        "    A\n",
        "### 예제 출력 1 \n",
        "    65\n",
        "### 예제 입력 2 \n",
        "    C\n",
        "### 예제 출력 2 \n",
        "    67\n",
        "### 예제 입력 3 \n",
        "    0\n",
        "### 예제 출력 3 \n",
        "    48\n",
        "### 예제 입력 4 \n",
        "    9\n",
        "### 예제 출력 4 \n",
        "    57\n",
        "### 예제 입력 5 \n",
        "    a\n",
        "### 예제 출력 5 \n",
        "    97\n",
        "### 예제 입력 6 \n",
        "    z\n",
        "### 예제 출력 6 \n",
        "    122"
      ]
    },
    {
      "cell_type": "markdown",
      "metadata": {
        "id": "bFYztntfxk28"
      },
      "source": [
        "### Code"
      ]
    },
    {
      "cell_type": "code",
      "metadata": {
        "id": "P-CVaIaaxlwD"
      },
      "source": [
        "userInput = ord(input())\n",
        "print(userInput)"
      ],
      "execution_count": null,
      "outputs": []
    },
    {
      "cell_type": "markdown",
      "metadata": {
        "id": "ELdpgqjCyUqA"
      },
      "source": [
        "## 11720. 숫자의 합"
      ]
    },
    {
      "cell_type": "markdown",
      "metadata": {
        "id": "40mn7pRAyZ9w"
      },
      "source": [
        "### 문제\n",
        "    N개의 숫자가 공백 없이 쓰여있다. 이 숫자를 모두 합해서 출력하는 프로그램을 작성하시오.\n",
        "\n",
        "### 입력\n",
        "    첫째 줄에 숫자의 개수 N (1 ≤ N ≤ 100)이 주어진다. 둘째 줄에 숫자 N개가 공백없이 주어진다.\n",
        "\n",
        "### 출력\n",
        "    입력으로 주어진 숫자 N개의 합을 출력한다.\n",
        "\n",
        "### 예제 입력 1 \n",
        "    1\n",
        "    1\n",
        "### 예제 출력 1 \n",
        "    1\n",
        "### 예제 입력 2 \n",
        "    5\n",
        "    54321\n",
        "### 예제 출력 2 \n",
        "    15\n",
        "### 예제 입력 3 \n",
        "    25\n",
        "    7000000000000000000000000\n",
        "### 예제 출력 3 \n",
        "    7\n",
        "### 예제 입력 4 \n",
        "    11\n",
        "    10987654321\n",
        "### 예제 출력 4 \n",
        "    46"
      ]
    },
    {
      "cell_type": "markdown",
      "metadata": {
        "id": "gJs0vHSzyeIo"
      },
      "source": [
        "### Code"
      ]
    },
    {
      "cell_type": "code",
      "metadata": {
        "id": "d64BIIVoyfZp"
      },
      "source": [
        "numDigit = int(input())\n",
        "digitList = [int(i) for i in list(input())]\n",
        "\n",
        "print(sum(digitList))"
      ],
      "execution_count": null,
      "outputs": []
    },
    {
      "cell_type": "markdown",
      "metadata": {
        "id": "e4o8lxje0pWH"
      },
      "source": [
        "## 10809. 알파벳 찾기"
      ]
    },
    {
      "cell_type": "markdown",
      "metadata": {
        "id": "PhuJxNk10wzh"
      },
      "source": [
        "### 문제\n",
        "    알파벳 소문자로만 이루어진 단어 S가 주어진다. 각각의 알파벳에 대해서, 단어에 포함되어 있는 경우에는 처음 등장하는 위치를, 포함되어 있지 않은 경우에는 -1을 출력하는 프로그램을 작성하시오.\n",
        "\n",
        "### 입력\n",
        "    첫째 줄에 단어 S가 주어진다. 단어의 길이는 100을 넘지 않으며, 알파벳 소문자로만 이루어져 있다.\n",
        "\n",
        "### 출력\n",
        "    각각의 알파벳에 대해서, a가 처음 등장하는 위치, b가 처음 등장하는 위치, ... z가 처음 등장하는 위치를 공백으로 구분해서 출력한다.\n",
        "    \n",
        "    만약, 어떤 알파벳이 단어에 포함되어 있지 않다면 -1을 출력한다. 단어의 첫 번째 글자는 0번째 위치이고, 두 번째 글자는 1번째 위치이다.\n",
        "\n",
        "### 예제 입력 1 \n",
        "    baekjoon\n",
        "### 예제 출력 1 \n",
        "    1 0 -1 -1 2 -1 -1 -1 -1 4 3 -1 -1 7 5 -1 -1 -1 -1 -1 -1 -1 -1 -1 -1 -1"
      ]
    },
    {
      "cell_type": "markdown",
      "metadata": {
        "id": "0a3RTVft09yy"
      },
      "source": [
        "### Code"
      ]
    },
    {
      "cell_type": "code",
      "metadata": {
        "id": "5XGw4UNk1AOr"
      },
      "source": [
        "S = input()\n",
        "alphabetList = { i:-1 for i in list('abcdefghijklmnopqrstuvwxyz') }\n",
        "\n",
        "for alphabet in S:\n",
        "  if alphabetList[alphabet] == -1:\n",
        "    alphabetList[alphabet] = S.index(alphabet)\n",
        "\n",
        "result = [str(i) for i in alphabetList.values()]\n",
        "print(' '.join(result))"
      ],
      "execution_count": null,
      "outputs": []
    },
    {
      "cell_type": "markdown",
      "metadata": {
        "id": "yAZU9QIk19Yj"
      },
      "source": [
        "## 2675. 문자열 반복"
      ]
    },
    {
      "cell_type": "markdown",
      "metadata": {
        "id": "myJ6wvKv2ASs"
      },
      "source": [
        "### 문제\n",
        "    문자열 S를 입력받은 후에, 각 문자를 R번 반복해 새 문자열 P를 만든 후 출력하는 프로그램을 작성하시오. 즉, 첫 번째 문자를 R번 반복하고, 두 번째 문자를 R번 반복하는 식으로 P를 만들면 된다. S에는 QR Code \"alphanumeric\" 문자만 들어있다.\n",
        "    \n",
        "    QR Code \"alphanumeric\" 문자는 0123456789ABCDEFGHIJKLMNOPQRSTUVWXYZ\\$%*+-./: 이다.\n",
        "\n",
        "### 입력\n",
        "    첫째 줄에 테스트 케이스의 개수 T(1 ≤ T ≤ 1,000)가 주어진다. 각 테스트 케이스는 반복 횟수 R(1 ≤ R ≤ 8), 문자열 S가 공백으로 구분되어 주어진다. S의 길이는 적어도 1이며, 20글자를 넘지 않는다. \n",
        "\n",
        "### 출력\n",
        "    각 테스트 케이스에 대해 P를 출력한다.\n",
        "\n",
        "### 예제 입력 1 \n",
        "    2\n",
        "    3 ABC\n",
        "    5 /HTP\n",
        "### 예제 출력 1 \n",
        "    AAABBBCCC\n",
        "    /////HHHHHTTTTTPPPPP"
      ]
    },
    {
      "cell_type": "markdown",
      "metadata": {
        "id": "Bs4JCuIu2Ic9"
      },
      "source": [
        "### Code"
      ]
    },
    {
      "cell_type": "code",
      "metadata": {
        "id": "GENGe7h-2JVs"
      },
      "source": [
        "T = int(input())\n",
        "\n",
        "for i in range(T):\n",
        "  S = input()\n",
        "  repeatNum, word = S.split()\n",
        "  resultList = str()\n",
        "\n",
        "  for cha in list(word):\n",
        "    resultList += cha * int(repeatNum)\n",
        "\n",
        "  print(''.join(resultList))"
      ],
      "execution_count": null,
      "outputs": []
    },
    {
      "cell_type": "markdown",
      "metadata": {
        "id": "ltW6Etj12Twm"
      },
      "source": [
        "## 1157. 단어 공부"
      ]
    },
    {
      "cell_type": "markdown",
      "metadata": {
        "id": "LERyZVEH2YQW"
      },
      "source": [
        "### 문제\n",
        "    알파벳 대소문자로 된 단어가 주어지면, 이 단어에서 가장 많이 사용된 알파벳이 무엇인지 알아내는 프로그램을 작성하시오. 단, 대문자와 소문자를 구분하지 않는다.\n",
        "\n",
        "### 입력\n",
        "    첫째 줄에 알파벳 대소문자로 이루어진 단어가 주어진다. 주어지는 단어의 길이는 1,000,000을 넘지 않는다.\n",
        "\n",
        "### 출력\n",
        "    첫째 줄에 이 단어에서 가장 많이 사용된 알파벳을 대문자로 출력한다. 단, 가장 많이 사용된 알파벳이 여러 개 존재하는 경우에는 ?를 출력한다.\n",
        "\n",
        "### 예제 입력 1 \n",
        "    Mississipi\n",
        "### 예제 출력 1 \n",
        "    ?\n",
        "### 예제 입력 2 \n",
        "    zZa\n",
        "### 예제 출력 2 \n",
        "    Z\n",
        "### 예제 입력 3 \n",
        "    z\n",
        "### 예제 출력 3 \n",
        "    Z\n",
        "### 예제 입력 4 \n",
        "    baaa\n",
        "### 예제 출력 4 \n",
        "    A"
      ]
    },
    {
      "cell_type": "markdown",
      "metadata": {
        "id": "tHqbMO_Z21tT"
      },
      "source": [
        "### Code"
      ]
    },
    {
      "cell_type": "code",
      "metadata": {
        "id": "OJaVHuve222k"
      },
      "source": [
        "word = input().upper()\n",
        "alphabetDict = { i:0 for i in 'ABCDEFGHIJKLMNOPQRSTUVWXYZ' }\n",
        "\n",
        "for character in word:\n",
        "  alphabetDict[character] += 1\n",
        "\n",
        "maxValue = max(alphabetDict.values())\n",
        "\n",
        "if list(alphabetDict.values()).count(maxValue) > 1:\n",
        "  print('?')\n",
        "else:\n",
        "  print(str([k for k, v in alphabetDict.items() if v == maxValue][0]))"
      ],
      "execution_count": null,
      "outputs": []
    },
    {
      "cell_type": "markdown",
      "metadata": {
        "id": "G-bYMzwj28lb"
      },
      "source": [
        "## 1152. 단어의 개수"
      ]
    },
    {
      "cell_type": "markdown",
      "metadata": {
        "id": "k-jDF-bB3Ejc"
      },
      "source": [
        "### 문제\n",
        "    영어 대소문자와 띄어쓰기만으로 이루어진 문자열이 주어진다. 이 문자열에는 몇 개의 단어가 있을까? 이를 구하는 프로그램을 작성하시오. 단, 한 단어가 여러 번 등장하면 등장한 횟수만큼 모두 세어야 한다.\n",
        "\n",
        "### 입력\n",
        "    첫 줄에 영어 대소문자와 띄어쓰기로 이루어진 문자열이 주어진다. 이 문자열의 길이는 1,000,000을 넘지 않는다. 단어는 띄어쓰기 한 개로 구분되며, 공백이 연속해서 나오는 경우는 없다. 또한 문자열의 앞과 뒤에는 공백이 있을 수도 있다.\n",
        "\n",
        "### 출력\n",
        "    첫째 줄에 단어의 개수를 출력한다.\n",
        "\n",
        "### 예제 입력 1 \n",
        "    The Curious Case of Benjamin Button\n",
        "### 예제 출력 1 \n",
        "    6\n",
        "### 예제 입력 2 \n",
        "    Mazatneunde Wae Teullyeoyo\n",
        "### 예제 출력 2 \n",
        "    3\n",
        "### 예제 입력 3 \n",
        "    Teullinika Teullyeotzi \n",
        "### 예제 출력 3 \n",
        "    2"
      ]
    },
    {
      "cell_type": "markdown",
      "metadata": {
        "id": "dCkldwcf3UfQ"
      },
      "source": [
        "### Code"
      ]
    },
    {
      "cell_type": "code",
      "metadata": {
        "id": "de7sWikj3VjQ"
      },
      "source": [
        "userInput = input()\n",
        "listLength = len(list(filter(('').__ne__, userInput.split(' '))))\n",
        "print(listLength)"
      ],
      "execution_count": null,
      "outputs": []
    },
    {
      "cell_type": "markdown",
      "metadata": {
        "id": "TfeR8hN7Yo2D"
      },
      "source": [
        "## 2908. 상수"
      ]
    },
    {
      "cell_type": "markdown",
      "metadata": {
        "id": "dXuqzhMKYswt"
      },
      "source": [
        "### 문제\n",
        "    상근이의 동생 상수는 수학을 정말 못한다. 상수는 숫자를 읽는데 문제가 있다. 이렇게 수학을 못하는 상수를 위해서 상근이는 수의 크기를 비교하는 문제를 내주었다. 상근이는 세 자리 수 두 개를 칠판에 써주었다. 그 다음에 크기가 큰 수를 말해보라고 했다.\n",
        "\n",
        "    상수는 수를 다른 사람과 다르게 거꾸로 읽는다. 예를 들어, 734와 893을 칠판에 적었다면, 상수는 이 수를 437과 398로 읽는다. 따라서, 상수는 두 수중 큰 수인 437을 큰 수라고 말할 것이다.\n",
        "\n",
        "    두 수가 주어졌을 때, 상수의 대답을 출력하는 프로그램을 작성하시오.\n",
        "\n",
        "### 입력\n",
        "    첫째 줄에 상근이가 칠판에 적은 두 수 A와 B가 주어진다. 두 수는 같지 않은 세 자리 수이며, 0이 포함되어 있지 않다.\n",
        "\n",
        "### 출력\n",
        "    첫째 줄에 상수의 대답을 출력한다.\n",
        "\n",
        "### 예제 입력 1 \n",
        "    734 893\n",
        "### 예제 출력 1 \n",
        "    437"
      ]
    },
    {
      "cell_type": "markdown",
      "metadata": {
        "id": "QB89SW8IY0fX"
      },
      "source": [
        "### Code"
      ]
    },
    {
      "cell_type": "code",
      "metadata": {
        "id": "3RyaqVN4Y1hR"
      },
      "source": [
        "userInput = input().split(' ')\n",
        "\n",
        "for num in userInput:\n",
        "  userInput[userInput.index(num)] = int(num[::-1])\n",
        "\n",
        "print(max(userInput))"
      ],
      "execution_count": null,
      "outputs": []
    },
    {
      "cell_type": "markdown",
      "metadata": {
        "id": "8-_GHyxSNnRD"
      },
      "source": [
        "## 5622. 다이얼"
      ]
    },
    {
      "cell_type": "markdown",
      "metadata": {
        "id": "SKuoxPcfONSE"
      },
      "source": [
        "#### 그림\n",
        "\n",
        "https://onlinejudgeimages.s3-ap-northeast-1.amazonaws.com/upload/images/dial.png"
      ]
    },
    {
      "cell_type": "markdown",
      "metadata": {
        "id": "CIQm0RijNpPn"
      },
      "source": [
        "### 문제\n",
        "    상근이의 할머니는 아래 그림과 같이 오래된 다이얼 전화기를 사용한다.\n",
        "    \n",
        "    전화를 걸고 싶은 번호가 있다면, 숫자를 하나를 누른 다음에 금속 핀이 있는 곳 까지 시계방향으로 돌려야 한다. 숫자를 하나 누르면 다이얼이 처음 위치로 돌아가고, 다음 숫자를 누르려면 다이얼을 처음 위치에서 다시 돌려야 한다.\n",
        "    \n",
        "    숫자 1을 걸려면 총 2초가 필요하다. 1보다 큰 수를 거는데 걸리는 시간은 이보다 더 걸리며, 한 칸 옆에 있는 숫자를 걸기 위해선 1초씩 더 걸린다.\n",
        "    \n",
        "    상근이의 할머니는 전화 번호를 각 숫자에 해당하는 문자로 외운다. 즉, 어떤 단어를 걸 때, 각 알파벳에 해당하는 숫자를 걸면 된다. 예를 들어, UNUCIC는 868242와 같다.\n",
        "    \n",
        "    할머니가 외운 단어가 주어졌을 때, 이 전화를 걸기 위해서 필요한 최소 시간을 구하는 프로그램을 작성하시오.\n",
        "\n",
        "### 입력\n",
        "    첫째 줄에 알파벳 대문자로 이루어진 단어가 주어진다. 단어의 길이는 2보다 크거나 같고, 15보다 작거나 같다.\n",
        "\n",
        "### 출력\n",
        "    첫째 줄에 다이얼을 걸기 위해서 필요한 최소 시간을 출력한다.\n",
        "\n",
        "### 예제 입력 1 \n",
        "    UNUCIC\n",
        "### 예제 출력 1 \n",
        "    36"
      ]
    },
    {
      "cell_type": "markdown",
      "metadata": {
        "id": "zJfdnY7eOXhe"
      },
      "source": [
        "### Code"
      ]
    },
    {
      "cell_type": "code",
      "metadata": {
        "id": "KNPHEPhxOYgK"
      },
      "source": [
        "userInput = list(input())\n",
        "dialList = [list(i) for i in 'ABC DEF GHI JKL MNO PQRS TUV WXYZ'.split()]\n",
        "\n",
        "totalDistance = 0\n",
        "\n",
        "for alphabet in userInput:\n",
        "  dialIndex = 2 + 1\n",
        "  for dial in dialList:\n",
        "    if alphabet in dial:\n",
        "      dialIndex += dialList.index(dial)\n",
        "    else:\n",
        "      continue\n",
        "  totalDistance += dialIndex\n",
        "\n",
        "print(totalDistance)"
      ],
      "execution_count": null,
      "outputs": []
    },
    {
      "cell_type": "markdown",
      "metadata": {
        "id": "XjzZUUecYPDt"
      },
      "source": [
        "## 2941. 크로아티아 알파벳"
      ]
    },
    {
      "cell_type": "markdown",
      "metadata": {
        "id": "eVW09yyIYRbJ"
      },
      "source": [
        "### 문제\n",
        "    예전에는 운영체제에서 크로아티아 알파벳을 입력할 수가 없었다. 따라서, 다음과 같이 크로아티아 알파벳을 변경해서 입력했다.\n",
        "    \n",
        "    크로아티아 알파벳\t>\t변경\n",
        "    č\t>\tc=\n",
        "    ć\t>\tc-\n",
        "    dž\t>\tdz=\n",
        "    đ\t>\td-\n",
        "    lj\t>\tlj\n",
        "    nj\t>\tnj\n",
        "    š\t>\ts=\n",
        "    ž\t>\tz=\n",
        "    \n",
        "    예를 들어, ljes=njak은 크로아티아 알파벳 6개(lj, e, š, nj, a, k)로 이루어져 있다. 단어가 주어졌을 때, 몇 개의 크로아티아 알파벳으로 이루어져 있는지 출력한다.\n",
        "    \n",
        "    dž는 무조건 하나의 알파벳으로 쓰이고, d와 ž가 분리된 것으로 보지 않는다. lj와 nj도 마찬가지이다. 위 목록에 없는 알파벳은 한 글자씩 센다.\n",
        "\n",
        "### 입력\n",
        "    첫째 줄에 최대 100글자의 단어가 주어진다. 알파벳 소문자와 '-', '='로만 이루어져 있다.\n",
        "    \n",
        "    단어는 크로아티아 알파벳으로 이루어져 있다. 문제 설명의 표에 나와있는 알파벳은 변경된 형태로 입력된다.\n",
        "\n",
        "### 출력\n",
        "    입력으로 주어진 단어가 몇 개의 크로아티아 알파벳으로 이루어져 있는지 출력한다.\n",
        "\n",
        "### 예제 입력 1 \n",
        "    ljes=njak\n",
        "### 예제 출력 1 \n",
        "    6\n",
        "### 예제 입력 2 \n",
        "    ddz=z=\n",
        "### 예제 출력 2 \n",
        "    3\n",
        "### 예제 입력 3 \n",
        "    nljj\n",
        "### 예제 출력 3 \n",
        "    3\n",
        "### 예제 입력 4 \n",
        "    c=c=\n",
        "### 예제 출력 4 \n",
        "    2"
      ]
    },
    {
      "cell_type": "markdown",
      "metadata": {
        "id": "dv7Pmjp7b45v"
      },
      "source": [
        "### Code"
      ]
    },
    {
      "cell_type": "markdown",
      "metadata": {
        "id": "dPfqmM08soOU"
      },
      "source": [
        "#### 1st try (**틀림**)"
      ]
    },
    {
      "cell_type": "code",
      "metadata": {
        "id": "1Uhbe5zmb56k"
      },
      "source": [
        "userInput = input()\n",
        "rWord = list(userInput[::-1])\n",
        "\n",
        "croatianList = ['c=', 'c-', 'dz=', 'd-', 'lj', 'nj', 's=', 'z=']\n",
        "numAlphabet = 0\n",
        "\n",
        "for chr in rWord:\n",
        "  isLast = rWord.index(chr) < len(rWord)-1\n",
        "  if isLast:\n",
        "    nextChr = rWord[rWord.index(chr)+1]\n",
        "  else:\n",
        "    nextChr = None\n",
        "    \n",
        "  if chr in ['=', '-', 'j'] and nextChr+chr in croatianList and isLast:\n",
        "    if \n",
        "    rWord.remove(nextChr)\n",
        "  else: pass\n",
        "\n",
        "  rWord.remove(chr)\n",
        "  numAlphabet += 1\n",
        "\n",
        "print(numAlphabet)"
      ],
      "execution_count": null,
      "outputs": []
    },
    {
      "cell_type": "markdown",
      "metadata": {
        "id": "ZYGFLe2osvI3"
      },
      "source": [
        "#### 2nd try"
      ]
    },
    {
      "cell_type": "code",
      "metadata": {
        "id": "5yYvqndasz5e"
      },
      "source": [
        "userInput = input()\n",
        "word = list(userInput)\n",
        "\n",
        "croatianList = ['c=', 'c-', 'dz=', 'd-', 'lj', 'nj', 's=', 'z='] # 'dz=' is a invalid argument but existing for understanding\n",
        "numCroatian = 0\n",
        "\n",
        "while word:\n",
        "  remaining = len(word)\n",
        "  if remaining == 1:\n",
        "    numCroatian += 1\n",
        "    del word\n",
        "    break\n",
        "  elif remaining == 2:\n",
        "    wordToCheck = ''.join(word[0:2])\n",
        "    if wordToCheck in croatianList:\n",
        "      del word[0:2]\n",
        "    else:\n",
        "      del word[0]\n",
        "    numCroatian += 1\n",
        "  else:\n",
        "    wordToCheck = ''.join(word[0:2])\n",
        "    if ''.join(word[0:3]) == 'dz=':\n",
        "      del word[0:3]\n",
        "    elif wordToCheck in croatianList:\n",
        "      del word[0:2]\n",
        "    else:\n",
        "      del word[0]\n",
        "    numCroatian += 1\n",
        "    \n",
        "print(numCroatian)"
      ],
      "execution_count": null,
      "outputs": []
    },
    {
      "cell_type": "markdown",
      "metadata": {
        "id": "CarpV3bD-PEE"
      },
      "source": [
        "## 1316. 그룹 단어 체커"
      ]
    },
    {
      "cell_type": "markdown",
      "metadata": {
        "id": "gVqiRSX8-R80"
      },
      "source": [
        "### 문제\n",
        "    그룹 단어란 단어에 존재하는 모든 문자에 대해서, 각 문자가 연속해서 나타나는 경우만을 말한다. 예를 들면, ccazzzzbb는 c, a, z, b가 모두 연속해서 나타나고, kin도 k, i, n이 연속해서 나타나기 때문에 그룹 단어이지만, aabbbccb는 b가 떨어져서 나타나기 때문에 그룹 단어가 아니다.\n",
        "\n",
        "    단어 N개를 입력으로 받아 그룹 단어의 개수를 출력하는 프로그램을 작성하시오.\n",
        "\n",
        "### 입력\n",
        "    첫째 줄에 단어의 개수 N이 들어온다. N은 100보다 작거나 같은 자연수이다. 둘째 줄부터 N개의 줄에 단어가 들어온다. 단어는 알파벳 소문자로만 되어있고 중복되지 않으며, 길이는 최대 100이다.\n",
        "\n",
        "### 출력\n",
        "    첫째 줄에 그룹 단어의 개수를 출력한다.\n",
        "\n",
        "### 예제 입력 1 \n",
        "    3\n",
        "    happy\n",
        "    new\n",
        "    year\n",
        "### 예제 출력 1 \n",
        "    3\n",
        "### 예제 입력 2 \n",
        "    4\n",
        "    aba\n",
        "    abab\n",
        "    abcabc\n",
        "    a\n",
        "### 예제 출력 2 \n",
        "    1"
      ]
    },
    {
      "cell_type": "markdown",
      "metadata": {
        "id": "h041ZQTO-dO6"
      },
      "source": [
        "### Code"
      ]
    },
    {
      "cell_type": "code",
      "metadata": {
        "id": "b0C8zZQ6-iIp"
      },
      "source": [
        "repeatNum = int(input())\n",
        "numGroupWord = 0\n",
        "\n",
        "for i in range(repeatNum):\n",
        "  wordToCheck = input()\n",
        "  charList = list(wordToCheck)\n",
        "  charDict = {char:0 for char in charList}\n",
        "  for char in charList:\n",
        "    charDict[char] += 1\n",
        "  while charList:\n",
        "    firstChar = charList[0]\n",
        "    charValue = charDict[firstChar]\n",
        "    if ''.join(charList[0:charValue]) == firstChar*charValue:\n",
        "      del charList[0:charValue]\n",
        "    else:\n",
        "      break\n",
        "  else:\n",
        "    numGroupWord += 1\n",
        "\n",
        "print(numGroupWord)"
      ],
      "execution_count": null,
      "outputs": []
    },
    {
      "cell_type": "markdown",
      "metadata": {
        "id": "WwcUKxgYs7jU"
      },
      "source": [
        "# 8. 기본 수학 1\n",
        "\n",
        "수학 문제로 수학적 사고력을 길러 봅시다."
      ]
    },
    {
      "cell_type": "markdown",
      "metadata": {
        "id": "yUonrC75tOvV"
      },
      "source": [
        "## 1712. 손익분기점"
      ]
    },
    {
      "cell_type": "markdown",
      "metadata": {
        "id": "qnVRwIektUFY"
      },
      "source": [
        "### 문제\n",
        "    월드전자는 노트북을 제조하고 판매하는 회사이다. 노트북 판매 대수에 상관없이 매년 임대료, 재산세, 보험료, 급여 등 A만원의 고정 비용이 들며, 한 대의 노트북을 생산하는 데에는 재료비와 인건비 등 총 B만원의 가변 비용이 든다고 한다.\n",
        "\n",
        "    예를 들어 A=1,000, B=70이라고 하자. 이 경우 노트북을 한 대 생산하는 데는 총 1,070만원이 들며, 열 대 생산하는 데는 총 1,700만원이 든다.\n",
        "\n",
        "    노트북 가격이 C만원으로 책정되었다고 한다. 일반적으로 생산 대수를 늘려 가다 보면 어느 순간 총 수입(판매비용)이 총 비용(=고정비용+가변비용)보다 많아지게 된다. 최초로 총 수입이 총 비용보다 많아져 이익이 발생하는 지점을 손익분기점(BREAK-EVEN POINT)이라고 한다.\n",
        "\n",
        "    A, B, C가 주어졌을 때, 손익분기점을 구하는 프로그램을 작성하시오.\n",
        "\n",
        "### 입력\n",
        "    첫째 줄에 A, B, C가 빈 칸을 사이에 두고 순서대로 주어진다. A, B, C는 21억 이하의 자연수이다.\n",
        "\n",
        "### 출력\n",
        "    첫 번째 줄에 손익분기점 즉 최초로 이익이 발생하는 판매량을 출력한다. 손익분기점이 존재하지 않으면 -1을 출력한다.\n",
        "\n",
        "### 예제 입력 1 \n",
        "    1000 70 170\n",
        "### 예제 출력 1 \n",
        "    11\n",
        "### 예제 입력 2 \n",
        "    3 2 1\n",
        "### 예제 출력 2 \n",
        "    -1\n",
        "### 노트\n",
        "    이 문제에서 설명하는 손익분기점은 회계학에서 정의하는 손익분기점과 다를 수 있다."
      ]
    },
    {
      "cell_type": "markdown",
      "metadata": {
        "id": "YUs2xUfXtyx4"
      },
      "source": [
        "### Code"
      ]
    },
    {
      "cell_type": "markdown",
      "metadata": {
        "id": "6IU5Iouzweja"
      },
      "source": [
        "#### 1st try\n",
        "\n",
        "시간초과"
      ]
    },
    {
      "cell_type": "code",
      "metadata": {
        "id": "bA9EpBiOtzsC"
      },
      "source": [
        "A, B, C = [int(i) for i in input().split(' ')]\n",
        "numSales = 1\n",
        "\n",
        "if B < C:\n",
        "  while A+(B*numSales) >= C*numSales:\n",
        "    numSales += 1\n",
        "else:\n",
        "  numSales = -1\n",
        "\n",
        "print(numSales)"
      ],
      "execution_count": null,
      "outputs": []
    },
    {
      "cell_type": "markdown",
      "metadata": {
        "id": "MDvKPlQFwhLo"
      },
      "source": [
        "#### 2nd Try"
      ]
    },
    {
      "cell_type": "code",
      "metadata": {
        "id": "r-n9RD12wi6B"
      },
      "source": [
        "A, B, C = [int(i) for i in input().split(' ')]\n",
        "\n",
        "if B < C:\n",
        "  numSales = A//(C-B)+1\n",
        "  print(numSales)\n",
        "else:\n",
        "  print(-1)"
      ],
      "execution_count": null,
      "outputs": []
    },
    {
      "cell_type": "markdown",
      "metadata": {
        "id": "0NPWiZOLh237"
      },
      "source": [
        "## 2292. 벌집"
      ]
    },
    {
      "cell_type": "markdown",
      "metadata": {
        "id": "HbubC5SGh7-3"
      },
      "source": [
        "#### 그림\n",
        "\n",
        "https://www.acmicpc.net/JudgeOnline/upload/201009/3(2).png"
      ]
    },
    {
      "cell_type": "markdown",
      "metadata": {
        "id": "oSZYbn1nh5V4"
      },
      "source": [
        "### 문제\n",
        "    위의 그림과 같이 육각형으로 이루어진 벌집이 있다. 그림에서 보는 바와 같이 중앙의 방 1부터 시작해서 이웃하는 방에 돌아가면서 1씩 증가하는 번호를 주소로 매길 수 있다. 숫자 N이 주어졌을 때, 벌집의 중앙 1에서 N번 방까지 최소 개수의 방을 지나서 갈 때 몇 개의 방을 지나가는지(시작과 끝을 포함하여)를 계산하는 프로그램을 작성하시오. 예를 들면, 13까지는 3개, 58까지는 5개를 지난다.\n",
        "\n",
        "### 입력\n",
        "    첫째 줄에 N(1 ≤ N ≤ 1,000,000,000)이 주어진다.\n",
        "\n",
        "### 출력\n",
        "    입력으로 주어진 방까지 최소 개수의 방을 지나서 갈 때 몇 개의 방을 지나는지 출력한다.\n",
        "\n",
        "### 예제 입력 1 \n",
        "    13\n",
        "### 예제 출력 1 \n",
        "    3"
      ]
    },
    {
      "cell_type": "markdown",
      "metadata": {
        "id": "e8tnn8QwiPRp"
      },
      "source": [
        "### Code"
      ]
    },
    {
      "cell_type": "markdown",
      "metadata": {
        "id": "ajcZV3itIFed"
      },
      "source": [
        "#### 1st try\n",
        "\n",
        "오답. 채점 중간에 틀림"
      ]
    },
    {
      "cell_type": "code",
      "metadata": {
        "id": "x5mx_7GviQnF"
      },
      "source": [
        "number = int(input())-1\n",
        "step = 1\n",
        "\n",
        "while number >= (6*step):\n",
        "  number -= (6*step)\n",
        "  step += 1\n",
        "else:\n",
        "  step += 1\n",
        "\n",
        "print(step)"
      ],
      "execution_count": null,
      "outputs": []
    },
    {
      "cell_type": "markdown",
      "metadata": {
        "id": "2FncPP_uII1l"
      },
      "source": [
        "#### 2nd try"
      ]
    },
    {
      "cell_type": "code",
      "metadata": {
        "id": "6ecXQ-uSIVeY"
      },
      "source": [
        "number = int(input())-1\n",
        "layer = 1\n",
        "\n",
        "while number > 0:\n",
        "  number -= layer*6\n",
        "  layer += 1\n",
        "\n",
        "print(layer)"
      ],
      "execution_count": null,
      "outputs": []
    },
    {
      "cell_type": "markdown",
      "metadata": {
        "id": "-nx89zUXJLHT"
      },
      "source": [
        "## 1193. 분수찾기"
      ]
    },
    {
      "cell_type": "markdown",
      "metadata": {
        "id": "gY_9zDBvJN2S"
      },
      "source": [
        "### 문제\n",
        "    무한히 큰 배열에 다음과 같이 분수들이 적혀있다.\n",
        "\n",
        "1/1\t1/2\t1/3\t1/4\t1/5\t…\n",
        "2/1\t2/2\t2/3\t2/4\t…\t…\n",
        "3/1\t3/2\t3/3\t…\t…\t…\n",
        "4/1\t4/2\t…\t…\t…\t…\n",
        "5/1\t…\t…\t…\t…\t…\n",
        "…\t…\t…\t…\t…\t…\n",
        "\n",
        "    이와 같이 나열된 분수들을 1/1 -> 1/2 -> 2/1 -> 3/1 -> 2/2 -> … 과 같은 지그재그 순서로 차례대로 1번, 2번, 3번, 4번, 5번, … 분수라고 하자.\n",
        "\n",
        "    X가 주어졌을 때, X번째 분수를 구하는 프로그램을 작성하시오.\n",
        "\n",
        "### 입력\n",
        "    첫째 줄에 X(1 ≤ X ≤ 10,000,000)가 주어진다.\n",
        "\n",
        "### 출력\n",
        "    첫째 줄에 분수를 출력한다.\n",
        "\n",
        "### 예제 입력 1 \n",
        "    14\n",
        "### 예제 출력 1 \n",
        "    2/4"
      ]
    },
    {
      "cell_type": "markdown",
      "metadata": {
        "id": "wkiGe0VcJWa8"
      },
      "source": [
        "### Code"
      ]
    },
    {
      "cell_type": "code",
      "metadata": {
        "id": "QOcPp46GJXeM"
      },
      "source": [
        "number = int(input())\n",
        "x = y = layer = 1\n",
        "\n",
        "while layer < number:\n",
        "  number -= layer\n",
        "  layer += 1\n",
        "\n",
        "if layer%2 == 1:\n",
        "  x, y = layer, 1\n",
        "  x -= (number-1)\n",
        "  y += (number-1)\n",
        "else:\n",
        "  x, y = 1, layer\n",
        "  x += (number-1)\n",
        "  y -= (number-1)\n",
        "  \n",
        "print(f'{x}/{y}')"
      ],
      "execution_count": null,
      "outputs": []
    }
  ]
}