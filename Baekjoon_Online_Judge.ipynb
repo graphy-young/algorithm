{
  "nbformat": 4,
  "nbformat_minor": 0,
  "metadata": {
    "colab": {
      "name": "Copy of Baekjoon Online Judge.ipynb",
      "provenance": [],
      "collapsed_sections": [
        "43kRMmvtearb",
        "TaEKhBEOe8cq",
        "JCUzTzBfearc",
        "2QJJW6EAfBBr",
        "nCvxUslQeard",
        "u5TK3Xvqeare",
        "gr_ZEAcieare",
        "ZjVQQonMeare",
        "yICfLdiRearf",
        "4-QUwz2Bearf",
        "D1dmQ3tEearf",
        "XlLmcr03earg",
        "VqLY_AMsearg",
        "6abwrAlCYbVk",
        "ewXH2UmKYbVu",
        "vqq4IjVXYbVx",
        "bICxp7fJYbVy",
        "oDlDOtycYbV0",
        "B9d7ru0ZYfIZ",
        "H3JclujzfekW",
        "QExAhuSu9HDR",
        "DRJr-E7t9cmO",
        "J72le2r3tfS3",
        "1MYZZn8juXbz",
        "LSxcviJhAx4R",
        "ccbKoxrYtidX",
        "NABSioYrucFD",
        "2Ud6VkEksVqV",
        "NKWAZxa_tmOR",
        "7QLsdnacuft1",
        "CY7FFGtlskLt",
        "L37o_Og-tWZp",
        "sERT0afqumN0",
        "me3zFONXtL0L",
        "L8ESCcj6tv8Q",
        "zjbhcTpbt6fc",
        "c6aq3ZkruvP2",
        "4wSW0Zm5uzMj",
        "1Yo62AtVu9zk",
        "-zAQCQIGvD6D",
        "cAnnewAXvJJ7",
        "9gqJ_-6DvXwl",
        "su-bz0kCvf-x",
        "b34w_gYTvpWJ",
        "HxRV0r9SwW-g",
        "ztSxShNiwbCq",
        "WN9kKSkBwf6a",
        "p-Rd7AE8wvLR",
        "SC1bldelwykD",
        "92PZf1QUw8AE",
        "tAbkVuUxxG0T",
        "r9yzCr40xQM9",
        "ivHZmK-DxXR4",
        "9QScuoV4xgKQ",
        "PvdeqBdb1Iod",
        "uOC0uK3A1UZu",
        "vtkpr_-c1Y3V",
        "ITdkrEcX1bbW",
        "NUbiGawR92qv",
        "nAbTk7dH96Sz",
        "sY6htPjN-EYY",
        "ugA_wKe1UFo4",
        "32tP9rFgUIm4",
        "S4aDFttkUUtX",
        "oF-9SIpItIjk",
        "MvkYgUqctYiy",
        "cIXBJjrUtRDP",
        "5aHf13idtl1k",
        "xVV8gwsVunfH",
        "_ta2Lg-yuqFO",
        "q6UZG6pVu3Y4",
        "XGsvTPwwwjFo",
        "vnYDuwduwlhH",
        "FFw7jJjKwzIe",
        "bi2KLxnfWGqf",
        "SOZRXAR-WI4L",
        "DsFoZ0WOWxSn",
        "Ue_loKmpfzjb",
        "VK1lVYHKf3Uj",
        "ktD7b0yEgW-6",
        "1qtzR_E5l0L8",
        "zhX_BIANl3Gh",
        "Tv6K-5bEmAmY",
        "ILep3fziGEAa",
        "DW54fKWtGGaT",
        "7M2mgdQyGWsh",
        "PPVGEoEFvc13",
        "Ep_DFg5wvuqC",
        "53nVEGoCv00d",
        "ZOqzHTbhId6j",
        "1vz5TD3jIfgl",
        "OWAGE3bKImsn",
        "vQPbPlxaJCpX",
        "3A1EMO8xRQKH",
        "J1gLXSQpRO0R",
        "Y5JPmbLTm3Xj",
        "O5KjFc2rm6qT",
        "bHiNoD1LnE4j"
      ],
      "include_colab_link": true
    },
    "kernelspec": {
      "display_name": "Python 3",
      "language": "python",
      "name": "python3"
    },
    "language_info": {
      "codemirror_mode": {
        "name": "ipython",
        "version": 3
      },
      "file_extension": ".py",
      "mimetype": "text/x-python",
      "name": "python",
      "nbconvert_exporter": "python",
      "pygments_lexer": "ipython3",
      "version": "3.7.3"
    }
  },
  "cells": [
    {
      "cell_type": "markdown",
      "metadata": {
        "id": "view-in-github",
        "colab_type": "text"
      },
      "source": [
        "<a href=\"https://colab.research.google.com/github/graphy-young/algorithm/blob/main/Baekjoon_Online_Judge.ipynb\" target=\"_parent\"><img src=\"https://colab.research.google.com/assets/colab-badge.svg\" alt=\"Open In Colab\"/></a>"
      ]
    },
    {
      "cell_type": "markdown",
      "metadata": {
        "id": "t0QSnzjkearX"
      },
      "source": [
        "# 1단계. 입출력과 사칙연산\n",
        "\n",
        "입력, 출력과 사칙연산을 연습해 봅시다. Hello World!"
      ]
    },
    {
      "cell_type": "markdown",
      "metadata": {
        "id": "43kRMmvtearb"
      },
      "source": [
        "## Q2557. Hello World"
      ]
    },
    {
      "cell_type": "markdown",
      "metadata": {
        "id": "ludzacpye6yU"
      },
      "source": [
        "### 문제\n",
        "    Hello World!를 출력하시오.\n",
        "\n",
        "### 입력\n",
        "    없음\n",
        "\n",
        "### 출력\n",
        "    Hello World!를 출력하시오."
      ]
    },
    {
      "cell_type": "markdown",
      "metadata": {
        "id": "TaEKhBEOe8cq"
      },
      "source": [
        "### Code"
      ]
    },
    {
      "cell_type": "code",
      "metadata": {
        "id": "eM5eis3vearb",
        "outputId": "b054c357-24f6-4937-fc80-e835ec6aeec2"
      },
      "source": [
        "print('Hello World!')"
      ],
      "execution_count": null,
      "outputs": [
        {
          "output_type": "stream",
          "text": [
            "Hello World!\n"
          ],
          "name": "stdout"
        }
      ]
    },
    {
      "cell_type": "markdown",
      "metadata": {
        "id": "JCUzTzBfearc"
      },
      "source": [
        "## Q10718. We love kriii"
      ]
    },
    {
      "cell_type": "markdown",
      "metadata": {
        "id": "AHoCZttYe2mQ"
      },
      "source": [
        "### 문제\n",
        "    ACM-ICPC 인터넷 예선, Regional, 그리고 World Finals까지 이미 2회씩 진출해버린 kriii는 미련을 버리지 못하고 왠지 모르게 올 해에도 파주 World Finals 준비 캠프에 참여했다.\n",
        "    \n",
        "    대회를 뜰 줄 모르는 지박령 kriii를 위해서 격려의 문구를 출력해주자.\n",
        "\n",
        "### 입력\n",
        "    본 문제는 입력이 없다.\n",
        "\n",
        "### 출력\n",
        "    두 줄에 걸쳐 \"강한친구 대한육군\"을 한 줄에 한 번씩 출력한다."
      ]
    },
    {
      "cell_type": "markdown",
      "metadata": {
        "id": "2QJJW6EAfBBr"
      },
      "source": [
        "### Code"
      ]
    },
    {
      "cell_type": "code",
      "metadata": {
        "colab": {
          "base_uri": "https://localhost:8080/"
        },
        "id": "AztfZEzceard",
        "outputId": "3b7b4695-56cf-458e-804b-9b2f60aa9160"
      },
      "source": [
        "print('강한친구 대한육군\\n강한친구 대한육군')"
      ],
      "execution_count": null,
      "outputs": [
        {
          "output_type": "stream",
          "text": [
            "강한친구 대한육군\n",
            "강한친구 대한육군\n"
          ],
          "name": "stdout"
        }
      ]
    },
    {
      "cell_type": "code",
      "metadata": {
        "colab": {
          "base_uri": "https://localhost:8080/"
        },
        "id": "bj75Hq98eard",
        "outputId": "bb43139c-ccc8-454f-c4dd-ede79f9c8300"
      },
      "source": [
        "for i in range(2): print('강한친구 대한육군')"
      ],
      "execution_count": null,
      "outputs": [
        {
          "output_type": "stream",
          "text": [
            "강한친구 대한육군\n",
            "강한친구 대한육군\n"
          ],
          "name": "stdout"
        }
      ]
    },
    {
      "cell_type": "markdown",
      "metadata": {
        "id": "nCvxUslQeard"
      },
      "source": [
        "## Q10171. 고양이"
      ]
    },
    {
      "cell_type": "markdown",
      "metadata": {
        "id": "Frqh7dRufJnK"
      },
      "source": [
        "### 문제\n",
        "    아래 예제와 같이 고양이를 출력하시오.\n",
        "\n",
        "### 입력\n",
        "    없음.\n",
        "\n",
        "### 출력\n",
        "    고양이를 출력한다."
      ]
    },
    {
      "cell_type": "markdown",
      "metadata": {
        "id": "0tg-hJPJfKvn"
      },
      "source": [
        "### Code"
      ]
    },
    {
      "cell_type": "code",
      "metadata": {
        "id": "l1YTltrNeard",
        "outputId": "6d5e0f8a-dea0-4a64-ce7a-6f94d782d981"
      },
      "source": [
        "print('''\\    /\\ \n",
        " )  ( ')\n",
        "(  /  )\n",
        " \\(__)|''')"
      ],
      "execution_count": null,
      "outputs": [
        {
          "output_type": "stream",
          "text": [
            "\\    /\\ \n",
            " )  ( ')\n",
            "(  /  )\n",
            " \\(__)|\n"
          ],
          "name": "stdout"
        }
      ]
    },
    {
      "cell_type": "markdown",
      "metadata": {
        "id": "u5TK3Xvqeare"
      },
      "source": [
        "## Q10172. 개"
      ]
    },
    {
      "cell_type": "markdown",
      "metadata": {
        "id": "KLmuB1HdfsZ6"
      },
      "source": [
        "### 문제\n",
        "    아래 예제와 같이 개를 출력하시오.\n",
        "\n",
        "### 입력\n",
        "    없음.\n",
        "\n",
        "### 출력\n",
        "    개를 출력한다."
      ]
    },
    {
      "cell_type": "markdown",
      "metadata": {
        "id": "v-fO3sL4ftn-"
      },
      "source": [
        "### Code"
      ]
    },
    {
      "cell_type": "code",
      "metadata": {
        "id": "OGvz2p-Peare",
        "outputId": "2368ca07-c353-46c3-e1d1-82d062357eac"
      },
      "source": [
        "print('''|\\_/|\n",
        "|q p|   /}\n",
        "( 0 )\"\"\"\\\\\n",
        "|\"^\"`    |\n",
        "||_/=\\\\\\\\__|''')"
      ],
      "execution_count": null,
      "outputs": [
        {
          "output_type": "stream",
          "text": [
            "|\\_/|\n",
            "|q p|   /}\n",
            "( 0 )\"\"\"\\\n",
            "|\"^\"`    |\n",
            "||_/=\\\\__|\n"
          ],
          "name": "stdout"
        }
      ]
    },
    {
      "cell_type": "markdown",
      "metadata": {
        "id": "gr_ZEAcieare"
      },
      "source": [
        "## Q1000. A+B"
      ]
    },
    {
      "cell_type": "markdown",
      "metadata": {
        "id": "B63iX3y7f4pM"
      },
      "source": [
        "### 문제\n",
        "    두 정수 A와 B를 입력받은 다음, A+B를 출력하는 프로그램을 작성하시오.\n",
        "\n",
        "### 입력\n",
        "    첫째 줄에 A와 B가 주어진다. (0 < A, B < 10)\n",
        "\n",
        "### 출력\n",
        "    첫째 줄에 A+B를 출력한다."
      ]
    },
    {
      "cell_type": "markdown",
      "metadata": {
        "id": "Hnp_PecOf5pA"
      },
      "source": [
        "### Code"
      ]
    },
    {
      "cell_type": "code",
      "metadata": {
        "scrolled": true,
        "id": "lpFc-EEeeare",
        "outputId": "6da8e35b-9cab-483f-defd-67bd06e5d5cd"
      },
      "source": [
        "func = lambda x: sum(x)\n",
        "\n",
        "values = input().split()\n",
        "\n",
        "for idx in range(len(values)): values[idx] = int(values[idx])\n",
        "print(func(values))"
      ],
      "execution_count": null,
      "outputs": [
        {
          "output_type": "stream",
          "text": [
            "1 2\n",
            "3\n"
          ],
          "name": "stdout"
        }
      ]
    },
    {
      "cell_type": "markdown",
      "metadata": {
        "id": "ZjVQQonMeare"
      },
      "source": [
        "## Q1001. A-B"
      ]
    },
    {
      "cell_type": "markdown",
      "metadata": {
        "id": "RK0bQaN6gIoE"
      },
      "source": [
        "### 문제\n",
        "    두 정수 A와 B를 입력받은 다음, A-B를 출력하는 프로그램을 작성하시오.\n",
        "\n",
        "### 입력\n",
        "    첫째 줄에 A와 B가 주어진다. (0 < A, B < 10)\n",
        "\n",
        "### 출력\n",
        "    첫째 줄에 A-B를 출력한다.\n",
        "\n",
        "### 예제 입력 1\n",
        "    3 2\n",
        "### 예제 출력 1\n",
        "    1"
      ]
    },
    {
      "cell_type": "markdown",
      "metadata": {
        "id": "YoCfTRWcgJm1"
      },
      "source": [
        "### Code"
      ]
    },
    {
      "cell_type": "code",
      "metadata": {
        "id": "8GPtMH6Jeare",
        "outputId": "80b2269d-7e04-4218-977d-bef2fe2a03a3"
      },
      "source": [
        "def func(*args):\n",
        "    values = args[0]\n",
        "    for idx in range(len(values)):\n",
        "        if idx == len(values)-1: return values[0]\n",
        "        reverse_idx = (len(values)-1)-idx\n",
        "        values[0] -= values[reverse_idx]\n",
        "\n",
        "values = input().split()\n",
        "\n",
        "for idx in range(len(values)): values[idx] = int(values[idx])\n",
        "\n",
        "print(func(values))"
      ],
      "execution_count": null,
      "outputs": [
        {
          "output_type": "stream",
          "text": [
            "3 2\n",
            "1\n"
          ],
          "name": "stdout"
        }
      ]
    },
    {
      "cell_type": "markdown",
      "metadata": {
        "id": "yICfLdiRearf"
      },
      "source": [
        "## Q10998. AxB"
      ]
    },
    {
      "cell_type": "markdown",
      "metadata": {
        "id": "sHuCjHbAgUIE"
      },
      "source": [
        "### 문제\n",
        "    두 정수 A와 B를 입력받은 다음, A×B를 출력하는 프로그램을 작성하시오.\n",
        "\n",
        "### 입력\n",
        "    첫째 줄에 A와 B가 주어진다. (0 < A, B < 10)\n",
        "\n",
        "### 출력\n",
        "    첫째 줄에 A×B를 출력한다.\n",
        "\n",
        "### 예제 입력 1\n",
        "    1 2\n",
        "### 예제 출력 1\n",
        "    2\n",
        "\n",
        "### 예제 입력 2\n",
        "    3 4\n",
        "### 예제 출력 2\n",
        "    12"
      ]
    },
    {
      "cell_type": "markdown",
      "metadata": {
        "id": "PH7ijTl1gU8G"
      },
      "source": [
        "### Code"
      ]
    },
    {
      "cell_type": "code",
      "metadata": {
        "id": "XsQVo8Ltearf",
        "outputId": "913a23d7-0beb-4e79-8f9c-21d2c51bc100"
      },
      "source": [
        "print((lambda x: int(x[0]) * int(x[2]))(input()))"
      ],
      "execution_count": null,
      "outputs": [
        {
          "output_type": "stream",
          "text": [
            "1 2\n"
          ],
          "name": "stdout"
        },
        {
          "output_type": "execute_result",
          "data": {
            "text/plain": [
              "2"
            ]
          },
          "metadata": {
            "tags": []
          },
          "execution_count": 32
        }
      ]
    },
    {
      "cell_type": "markdown",
      "metadata": {
        "id": "4-QUwz2Bearf"
      },
      "source": [
        "## Q. 1008. A/B"
      ]
    },
    {
      "cell_type": "markdown",
      "metadata": {
        "id": "IBm-80eJgvx1"
      },
      "source": [
        "### 문제\n",
        "    두 정수 A와 B를 입력받은 다음, A/B를 출력하는 프로그램을 작성하시오.\n",
        "\n",
        "### 입력\n",
        "    첫째 줄에 A와 B가 주어진다. (0 < A, B < 10)\n",
        "\n",
        "### 출력\n",
        "    첫째 줄에 A/B를 출력한다. 실제 정답과 출력값의 절대오차 또는 상대오차가 10-9 이하이면 정답이다.\n",
        "\n",
        "### 예제 입력 1\n",
        "    1 3\n",
        "### 예제 출력 1\n",
        "    0.33333333333333333333333333333333\n",
        "\n",
        "**10-9 이하의 오차를 허용한다는 말은 꼭 소수 9번째 자리까지만 출력하라는 뜻이 아니다.**\n",
        "\n",
        "### 예제 입력 2\n",
        "    4 5\n",
        "### 예제 출력 2\n",
        "    0.8"
      ]
    },
    {
      "cell_type": "markdown",
      "metadata": {
        "id": "aElnm9nJgxJu"
      },
      "source": [
        "### Code"
      ]
    },
    {
      "cell_type": "code",
      "metadata": {
        "id": "8IAw5ZInearf",
        "outputId": "cdf133df-518c-4246-fbf4-54b813b9755e"
      },
      "source": [
        "print( (lambda x: int(x[0]) / int(x[2]))(input()) )"
      ],
      "execution_count": null,
      "outputs": [
        {
          "output_type": "stream",
          "text": [
            "1 3\n",
            "0.3333333333333333\n"
          ],
          "name": "stdout"
        }
      ]
    },
    {
      "cell_type": "markdown",
      "metadata": {
        "id": "D1dmQ3tEearf"
      },
      "source": [
        "## Q10869. 사칙연산"
      ]
    },
    {
      "cell_type": "markdown",
      "metadata": {
        "id": "ZcpzafkznkGj"
      },
      "source": [
        "### 문제\n",
        "    두 자연수 A와 B가 주어진다. 이때, A+B, A-B, A*B, A/B(몫), A%B(나머지)를 출력하는 프로그램을 작성하시오. \n",
        "\n",
        "### 입력\n",
        "    두 자연수 A와 B가 주어진다. (1 ≤ A, B ≤ 10,000)\n",
        "\n",
        "### 출력\n",
        "    첫째 줄에 A+B, 둘째 줄에 A-B, 셋째 줄에 A*B, 넷째 줄에 A/B, 다섯째 줄에 A%B를 출력한다.\n",
        "\n",
        "### 예제 입력 1\n",
        "    7 3\n",
        "### 예제 출력 1\n",
        "    10\n",
        "    4\n",
        "    21\n",
        "    2\n",
        "    1"
      ]
    },
    {
      "cell_type": "markdown",
      "metadata": {
        "id": "lFw2cd_NhXa5"
      },
      "source": [
        "### Code"
      ]
    },
    {
      "cell_type": "code",
      "metadata": {
        "id": "ynBWZGgzhRg8"
      },
      "source": [
        "def func(args):\n",
        "    values = [int(x) for x in args.split()]\n",
        "    a, b = values\n",
        "    if (1 <= a <= 10000) and (1 <= b <= 10000): \n",
        "        print(a+b)\n",
        "        print(a-b)\n",
        "        print(a*b)\n",
        "        print(a//b)\n",
        "        print(a%b)\n",
        "    else: print('Worng input')\n",
        "\n",
        "func(input())"
      ],
      "execution_count": null,
      "outputs": []
    },
    {
      "cell_type": "markdown",
      "metadata": {
        "id": "XlLmcr03earg"
      },
      "source": [
        "## Q10430. 나머지"
      ]
    },
    {
      "cell_type": "markdown",
      "metadata": {
        "id": "KWXaxBBanwMF"
      },
      "source": [
        "### 문제\n",
        "    (A+B)%C는 (A%C + B%C)%C 와 같을까?\n",
        "    \n",
        "    (A×B)%C는 (A%C × B%C)%C 와 같을까?\n",
        "    \n",
        "    세 수 A, B, C가 주어졌을 때, 위의 네 가지 값을 구하는 프로그램을 작성하시오.\n",
        "\n",
        "### 입력\n",
        "    첫째 줄에 A, B, C가 순서대로 주어진다. (2 ≤ A, B, C ≤ 10000)\n",
        "\n",
        "### 출력\n",
        "    첫째 줄에 (A+B)%C, 둘째 줄에 (A%C + B%C)%C, 셋째 줄에 (A×B)%C, 넷째 줄에 (A%C × B%C)%C를 출력한다.\n",
        "\n",
        "### 예제 입력 1\n",
        "    5 8 4\n",
        "### 예제 출력 1\n",
        "    1\n",
        "    1\n",
        "    0\n",
        "    0"
      ]
    },
    {
      "cell_type": "markdown",
      "metadata": {
        "id": "Cb-9b4nyn-Im"
      },
      "source": [
        "### Code"
      ]
    },
    {
      "cell_type": "code",
      "metadata": {
        "id": "JJT2chkNearg",
        "outputId": "58c6fb4a-21a4-46ca-d848-b751ffb447a8"
      },
      "source": [
        "def func(args):\n",
        "    values = [int(x) for x in args.split()]\n",
        "    for val in values:\n",
        "        if 2 <= val <= 10000: pass\n",
        "        else: raise ValueError\n",
        "    a, b, c = values[0], values[1], values[2]\n",
        "    print( (a+b)%c )\n",
        "    print( (a%c + b%c)%c )\n",
        "    print( (a*b)%c )\n",
        "    print( (a%c * b%c)%c )\n",
        "\n",
        "func(input())"
      ],
      "execution_count": null,
      "outputs": [
        {
          "output_type": "stream",
          "text": [
            "5 8 4\n",
            "1\n",
            "1\n",
            "0\n",
            "0\n"
          ],
          "name": "stdout"
        }
      ]
    },
    {
      "cell_type": "markdown",
      "metadata": {
        "id": "VqLY_AMsearg"
      },
      "source": [
        "## Q2588. 곱셈"
      ]
    },
    {
      "cell_type": "markdown",
      "metadata": {
        "id": "qoq5WszioQEc"
      },
      "source": [
        "\n",
        "### 문제\n",
        "    (세 자리 수) × (세 자리 수)는 다음과 같은 과정을 통하여 이루어진다.\n",
        "    \n",
        "    (1)과 (2)위치에 들어갈 세 자리 자연수가 주어질 때 (3), (4), (5), (6)위치에 들어갈 값을 구하는 프로그램을 작성하시오.\n",
        "\n",
        "### 입력\n",
        "    첫째 줄에 (1)의 위치에 들어갈 세 자리 자연수가, 둘째 줄에 (2)의 위치에 들어갈 세자리 자연수가 주어진다.\n",
        "\n",
        "### 출력\n",
        "    첫째 줄부터 넷째 줄까지 차례대로 (3), (4), (5), (6)에 들어갈 값을 출력한다.\n",
        "\n",
        "### 예제 입력 1\n",
        "    472\n",
        "    385\n",
        "### 예제 출력 1\n",
        "    2360\n",
        "    3776\n",
        "    1416\n",
        "    181720"
      ]
    },
    {
      "cell_type": "markdown",
      "metadata": {
        "id": "OXDBScKrohoL"
      },
      "source": [
        "### Code"
      ]
    },
    {
      "cell_type": "code",
      "metadata": {
        "id": "TM--7FyCearg",
        "outputId": "13bb798c-7d6a-44a0-d76c-27a110d396d2"
      },
      "source": [
        "def func():\n",
        "    values = list()\n",
        "    for i in range(2): values.append(int(input()))\n",
        "    #values = [int(x) for x in args.split('\\n')]\n",
        "    multiplicand = values[0] # 피승수\n",
        "    multiplier = values[1] # 승수\n",
        "    for i in range( len(str(multiplier))-1, -1, -1 ):\n",
        "        print(multiplicand * int(str(multiplier)[i]))\n",
        "    print(multiplicand * multiplier)\n",
        "        \n",
        "func()"
      ],
      "execution_count": null,
      "outputs": [
        {
          "output_type": "stream",
          "text": [
            "472\n",
            "385\n",
            "2360\n",
            "3776\n",
            "1416\n",
            "181720\n"
          ],
          "name": "stdout"
        }
      ]
    },
    {
      "cell_type": "code",
      "metadata": {
        "id": "WOwppJsUearh"
      },
      "source": [
        ""
      ],
      "execution_count": null,
      "outputs": []
    },
    {
      "cell_type": "markdown",
      "metadata": {
        "id": "6abwrAlCYbVk"
      },
      "source": [
        "# 2단계. if문\n",
        "\n",
        "if문을 사용해 봅시다."
      ]
    },
    {
      "cell_type": "markdown",
      "metadata": {
        "id": "ewXH2UmKYbVu"
      },
      "source": [
        "## 1330. 두 수 비교하기"
      ]
    },
    {
      "cell_type": "markdown",
      "metadata": {
        "id": "OiuMJBXLovUy"
      },
      "source": [
        "### 문제\n",
        "    두 정수 A와 B가 주어졌을 때, A와 B를 비교하는 프로그램을 작성하시오.\n",
        "\n",
        "### 입력\n",
        "    첫째 줄에 A와 B가 주어진다. A와 B는 공백 한 칸으로 구분되어져 있다.\n",
        "\n",
        "### 출력\n",
        "    첫째 줄에 다음 세 가지 중 하나를 출력한다.\n",
        "    A가 B보다 큰 경우에는 '>'를 출력한다.\n",
        "    A가 B보다 작은 경우에는 '<'를 출력한다.\n",
        "    A와 B가 같은 경우에는 '=='를 출력한다.\n",
        "\n",
        "### 제한\n",
        "    -10,000 ≤ A, B ≤ 10,000\n",
        "\n",
        "### 예제 입력 1\n",
        "    1 2\n",
        "### 예제 출력 1\n",
        "    <\n",
        "### 예제 입력 2\n",
        "    10 2\n",
        "### 예제 출력 2\n",
        "    >\n",
        "### 예제 입력 3\n",
        "    5 5\n",
        "### 예제 출력 3\n",
        "    =="
      ]
    },
    {
      "cell_type": "markdown",
      "metadata": {
        "id": "jQzqdUbBoqNu"
      },
      "source": [
        "### Code"
      ]
    },
    {
      "cell_type": "code",
      "metadata": {
        "id": "49w11xt2YbVv"
      },
      "source": [
        "def comparison(args):\n",
        "    values = [int(x) for x in args.split()]\n",
        "    for val in values:\n",
        "        if -10000 <= val <= 10000: pass\n",
        "        else: raise ValueError\n",
        "    a, b = values\n",
        "    if a > b: print('>')\n",
        "    elif a < b: print('<')\n",
        "    else: print('==')\n",
        "\n",
        "comparison(input())"
      ],
      "execution_count": null,
      "outputs": []
    },
    {
      "cell_type": "markdown",
      "metadata": {
        "id": "vqq4IjVXYbVx"
      },
      "source": [
        "## 9498. 시험 성적"
      ]
    },
    {
      "cell_type": "markdown",
      "metadata": {
        "id": "8pdV97LLozIy"
      },
      "source": [
        "### 문제\n",
        "    시험 점수를 입력받아 90 ~ 100점은 A, 80 ~ 89점은 B, 70 ~ 79점은 C, 60 ~ 69점은 D, 나머지 점수는 F를 출력하는 프로그램을 작성하시오.\n",
        "\n",
        "### 입력\n",
        "    첫째 줄에 시험 점수가 주어진다. 시험 점수는 0보다 크거나 같고, 100보다 작거나 같은 정수이다.\n",
        "\n",
        "### 출력\n",
        "    시험 성적을 출력한다.\n",
        "\n",
        "### 예제 입력 1\n",
        "    100\n",
        "### 예제 출력 1\n",
        "    A"
      ]
    },
    {
      "cell_type": "markdown",
      "metadata": {
        "id": "n4p2shBho0v-"
      },
      "source": [
        "### Code"
      ]
    },
    {
      "cell_type": "code",
      "metadata": {
        "id": "LIrQyoxrYbVx",
        "scrolled": true
      },
      "source": [
        "def testGrade(arg):\n",
        "    score = int(arg)\n",
        "    if 90 <= score <= 100: \n",
        "        print('A')\n",
        "    elif 80 <= score <= 89: \n",
        "        print('B')\n",
        "    elif 70 <= score <= 79:\n",
        "        print('C')\n",
        "    elif 60 <= score <= 69:\n",
        "        print('D')\n",
        "    else: \n",
        "        print('F')\n",
        "        \n",
        "testGrade(input())"
      ],
      "execution_count": null,
      "outputs": []
    },
    {
      "cell_type": "markdown",
      "metadata": {
        "id": "bICxp7fJYbVy"
      },
      "source": [
        "## 2753. 윤년"
      ]
    },
    {
      "cell_type": "markdown",
      "metadata": {
        "id": "59kfjSn9pXFN"
      },
      "source": [
        "### 문제\n",
        "    연도가 주어졌을 때, 윤년이면 1, 아니면 0을 출력하는 프로그램을 작성하시오.\n",
        "    \n",
        "    윤년은 연도가 4의 배수이면서, 100의 배수가 아닐 때 또는 400의 배수일 때 이다.\n",
        "    \n",
        "    예를들어, 2012년은 4의 배수라서 윤년이지만, 1900년은 4의 배수이지만, 100의 배수이기 때문에 윤년이 아니다.\n",
        "    \n",
        "    하지만, 2000년은 400의 배수이기 때문에 윤년이다.\n",
        "\n",
        "### 입력\n",
        "    첫째 줄에 연도가 주어진다. 연도는 1보다 크거나 같고, 4000보다 작거나 같은 자연수이다.\n",
        "\n",
        "### 출력\n",
        "    첫째 줄에 윤년이면 1, 아니면 0을 출력한다.\n",
        "\n",
        "### 예제 입력 1\n",
        "    2000\n",
        "### 예제 출력 1\n",
        "    1"
      ]
    },
    {
      "cell_type": "markdown",
      "metadata": {
        "id": "L3CdqIm6pZTx"
      },
      "source": [
        "### Code"
      ]
    },
    {
      "cell_type": "code",
      "metadata": {
        "id": "cTWhjBkNYbVy"
      },
      "source": [
        "def isLeafYear(arg):\n",
        "    year = int(arg)\n",
        "    if 1 <= year <= 4000: \n",
        "        pass\n",
        "    else: \n",
        "        raise ValueError\n",
        "    if (year%4 == 0) and ( (year%100 != 0) or (year%400 == 0) ):\n",
        "        print(1)\n",
        "    else: \n",
        "        print(0)\n",
        "        \n",
        "isLeafYear(input())"
      ],
      "execution_count": null,
      "outputs": []
    },
    {
      "cell_type": "markdown",
      "metadata": {
        "id": "oDlDOtycYbV0"
      },
      "source": [
        "## 10817. 세 수 (삭제됨)"
      ]
    },
    {
      "cell_type": "markdown",
      "metadata": {
        "id": "sHBAHaaWpcQC"
      },
      "source": [
        "### 문제\n",
        "    세 정수 A, B, C가 주어진다. 이때, 두 번째로 큰 정수를 출력하는 프로그램을 작성하시오. \n",
        "\n",
        "### 입력\n",
        "    첫째 줄에 세 정수 A, B, C가 공백으로 구분되어 주어진다. (1 ≤ A, B, C ≤ 100)\n",
        "\n",
        "### 출력\n",
        "    두 번째로 큰 정수를 출력한다.\n",
        "\n",
        "### 예제 입력 1\n",
        "    20 30 10\n",
        "### 예제 출력 1\n",
        "    20\n",
        "### 예제 입력 2\n",
        "    30 30 10\n",
        "### 예제 출력 2\n",
        "    30\n",
        "### 예제 입력 3\n",
        "    40 40 40\n",
        "### 예제 출력 3\n",
        "    40\n",
        "### 예제 입력 4\n",
        "    20 10 10\n",
        "### 예제 출력 4\n",
        "    10"
      ]
    },
    {
      "cell_type": "markdown",
      "metadata": {
        "id": "WI965EF5pfE6"
      },
      "source": [
        "### Code"
      ]
    },
    {
      "cell_type": "code",
      "metadata": {
        "id": "93NTdqJnYbV0"
      },
      "source": [
        "def threeDigits(args):\n",
        "    values = [int(x) for x in args.split()]\n",
        "    for val in values:\n",
        "        if 1 <= val <= 100: \n",
        "            pass\n",
        "        else: \n",
        "            raise ValueError\n",
        "    values.sort()\n",
        "    print(values[1])\n",
        "    \n",
        "threeDigits(input())"
      ],
      "execution_count": null,
      "outputs": []
    },
    {
      "cell_type": "markdown",
      "metadata": {
        "id": "B9d7ru0ZYfIZ"
      },
      "source": [
        "## 14681. 사분면 고르기"
      ]
    },
    {
      "cell_type": "markdown",
      "metadata": {
        "id": "lgdD6f7Ip5hq"
      },
      "source": [
        "### 문제\n",
        "    흔한 수학 문제 중 하나는 주어진 점이 어느 사분면에 속하는지 알아내는 것이다. 사분면은 아래 그림처럼 1부터 4까지 번호를 갖는다. \"Quadrant n\"은 \"제n사분면\"이라는 뜻이다.\n",
        "\n",
        "    예를 들어, 좌표가 (12, 5)인 점 A는 x좌표와 y좌표가 모두 양수이므로 제1사분면에 속한다. 점 B는 x좌표가 음수이고 y좌표가 양수이므로 제2사분면에 속한다.\n",
        "\n",
        "    점의 좌표를 입력받아 그 점이 어느 사분면에 속하는지 알아내는 프로그램을 작성하시오. 단, x좌표와 y좌표는 모두 양수나 음수라고 가정한다.\n",
        "\n",
        "### 입력\n",
        "    첫 줄에는 정수 x가 주어진다. (−1000 ≤ x ≤ 1000; x ≠ 0) 다음 줄에는 정수 y가 주어진다. (−1000 ≤ y ≤ 1000; y ≠ 0)\n",
        "\n",
        "### 출력\n",
        "    점 (x, y)의 사분면 번호(1, 2, 3, 4 중 하나)를 출력한다.\n",
        "\n",
        "### 예제 입력 1 \n",
        "    12\n",
        "    5\n",
        "### 예제 출력 1 \n",
        "    1\n",
        "### 예제 입력 2 \n",
        "    9\n",
        "    -13\n",
        "### 예제 출력 2 \n",
        "    4"
      ]
    },
    {
      "cell_type": "markdown",
      "metadata": {
        "id": "i9VDC-DOp6t8"
      },
      "source": [
        "### Code"
      ]
    },
    {
      "cell_type": "code",
      "metadata": {
        "id": "5Fl7v_MFeNPY"
      },
      "source": [
        "points = dict()\n",
        "points['x'] = int(input())\n",
        "points['y'] = int(input())\n",
        "\n",
        "if points['x'] > 0 and points['y'] > 0:\n",
        "  print(1)\n",
        "elif points['x'] < 0 and points['y'] > 0:\n",
        "  print(2)\n",
        "elif points['x'] > 0 and points['y'] < 0:\n",
        "  print(4)\n",
        "elif points['x'] < 0 and points['y'] < 0:\n",
        "  print(3)\n",
        "else:\n",
        "  raise NoQuadrantException"
      ],
      "execution_count": null,
      "outputs": []
    },
    {
      "cell_type": "markdown",
      "metadata": {
        "id": "H3JclujzfekW"
      },
      "source": [
        "## 2884.\t알람 시계\n",
        "\n",
        "### 문제\n",
        "    상근이는 매일 아침 알람을 듣고 일어난다. 알람을 듣고 바로 일어나면 다행이겠지만, 항상 조금만 더 자려는 마음 때문에 매일 학교를 지각하고 있다.\n",
        "    \n",
        "    상근이는 모든 방법을 동원해보았지만, 조금만 더 자려는 마음은 그 어떤 것도 없앨 수가 없었다.\n",
        "    \n",
        "    이런 상근이를 불쌍하게 보던, 창영이는 자신이 사용하는 방법을 추천해 주었다.\n",
        "    \n",
        "    바로 \"45분 일찍 알람 설정하기\"이다.\n",
        "    \n",
        "    이 방법은 단순하다. 원래 설정되어 있는 알람을 45분 앞서는 시간으로 바꾸는 것이다. 어차피 알람 소리를 들으면, 알람을 끄고 조금 더 잘 것이기 때문이다. 이 방법을 사용하면, 매일 아침 더 잤다는 기분을 느낄 수 있고, 학교도 지각하지 않게 된다.\n",
        "    \n",
        "    현재 상근이가 설정한 알람 시각이 주어졌을 때, 창영이의 방법을 사용한다면, 이를 언제로 고쳐야 하는지 구하는 프로그램을 작성하시오.\n",
        "\n",
        "### 입력\n",
        "    첫째 줄에 두 정수 H와 M이 주어진다. (0 ≤ H ≤ 23, 0 ≤ M ≤ 59) 그리고 이것은 현재 상근이가 설정한 놓은 알람 시간 H시 M분을 의미한다.\n",
        "    \n",
        "    입력 시간은 24시간 표현을 사용한다. 24시간 표현에서 하루의 시작은 0:0(자정)이고, 끝은 23:59(다음날 자정 1분 전)이다. 시간을 나타낼 때, 불필요한 0은 사용하지 않는다.\n",
        "\n",
        "### 출력\n",
        "    첫째 줄에 상근이가 창영이의 방법을 사용할 때, 설정해야 하는 알람 시간을 출력한다. (입력과 같은 형태로 출력하면 된다.)\n",
        "\n",
        "### 예제 입력 1 \n",
        "    10 10\n",
        "### 예제 출력 1 \n",
        "    9 25\n",
        "### 예제 입력 2 \n",
        "    0 30\n",
        "### 예제 출력 2 \n",
        "    23 45\n",
        "### 예제 입력 3 \n",
        "    23 40\n",
        "### 예제 출력 3 \n",
        "    22 55"
      ]
    },
    {
      "cell_type": "code",
      "metadata": {
        "id": "DYzyFwp8vXpa"
      },
      "source": [
        "H, M = [int(i) for i in input().split()]\n",
        "\n",
        "if 0 <= H <= 23 and 0 <= M <= 59:\n",
        "  pass\n",
        "else:\n",
        "  raise WrongInputException\n",
        "\n",
        "if M-45 < 0:\n",
        "  H = H - 1\n",
        "  M = 60 - abs(M-45)\n",
        "else:\n",
        "  M = M - 45\n",
        "\n",
        "if H < 0:\n",
        "  H = 24 + H\n",
        "else:\n",
        "  pass\n",
        "\n",
        "print(H, M)"
      ],
      "execution_count": null,
      "outputs": []
    },
    {
      "cell_type": "markdown",
      "metadata": {
        "id": "oADJwnpgearj"
      },
      "source": [
        "<a href=\"https://colab.research.google.com/github/graphy-young/algorithm/blob/main/Baekjoon%20Online%20judge/3.%20for%EB%AC%B8.ipynb\" target=\"_parent\"><img src=\"https://colab.research.google.com/assets/colab-badge.svg\" alt=\"Open In Colab\"/></a>"
      ]
    },
    {
      "cell_type": "markdown",
      "metadata": {
        "id": "QExAhuSu9HDR"
      },
      "source": [
        "# 3. for문\n",
        "\n",
        "for문을 사용해 봅시다."
      ]
    },
    {
      "cell_type": "markdown",
      "metadata": {
        "id": "DRJr-E7t9cmO"
      },
      "source": [
        "## 2739. 구구단"
      ]
    },
    {
      "cell_type": "markdown",
      "metadata": {
        "id": "J72le2r3tfS3"
      },
      "source": [
        "### 문제\n",
        "    N을 입력받은 뒤, 구구단 N단을 출력하는 프로그램을 작성하시오. 출력 형식에 맞춰서 출력하면 된다.\n",
        "\n",
        "### 입력\n",
        "    첫째 줄에 N이 주어진다. N은 1보다 크거나 같고, 9보다 작거나 같다.\n",
        "\n",
        "### 출력\n",
        "    출력형식과 같게 N*1부터 N*9까지 출력한다.\n",
        "\n",
        "### 예제 입력 1 \n",
        "    2\n",
        "### 예제 출력 1 \n",
        "    2 * 1 = 2\n",
        "    2 * 2 = 4\n",
        "    2 * 3 = 6\n",
        "    2 * 4 = 8\n",
        "    2 * 5 = 10\n",
        "    2 * 6 = 12\n",
        "    2 * 7 = 14\n",
        "    2 * 8 = 16\n",
        "    2 * 9 = 18"
      ]
    },
    {
      "cell_type": "markdown",
      "metadata": {
        "id": "1MYZZn8juXbz"
      },
      "source": [
        "### Code"
      ]
    },
    {
      "cell_type": "code",
      "metadata": {
        "colab": {
          "base_uri": "https://localhost:8080/"
        },
        "id": "eeXLZkN6-_42",
        "outputId": "815ce09d-7834-4f06-8de2-d99f7f31a2ca"
      },
      "source": [
        "digit = int(input())\n",
        "\n",
        "for i in range(1, 10):\n",
        "  message = \"{} * {} = {}\".format(digit, i, digit*i)\n",
        "  print(message)\n",
        "  #result = digit * i\n",
        "  #print(\"{digit} * {i} = {result}\")\n"
      ],
      "execution_count": null,
      "outputs": [
        {
          "output_type": "stream",
          "text": [
            "2\n",
            "2 * 1 = 2\n",
            "2 * 2 = 4\n",
            "2 * 3 = 6\n",
            "2 * 4 = 8\n",
            "2 * 5 = 10\n",
            "2 * 6 = 12\n",
            "2 * 7 = 14\n",
            "2 * 8 = 16\n",
            "2 * 9 = 18\n"
          ],
          "name": "stdout"
        }
      ]
    },
    {
      "cell_type": "markdown",
      "metadata": {
        "id": "LSxcviJhAx4R"
      },
      "source": [
        "## 10950. A+B - 3"
      ]
    },
    {
      "cell_type": "markdown",
      "metadata": {
        "id": "ccbKoxrYtidX"
      },
      "source": [
        "### 문제\n",
        "    두 정수 A와 B를 입력받은 다음, A+B를 출력하는 프로그램을 작성하시오.\n",
        "\n",
        "### 입력\n",
        "    첫째 줄에 테스트 케이스의 개수 T가 주어진다.\n",
        "    \n",
        "    각 테스트 케이스는 한 줄로 이루어져 있으며, 각 줄에 A와 B가 주어진다. (0 < A, B < 10)\n",
        "\n",
        "### 출력\n",
        "    각 테스트 케이스마다 A+B를 출력한다.\n",
        "\n",
        "### 예제 입력 1 \n",
        "    5\n",
        "    1 1\n",
        "    2 3\n",
        "    3 4\n",
        "    9 8\n",
        "    5 2\n",
        "\n",
        "### 예제 출력 1 \n",
        "    2\n",
        "    5\n",
        "    7\n",
        "    17\n",
        "    7"
      ]
    },
    {
      "cell_type": "markdown",
      "metadata": {
        "id": "NABSioYrucFD"
      },
      "source": [
        "### Code"
      ]
    },
    {
      "cell_type": "code",
      "metadata": {
        "colab": {
          "base_uri": "https://localhost:8080/"
        },
        "id": "63AQWjQbBRm1",
        "outputId": "27c0d996-b28b-4b30-85a9-93722094f823"
      },
      "source": [
        "testCase = int(input())\n",
        "\n",
        "for i in range(1, testCase+1):\n",
        "  digits = list()\n",
        "  digits = [int(i) for i in input().split()]\n",
        "  for digit in digits:\n",
        "    if 0 < digit < 10:\n",
        "      pass\n",
        "    else:\n",
        "      raise WrongInputException\n",
        "  print(sum(digits))"
      ],
      "execution_count": null,
      "outputs": [
        {
          "output_type": "stream",
          "text": [
            "5\n",
            "1 1\n",
            "2\n",
            "2 3\n",
            "5\n",
            "3 4\n",
            "7\n",
            "9 8\n",
            "17\n",
            "5 2\n",
            "7\n"
          ],
          "name": "stdout"
        }
      ]
    },
    {
      "cell_type": "markdown",
      "metadata": {
        "id": "2Ud6VkEksVqV"
      },
      "source": [
        "## 8393. 합"
      ]
    },
    {
      "cell_type": "markdown",
      "metadata": {
        "id": "NKWAZxa_tmOR"
      },
      "source": [
        "### 문제\n",
        "    n이 주어졌을 때, 1부터 n까지 합을 구하는 프로그램을 작성하시오.\n",
        "\n",
        "### 입력\n",
        "    첫째 줄에 n (1 ≤ n ≤ 10,000)이 주어진다.\n",
        "\n",
        "### 출력\n",
        "    1부터 n까지 합을 출력한다.\n",
        "\n",
        "### 예제 입력 1 \n",
        "    3\n",
        "### 예제 출력 1 \n",
        "    6"
      ]
    },
    {
      "cell_type": "markdown",
      "metadata": {
        "id": "7QLsdnacuft1"
      },
      "source": [
        "### Code"
      ]
    },
    {
      "cell_type": "code",
      "metadata": {
        "id": "4MLPi63bse4E"
      },
      "source": [
        "digit = int(input())\n",
        "\n",
        "if 1 <= digit <= 10000:\n",
        "  pass\n",
        "else:\n",
        "  raise WrongInputException\n",
        "\n",
        "result = 0\n",
        "\n",
        "for i in range(1, digit+1):\n",
        "  result += i\n",
        "\n",
        "print(result)"
      ],
      "execution_count": null,
      "outputs": []
    },
    {
      "cell_type": "markdown",
      "metadata": {
        "id": "CY7FFGtlskLt"
      },
      "source": [
        "## 15552. 빠른 A+B"
      ]
    },
    {
      "cell_type": "markdown",
      "metadata": {
        "id": "L37o_Og-tWZp"
      },
      "source": [
        "### 문제\n",
        "    본격적으로 for문 문제를 풀기 전에 주의해야 할 점이 있다. 입출력 방식이 느리면 여러 줄을 입력받거나 출력할 때 시간초과가 날 수 있다는 점이다.\n",
        "    \n",
        "    C++을 사용하고 있고 cin/cout을 사용하고자 한다면, cin.tie(NULL)과 sync_with_stdio(false)를 둘 다 적용해 주고, endl 대신 개행문자(\\n)를 쓰자. 단, 이렇게 하면 더 이상 scanf/printf/puts/getchar/putchar 등 C의 입출력 방식을 사용하면 안 된다.\n",
        "    \n",
        "    Java를 사용하고 있다면, Scanner와 System.out.println 대신 BufferedReader와 BufferedWriter를 사용할 수 있다. BufferedWriter.flush는 맨 마지막에 한 번만 하면 된다.\n",
        "    \n",
        "    Python을 사용하고 있다면, input 대신 sys.stdin.readline을 사용할 수 있다. 단, 이때는 맨 끝의 개행문자까지 같이 입력받기 때문에 문자열을 저장하고 싶을 경우 .rstrip()을 추가로 해 주는 것이 좋다.\n",
        "    \n",
        "    또한 입력과 출력 스트림은 별개이므로, 테스트케이스를 전부 입력받아서 저장한 뒤 전부 출력할 필요는 없다. 테스트케이스를 하나 받은 뒤 하나 출력해도 된다.\n",
        "    \n",
        "    자세한 설명 및 다른 언어의 경우는 이 글에 설명되어 있다.\n",
        "    \n",
        "    이 블로그 글에서 BOJ의 기타 여러 가지 팁을 볼 수 있다.\n",
        "\n",
        "### 입력\n",
        "    첫 줄에 테스트케이스의 개수 T가 주어진다. T는 최대 1,000,000이다. 다음 T줄에는 각각 두 정수 A와 B가 주어진다. A와 B는 1 이상, 1,000 이하이다.\n",
        "\n",
        "### 출력\n",
        "    각 테스트케이스마다 A+B를 한 줄에 하나씩 순서대로 출력한다.\n",
        "\n",
        "### 예제 입력 1\n",
        "    5\n",
        "    1 1\n",
        "    12 34\n",
        "    5 500\n",
        "    40 60\n",
        "    1000 1000\n",
        "\n",
        "### 예제 출력 1\n",
        "    2\n",
        "    46\n",
        "    505\n",
        "    100\n",
        "    2000"
      ]
    },
    {
      "cell_type": "markdown",
      "metadata": {
        "id": "sERT0afqumN0"
      },
      "source": [
        "### Code"
      ]
    },
    {
      "cell_type": "code",
      "metadata": {
        "id": "WkLGElBptHva"
      },
      "source": [
        "# this doesn't work in colab\n",
        "from sys import stdin\n",
        "\n",
        "t = int(stdin.readline())\n",
        "\n",
        "for i in range(t):\n",
        "  digits = map(int, stdin.readline().split())\n",
        "  result = sum(digits)\n",
        "  print(result)"
      ],
      "execution_count": null,
      "outputs": []
    },
    {
      "cell_type": "markdown",
      "metadata": {
        "id": "me3zFONXtL0L"
      },
      "source": [
        "## 2741. N 찍기"
      ]
    },
    {
      "cell_type": "markdown",
      "metadata": {
        "id": "L8ESCcj6tv8Q"
      },
      "source": [
        "### 문제\n",
        "    자연수 N이 주어졌을 때, 1부터 N까지 한 줄에 하나씩 출력하는 프로그램을 작성하시오.\n",
        "\n",
        "### 입력\n",
        "    첫째 줄에 100,000보다 작거나 같은 자연수 N이 주어진다.\n",
        "\n",
        "### 출력\n",
        "    첫째 줄부터 N번째 줄 까지 차례대로 출력한다.\n",
        "\n",
        "### 예제 입력 1\n",
        "    5\n",
        "\n",
        "### 예제 출력 1\n",
        "    1\n",
        "    2\n",
        "    3\n",
        "    4\n",
        "    5"
      ]
    },
    {
      "cell_type": "markdown",
      "metadata": {
        "id": "zjbhcTpbt6fc"
      },
      "source": [
        "### Code"
      ]
    },
    {
      "cell_type": "code",
      "metadata": {
        "id": "QFAN0nMhuqkr"
      },
      "source": [
        "from sys import stdin\n",
        "N = int(stdin.readline().rstrip())\n",
        "\n",
        "for i in range(N):\n",
        "  print(i+1)"
      ],
      "execution_count": null,
      "outputs": []
    },
    {
      "cell_type": "markdown",
      "metadata": {
        "id": "c6aq3ZkruvP2"
      },
      "source": [
        "## 2742. 기찍 N"
      ]
    },
    {
      "cell_type": "markdown",
      "metadata": {
        "id": "4wSW0Zm5uzMj"
      },
      "source": [
        "### 문제\n",
        "    자연수 N이 주어졌을 때, N부터 1까지 한 줄에 하나씩 출력하는 프로그램을 작성하시오.\n",
        "\n",
        "### 입력\n",
        "    첫째 줄에 100,000보다 작거나 같은 자연수 N이 주어진다.\n",
        "\n",
        "### 출력\n",
        "    첫째 줄부터 N번째 줄 까지 차례대로 출력한다.\n",
        "\n",
        "### 예제 입력 1\n",
        "    5\n",
        "### 예제 출력 1\n",
        "    5\n",
        "    4\n",
        "    3\n",
        "    2\n",
        "    1"
      ]
    },
    {
      "cell_type": "markdown",
      "metadata": {
        "id": "1Yo62AtVu9zk"
      },
      "source": [
        "### Code"
      ]
    },
    {
      "cell_type": "code",
      "metadata": {
        "id": "uvnfU2mvu_xO"
      },
      "source": [
        "# N = int(input())\n",
        "from sys import stdin\n",
        "N = int(stdin.readline())\n",
        "\n",
        "for i in range(N, 0, -1):\n",
        "  print(i)"
      ],
      "execution_count": null,
      "outputs": []
    },
    {
      "cell_type": "markdown",
      "metadata": {
        "id": "-zAQCQIGvD6D"
      },
      "source": [
        "## 11021. A+B - 7"
      ]
    },
    {
      "cell_type": "markdown",
      "metadata": {
        "id": "cAnnewAXvJJ7"
      },
      "source": [
        "### 문제\n",
        "    두 정수 A와 B를 입력받은 다음, A+B를 출력하는 프로그램을 작성하시오.\n",
        "\n",
        "### 입력\n",
        "    첫째 줄에 테스트 케이스의 개수 T가 주어진다.\n",
        "    \n",
        "    각 테스트 케이스는 한 줄로 이루어져 있으며, 각 줄에 A와 B가 주어진다. (0 < A, B < 10)\n",
        "\n",
        "### 출력\n",
        "    각 테스트 케이스마다 \"Case #x: \"를 출력한 다음, A+B를 출력한다. 테스트 케이스 번호는 1부터 시작한다.\n",
        "\n",
        "### 예제 입력 1\n",
        "    5\n",
        "    1 1\n",
        "    2 3\n",
        "    3 4\n",
        "    9 8\n",
        "    5 2\n",
        "\n",
        "### 예제 출력 1\n",
        "    Case #1: 2\n",
        "    Case #2: 5\n",
        "    Case #3: 7\n",
        "    Case #4: 17\n",
        "    Case #5: 7"
      ]
    },
    {
      "cell_type": "markdown",
      "metadata": {
        "id": "9gqJ_-6DvXwl"
      },
      "source": [
        "### Code\n"
      ]
    },
    {
      "cell_type": "code",
      "metadata": {
        "id": "bydRGWVPvY8M"
      },
      "source": [
        "from sys import stdin\n",
        "t = int(stdin.readline())\n",
        "\n",
        "for i in range(t):\n",
        "  digits = map(int, stdin.readline().split())\n",
        "  print(\"Case #{}:\".format(i+1), str(sum(digits)))"
      ],
      "execution_count": null,
      "outputs": []
    },
    {
      "cell_type": "markdown",
      "metadata": {
        "id": "su-bz0kCvf-x"
      },
      "source": [
        "## 11022. A+B - 8"
      ]
    },
    {
      "cell_type": "markdown",
      "metadata": {
        "id": "b34w_gYTvpWJ"
      },
      "source": [
        "### 문제\n",
        "    두 정수 A와 B를 입력받은 다음, A+B를 출력하는 프로그램을 작성하시오.\n",
        "\n",
        "### 입력\n",
        "    첫째 줄에 테스트 케이스의 개수 T가 주어진다.\n",
        "    \n",
        "    각 테스트 케이스는 한 줄로 이루어져 있으며, 각 줄에 A와 B가 주어진다. (0 < A, B < 10)\n",
        "\n",
        "### 출력\n",
        "    각 테스트 케이스마다 \"Case #x: A + B = C\" 형식으로 출력한다. x는 테스트 케이스 번호이고 1부터 시작하며, C는 A+B이다.\n",
        "\n",
        "### 예제 입력 1\n",
        "    5\n",
        "    1 1\n",
        "    2 3\n",
        "    3 4\n",
        "    9 8\n",
        "    5 2\n",
        "\n",
        "### 예제 출력 1\n",
        "    Case #1: 1 + 1 = 2\n",
        "    Case #2: 2 + 3 = 5\n",
        "    Case #3: 3 + 4 = 7\n",
        "    Case #4: 9 + 8 = 17\n",
        "    Case #5: 5 + 2 = 7"
      ]
    },
    {
      "cell_type": "markdown",
      "metadata": {
        "id": "HxRV0r9SwW-g"
      },
      "source": [
        "### Code"
      ]
    },
    {
      "cell_type": "code",
      "metadata": {
        "id": "8omWdB5GwYih"
      },
      "source": [
        "from sys import stdin\n",
        "t = int(stdin.readline())\n",
        "\n",
        "for i in range(t):\n",
        "  digits = list(map(int, stdin.readline().split()))\n",
        "  print(\"Case #{}: {} + {} = {}\".format(i+1, digits[0], digits[1], sum(digits)))"
      ],
      "execution_count": null,
      "outputs": []
    },
    {
      "cell_type": "markdown",
      "metadata": {
        "id": "ztSxShNiwbCq"
      },
      "source": [
        "## 2438\t별 찍기 - 1"
      ]
    },
    {
      "cell_type": "markdown",
      "metadata": {
        "id": "WN9kKSkBwf6a"
      },
      "source": [
        "### 문제\n",
        "    첫째 줄에는 별 1개, 둘째 줄에는 별 2개, N번째 줄에는 별 N개를 찍는 문제\n",
        "\n",
        "### 입력\n",
        "    첫째 줄에 N(1 ≤ N ≤ 100)이 주어진다.\n",
        "\n",
        "### 출력\n",
        "    첫째 줄부터 N번째 줄까지 차례대로 별을 출력한다.\n",
        "\n",
        "### 예제 입력 1\n",
        "    5\n",
        "\n",
        "### 예제 출력 1\n",
        "    *\n",
        "    **\n",
        "    ***\n",
        "    ****\n",
        "    *****"
      ]
    },
    {
      "cell_type": "markdown",
      "metadata": {
        "id": "p-Rd7AE8wvLR"
      },
      "source": [
        "### Code"
      ]
    },
    {
      "cell_type": "code",
      "metadata": {
        "id": "tbM3inyuwv_S"
      },
      "source": [
        "from sys import stdin, stdout\n",
        "n = int(stdin.readline())\n",
        "\n",
        "for i in range(n):\n",
        "  for j in range(i+1):\n",
        "    stdout.write('*')\n",
        "  if i+1 != n: \n",
        "    stdout.write('\\n')"
      ],
      "execution_count": null,
      "outputs": []
    },
    {
      "cell_type": "markdown",
      "metadata": {
        "id": "SC1bldelwykD"
      },
      "source": [
        "## 2439. 별 찍기 - 2"
      ]
    },
    {
      "cell_type": "markdown",
      "metadata": {
        "id": "92PZf1QUw8AE"
      },
      "source": [
        "### 문제\n",
        "    첫째 줄에는 별 1개, 둘째 줄에는 별 2개, N번째 줄에는 별 N개를 찍는 문제\n",
        "    \n",
        "    하지만, 오른쪽을 기준으로 정렬한 별(예제 참고)을 출력하시오.\n",
        "\n",
        "### 입력\n",
        "    첫째 줄에 N(1 ≤ N ≤ 100)이 주어진다.\n",
        "\n",
        "### 출력\n",
        "    첫째 줄부터 N번째 줄까지 차례대로 별을 출력한다.\n",
        "\n",
        "### 예제 입력 1\n",
        "    5\n",
        "### 예제 출력 1\n",
        "        *\n",
        "       **\n",
        "      ***\n",
        "     ****\n",
        "    *****"
      ]
    },
    {
      "cell_type": "markdown",
      "metadata": {
        "id": "tAbkVuUxxG0T"
      },
      "source": [
        "### Code"
      ]
    },
    {
      "cell_type": "code",
      "metadata": {
        "id": "D6GbCtYCxIBK"
      },
      "source": [
        "from sys import stdin\n",
        "n = int(stdin.readline())\n",
        "#n = int(input())\n",
        "\n",
        "for i in range(n):\n",
        "  result = \"\"\n",
        "  for j in range(i+1):\n",
        "    result += \"*\"\n",
        "  print(result.rjust(n))"
      ],
      "execution_count": null,
      "outputs": []
    },
    {
      "cell_type": "markdown",
      "metadata": {
        "id": "r9yzCr40xQM9"
      },
      "source": [
        "## 10871. X보다 작은 수"
      ]
    },
    {
      "cell_type": "markdown",
      "metadata": {
        "id": "ivHZmK-DxXR4"
      },
      "source": [
        "### 문제\n",
        "    정수 N개로 이루어진 수열 A와 정수 X가 주어진다. 이때, A에서 X보다 작은 수를 모두 출력하는 프로그램을 작성하시오.\n",
        "\n",
        "### 입력\n",
        "    첫째 줄에 N과 X가 주어진다. (1 ≤ N, X ≤ 10,000)\n",
        "    \n",
        "    둘째 줄에 수열 A를 이루는 정수 N개가 주어진다. 주어지는 정수는 모두 1보다 크거나 같고, 10,000보다 작거나 같은 정수이다.\n",
        "\n",
        "### 출력\n",
        "    X보다 작은 수를 입력받은 순서대로 공백으로 구분해 출력한다. X보다 작은 수는 적어도 하나 존재한다.\n",
        "\n",
        "### 예제 입력 1\n",
        "    10 5\n",
        "    1 10 4 9 2 3 8 5 7 6\n",
        "\n",
        "### 예제 출력 1\n",
        "    1 4 2 3"
      ]
    },
    {
      "cell_type": "markdown",
      "metadata": {
        "id": "9QScuoV4xgKQ"
      },
      "source": [
        "### Code"
      ]
    },
    {
      "cell_type": "code",
      "metadata": {
        "id": "oQORMwBIxhIo"
      },
      "source": [
        "from sys import stdin\n",
        "n, x = list(map(int, stdin.readline().split()))\n",
        "\n",
        "a = list(map(int, stdin.readline().split()))\n",
        "result = list()\n",
        "\n",
        "for i in a:\n",
        "  if i < x:\n",
        "    result.append(str(i))\n",
        "  else:\n",
        "    pass\n",
        "\n",
        "print(' '.join(result))"
      ],
      "execution_count": null,
      "outputs": []
    },
    {
      "cell_type": "markdown",
      "metadata": {
        "id": "zSEQTW55earo"
      },
      "source": [
        "<a href=\"https://colab.research.google.com/github/graphy-young/algorithm/blob/main/Baekjoon%20Online%20Judge/4_While%EB%AC%B8.ipynb\" target=\"_parent\"><img src=\"https://colab.research.google.com/assets/colab-badge.svg\" alt=\"Open In Colab\"/></a>"
      ]
    },
    {
      "cell_type": "markdown",
      "metadata": {
        "id": "PvdeqBdb1Iod"
      },
      "source": [
        "# 4. While문"
      ]
    },
    {
      "cell_type": "markdown",
      "metadata": {
        "id": "bMriFQRF1ScM"
      },
      "source": [
        "while문을 사용해 봅시다."
      ]
    },
    {
      "cell_type": "markdown",
      "metadata": {
        "id": "uOC0uK3A1UZu"
      },
      "source": [
        "## 10952. A+B - 5"
      ]
    },
    {
      "cell_type": "markdown",
      "metadata": {
        "id": "vtkpr_-c1Y3V"
      },
      "source": [
        "### 문제\n",
        "    두 정수 A와 B를 입력받은 다음, A+B를 출력하는 프로그램을 작성하시오.\n",
        "\n",
        "### 입력\n",
        "    입력은 여러 개의 테스트 케이스로 이루어져 있다.\n",
        "    \n",
        "    각 테스트 케이스는 한 줄로 이루어져 있으며, 각 줄에 A와 B가 주어진다. (0 < A, B < 10)\n",
        "    \n",
        "    입력의 마지막에는 0 두 개가 들어온다.\n",
        "\n",
        "### 출력\n",
        "    각 테스트 케이스마다 A+B를 출력한다.\n",
        "\n",
        "### 예제 입력 1\n",
        "    1 1\n",
        "    2 3\n",
        "    3 4\n",
        "    9 8\n",
        "    5 2\n",
        "    0 0\n",
        "\n",
        "### 예제 출력 1\n",
        "    2\n",
        "    5\n",
        "    7\n",
        "    17\n",
        "    7"
      ]
    },
    {
      "cell_type": "markdown",
      "metadata": {
        "id": "ITdkrEcX1bbW"
      },
      "source": [
        "### Code"
      ]
    },
    {
      "cell_type": "code",
      "metadata": {
        "colab": {
          "base_uri": "https://localhost:8080/"
        },
        "id": "iXRpnAOO1qHh",
        "outputId": "c3ff02f0-f05b-480e-9acc-ac99ba84df25"
      },
      "source": [
        "from sys import stdin\n",
        "\n",
        "while(True):\n",
        "  #A, B = list(map(int, stdin.readline().split()))\n",
        "  A, B = list(map(int, input().split()))\n",
        "  if A == 0 and B == 0:\n",
        "    break\n",
        "  else:\n",
        "    print(A+B)"
      ],
      "execution_count": null,
      "outputs": [
        {
          "output_type": "stream",
          "text": [
            "1 1\n",
            "2\n",
            "2 3\n",
            "5\n",
            "3 4\n",
            "7\n",
            "9 8\n",
            "17\n",
            "5 2\n",
            "7\n",
            "0 0\n"
          ],
          "name": "stdout"
        }
      ]
    },
    {
      "cell_type": "markdown",
      "metadata": {
        "id": "NUbiGawR92qv"
      },
      "source": [
        "## 10951. A+B - 4"
      ]
    },
    {
      "cell_type": "markdown",
      "metadata": {
        "id": "nAbTk7dH96Sz"
      },
      "source": [
        "### 문제\n",
        "    두 정수 A와 B를 입력받은 다음, A+B를 출력하는 프로그램을 작성하시오.\n",
        "\n",
        "### 입력\n",
        "    입력은 여러 개의 테스트 케이스로 이루어져 있다.\n",
        "    \n",
        "    각 테스트 케이스는 한 줄로 이루어져 있으며, 각 줄에 A와 B가 주어진다. (0 < A, B < 10)\n",
        "\n",
        "### 출력\n",
        "    각 테스트 케이스마다 A+B를 출력한다.\n",
        "\n",
        "### 예제 입력 1\n",
        "    1 1\n",
        "    2 3\n",
        "    3 4\n",
        "    9 8\n",
        "    5 2\n",
        "\n",
        "### 예제 출력 1\n",
        "    2\n",
        "    5\n",
        "    7\n",
        "    17\n",
        "    7"
      ]
    },
    {
      "cell_type": "markdown",
      "metadata": {
        "id": "sY6htPjN-EYY"
      },
      "source": [
        "### Code"
      ]
    },
    {
      "cell_type": "markdown",
      "metadata": {
        "id": "7ar-wcz1_DSq"
      },
      "source": [
        "EOF에 대응하는 방법을 알아야는데, 마땅히 괜찮은 방법이 인터넷에 안보임.."
      ]
    },
    {
      "cell_type": "code",
      "metadata": {
        "id": "ZTaEkKod-FnD"
      },
      "source": [
        "from sys import stdin\n",
        "\n",
        "while(True):\n",
        "  try:\n",
        "    A, B = list(map(int, stdin.readline().split()))\n",
        "    #A, B = list(map(int, input().split()))\n",
        "  except ValueError:\n",
        "    break\n",
        "  print(A+B)"
      ],
      "execution_count": null,
      "outputs": []
    },
    {
      "cell_type": "markdown",
      "metadata": {
        "id": "ugA_wKe1UFo4"
      },
      "source": [
        "## 1110. 더하기 사이클"
      ]
    },
    {
      "cell_type": "markdown",
      "metadata": {
        "id": "32tP9rFgUIm4"
      },
      "source": [
        "### 입력\n",
        "    첫째 줄에 N이 주어진다. N은 0보다 크거나 같고, 99보다 작거나 같은 정수이다.\n",
        "\n",
        "### 출력\n",
        "    첫째 줄에 N의 사이클 길이를 출력한다.\n",
        "\n",
        "### 예제 입력 1 \n",
        "    26\n",
        "### 예제 출력 1 \n",
        "    4\n",
        "### 예제 입력 2 \n",
        "    55\n",
        "### 예제 출력 2 \n",
        "     3\n",
        "### 예제 입력 3 \n",
        "    1\n",
        "### 예제 출력 3 \n",
        "    60\n",
        "### 예제 입력 4 \n",
        "    0\n",
        "### 예제 출력 4\n",
        "    1"
      ]
    },
    {
      "cell_type": "markdown",
      "metadata": {
        "id": "S4aDFttkUUtX"
      },
      "source": [
        "### Code"
      ]
    },
    {
      "cell_type": "code",
      "metadata": {
        "colab": {
          "base_uri": "https://localhost:8080/"
        },
        "id": "ZrNhSXV5UWU4",
        "outputId": "db888bb6-8eb1-49f2-f2f9-2e3400bfaef4"
      },
      "source": [
        "digit = int(input())\n",
        "\n",
        "if digit < 10:\n",
        "  digit = digit * 10\n",
        "\n",
        "tens = digit // 10\n",
        "units = digit % 10\n",
        "cnt = 0\n",
        "\n",
        "while(True):\n",
        "  tens, units = units, tens\n",
        "  units = tens + units\n",
        "  if units >= 10: \n",
        "    units = units % 10\n",
        "  cnt += 1\n",
        "  if digit == tens*10 + units:\n",
        "    break\n",
        "\n",
        "print(cnt)"
      ],
      "execution_count": null,
      "outputs": [
        {
          "output_type": "stream",
          "text": [
            "26\n",
            "4\n"
          ],
          "name": "stdout"
        }
      ]
    },
    {
      "cell_type": "markdown",
      "metadata": {
        "id": "SrSLIN0Qearq"
      },
      "source": [
        "<a href=\"https://colab.research.google.com/github/graphy-young/algorithm/blob/main/Baekjoon%20Online%20Judge/5_1%EC%B0%A8%EC%9B%90%20%EB%B0%B0%EC%97%B4.ipynb\" target=\"_parent\"><img src=\"https://colab.research.google.com/assets/colab-badge.svg\" alt=\"Open In Colab\"/></a>"
      ]
    },
    {
      "cell_type": "markdown",
      "metadata": {
        "id": "oF-9SIpItIjk"
      },
      "source": [
        "# 5. 1차원 배열\n",
        "\n",
        "배열을 사용해 봅시다."
      ]
    },
    {
      "cell_type": "markdown",
      "metadata": {
        "id": "MvkYgUqctYiy"
      },
      "source": [
        "## 10818. 최소, 최대"
      ]
    },
    {
      "cell_type": "markdown",
      "metadata": {
        "id": "cIXBJjrUtRDP"
      },
      "source": [
        "### 문제\n",
        "    N개의 정수가 주어진다. 이때, 최솟값과 최댓값을 구하는 프로그램을 작성하시오.\n",
        "\n",
        "### 입력\n",
        "    첫째 줄에 정수의 개수 N (1 ≤ N ≤ 1,000,000)이 주어진다. 둘째 줄에는 N개의 정수를 공백으로 구분해서 주어진다. 모든 정수는 -1,000,000보다 크거나 같고, 1,000,000보다 작거나 같은 정수이다.\n",
        "\n",
        "### 출력\n",
        "    첫째 줄에 주어진 정수 N개의 최솟값과 최댓값을 공백으로 구분해 출력한다.\n",
        "\n",
        "### 예제 입력 1 \n",
        "    5\n",
        "    20 10 35 30 7\n",
        "### 예제 출력 1 \n",
        "    7 35"
      ]
    },
    {
      "cell_type": "markdown",
      "metadata": {
        "id": "5aHf13idtl1k"
      },
      "source": [
        "### Code"
      ]
    },
    {
      "cell_type": "code",
      "metadata": {
        "colab": {
          "base_uri": "https://localhost:8080/"
        },
        "id": "hdeedr_0tnPu",
        "outputId": "2f366e70-b222-448a-f095-e478f720c5b8"
      },
      "source": [
        "digitNums = int(input())\n",
        "numbers = list(map(int, input().split()))\n",
        "\n",
        "print(min(numbers), max(numbers))"
      ],
      "execution_count": null,
      "outputs": [
        {
          "output_type": "stream",
          "text": [
            "5\n",
            "20 10 35 30 7\n",
            "35 7\n"
          ],
          "name": "stdout"
        }
      ]
    },
    {
      "cell_type": "markdown",
      "metadata": {
        "id": "xVV8gwsVunfH"
      },
      "source": [
        "## 2562. 최댓값"
      ]
    },
    {
      "cell_type": "markdown",
      "metadata": {
        "id": "_ta2Lg-yuqFO"
      },
      "source": [
        "### 문제\n",
        "    9개의 서로 다른 자연수가 주어질 때, 이들 중 최댓값을 찾고 그 최댓값이 몇 번째 수인지를 구하는 프로그램을 작성하시오.\n",
        "    \n",
        "    예를 들어, 서로 다른 9개의 자연수\n",
        "    \n",
        "    3, 29, 38, 12, 57, 74, 40, 85, 61\n",
        "    \n",
        "    이 주어지면, 이들 중 최댓값은 85이고, 이 값은 8번째 수이다.\n",
        "\n",
        "### 입력\n",
        "    첫째 줄부터 아홉 번째 줄까지 한 줄에 하나의 자연수가 주어진다. 주어지는 자연수는 100 보다 작다.\n",
        "\n",
        "### 출력\n",
        "    첫째 줄에 최댓값을 출력하고, 둘째 줄에 최댓값이 몇 번째 수인지를 출력한다.\n",
        "\n",
        "### 예제 입력 1 \n",
        "    3\n",
        "    29\n",
        "    38\n",
        "    12\n",
        "    57\n",
        "    74\n",
        "    40\n",
        "    85\n",
        "    61\n",
        "\n",
        "### 예제 출력 1 \n",
        "    85\n",
        "    8"
      ]
    },
    {
      "cell_type": "markdown",
      "metadata": {
        "id": "q6UZG6pVu3Y4"
      },
      "source": [
        "### Code"
      ]
    },
    {
      "cell_type": "code",
      "metadata": {
        "colab": {
          "base_uri": "https://localhost:8080/"
        },
        "id": "Ngq-bQ4qu44s",
        "outputId": "2ad30b53-2c82-466d-f97c-16d27c6fc6ae"
      },
      "source": [
        "maxValue = 0\n",
        "cnt = 0\n",
        "\n",
        "for i in range(9):\n",
        "  digit = int(input())\n",
        "  if maxValue < digit:\n",
        "    maxValue = digit\n",
        "    cnt = i + 1  \n",
        "  else:\n",
        "    continue\n",
        "else:\n",
        "  print(maxValue)\n",
        "  print(cnt)"
      ],
      "execution_count": null,
      "outputs": [
        {
          "output_type": "stream",
          "text": [
            "3\n",
            "29\n",
            "38\n",
            "12\n",
            "57\n",
            "74\n",
            "40\n",
            "85\n",
            "61\n",
            "85\n",
            "8\n"
          ],
          "name": "stdout"
        }
      ]
    },
    {
      "cell_type": "markdown",
      "metadata": {
        "id": "XGsvTPwwwjFo"
      },
      "source": [
        "## 2577. 숫자의 개수"
      ]
    },
    {
      "cell_type": "markdown",
      "metadata": {
        "id": "vnYDuwduwlhH"
      },
      "source": [
        "### 문제\n",
        "    세 개의 자연수 A, B, C가 주어질 때 A×B×C를 계산한 결과에 0부터 9까지 각각의 숫자가 몇 번씩 쓰였는지를 구하는 프로그램을 작성하시오.\n",
        "    \n",
        "    예를 들어 A = 150, B = 266, C = 427 이라면 \n",
        "    \n",
        "    A × B × C = 150 × 266 × 427 = 17037300 이 되고, \n",
        "    \n",
        "    계산한 결과 17037300 에는 0이 3번, 1이 1번, 3이 2번, 7이 2번 쓰였다.\n",
        "\n",
        "### 입력\n",
        "    첫째 줄에 A, 둘째 줄에 B, 셋째 줄에 C가 주어진다. A, B, C는 모두 100보다 같거나 크고, 1,000보다 작은 자연수이다.\n",
        "\n",
        "### 출력\n",
        "    첫째 줄에는 A×B×C의 결과에 0 이 몇 번 쓰였는지 출력한다. 마찬가지로 둘째 줄부터 열 번째 줄까지 A×B×C의 결과에 1부터 9까지의 숫자가 각각 몇 번 쓰였는지 차례로 한 줄에 하나씩 출력한다.\n",
        "\n",
        "### 예제 입력 1 \n",
        "    150\n",
        "    266\n",
        "    427\n",
        "\n",
        "\n",
        "### 예제 출력 1 \n",
        "    3\n",
        "    1\n",
        "    0\n",
        "    2\n",
        "    0\n",
        "    0\n",
        "    0\n",
        "    2\n",
        "    0\n",
        "    0"
      ]
    },
    {
      "cell_type": "markdown",
      "metadata": {
        "id": "FFw7jJjKwzIe"
      },
      "source": [
        "### Code"
      ]
    },
    {
      "cell_type": "code",
      "metadata": {
        "colab": {
          "base_uri": "https://localhost:8080/"
        },
        "id": "4e6AFYTVw0Fz",
        "outputId": "0caef99e-aa1b-4eaa-a5a8-3cae0f67e4b1"
      },
      "source": [
        "numbers = 1\n",
        "for i in range(3):\n",
        "  numbers *= int(input())\n",
        "numbers = list(map(int, list(str(numbers))))\n",
        "\n",
        "for digit in range(10):\n",
        "  cnt = 0\n",
        "  for number in numbers:\n",
        "    if number == digit:\n",
        "      cnt += 1\n",
        "  print(cnt)"
      ],
      "execution_count": null,
      "outputs": [
        {
          "output_type": "stream",
          "text": [
            "150\n",
            "266\n",
            "427\n",
            "[1, 7, 0, 3, 7, 3, 0, 0]\n",
            "3\n",
            "1\n",
            "0\n",
            "2\n",
            "0\n",
            "0\n",
            "0\n",
            "2\n",
            "0\n",
            "0\n"
          ],
          "name": "stdout"
        }
      ]
    },
    {
      "cell_type": "markdown",
      "metadata": {
        "id": "bi2KLxnfWGqf"
      },
      "source": [
        "## 3052. 나머지"
      ]
    },
    {
      "cell_type": "markdown",
      "metadata": {
        "id": "SOZRXAR-WI4L"
      },
      "source": [
        "### 문제\n",
        "    두 자연수 A와 B가 있을 때, A%B는 A를 B로 나눈 나머지 이다. 예를 들어, 7, 14, 27, 38을 3으로 나눈 나머지는 1, 2, 0, 2이다. \n",
        "    \n",
        "    수 10개를 입력받은 뒤, 이를 42로 나눈 나머지를 구한다. 그 다음 서로 다른 값이 몇 개 있는지 출력하는 프로그램을 작성하시오.\n",
        "\n",
        "### 입력\n",
        "    첫째 줄부터 열번째 줄 까지 숫자가 한 줄에 하나씩 주어진다. 이 숫자는 1,000보다 작거나 같고, 음이 아닌 정수이다.\n",
        "\n",
        "### 출력\n",
        "    첫째 줄에, 42로 나누었을 때, 서로 다른 나머지가 몇 개 있는지 출력한다.\n",
        "\n",
        "### 예제 입력 1 \n",
        "    1\n",
        "    2\n",
        "    3\n",
        "    4\n",
        "    5\n",
        "    6\n",
        "    7\n",
        "    8\n",
        "    9\n",
        "    10\n",
        "\n",
        "### 예제 출력 1 \n",
        "    10\n",
        "각 수를 42로 나눈 나머지는 1, 2, 3, 4, 5, 6, 7, 8, 9, 10이다.\n",
        "\n",
        "### 예제 입력 2 \n",
        "    42\n",
        "    84\n",
        "    252\n",
        "    420\n",
        "    840\n",
        "    126\n",
        "    42\n",
        "    84\n",
        "    420\n",
        "    126\n",
        "\n",
        "### 예제 출력 2 \n",
        "    1\n",
        "모든 수를 42로 나눈 나머지는 0이다.\n",
        "\n",
        "### 예제 입력 3 \n",
        "    39\n",
        "    40\n",
        "    41\n",
        "    42\n",
        "    43\n",
        "    44\n",
        "    82\n",
        "    83\n",
        "    84\n",
        "    85\n",
        "\n",
        "### 예제 출력 3 \n",
        "    6\n",
        "각 수를 42로 나눈 나머지는 39, 40, 41, 0, 1, 2, 40, 41, 0, 1이다. 서로 다른 값은 6개가 있다."
      ]
    },
    {
      "cell_type": "markdown",
      "metadata": {
        "id": "DsFoZ0WOWxSn"
      },
      "source": [
        "### Code"
      ]
    },
    {
      "cell_type": "code",
      "metadata": {
        "colab": {
          "base_uri": "https://localhost:8080/"
        },
        "id": "nzLG3uJtWykK",
        "outputId": "b663c1dd-15f1-4bf7-d068-1af7d6aeeb89"
      },
      "source": [
        "numbers = list()\n",
        "\n",
        "for i in range(10):\n",
        "  numbers.append(int(input()))\n",
        "  numbers[i] = numbers[i] % 42\n",
        "\n",
        "numbers = list(set(numbers))\n",
        "print(len(numbers))"
      ],
      "execution_count": null,
      "outputs": [
        {
          "output_type": "stream",
          "text": [
            "39\n",
            "40\n",
            "41\n",
            "42\n",
            "43\n",
            "44\n",
            "82\n",
            "83\n",
            "84\n",
            "85\n",
            "6\n"
          ],
          "name": "stdout"
        }
      ]
    },
    {
      "cell_type": "markdown",
      "metadata": {
        "id": "Ue_loKmpfzjb"
      },
      "source": [
        "## 1546. 평균"
      ]
    },
    {
      "cell_type": "markdown",
      "metadata": {
        "id": "VK1lVYHKf3Uj"
      },
      "source": [
        "### 문제\n",
        "    세준이는 기말고사를 망쳤다. 세준이는 점수를 조작해서 집에 가져가기로 했다. 일단 세준이는 자기 점수 중에 최댓값을 골랐다. 이 값을 M이라고 한다. 그리고 나서 모든 점수를 점수/M*100으로 고쳤다.\n",
        "    \n",
        "    예를 들어, 세준이의 최고점이 70이고, 수학점수가 50이었으면 수학점수는 50/70*100이 되어 71.43점이 된다.\n",
        "    \n",
        "    세준이의 성적을 위의 방법대로 새로 계산했을 때, 새로운 평균을 구하는 프로그램을 작성하시오.\n",
        "\n",
        "### 입력\n",
        "    첫째 줄에 시험 본 과목의 개수 N이 주어진다. 이 값은 1000보다 작거나 같다. 둘째 줄에 세준이의 현재 성적이 주어진다. 이 값은 100보다 작거나 같은 음이 아닌 정수이고, 적어도 하나의 값은 0보다 크다.\n",
        "\n",
        "### 출력\n",
        "    첫째 줄에 새로운 평균을 출력한다. 실제 정답과 출력값의 절대오차 또는 상대오차가 10-2 이하이면 정답이다.\n",
        "\n",
        "### 예제 입력 1 \n",
        "    3\n",
        "    40 80 60\n",
        "\n",
        "### 예제 출력 1 \n",
        "    75.0\n",
        "\n",
        "### 예제 입력 2 \n",
        "    3\n",
        "    10 20 30\n",
        "\n",
        "### 예제 출력 2 \n",
        "    66.666667\n",
        "10-2 이하의 오차를 허용한다는 말은 정확히 소수 2번째 자리까지 출력하라는 뜻이 아니다.\n",
        "\n",
        "### 예제 입력 3 \n",
        "    4\n",
        "    1 100 100 100\n",
        "\n",
        "### 예제 출력 3 \n",
        "    75.25\n",
        "\n",
        "### 예제 입력 4 \n",
        "    5\n",
        "    1 2 4 8 16\n",
        "\n",
        "### 예제 출력 4 \n",
        "    38.75\n",
        "### 예제 입력 5 \n",
        "    2\n",
        "    3 10\n",
        "\n",
        "### 예제 출력 5 \n",
        "    65.0"
      ]
    },
    {
      "cell_type": "markdown",
      "metadata": {
        "id": "ktD7b0yEgW-6"
      },
      "source": [
        "### Code"
      ]
    },
    {
      "cell_type": "code",
      "metadata": {
        "colab": {
          "base_uri": "https://localhost:8080/"
        },
        "id": "V2uI77A8gYrL",
        "outputId": "2d98442c-2670-4857-e04f-c51f4bc03468"
      },
      "source": [
        "subjectNumber = int(input())\n",
        "scores = list(map(int, input().split()))\n",
        "\n",
        "maxScore = max(scores)\n",
        "for score in scores:\n",
        "  scores[scores.index(score)] = score / maxScore * 100\n",
        "\n",
        "avg = sum(scores) / len(scores)\n",
        "print(avg)"
      ],
      "execution_count": null,
      "outputs": [
        {
          "output_type": "stream",
          "text": [
            "3\n",
            "40 80 60\n",
            "[50.0, 100.0, 75.0]\n",
            "75.0\n"
          ],
          "name": "stdout"
        }
      ]
    },
    {
      "cell_type": "markdown",
      "metadata": {
        "id": "1qtzR_E5l0L8"
      },
      "source": [
        "## 8958. OX퀴즈"
      ]
    },
    {
      "cell_type": "markdown",
      "metadata": {
        "id": "zhX_BIANl3Gh"
      },
      "source": [
        "### 문제\n",
        "    \"OOXXOXXOOO\"와 같은 OX퀴즈의 결과가 있다. O는 문제를 맞은 것이고, X는 문제를 틀린 것이다. 문제를 맞은 경우 그 문제의 점수는 그 문제까지 연속된 O의 개수가 된다. 예를 들어, 10번 문제의 점수는 3이 된다.\n",
        "    \n",
        "    \"OOXXOXXOOO\"의 점수는 1+2+0+0+1+0+0+1+2+3 = 10점이다.\n",
        "    \n",
        "    OX퀴즈의 결과가 주어졌을 때, 점수를 구하는 프로그램을 작성하시오.\n",
        "\n",
        "### 입력\n",
        "    첫째 줄에 테스트 케이스의 개수가 주어진다. 각 테스트 케이스는 한 줄로 이루어져 있고, 길이가 0보다 크고 80보다 작은 문자열이 주어진다. 문자열은 O와 X만으로 이루어져 있다.\n",
        "\n",
        "### 출력\n",
        "    각 테스트 케이스마다 점수를 출력한다.\n",
        "\n",
        "### 예제 입력 1 \n",
        "    5\n",
        "    OOXXOXXOOO\n",
        "    OOXXOOXXOO\n",
        "    OXOXOXOXOXOXOX\n",
        "    OOOOOOOOOO\n",
        "    OOOOXOOOOXOOOOX\n",
        "\n",
        "### 예제 출력 1 \n",
        "    10\n",
        "    9\n",
        "    7\n",
        "    55\n",
        "    30"
      ]
    },
    {
      "cell_type": "markdown",
      "metadata": {
        "id": "Tv6K-5bEmAmY"
      },
      "source": [
        "### Code"
      ]
    },
    {
      "cell_type": "code",
      "metadata": {
        "colab": {
          "base_uri": "https://localhost:8080/"
        },
        "id": "PRWqlkrRmBuy",
        "outputId": "6059072c-9102-4ef0-f303-6b0fadea36fc"
      },
      "source": [
        "testCase = int(input())\n",
        "\n",
        "for i in range(testCase):\n",
        "  scores = list(input())\n",
        "  cumCnt = 0\n",
        "  result = 0\n",
        "  for score in scores:\n",
        "    if score == 'O':\n",
        "      cumCnt += 1\n",
        "    else:\n",
        "      cumCnt = 0\n",
        "    result += cumCnt\n",
        "  print(result)"
      ],
      "execution_count": null,
      "outputs": [
        {
          "output_type": "stream",
          "text": [
            "5\n",
            "OOXXOXXOOO\n",
            "10\n",
            "OOXXOOXXOO\n",
            "9\n",
            "OXOXOXOXOXOXOX\n",
            "7\n",
            "OOOOOOOOOO\n",
            "55\n",
            "OOOOXOOOOXOOOOX\n",
            "30\n"
          ],
          "name": "stdout"
        }
      ]
    },
    {
      "cell_type": "markdown",
      "metadata": {
        "id": "ILep3fziGEAa"
      },
      "source": [
        "## 4344. 평균은 넘겠지"
      ]
    },
    {
      "cell_type": "markdown",
      "metadata": {
        "id": "DW54fKWtGGaT"
      },
      "source": [
        "### 문제\n",
        "    대학생 새내기들의 90%는 자신이 반에서 평균은 넘는다고 생각한다. 당신은 그들에게 슬픈 진실을 알려줘야 한다.\n",
        "\n",
        "### 입력\n",
        "    첫째 줄에는 테스트 케이스의 개수 C가 주어진다.\n",
        "    \n",
        "    둘째 줄부터 각 테스트 케이스마다 학생의 수 N(1 ≤ N ≤ 1000, N은 정수)이 첫 수로 주어지고, 이어서 N명의 점수가 주어진다. 점수는 0보다 크거나 같고, 100보다 작거나 같은 정수이다.\n",
        "\n",
        "### 출력\n",
        "    각 케이스마다 한 줄씩 평균을 넘는 학생들의 비율을 반올림하여 소수점 셋째 자리까지 출력한다.\n",
        "\n",
        "### 예제 입력 1 \n",
        "    5\n",
        "    5 50 50 70 80 100\n",
        "    7 100 95 90 80 70 60 50\n",
        "    3 70 90 80\n",
        "    3 70 90 81\n",
        "    9 100 99 98 97 96 95 94 93 91\n",
        "\n",
        "### 예제 출력 1 \n",
        "    40.000%\n",
        "    57.143%\n",
        "    33.333%\n",
        "    66.667%\n",
        "    55.556%"
      ]
    },
    {
      "cell_type": "markdown",
      "metadata": {
        "id": "7M2mgdQyGWsh"
      },
      "source": [
        "### Code"
      ]
    },
    {
      "cell_type": "code",
      "metadata": {
        "colab": {
          "base_uri": "https://localhost:8080/"
        },
        "id": "UHE7U_D9J_Mj",
        "outputId": "78b9e182-259c-4033-d03a-ee2ff347d5b5"
      },
      "source": [
        "#from sys import stdin\n",
        "\n",
        "testCase = int(input())\n",
        "#testCase = int(stdin.readline().rstrip())\n",
        "\n",
        "for i in range(testCase):\n",
        "  scores = list(map(int, input().split(' ')))\n",
        "  #scores = list(map(int, stdin.readline().split()))\n",
        "  groupAvg = sum(scores[1:]) / scores[0]\n",
        "  for score in scores[1:]:\n",
        "    if score > groupAvg:\n",
        "      scores[scores.index(score)] = True\n",
        "    else:\n",
        "      scores[scores.index(score)] = False\n",
        "  aboveRatio = round(sum(scores[1:]) / scores[0] * 100, 3)\n",
        "  print(\"%0.3f\" % aboveRatio + \"%\")"
      ],
      "execution_count": null,
      "outputs": [
        {
          "output_type": "stream",
          "text": [
            "5\n",
            "5 50 50 70 80 100\n",
            "40.000%\n",
            "7 100 95 90 80 70 60 50\n",
            "57.143%\n",
            "3 70 90 80\n",
            "33.333%\n",
            "3 70 90 81\n",
            "66.667%\n",
            "9 100 99 98 97 96 95 94 93 91\n",
            "55.556%\n"
          ],
          "name": "stdout"
        }
      ]
    },
    {
      "cell_type": "markdown",
      "metadata": {
        "id": "0qH_K9d_N-qA"
      },
      "source": [
        "** Colab에서는 정상 작동하나, 백준 제출에서는 런타임 에러 발생. 수정 필요할듯 **"
      ]
    },
    {
      "cell_type": "markdown",
      "metadata": {
        "id": "E6RXyzWfearw"
      },
      "source": [
        "<a href=\"https://colab.research.google.com/github/graphy-young/algorithm/blob/main/Baekjoon%20Online%20Judge/6_%ED%95%A8%EC%88%98.ipynb\" target=\"_parent\"><img src=\"https://colab.research.google.com/assets/colab-badge.svg\" alt=\"Open In Colab\"/></a>"
      ]
    },
    {
      "cell_type": "markdown",
      "metadata": {
        "id": "PPVGEoEFvc13"
      },
      "source": [
        "# 6. 함수\n",
        "\n",
        "함수를 정의하면 코드가 깔끔해지고 관리하기 쉬워집니다."
      ]
    },
    {
      "cell_type": "markdown",
      "metadata": {
        "id": "Ep_DFg5wvuqC"
      },
      "source": [
        "## 15596. 정수 N개의 합"
      ]
    },
    {
      "cell_type": "markdown",
      "metadata": {
        "id": "53nVEGoCv00d"
      },
      "source": [
        "### 문제\n",
        "    정수 n개가 주어졌을 때, n개의 합을 구하는 함수를 작성하시오.\n",
        "    \n",
        "    작성해야 하는 함수는 다음과 같다.\n",
        "    \n",
        "    C, C11, C (Clang), C11 (Clang): long long sum(int *a, int n);\n",
        "    a: 합을 구해야 하는 정수 n개가 저장되어 있는 배열 (0 ≤ a[i] ≤ 1,000,000, 1 ≤ n ≤ 3,000,000)\n",
        "    n: 합을 구해야 하는 정수의 개수\n",
        "    리턴값: a에 포함되어 있는 정수 n개의 합\n",
        "    \n",
        "    C++, C++11, C++14, C++17, C++ (Clang), C++11 (Clang), C++14 (Clang), C++17 (Clang): long long sum(std::vector<int> &a);\n",
        "    a: 합을 구해야 하는 정수 n개가 저장되어 있는 배열 (0 ≤ a[i] ≤ 1,000,000, 1 ≤ n ≤ 3,000,000)\n",
        "    리턴값: a에 포함되어 있는 정수 n개의 합\n",
        "    \n",
        "    Python 2, Python 3, PyPy, PyPy3: def solve(a: list) -> int\n",
        "    a: 합을 구해야 하는 정수 n개가 저장되어 있는 리스트 (0 ≤ a[i] ≤ 1,000,000, 1 ≤ n ≤ 3,000,000)\n",
        "    리턴값: a에 포함되어 있는 정수 n개의 합 (정수)\n",
        "    \n",
        "    Java: long sum(int[] a); (클래스 이름: Test)\n",
        "    a: 합을 구해야 하는 정수 n개가 저장되어 있는 배열 (0 ≤ a[i] ≤ 1,000,000, 1 ≤ n ≤ 3,000,000)\n",
        "    리턴값: a에 포함되어 있는 정수 n개의 합\n",
        "    \n",
        "    Go: sum(a []int) int\n",
        "    a: 합을 구해야 하는 정수 n개가 저장되어 있는 배열 (0 ≤ a[i] ≤ 1,000,000, 1 ≤ n ≤ 3,000,000)\n",
        "    리턴값: a에 포함되어 있는 정수 n개의 합"
      ]
    },
    {
      "cell_type": "markdown",
      "metadata": {
        "id": "ZOqzHTbhId6j"
      },
      "source": [
        "### Code"
      ]
    },
    {
      "cell_type": "code",
      "metadata": {
        "id": "WuYtwHGQwD2W"
      },
      "source": [
        "def solve(a):\n",
        "    return sum(a)"
      ],
      "execution_count": null,
      "outputs": []
    },
    {
      "cell_type": "markdown",
      "metadata": {
        "id": "1vz5TD3jIfgl"
      },
      "source": [
        "## 4673. 셀프 넘버"
      ]
    },
    {
      "cell_type": "markdown",
      "metadata": {
        "id": "OWAGE3bKImsn"
      },
      "source": [
        "### 문제\n",
        "    셀프 넘버는 1949년 인도 수학자 D.R. Kaprekar가 이름 붙였다. 양의 정수 n에 대해서 d(n)을 n과 n의 각 자리수를 더하는 함수라고 정의하자. 예를 들어, d(75) = 75+7+5 = 87이다.\n",
        "    \n",
        "    양의 정수 n이 주어졌을 때, 이 수를 시작해서 n, d(n), d(d(n)), d(d(d(n))), ...과 같은 무한 수열을 만들 수 있다. \n",
        "    \n",
        "    예를 들어, 33으로 시작한다면 다음 수는 33 + 3 + 3 = 39이고, 그 다음 수는 39 + 3 + 9 = 51, 다음 수는 51 + 5 + 1 = 57이다. 이런식으로 다음과 같은 수열을 만들 수 있다.\n",
        "    \n",
        "    33, 39, 51, 57, 69, 84, 96, 111, 114, 120, 123, 129, 141, ...\n",
        "    \n",
        "    n을 d(n)의 생성자라고 한다. 위의 수열에서 33은 39의 생성자이고, 39는 51의 생성자, 51은 57의 생성자이다. 생성자가 한 개보다 많은 경우도 있다. 예를 들어, 101은 생성자가 2개(91과 100) 있다. \n",
        "    \n",
        "    생성자가 없는 숫자를 셀프 넘버라고 한다. 100보다 작은 셀프 넘버는 총 13개가 있다. 1, 3, 5, 7, 9, 20, 31, 42, 53, 64, 75, 86, 97\n",
        "    \n",
        "    10000보다 작거나 같은 셀프 넘버를 한 줄에 하나씩 출력하는 프로그램을 작성하시오.\n",
        "\n",
        "### 입력\n",
        "    입력은 없다.\n",
        "\n",
        "### 출력\n",
        "    10,000보다 작거나 같은 셀프 넘버를 한 줄에 하나씩 증가하는 순서로 출력한다.\n",
        "\n",
        "### 예제 출력 1 \n",
        "    1\n",
        "    3\n",
        "    5\n",
        "    7\n",
        "    9\n",
        "    20\n",
        "    31\n",
        "    42\n",
        "    53\n",
        "    64\n",
        "     |\n",
        "     |       <-- a lot more numbers\n",
        "     |\n",
        "    9903\n",
        "    9914\n",
        "    9925\n",
        "    9927\n",
        "    9938\n",
        "    9949\n",
        "    9960\n",
        "    9971\n",
        "    9982\n",
        "    9993"
      ]
    },
    {
      "cell_type": "markdown",
      "metadata": {
        "id": "vQPbPlxaJCpX"
      },
      "source": [
        "### Code"
      ]
    },
    {
      "cell_type": "markdown",
      "metadata": {
        "id": "3A1EMO8xRQKH"
      },
      "source": [
        "#### 1st try. 시간초과\n",
        "\n",
        "오답인거같음..."
      ]
    },
    {
      "cell_type": "code",
      "metadata": {
        "colab": {
          "base_uri": "https://localhost:8080/"
        },
        "id": "qgRDbWEoJEAW",
        "outputId": "2e73aec6-bcd1-4e58-e0cc-1bb2d72e95a2"
      },
      "source": [
        "def getSelfNumber(num, numList=[]):\n",
        "  selfNumber = num + (num // 10) + (num % 10)\n",
        "  if selfNumber <= 10000:\n",
        "    numList.append(selfNumber)\n",
        "    return getSelfNumber(selfNumber, numList)\n",
        "  else:\n",
        "    return numList\n",
        "\n",
        "targetList = [i for i in range(1, 10001)]\n",
        "selfNumList = set()\n",
        "\n",
        "for i in range(1, 10001):\n",
        "  selfNumList.update(getSelfNumber(i))\n",
        "\n",
        "result = sorted(list(set(targetList) - selfNumList))\n",
        "\n",
        "for j in result:\n",
        "  print(j)"
      ],
      "execution_count": null,
      "outputs": [
        {
          "output_type": "stream",
          "text": [
            "1\n",
            "3\n",
            "5\n",
            "7\n",
            "9\n",
            "20\n",
            "31\n",
            "42\n",
            "53\n",
            "64\n",
            "75\n",
            "86\n",
            "97\n",
            "108\n",
            "119\n",
            "130\n",
            "141\n",
            "152\n",
            "163\n",
            "174\n",
            "185\n",
            "196\n",
            "207\n",
            "218\n",
            "229\n",
            "240\n",
            "251\n",
            "262\n",
            "273\n",
            "284\n",
            "295\n",
            "306\n",
            "317\n",
            "328\n",
            "339\n",
            "350\n",
            "361\n",
            "372\n",
            "383\n",
            "394\n",
            "405\n",
            "416\n",
            "427\n",
            "438\n",
            "449\n",
            "460\n",
            "471\n",
            "482\n",
            "493\n",
            "504\n",
            "515\n",
            "526\n",
            "537\n",
            "548\n",
            "559\n",
            "570\n",
            "581\n",
            "592\n",
            "603\n",
            "614\n",
            "625\n",
            "636\n",
            "647\n",
            "658\n",
            "669\n",
            "680\n",
            "691\n",
            "702\n",
            "713\n",
            "724\n",
            "735\n",
            "746\n",
            "757\n",
            "768\n",
            "779\n",
            "790\n",
            "801\n",
            "812\n",
            "823\n",
            "834\n",
            "845\n",
            "856\n",
            "867\n",
            "878\n",
            "889\n",
            "900\n",
            "911\n",
            "922\n",
            "933\n",
            "944\n",
            "955\n",
            "966\n",
            "977\n",
            "988\n",
            "999\n",
            "1010\n",
            "1021\n",
            "1032\n",
            "1043\n",
            "1054\n",
            "1065\n",
            "1076\n",
            "1087\n",
            "1098\n",
            "1109\n",
            "1120\n",
            "1131\n",
            "1142\n",
            "1153\n",
            "1164\n",
            "1175\n",
            "1186\n",
            "1197\n",
            "1208\n",
            "1219\n",
            "1230\n",
            "1241\n",
            "1252\n",
            "1263\n",
            "1274\n",
            "1285\n",
            "1296\n",
            "1307\n",
            "1318\n",
            "1329\n",
            "1340\n",
            "1351\n",
            "1362\n",
            "1373\n",
            "1384\n",
            "1395\n",
            "1406\n",
            "1417\n",
            "1428\n",
            "1439\n",
            "1450\n",
            "1461\n",
            "1472\n",
            "1483\n",
            "1494\n",
            "1505\n",
            "1516\n",
            "1527\n",
            "1538\n",
            "1549\n",
            "1560\n",
            "1571\n",
            "1582\n",
            "1593\n",
            "1604\n",
            "1615\n",
            "1626\n",
            "1637\n",
            "1648\n",
            "1659\n",
            "1670\n",
            "1681\n",
            "1692\n",
            "1703\n",
            "1714\n",
            "1725\n",
            "1736\n",
            "1747\n",
            "1758\n",
            "1769\n",
            "1780\n",
            "1791\n",
            "1802\n",
            "1813\n",
            "1824\n",
            "1835\n",
            "1846\n",
            "1857\n",
            "1868\n",
            "1879\n",
            "1890\n",
            "1901\n",
            "1912\n",
            "1923\n",
            "1934\n",
            "1945\n",
            "1956\n",
            "1967\n",
            "1978\n",
            "1989\n",
            "2000\n",
            "2011\n",
            "2022\n",
            "2033\n",
            "2044\n",
            "2055\n",
            "2066\n",
            "2077\n",
            "2088\n",
            "2099\n",
            "2110\n",
            "2121\n",
            "2132\n",
            "2143\n",
            "2154\n",
            "2165\n",
            "2176\n",
            "2187\n",
            "2198\n",
            "2209\n",
            "2220\n",
            "2231\n",
            "2242\n",
            "2253\n",
            "2264\n",
            "2275\n",
            "2286\n",
            "2297\n",
            "2308\n",
            "2319\n",
            "2330\n",
            "2341\n",
            "2352\n",
            "2363\n",
            "2374\n",
            "2385\n",
            "2396\n",
            "2407\n",
            "2418\n",
            "2429\n",
            "2440\n",
            "2451\n",
            "2462\n",
            "2473\n",
            "2484\n",
            "2495\n",
            "2506\n",
            "2517\n",
            "2528\n",
            "2539\n",
            "2550\n",
            "2561\n",
            "2572\n",
            "2583\n",
            "2594\n",
            "2605\n",
            "2616\n",
            "2627\n",
            "2638\n",
            "2649\n",
            "2660\n",
            "2671\n",
            "2682\n",
            "2693\n",
            "2704\n",
            "2715\n",
            "2726\n",
            "2737\n",
            "2748\n",
            "2759\n",
            "2770\n",
            "2781\n",
            "2792\n",
            "2803\n",
            "2814\n",
            "2825\n",
            "2836\n",
            "2847\n",
            "2858\n",
            "2869\n",
            "2880\n",
            "2891\n",
            "2902\n",
            "2913\n",
            "2924\n",
            "2935\n",
            "2946\n",
            "2957\n",
            "2968\n",
            "2979\n",
            "2990\n",
            "3001\n",
            "3012\n",
            "3023\n",
            "3034\n",
            "3045\n",
            "3056\n",
            "3067\n",
            "3078\n",
            "3089\n",
            "3100\n",
            "3111\n",
            "3122\n",
            "3133\n",
            "3144\n",
            "3155\n",
            "3166\n",
            "3177\n",
            "3188\n",
            "3199\n",
            "3210\n",
            "3221\n",
            "3232\n",
            "3243\n",
            "3254\n",
            "3265\n",
            "3276\n",
            "3287\n",
            "3298\n",
            "3309\n",
            "3320\n",
            "3331\n",
            "3342\n",
            "3353\n",
            "3364\n",
            "3375\n",
            "3386\n",
            "3397\n",
            "3408\n",
            "3419\n",
            "3430\n",
            "3441\n",
            "3452\n",
            "3463\n",
            "3474\n",
            "3485\n",
            "3496\n",
            "3507\n",
            "3518\n",
            "3529\n",
            "3540\n",
            "3551\n",
            "3562\n",
            "3573\n",
            "3584\n",
            "3595\n",
            "3606\n",
            "3617\n",
            "3628\n",
            "3639\n",
            "3650\n",
            "3661\n",
            "3672\n",
            "3683\n",
            "3694\n",
            "3705\n",
            "3716\n",
            "3727\n",
            "3738\n",
            "3749\n",
            "3760\n",
            "3771\n",
            "3782\n",
            "3793\n",
            "3804\n",
            "3815\n",
            "3826\n",
            "3837\n",
            "3848\n",
            "3859\n",
            "3870\n",
            "3881\n",
            "3892\n",
            "3903\n",
            "3914\n",
            "3925\n",
            "3936\n",
            "3947\n",
            "3958\n",
            "3969\n",
            "3980\n",
            "3991\n",
            "4002\n",
            "4013\n",
            "4024\n",
            "4035\n",
            "4046\n",
            "4057\n",
            "4068\n",
            "4079\n",
            "4090\n",
            "4101\n",
            "4112\n",
            "4123\n",
            "4134\n",
            "4145\n",
            "4156\n",
            "4167\n",
            "4178\n",
            "4189\n",
            "4200\n",
            "4211\n",
            "4222\n",
            "4233\n",
            "4244\n",
            "4255\n",
            "4266\n",
            "4277\n",
            "4288\n",
            "4299\n",
            "4310\n",
            "4321\n",
            "4332\n",
            "4343\n",
            "4354\n",
            "4365\n",
            "4376\n",
            "4387\n",
            "4398\n",
            "4409\n",
            "4420\n",
            "4431\n",
            "4442\n",
            "4453\n",
            "4464\n",
            "4475\n",
            "4486\n",
            "4497\n",
            "4508\n",
            "4519\n",
            "4530\n",
            "4541\n",
            "4552\n",
            "4563\n",
            "4574\n",
            "4585\n",
            "4596\n",
            "4607\n",
            "4618\n",
            "4629\n",
            "4640\n",
            "4651\n",
            "4662\n",
            "4673\n",
            "4684\n",
            "4695\n",
            "4706\n",
            "4717\n",
            "4728\n",
            "4739\n",
            "4750\n",
            "4761\n",
            "4772\n",
            "4783\n",
            "4794\n",
            "4805\n",
            "4816\n",
            "4827\n",
            "4838\n",
            "4849\n",
            "4860\n",
            "4871\n",
            "4882\n",
            "4893\n",
            "4904\n",
            "4915\n",
            "4926\n",
            "4937\n",
            "4948\n",
            "4959\n",
            "4970\n",
            "4981\n",
            "4992\n",
            "5003\n",
            "5014\n",
            "5025\n",
            "5036\n",
            "5047\n",
            "5058\n",
            "5069\n",
            "5080\n",
            "5091\n",
            "5102\n",
            "5113\n",
            "5124\n",
            "5135\n",
            "5146\n",
            "5157\n",
            "5168\n",
            "5179\n",
            "5190\n",
            "5201\n",
            "5212\n",
            "5223\n",
            "5234\n",
            "5245\n",
            "5256\n",
            "5267\n",
            "5278\n",
            "5289\n",
            "5300\n",
            "5311\n",
            "5322\n",
            "5333\n",
            "5344\n",
            "5355\n",
            "5366\n",
            "5377\n",
            "5388\n",
            "5399\n",
            "5410\n",
            "5421\n",
            "5432\n",
            "5443\n",
            "5454\n",
            "5465\n",
            "5476\n",
            "5487\n",
            "5498\n",
            "5509\n",
            "5520\n",
            "5531\n",
            "5542\n",
            "5553\n",
            "5564\n",
            "5575\n",
            "5586\n",
            "5597\n",
            "5608\n",
            "5619\n",
            "5630\n",
            "5641\n",
            "5652\n",
            "5663\n",
            "5674\n",
            "5685\n",
            "5696\n",
            "5707\n",
            "5718\n",
            "5729\n",
            "5740\n",
            "5751\n",
            "5762\n",
            "5773\n",
            "5784\n",
            "5795\n",
            "5806\n",
            "5817\n",
            "5828\n",
            "5839\n",
            "5850\n",
            "5861\n",
            "5872\n",
            "5883\n",
            "5894\n",
            "5905\n",
            "5916\n",
            "5927\n",
            "5938\n",
            "5949\n",
            "5960\n",
            "5971\n",
            "5982\n",
            "5993\n",
            "6004\n",
            "6015\n",
            "6026\n",
            "6037\n",
            "6048\n",
            "6059\n",
            "6070\n",
            "6081\n",
            "6092\n",
            "6103\n",
            "6114\n",
            "6125\n",
            "6136\n",
            "6147\n",
            "6158\n",
            "6169\n",
            "6180\n",
            "6191\n",
            "6202\n",
            "6213\n",
            "6224\n",
            "6235\n",
            "6246\n",
            "6257\n",
            "6268\n",
            "6279\n",
            "6290\n",
            "6301\n",
            "6312\n",
            "6323\n",
            "6334\n",
            "6345\n",
            "6356\n",
            "6367\n",
            "6378\n",
            "6389\n",
            "6400\n",
            "6411\n",
            "6422\n",
            "6433\n",
            "6444\n",
            "6455\n",
            "6466\n",
            "6477\n",
            "6488\n",
            "6499\n",
            "6510\n",
            "6521\n",
            "6532\n",
            "6543\n",
            "6554\n",
            "6565\n",
            "6576\n",
            "6587\n",
            "6598\n",
            "6609\n",
            "6620\n",
            "6631\n",
            "6642\n",
            "6653\n",
            "6664\n",
            "6675\n",
            "6686\n",
            "6697\n",
            "6708\n",
            "6719\n",
            "6730\n",
            "6741\n",
            "6752\n",
            "6763\n",
            "6774\n",
            "6785\n",
            "6796\n",
            "6807\n",
            "6818\n",
            "6829\n",
            "6840\n",
            "6851\n",
            "6862\n",
            "6873\n",
            "6884\n",
            "6895\n",
            "6906\n",
            "6917\n",
            "6928\n",
            "6939\n",
            "6950\n",
            "6961\n",
            "6972\n",
            "6983\n",
            "6994\n",
            "7005\n",
            "7016\n",
            "7027\n",
            "7038\n",
            "7049\n",
            "7060\n",
            "7071\n",
            "7082\n",
            "7093\n",
            "7104\n",
            "7115\n",
            "7126\n",
            "7137\n",
            "7148\n",
            "7159\n",
            "7170\n",
            "7181\n",
            "7192\n",
            "7203\n",
            "7214\n",
            "7225\n",
            "7236\n",
            "7247\n",
            "7258\n",
            "7269\n",
            "7280\n",
            "7291\n",
            "7302\n",
            "7313\n",
            "7324\n",
            "7335\n",
            "7346\n",
            "7357\n",
            "7368\n",
            "7379\n",
            "7390\n",
            "7401\n",
            "7412\n",
            "7423\n",
            "7434\n",
            "7445\n",
            "7456\n",
            "7467\n",
            "7478\n",
            "7489\n",
            "7500\n",
            "7511\n",
            "7522\n",
            "7533\n",
            "7544\n",
            "7555\n",
            "7566\n",
            "7577\n",
            "7588\n",
            "7599\n",
            "7610\n",
            "7621\n",
            "7632\n",
            "7643\n",
            "7654\n",
            "7665\n",
            "7676\n",
            "7687\n",
            "7698\n",
            "7709\n",
            "7720\n",
            "7731\n",
            "7742\n",
            "7753\n",
            "7764\n",
            "7775\n",
            "7786\n",
            "7797\n",
            "7808\n",
            "7819\n",
            "7830\n",
            "7841\n",
            "7852\n",
            "7863\n",
            "7874\n",
            "7885\n",
            "7896\n",
            "7907\n",
            "7918\n",
            "7929\n",
            "7940\n",
            "7951\n",
            "7962\n",
            "7973\n",
            "7984\n",
            "7995\n",
            "8006\n",
            "8017\n",
            "8028\n",
            "8039\n",
            "8050\n",
            "8061\n",
            "8072\n",
            "8083\n",
            "8094\n",
            "8105\n",
            "8116\n",
            "8127\n",
            "8138\n",
            "8149\n",
            "8160\n",
            "8171\n",
            "8182\n",
            "8193\n",
            "8204\n",
            "8215\n",
            "8226\n",
            "8237\n",
            "8248\n",
            "8259\n",
            "8270\n",
            "8281\n",
            "8292\n",
            "8303\n",
            "8314\n",
            "8325\n",
            "8336\n",
            "8347\n",
            "8358\n",
            "8369\n",
            "8380\n",
            "8391\n",
            "8402\n",
            "8413\n",
            "8424\n",
            "8435\n",
            "8446\n",
            "8457\n",
            "8468\n",
            "8479\n",
            "8490\n",
            "8501\n",
            "8512\n",
            "8523\n",
            "8534\n",
            "8545\n",
            "8556\n",
            "8567\n",
            "8578\n",
            "8589\n",
            "8600\n",
            "8611\n",
            "8622\n",
            "8633\n",
            "8644\n",
            "8655\n",
            "8666\n",
            "8677\n",
            "8688\n",
            "8699\n",
            "8710\n",
            "8721\n",
            "8732\n",
            "8743\n",
            "8754\n",
            "8765\n",
            "8776\n",
            "8787\n",
            "8798\n",
            "8809\n",
            "8820\n",
            "8831\n",
            "8842\n",
            "8853\n",
            "8864\n",
            "8875\n",
            "8886\n",
            "8897\n",
            "8908\n",
            "8919\n",
            "8930\n",
            "8941\n",
            "8952\n",
            "8963\n",
            "8974\n",
            "8985\n",
            "8996\n",
            "9007\n",
            "9018\n",
            "9029\n",
            "9040\n",
            "9051\n",
            "9062\n",
            "9073\n",
            "9084\n",
            "9095\n",
            "9106\n",
            "9117\n",
            "9128\n",
            "9139\n",
            "9150\n",
            "9161\n",
            "9172\n",
            "9183\n",
            "9194\n",
            "9205\n",
            "9216\n",
            "9227\n",
            "9238\n",
            "9249\n",
            "9260\n",
            "9271\n",
            "9282\n",
            "9293\n",
            "9304\n",
            "9315\n",
            "9326\n",
            "9337\n",
            "9348\n",
            "9359\n",
            "9370\n",
            "9381\n",
            "9392\n",
            "9403\n",
            "9414\n",
            "9425\n",
            "9436\n",
            "9447\n",
            "9458\n",
            "9469\n",
            "9480\n",
            "9491\n",
            "9502\n",
            "9513\n",
            "9524\n",
            "9535\n",
            "9546\n",
            "9557\n",
            "9568\n",
            "9579\n",
            "9590\n",
            "9601\n",
            "9612\n",
            "9623\n",
            "9634\n",
            "9645\n",
            "9656\n",
            "9667\n",
            "9678\n",
            "9689\n",
            "9700\n",
            "9711\n",
            "9722\n",
            "9733\n",
            "9744\n",
            "9755\n",
            "9766\n",
            "9777\n",
            "9788\n",
            "9799\n",
            "9810\n",
            "9821\n",
            "9832\n",
            "9843\n",
            "9854\n",
            "9865\n",
            "9876\n",
            "9887\n",
            "9898\n",
            "9909\n",
            "9920\n",
            "9931\n",
            "9942\n",
            "9953\n",
            "9964\n",
            "9975\n",
            "9986\n",
            "9997\n"
          ],
          "name": "stdout"
        }
      ]
    },
    {
      "cell_type": "markdown",
      "metadata": {
        "id": "J1gLXSQpRO0R"
      },
      "source": [
        "#### 2nd try"
      ]
    },
    {
      "cell_type": "code",
      "metadata": {
        "colab": {
          "base_uri": "https://localhost:8080/"
        },
        "id": "9G4Wv_h4Rb_O",
        "outputId": "358d263f-791b-4000-e2a4-bba07d14f447"
      },
      "source": [
        "def showSelfNumbers(selfNumList=[]):\n",
        "  \n",
        "  maxValue = 10000\n",
        "\n",
        "  if selfNumList == []:\n",
        "    selfNumList = [i for i in range(1, maxValue+1)]\n",
        "\n",
        "  def generateNumber(number):\n",
        "    digits = [ int(i) for i in list(str(number)) ]\n",
        "    return number + sum(digits)\n",
        "  \n",
        "  while(selfNumList != []):\n",
        "    number = selfNumList[0]\n",
        "    print(number)\n",
        "    selfNumList.remove(number)\n",
        "\n",
        "    generatedNumber = generateNumber(number)\n",
        "    while(generatedNumber <= maxValue):\n",
        "      if generatedNumber in selfNumList:\n",
        "        selfNumList.remove(generatedNumber)\n",
        "      else:\n",
        "        break\n",
        "      generatedNumber = generateNumber(generatedNumber)\n",
        "\n",
        "showSelfNumbers()"
      ],
      "execution_count": null,
      "outputs": [
        {
          "output_type": "stream",
          "text": [
            "1\n",
            "3\n",
            "5\n",
            "7\n",
            "9\n",
            "20\n",
            "31\n",
            "42\n",
            "53\n",
            "64\n",
            "75\n",
            "86\n",
            "97\n",
            "108\n",
            "110\n",
            "121\n",
            "132\n",
            "143\n",
            "154\n",
            "165\n",
            "176\n",
            "187\n",
            "198\n",
            "209\n",
            "211\n",
            "222\n",
            "233\n",
            "244\n",
            "255\n",
            "266\n",
            "277\n",
            "288\n",
            "299\n",
            "310\n",
            "312\n",
            "323\n",
            "334\n",
            "345\n",
            "356\n",
            "367\n",
            "378\n",
            "389\n",
            "400\n",
            "411\n",
            "413\n",
            "424\n",
            "435\n",
            "446\n",
            "457\n",
            "468\n",
            "479\n",
            "490\n",
            "501\n",
            "512\n",
            "514\n",
            "525\n",
            "536\n",
            "547\n",
            "558\n",
            "569\n",
            "580\n",
            "591\n",
            "602\n",
            "613\n",
            "615\n",
            "626\n",
            "637\n",
            "648\n",
            "659\n",
            "670\n",
            "681\n",
            "692\n",
            "703\n",
            "714\n",
            "716\n",
            "727\n",
            "738\n",
            "749\n",
            "760\n",
            "771\n",
            "782\n",
            "793\n",
            "804\n",
            "815\n",
            "817\n",
            "828\n",
            "839\n",
            "850\n",
            "861\n",
            "872\n",
            "883\n",
            "894\n",
            "905\n",
            "916\n",
            "918\n",
            "929\n",
            "940\n",
            "951\n",
            "962\n",
            "973\n",
            "984\n",
            "995\n",
            "1006\n",
            "1021\n",
            "1032\n",
            "1043\n",
            "1054\n",
            "1065\n",
            "1076\n",
            "1087\n",
            "1098\n",
            "1109\n",
            "1111\n",
            "1122\n",
            "1133\n",
            "1144\n",
            "1155\n",
            "1166\n",
            "1177\n",
            "1188\n",
            "1199\n",
            "1210\n",
            "1212\n",
            "1223\n",
            "1234\n",
            "1245\n",
            "1256\n",
            "1267\n",
            "1278\n",
            "1289\n",
            "1300\n",
            "1311\n",
            "1313\n",
            "1324\n",
            "1335\n",
            "1346\n",
            "1357\n",
            "1368\n",
            "1379\n",
            "1390\n",
            "1401\n",
            "1412\n",
            "1414\n",
            "1425\n",
            "1436\n",
            "1447\n",
            "1458\n",
            "1469\n",
            "1480\n",
            "1491\n",
            "1502\n",
            "1513\n",
            "1515\n",
            "1526\n",
            "1537\n",
            "1548\n",
            "1559\n",
            "1570\n",
            "1581\n",
            "1592\n",
            "1603\n",
            "1614\n",
            "1616\n",
            "1627\n",
            "1638\n",
            "1649\n",
            "1660\n",
            "1671\n",
            "1682\n",
            "1693\n",
            "1704\n",
            "1715\n",
            "1717\n",
            "1728\n",
            "1739\n",
            "1750\n",
            "1761\n",
            "1772\n",
            "1783\n",
            "1794\n",
            "1805\n",
            "1816\n",
            "1818\n",
            "1829\n",
            "1840\n",
            "1851\n",
            "1862\n",
            "1873\n",
            "1884\n",
            "1895\n",
            "1906\n",
            "1917\n",
            "1919\n",
            "1930\n",
            "1941\n",
            "1952\n",
            "1963\n",
            "1974\n",
            "1985\n",
            "1996\n",
            "2007\n",
            "2022\n",
            "2033\n",
            "2044\n",
            "2055\n",
            "2066\n",
            "2077\n",
            "2088\n",
            "2099\n",
            "2110\n",
            "2112\n",
            "2123\n",
            "2134\n",
            "2145\n",
            "2156\n",
            "2167\n",
            "2178\n",
            "2189\n",
            "2200\n",
            "2211\n",
            "2213\n",
            "2224\n",
            "2235\n",
            "2246\n",
            "2257\n",
            "2268\n",
            "2279\n",
            "2290\n",
            "2301\n",
            "2312\n",
            "2314\n",
            "2325\n",
            "2336\n",
            "2347\n",
            "2358\n",
            "2369\n",
            "2380\n",
            "2391\n",
            "2402\n",
            "2413\n",
            "2415\n",
            "2426\n",
            "2437\n",
            "2448\n",
            "2459\n",
            "2470\n",
            "2481\n",
            "2492\n",
            "2503\n",
            "2514\n",
            "2516\n",
            "2527\n",
            "2538\n",
            "2549\n",
            "2560\n",
            "2571\n",
            "2582\n",
            "2593\n",
            "2604\n",
            "2615\n",
            "2617\n",
            "2628\n",
            "2639\n",
            "2650\n",
            "2661\n",
            "2672\n",
            "2683\n",
            "2694\n",
            "2705\n",
            "2716\n",
            "2718\n",
            "2729\n",
            "2740\n",
            "2751\n",
            "2762\n",
            "2773\n",
            "2784\n",
            "2795\n",
            "2806\n",
            "2817\n",
            "2819\n",
            "2830\n",
            "2841\n",
            "2852\n",
            "2863\n",
            "2874\n",
            "2885\n",
            "2896\n",
            "2907\n",
            "2918\n",
            "2920\n",
            "2931\n",
            "2942\n",
            "2953\n",
            "2964\n",
            "2975\n",
            "2986\n",
            "2997\n",
            "3008\n",
            "3023\n",
            "3034\n",
            "3045\n",
            "3056\n",
            "3067\n",
            "3078\n",
            "3089\n",
            "3100\n",
            "3111\n",
            "3113\n",
            "3124\n",
            "3135\n",
            "3146\n",
            "3157\n",
            "3168\n",
            "3179\n",
            "3190\n",
            "3201\n",
            "3212\n",
            "3214\n",
            "3225\n",
            "3236\n",
            "3247\n",
            "3258\n",
            "3269\n",
            "3280\n",
            "3291\n",
            "3302\n",
            "3313\n",
            "3315\n",
            "3326\n",
            "3337\n",
            "3348\n",
            "3359\n",
            "3370\n",
            "3381\n",
            "3392\n",
            "3403\n",
            "3414\n",
            "3416\n",
            "3427\n",
            "3438\n",
            "3449\n",
            "3460\n",
            "3471\n",
            "3482\n",
            "3493\n",
            "3504\n",
            "3515\n",
            "3517\n",
            "3528\n",
            "3539\n",
            "3550\n",
            "3561\n",
            "3572\n",
            "3583\n",
            "3594\n",
            "3605\n",
            "3616\n",
            "3618\n",
            "3629\n",
            "3640\n",
            "3651\n",
            "3662\n",
            "3673\n",
            "3684\n",
            "3695\n",
            "3706\n",
            "3717\n",
            "3719\n",
            "3730\n",
            "3741\n",
            "3752\n",
            "3763\n",
            "3774\n",
            "3785\n",
            "3796\n",
            "3807\n",
            "3818\n",
            "3820\n",
            "3831\n",
            "3842\n",
            "3853\n",
            "3864\n",
            "3875\n",
            "3886\n",
            "3897\n",
            "3908\n",
            "3919\n",
            "3921\n",
            "3932\n",
            "3943\n",
            "3954\n",
            "3965\n",
            "3976\n",
            "3987\n",
            "3998\n",
            "4009\n",
            "4024\n",
            "4035\n",
            "4046\n",
            "4057\n",
            "4068\n",
            "4079\n",
            "4090\n",
            "4101\n",
            "4112\n",
            "4114\n",
            "4125\n",
            "4136\n",
            "4147\n",
            "4158\n",
            "4169\n",
            "4180\n",
            "4191\n",
            "4202\n",
            "4213\n",
            "4215\n",
            "4226\n",
            "4237\n",
            "4248\n",
            "4259\n",
            "4270\n",
            "4281\n",
            "4292\n",
            "4303\n",
            "4314\n",
            "4316\n",
            "4327\n",
            "4338\n",
            "4349\n",
            "4360\n",
            "4371\n",
            "4382\n",
            "4393\n",
            "4404\n",
            "4415\n",
            "4417\n",
            "4428\n",
            "4439\n",
            "4450\n",
            "4461\n",
            "4472\n",
            "4483\n",
            "4494\n",
            "4505\n",
            "4516\n",
            "4518\n",
            "4529\n",
            "4540\n",
            "4551\n",
            "4562\n",
            "4573\n",
            "4584\n",
            "4595\n",
            "4606\n",
            "4617\n",
            "4619\n",
            "4630\n",
            "4641\n",
            "4652\n",
            "4663\n",
            "4674\n",
            "4685\n",
            "4696\n",
            "4707\n",
            "4718\n",
            "4720\n",
            "4731\n",
            "4742\n",
            "4753\n",
            "4764\n",
            "4775\n",
            "4786\n",
            "4797\n",
            "4808\n",
            "4819\n",
            "4821\n",
            "4832\n",
            "4843\n",
            "4854\n",
            "4865\n",
            "4876\n",
            "4887\n",
            "4898\n",
            "4909\n",
            "4920\n",
            "4922\n",
            "4933\n",
            "4944\n",
            "4955\n",
            "4966\n",
            "4977\n",
            "4988\n",
            "4999\n",
            "5010\n",
            "5025\n",
            "5036\n",
            "5047\n",
            "5058\n",
            "5069\n",
            "5080\n",
            "5091\n",
            "5102\n",
            "5113\n",
            "5115\n",
            "5126\n",
            "5137\n",
            "5148\n",
            "5159\n",
            "5170\n",
            "5181\n",
            "5192\n",
            "5203\n",
            "5214\n",
            "5216\n",
            "5227\n",
            "5238\n",
            "5249\n",
            "5260\n",
            "5271\n",
            "5282\n",
            "5293\n",
            "5304\n",
            "5315\n",
            "5317\n",
            "5328\n",
            "5339\n",
            "5350\n",
            "5361\n",
            "5372\n",
            "5383\n",
            "5394\n",
            "5405\n",
            "5416\n",
            "5418\n",
            "5429\n",
            "5440\n",
            "5451\n",
            "5462\n",
            "5473\n",
            "5484\n",
            "5495\n",
            "5506\n",
            "5517\n",
            "5519\n",
            "5530\n",
            "5541\n",
            "5552\n",
            "5563\n",
            "5574\n",
            "5585\n",
            "5596\n",
            "5607\n",
            "5618\n",
            "5620\n",
            "5631\n",
            "5642\n",
            "5653\n",
            "5664\n",
            "5675\n",
            "5686\n",
            "5697\n",
            "5708\n",
            "5719\n",
            "5721\n",
            "5732\n",
            "5743\n",
            "5754\n",
            "5765\n",
            "5776\n",
            "5787\n",
            "5798\n",
            "5809\n",
            "5820\n",
            "5822\n",
            "5833\n",
            "5844\n",
            "5855\n",
            "5866\n",
            "5877\n",
            "5888\n",
            "5899\n",
            "5910\n",
            "5921\n",
            "5923\n",
            "5934\n",
            "5945\n",
            "5956\n",
            "5967\n",
            "5978\n",
            "5989\n",
            "6000\n",
            "6011\n",
            "6026\n",
            "6037\n",
            "6048\n",
            "6059\n",
            "6070\n",
            "6081\n",
            "6092\n",
            "6103\n",
            "6114\n",
            "6116\n",
            "6127\n",
            "6138\n",
            "6149\n",
            "6160\n",
            "6171\n",
            "6182\n",
            "6193\n",
            "6204\n",
            "6215\n",
            "6217\n",
            "6228\n",
            "6239\n",
            "6250\n",
            "6261\n",
            "6272\n",
            "6283\n",
            "6294\n",
            "6305\n",
            "6316\n",
            "6318\n",
            "6329\n",
            "6340\n",
            "6351\n",
            "6362\n",
            "6373\n",
            "6384\n",
            "6395\n",
            "6406\n",
            "6417\n",
            "6419\n",
            "6430\n",
            "6441\n",
            "6452\n",
            "6463\n",
            "6474\n",
            "6485\n",
            "6496\n",
            "6507\n",
            "6518\n",
            "6520\n",
            "6531\n",
            "6542\n",
            "6553\n",
            "6564\n",
            "6575\n",
            "6586\n",
            "6597\n",
            "6608\n",
            "6619\n",
            "6621\n",
            "6632\n",
            "6643\n",
            "6654\n",
            "6665\n",
            "6676\n",
            "6687\n",
            "6698\n",
            "6709\n",
            "6720\n",
            "6722\n",
            "6733\n",
            "6744\n",
            "6755\n",
            "6766\n",
            "6777\n",
            "6788\n",
            "6799\n",
            "6810\n",
            "6821\n",
            "6823\n",
            "6834\n",
            "6845\n",
            "6856\n",
            "6867\n",
            "6878\n",
            "6889\n",
            "6900\n",
            "6911\n",
            "6922\n",
            "6924\n",
            "6935\n",
            "6946\n",
            "6957\n",
            "6968\n",
            "6979\n",
            "6990\n",
            "7001\n",
            "7012\n",
            "7027\n",
            "7038\n",
            "7049\n",
            "7060\n",
            "7071\n",
            "7082\n",
            "7093\n",
            "7104\n",
            "7115\n",
            "7117\n",
            "7128\n",
            "7139\n",
            "7150\n",
            "7161\n",
            "7172\n",
            "7183\n",
            "7194\n",
            "7205\n",
            "7216\n",
            "7218\n",
            "7229\n",
            "7240\n",
            "7251\n",
            "7262\n",
            "7273\n",
            "7284\n",
            "7295\n",
            "7306\n",
            "7317\n",
            "7319\n",
            "7330\n",
            "7341\n",
            "7352\n",
            "7363\n",
            "7374\n",
            "7385\n",
            "7396\n",
            "7407\n",
            "7418\n",
            "7420\n",
            "7431\n",
            "7442\n",
            "7453\n",
            "7464\n",
            "7475\n",
            "7486\n",
            "7497\n",
            "7508\n",
            "7519\n",
            "7521\n",
            "7532\n",
            "7543\n",
            "7554\n",
            "7565\n",
            "7576\n",
            "7587\n",
            "7598\n",
            "7609\n",
            "7620\n",
            "7622\n",
            "7633\n",
            "7644\n",
            "7655\n",
            "7666\n",
            "7677\n",
            "7688\n",
            "7699\n",
            "7710\n",
            "7721\n",
            "7723\n",
            "7734\n",
            "7745\n",
            "7756\n",
            "7767\n",
            "7778\n",
            "7789\n",
            "7800\n",
            "7811\n",
            "7822\n",
            "7824\n",
            "7835\n",
            "7846\n",
            "7857\n",
            "7868\n",
            "7879\n",
            "7890\n",
            "7901\n",
            "7912\n",
            "7923\n",
            "7925\n",
            "7936\n",
            "7947\n",
            "7958\n",
            "7969\n",
            "7980\n",
            "7991\n",
            "8002\n",
            "8013\n",
            "8028\n",
            "8039\n",
            "8050\n",
            "8061\n",
            "8072\n",
            "8083\n",
            "8094\n",
            "8105\n",
            "8116\n",
            "8118\n",
            "8129\n",
            "8140\n",
            "8151\n",
            "8162\n",
            "8173\n",
            "8184\n",
            "8195\n",
            "8206\n",
            "8217\n",
            "8219\n",
            "8230\n",
            "8241\n",
            "8252\n",
            "8263\n",
            "8274\n",
            "8285\n",
            "8296\n",
            "8307\n",
            "8318\n",
            "8320\n",
            "8331\n",
            "8342\n",
            "8353\n",
            "8364\n",
            "8375\n",
            "8386\n",
            "8397\n",
            "8408\n",
            "8419\n",
            "8421\n",
            "8432\n",
            "8443\n",
            "8454\n",
            "8465\n",
            "8476\n",
            "8487\n",
            "8498\n",
            "8509\n",
            "8520\n",
            "8522\n",
            "8533\n",
            "8544\n",
            "8555\n",
            "8566\n",
            "8577\n",
            "8588\n",
            "8599\n",
            "8610\n",
            "8621\n",
            "8623\n",
            "8634\n",
            "8645\n",
            "8656\n",
            "8667\n",
            "8678\n",
            "8689\n",
            "8700\n",
            "8711\n",
            "8722\n",
            "8724\n",
            "8735\n",
            "8746\n",
            "8757\n",
            "8768\n",
            "8779\n",
            "8790\n",
            "8801\n",
            "8812\n",
            "8823\n",
            "8825\n",
            "8836\n",
            "8847\n",
            "8858\n",
            "8869\n",
            "8880\n",
            "8891\n",
            "8902\n",
            "8913\n",
            "8924\n",
            "8926\n",
            "8937\n",
            "8948\n",
            "8959\n",
            "8970\n",
            "8981\n",
            "8992\n",
            "9003\n",
            "9014\n",
            "9029\n",
            "9040\n",
            "9051\n",
            "9062\n",
            "9073\n",
            "9084\n",
            "9095\n",
            "9106\n",
            "9117\n",
            "9119\n",
            "9130\n",
            "9141\n",
            "9152\n",
            "9163\n",
            "9174\n",
            "9185\n",
            "9196\n",
            "9207\n",
            "9218\n",
            "9220\n",
            "9231\n",
            "9242\n",
            "9253\n",
            "9264\n",
            "9275\n",
            "9286\n",
            "9297\n",
            "9308\n",
            "9319\n",
            "9321\n",
            "9332\n",
            "9343\n",
            "9354\n",
            "9365\n",
            "9376\n",
            "9387\n",
            "9398\n",
            "9409\n",
            "9420\n",
            "9422\n",
            "9433\n",
            "9444\n",
            "9455\n",
            "9466\n",
            "9477\n",
            "9488\n",
            "9499\n",
            "9510\n",
            "9521\n",
            "9523\n",
            "9534\n",
            "9545\n",
            "9556\n",
            "9567\n",
            "9578\n",
            "9589\n",
            "9600\n",
            "9611\n",
            "9622\n",
            "9624\n",
            "9635\n",
            "9646\n",
            "9657\n",
            "9668\n",
            "9679\n",
            "9690\n",
            "9701\n",
            "9712\n",
            "9723\n",
            "9725\n",
            "9736\n",
            "9747\n",
            "9758\n",
            "9769\n",
            "9780\n",
            "9791\n",
            "9802\n",
            "9813\n",
            "9824\n",
            "9826\n",
            "9837\n",
            "9848\n",
            "9859\n",
            "9870\n",
            "9881\n",
            "9892\n",
            "9903\n",
            "9914\n",
            "9925\n",
            "9927\n",
            "9938\n",
            "9949\n",
            "9960\n",
            "9971\n",
            "9982\n",
            "9993\n"
          ],
          "name": "stdout"
        }
      ]
    },
    {
      "cell_type": "markdown",
      "metadata": {
        "id": "Y5JPmbLTm3Xj"
      },
      "source": [
        "## 1065. 한수"
      ]
    },
    {
      "cell_type": "markdown",
      "metadata": {
        "id": "O5KjFc2rm6qT"
      },
      "source": [
        "### 문제\n",
        "    어떤 양의 정수 X의 각 자리가 등차수열을 이룬다면, 그 수를 한수라고 한다. 등차수열은 연속된 두 개의 수의 차이가 일정한 수열을 말한다. N이 주어졌을 때, 1보다 크거나 같고, N보다 작거나 같은 한수의 개수를 출력하는 프로그램을 작성하시오. \n",
        "\n",
        "### 입력\n",
        "    첫째 줄에 1,000보다 작거나 같은 자연수 N이 주어진다.\n",
        "\n",
        "### 출력\n",
        "    첫째 줄에 1보다 크거나 같고, N보다 작거나 같은 한수의 개수를 출력한다.\n",
        "\n",
        "### 예제 입력 1 \n",
        "    110\n",
        "### 예제 출력 1 \n",
        "    99\n",
        "### 예제 입력 2 \n",
        "    1\n",
        "### 예제 출력 2 \n",
        "    1\n",
        "### 예제 입력 3 \n",
        "    210\n",
        "### 예제 출력 3 \n",
        "    105\n",
        "### 예제 입력 4 \n",
        "    1000\n",
        "### 예제 출력 4 \n",
        "    144"
      ]
    },
    {
      "cell_type": "markdown",
      "metadata": {
        "id": "bHiNoD1LnE4j"
      },
      "source": [
        "### Code"
      ]
    },
    {
      "cell_type": "code",
      "metadata": {
        "colab": {
          "base_uri": "https://localhost:8080/"
        },
        "id": "_EkLxDo9nG5j",
        "outputId": "288586d5-f40a-41ff-cab6-67394555bb0d"
      },
      "source": [
        "# I don't know what means hansu in english..\n",
        "def getAllHansu(maxRange):\n",
        "  cnt = 0\n",
        "  for i in range(1, maxRange+1):\n",
        "    digits = [ int(d) for d in list(str(i)) ]\n",
        "    if len(digits) <= 2:\n",
        "      cnt += 1\n",
        "    else:\n",
        "      apList = []\n",
        "      for j in range(len(digits)-1):\n",
        "        apList.append(digits[j] - digits[j+1])\n",
        "      for k in range(len(apList)-1):\n",
        "        if apList[k] == apList[k+1]:\n",
        "          continue\n",
        "        else:\n",
        "          break\n",
        "      else:\n",
        "        cnt += 1\n",
        "  print(cnt)\n",
        "\n",
        "\n",
        "getAllHansu(int(input()))"
      ],
      "execution_count": null,
      "outputs": [
        {
          "output_type": "stream",
          "text": [
            "1000\n",
            "144\n"
          ],
          "name": "stdout"
        }
      ]
    },
    {
      "cell_type": "markdown",
      "metadata": {
        "id": "_OMhNzy5xNYB"
      },
      "source": [
        "# 7. 문자열\n",
        "\n",
        "문자열을 다루는 문제들을 해결해 봅시다."
      ]
    },
    {
      "cell_type": "markdown",
      "metadata": {
        "id": "KDX4JEjvxTWB"
      },
      "source": [
        "## 11654. 아스키 코드"
      ]
    },
    {
      "cell_type": "markdown",
      "metadata": {
        "id": "dX0dZ3h9xYWo"
      },
      "source": [
        "### 문제\n",
        "    알파벳 소문자, 대문자, 숫자 0-9중 하나가 주어졌을 때, 주어진 글자의 아스키 코드값을 출력하는 프로그램을 작성하시오.\n",
        "\n",
        "### 입력\n",
        "    알파벳 소문자, 대문자, 숫자 0-9 중 하나가 첫째 줄에 주어진다.\n",
        "\n",
        "### 출력\n",
        "    입력으로 주어진 글자의 아스키 코드 값을 출력한다.\n",
        "\n",
        "### 예제 입력 1 \n",
        "    A\n",
        "### 예제 출력 1 \n",
        "    65\n",
        "### 예제 입력 2 \n",
        "    C\n",
        "### 예제 출력 2 \n",
        "    67\n",
        "### 예제 입력 3 \n",
        "    0\n",
        "### 예제 출력 3 \n",
        "    48\n",
        "### 예제 입력 4 \n",
        "    9\n",
        "### 예제 출력 4 \n",
        "    57\n",
        "### 예제 입력 5 \n",
        "    a\n",
        "### 예제 출력 5 \n",
        "    97\n",
        "### 예제 입력 6 \n",
        "    z\n",
        "### 예제 출력 6 \n",
        "    122"
      ]
    },
    {
      "cell_type": "markdown",
      "metadata": {
        "id": "bFYztntfxk28"
      },
      "source": [
        "### Code"
      ]
    },
    {
      "cell_type": "code",
      "metadata": {
        "id": "P-CVaIaaxlwD",
        "colab": {
          "base_uri": "https://localhost:8080/"
        },
        "outputId": "72c3f63e-8fa7-40f1-d377-1cacb68daadf"
      },
      "source": [
        "userInput = ord(input())\n",
        "print(userInput)"
      ],
      "execution_count": null,
      "outputs": [
        {
          "output_type": "stream",
          "text": [
            "A\n",
            "65\n"
          ],
          "name": "stdout"
        }
      ]
    },
    {
      "cell_type": "markdown",
      "metadata": {
        "id": "ELdpgqjCyUqA"
      },
      "source": [
        "## 11720. 숫자의 합"
      ]
    },
    {
      "cell_type": "markdown",
      "metadata": {
        "id": "40mn7pRAyZ9w"
      },
      "source": [
        "### 문제\n",
        "    N개의 숫자가 공백 없이 쓰여있다. 이 숫자를 모두 합해서 출력하는 프로그램을 작성하시오.\n",
        "\n",
        "### 입력\n",
        "    첫째 줄에 숫자의 개수 N (1 ≤ N ≤ 100)이 주어진다. 둘째 줄에 숫자 N개가 공백없이 주어진다.\n",
        "\n",
        "### 출력\n",
        "    입력으로 주어진 숫자 N개의 합을 출력한다.\n",
        "\n",
        "### 예제 입력 1 \n",
        "    1\n",
        "    1\n",
        "### 예제 출력 1 \n",
        "    1\n",
        "### 예제 입력 2 \n",
        "    5\n",
        "    54321\n",
        "### 예제 출력 2 \n",
        "    15\n",
        "### 예제 입력 3 \n",
        "    25\n",
        "    7000000000000000000000000\n",
        "### 예제 출력 3 \n",
        "    7\n",
        "### 예제 입력 4 \n",
        "    11\n",
        "    10987654321\n",
        "### 예제 출력 4 \n",
        "    46"
      ]
    },
    {
      "cell_type": "markdown",
      "metadata": {
        "id": "gJs0vHSzyeIo"
      },
      "source": [
        "### Code"
      ]
    },
    {
      "cell_type": "code",
      "metadata": {
        "id": "d64BIIVoyfZp"
      },
      "source": [
        "numDigit = int(input())\n",
        "digitList = [int(i) for i in list(input())]\n",
        "\n",
        "print(sum(digitList))"
      ],
      "execution_count": null,
      "outputs": []
    },
    {
      "cell_type": "markdown",
      "metadata": {
        "id": "e4o8lxje0pWH"
      },
      "source": [
        "## 10809. 알파벳 찾기"
      ]
    },
    {
      "cell_type": "markdown",
      "metadata": {
        "id": "PhuJxNk10wzh"
      },
      "source": [
        "### 문제\n",
        "    알파벳 소문자로만 이루어진 단어 S가 주어진다. 각각의 알파벳에 대해서, 단어에 포함되어 있는 경우에는 처음 등장하는 위치를, 포함되어 있지 않은 경우에는 -1을 출력하는 프로그램을 작성하시오.\n",
        "\n",
        "### 입력\n",
        "    첫째 줄에 단어 S가 주어진다. 단어의 길이는 100을 넘지 않으며, 알파벳 소문자로만 이루어져 있다.\n",
        "\n",
        "### 출력\n",
        "    각각의 알파벳에 대해서, a가 처음 등장하는 위치, b가 처음 등장하는 위치, ... z가 처음 등장하는 위치를 공백으로 구분해서 출력한다.\n",
        "    \n",
        "    만약, 어떤 알파벳이 단어에 포함되어 있지 않다면 -1을 출력한다. 단어의 첫 번째 글자는 0번째 위치이고, 두 번째 글자는 1번째 위치이다.\n",
        "\n",
        "### 예제 입력 1 \n",
        "    baekjoon\n",
        "### 예제 출력 1 \n",
        "    1 0 -1 -1 2 -1 -1 -1 -1 4 3 -1 -1 7 5 -1 -1 -1 -1 -1 -1 -1 -1 -1 -1 -1"
      ]
    },
    {
      "cell_type": "markdown",
      "metadata": {
        "id": "0a3RTVft09yy"
      },
      "source": [
        "### Code"
      ]
    },
    {
      "cell_type": "code",
      "metadata": {
        "id": "5XGw4UNk1AOr"
      },
      "source": [
        "S = input()\n",
        "alphabetList = { i:-1 for i in list('abcdefghijklmnopqrstuvwxyz') }\n",
        "\n",
        "for alphabet in S:\n",
        "  if alphabetList[alphabet] == -1:\n",
        "    alphabetList[alphabet] = S.index(alphabet)\n",
        "\n",
        "result = [str(i) for i in alphabetList.values()]\n",
        "print(' '.join(result))"
      ],
      "execution_count": null,
      "outputs": []
    },
    {
      "cell_type": "markdown",
      "metadata": {
        "id": "yAZU9QIk19Yj"
      },
      "source": [
        "## 2675. 문자열 반복"
      ]
    },
    {
      "cell_type": "markdown",
      "metadata": {
        "id": "myJ6wvKv2ASs"
      },
      "source": [
        "### 문제\n",
        "    문자열 S를 입력받은 후에, 각 문자를 R번 반복해 새 문자열 P를 만든 후 출력하는 프로그램을 작성하시오. 즉, 첫 번째 문자를 R번 반복하고, 두 번째 문자를 R번 반복하는 식으로 P를 만들면 된다. S에는 QR Code \"alphanumeric\" 문자만 들어있다.\n",
        "    \n",
        "    QR Code \"alphanumeric\" 문자는 0123456789ABCDEFGHIJKLMNOPQRSTUVWXYZ\\$%*+-./: 이다.\n",
        "\n",
        "### 입력\n",
        "    첫째 줄에 테스트 케이스의 개수 T(1 ≤ T ≤ 1,000)가 주어진다. 각 테스트 케이스는 반복 횟수 R(1 ≤ R ≤ 8), 문자열 S가 공백으로 구분되어 주어진다. S의 길이는 적어도 1이며, 20글자를 넘지 않는다. \n",
        "\n",
        "### 출력\n",
        "    각 테스트 케이스에 대해 P를 출력한다.\n",
        "\n",
        "### 예제 입력 1 \n",
        "    2\n",
        "    3 ABC\n",
        "    5 /HTP\n",
        "### 예제 출력 1 \n",
        "    AAABBBCCC\n",
        "    /////HHHHHTTTTTPPPPP"
      ]
    },
    {
      "cell_type": "markdown",
      "metadata": {
        "id": "Bs4JCuIu2Ic9"
      },
      "source": [
        "### Code"
      ]
    },
    {
      "cell_type": "code",
      "metadata": {
        "id": "GENGe7h-2JVs"
      },
      "source": [
        "T = int(input())\n",
        "\n",
        "for i in range(T):\n",
        "  S = input()\n",
        "  repeatNum, word = S.split()\n",
        "  resultList = str()\n",
        "\n",
        "  for cha in list(word):\n",
        "    resultList += cha * int(repeatNum)\n",
        "\n",
        "  print(''.join(resultList))"
      ],
      "execution_count": null,
      "outputs": []
    },
    {
      "cell_type": "markdown",
      "metadata": {
        "id": "ltW6Etj12Twm"
      },
      "source": [
        "## 1157. 단어 공부"
      ]
    },
    {
      "cell_type": "markdown",
      "metadata": {
        "id": "LERyZVEH2YQW"
      },
      "source": [
        "### 문제\n",
        "    알파벳 대소문자로 된 단어가 주어지면, 이 단어에서 가장 많이 사용된 알파벳이 무엇인지 알아내는 프로그램을 작성하시오. 단, 대문자와 소문자를 구분하지 않는다.\n",
        "\n",
        "### 입력\n",
        "    첫째 줄에 알파벳 대소문자로 이루어진 단어가 주어진다. 주어지는 단어의 길이는 1,000,000을 넘지 않는다.\n",
        "\n",
        "### 출력\n",
        "    첫째 줄에 이 단어에서 가장 많이 사용된 알파벳을 대문자로 출력한다. 단, 가장 많이 사용된 알파벳이 여러 개 존재하는 경우에는 ?를 출력한다.\n",
        "\n",
        "### 예제 입력 1 \n",
        "    Mississipi\n",
        "### 예제 출력 1 \n",
        "    ?\n",
        "### 예제 입력 2 \n",
        "    zZa\n",
        "### 예제 출력 2 \n",
        "    Z\n",
        "### 예제 입력 3 \n",
        "    z\n",
        "### 예제 출력 3 \n",
        "    Z\n",
        "### 예제 입력 4 \n",
        "    baaa\n",
        "### 예제 출력 4 \n",
        "    A"
      ]
    },
    {
      "cell_type": "markdown",
      "metadata": {
        "id": "tHqbMO_Z21tT"
      },
      "source": [
        "### Code"
      ]
    },
    {
      "cell_type": "code",
      "metadata": {
        "id": "OJaVHuve222k"
      },
      "source": [
        "word = input().upper()\n",
        "alphabetDict = { i:0 for i in 'ABCDEFGHIJKLMNOPQRSTUVWXYZ' }\n",
        "\n",
        "for character in word:\n",
        "  alphabetDict[character] += 1\n",
        "\n",
        "maxValue = max(alphabetDict.values())\n",
        "\n",
        "if list(alphabetDict.values()).count(maxValue) > 1:\n",
        "  print('?')\n",
        "else:\n",
        "  print(str([k for k, v in alphabetDict.items() if v == maxValue][0]))"
      ],
      "execution_count": null,
      "outputs": []
    },
    {
      "cell_type": "markdown",
      "metadata": {
        "id": "G-bYMzwj28lb"
      },
      "source": [
        "## 1152. 단어의 개수"
      ]
    },
    {
      "cell_type": "markdown",
      "metadata": {
        "id": "k-jDF-bB3Ejc"
      },
      "source": [
        "### 문제\n",
        "    영어 대소문자와 띄어쓰기만으로 이루어진 문자열이 주어진다. 이 문자열에는 몇 개의 단어가 있을까? 이를 구하는 프로그램을 작성하시오. 단, 한 단어가 여러 번 등장하면 등장한 횟수만큼 모두 세어야 한다.\n",
        "\n",
        "### 입력\n",
        "    첫 줄에 영어 대소문자와 띄어쓰기로 이루어진 문자열이 주어진다. 이 문자열의 길이는 1,000,000을 넘지 않는다. 단어는 띄어쓰기 한 개로 구분되며, 공백이 연속해서 나오는 경우는 없다. 또한 문자열의 앞과 뒤에는 공백이 있을 수도 있다.\n",
        "\n",
        "### 출력\n",
        "    첫째 줄에 단어의 개수를 출력한다.\n",
        "\n",
        "### 예제 입력 1 \n",
        "    The Curious Case of Benjamin Button\n",
        "### 예제 출력 1 \n",
        "    6\n",
        "### 예제 입력 2 \n",
        "    Mazatneunde Wae Teullyeoyo\n",
        "### 예제 출력 2 \n",
        "    3\n",
        "### 예제 입력 3 \n",
        "    Teullinika Teullyeotzi \n",
        "### 예제 출력 3 \n",
        "    2"
      ]
    },
    {
      "cell_type": "markdown",
      "metadata": {
        "id": "dCkldwcf3UfQ"
      },
      "source": [
        "### Code"
      ]
    },
    {
      "cell_type": "code",
      "metadata": {
        "id": "de7sWikj3VjQ",
        "colab": {
          "base_uri": "https://localhost:8080/"
        },
        "outputId": "3778eddc-a903-498a-a37c-367ca8f702f8"
      },
      "source": [
        "userInput = input()\n",
        "listLength = len(list(filter(('').__ne__, userInput.split(' '))))\n",
        "print(listLength)"
      ],
      "execution_count": null,
      "outputs": [
        {
          "output_type": "stream",
          "text": [
            " where where\n",
            "2\n"
          ],
          "name": "stdout"
        }
      ]
    },
    {
      "cell_type": "markdown",
      "metadata": {
        "id": "TfeR8hN7Yo2D"
      },
      "source": [
        "## 2908. 상수"
      ]
    },
    {
      "cell_type": "markdown",
      "metadata": {
        "id": "dXuqzhMKYswt"
      },
      "source": [
        "### 문제\n",
        "    상근이의 동생 상수는 수학을 정말 못한다. 상수는 숫자를 읽는데 문제가 있다. 이렇게 수학을 못하는 상수를 위해서 상근이는 수의 크기를 비교하는 문제를 내주었다. 상근이는 세 자리 수 두 개를 칠판에 써주었다. 그 다음에 크기가 큰 수를 말해보라고 했다.\n",
        "\n",
        "    상수는 수를 다른 사람과 다르게 거꾸로 읽는다. 예를 들어, 734와 893을 칠판에 적었다면, 상수는 이 수를 437과 398로 읽는다. 따라서, 상수는 두 수중 큰 수인 437을 큰 수라고 말할 것이다.\n",
        "\n",
        "    두 수가 주어졌을 때, 상수의 대답을 출력하는 프로그램을 작성하시오.\n",
        "\n",
        "### 입력\n",
        "    첫째 줄에 상근이가 칠판에 적은 두 수 A와 B가 주어진다. 두 수는 같지 않은 세 자리 수이며, 0이 포함되어 있지 않다.\n",
        "\n",
        "### 출력\n",
        "    첫째 줄에 상수의 대답을 출력한다.\n",
        "\n",
        "### 예제 입력 1 \n",
        "    734 893\n",
        "### 예제 출력 1 \n",
        "    437"
      ]
    },
    {
      "cell_type": "markdown",
      "metadata": {
        "id": "QB89SW8IY0fX"
      },
      "source": [
        "### Code"
      ]
    },
    {
      "cell_type": "code",
      "metadata": {
        "id": "3RyaqVN4Y1hR",
        "colab": {
          "base_uri": "https://localhost:8080/"
        },
        "outputId": "e91f551e-61d8-40ea-e0b2-4248e01050aa"
      },
      "source": [
        "userInput = input().split(' ')\n",
        "\n",
        "for num in userInput:\n",
        "  userInput[userInput.index(num)] = int(num[::-1])\n",
        "\n",
        "print(max(userInput))"
      ],
      "execution_count": 2,
      "outputs": [
        {
          "output_type": "stream",
          "text": [
            "123 321\n",
            "321\n"
          ],
          "name": "stdout"
        }
      ]
    },
    {
      "cell_type": "markdown",
      "metadata": {
        "id": "8-_GHyxSNnRD"
      },
      "source": [
        "## 5622. 다이얼"
      ]
    },
    {
      "cell_type": "markdown",
      "metadata": {
        "id": "SKuoxPcfONSE"
      },
      "source": [
        "![dial.png](data:image/png;base64,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)"
      ]
    },
    {
      "cell_type": "markdown",
      "metadata": {
        "id": "CIQm0RijNpPn"
      },
      "source": [
        "### 문제\n",
        "    상근이의 할머니는 아래 그림과 같이 오래된 다이얼 전화기를 사용한다.\n",
        "    \n",
        "    전화를 걸고 싶은 번호가 있다면, 숫자를 하나를 누른 다음에 금속 핀이 있는 곳 까지 시계방향으로 돌려야 한다. 숫자를 하나 누르면 다이얼이 처음 위치로 돌아가고, 다음 숫자를 누르려면 다이얼을 처음 위치에서 다시 돌려야 한다.\n",
        "    \n",
        "    숫자 1을 걸려면 총 2초가 필요하다. 1보다 큰 수를 거는데 걸리는 시간은 이보다 더 걸리며, 한 칸 옆에 있는 숫자를 걸기 위해선 1초씩 더 걸린다.\n",
        "    \n",
        "    상근이의 할머니는 전화 번호를 각 숫자에 해당하는 문자로 외운다. 즉, 어떤 단어를 걸 때, 각 알파벳에 해당하는 숫자를 걸면 된다. 예를 들어, UNUCIC는 868242와 같다.\n",
        "    \n",
        "    할머니가 외운 단어가 주어졌을 때, 이 전화를 걸기 위해서 필요한 최소 시간을 구하는 프로그램을 작성하시오.\n",
        "\n",
        "### 입력\n",
        "    첫째 줄에 알파벳 대문자로 이루어진 단어가 주어진다. 단어의 길이는 2보다 크거나 같고, 15보다 작거나 같다.\n",
        "\n",
        "### 출력\n",
        "    첫째 줄에 다이얼을 걸기 위해서 필요한 최소 시간을 출력한다.\n",
        "\n",
        "### 예제 입력 1 \n",
        "    UNUCIC\n",
        "### 예제 출력 1 \n",
        "    36"
      ]
    },
    {
      "cell_type": "markdown",
      "metadata": {
        "id": "zJfdnY7eOXhe"
      },
      "source": [
        "### Code"
      ]
    },
    {
      "cell_type": "code",
      "metadata": {
        "colab": {
          "base_uri": "https://localhost:8080/"
        },
        "id": "KNPHEPhxOYgK",
        "outputId": "6f697295-ed03-4bc6-8bf2-84fe58f9db34"
      },
      "source": [
        "userInput = list(input())\n",
        "dialList = [list(i) for i in 'ABC DEF GHI JKL MNO PQRS TUV WXYZ'.split()]\n",
        "\n",
        "totalDistance = 0\n",
        "\n",
        "for alphabet in userInput:\n",
        "  dialIndex = 2 + 1\n",
        "  for dial in dialList:\n",
        "    if alphabet in dial:\n",
        "      dialIndex += dialList.index(dial)\n",
        "    else:\n",
        "      continue\n",
        "  totalDistance += dialIndex\n",
        "\n",
        "print(totalDistance)"
      ],
      "execution_count": 25,
      "outputs": [
        {
          "output_type": "stream",
          "text": [
            "36\n"
          ],
          "name": "stdout"
        }
      ]
    },
    {
      "cell_type": "markdown",
      "metadata": {
        "id": "XjzZUUecYPDt"
      },
      "source": [
        "## 2941. 크로아티아 알파벳"
      ]
    },
    {
      "cell_type": "markdown",
      "metadata": {
        "id": "eVW09yyIYRbJ"
      },
      "source": [
        "### 문제\n",
        "    예전에는 운영체제에서 크로아티아 알파벳을 입력할 수가 없었다. 따라서, 다음과 같이 크로아티아 알파벳을 변경해서 입력했다.\n",
        "    \n",
        "    크로아티아 알파벳\t>\t변경\n",
        "    č\t>\tc=\n",
        "    ć\t>\tc-\n",
        "    dž\t>\tdz=\n",
        "    đ\t>\td-\n",
        "    lj\t>\tlj\n",
        "    nj\t>\tnj\n",
        "    š\t>\ts=\n",
        "    ž\t>\tz=\n",
        "    \n",
        "    예를 들어, ljes=njak은 크로아티아 알파벳 6개(lj, e, š, nj, a, k)로 이루어져 있다. 단어가 주어졌을 때, 몇 개의 크로아티아 알파벳으로 이루어져 있는지 출력한다.\n",
        "    \n",
        "    dž는 무조건 하나의 알파벳으로 쓰이고, d와 ž가 분리된 것으로 보지 않는다. lj와 nj도 마찬가지이다. 위 목록에 없는 알파벳은 한 글자씩 센다.\n",
        "\n",
        "### 입력\n",
        "    첫째 줄에 최대 100글자의 단어가 주어진다. 알파벳 소문자와 '-', '='로만 이루어져 있다.\n",
        "    \n",
        "    단어는 크로아티아 알파벳으로 이루어져 있다. 문제 설명의 표에 나와있는 알파벳은 변경된 형태로 입력된다.\n",
        "\n",
        "### 출력\n",
        "    입력으로 주어진 단어가 몇 개의 크로아티아 알파벳으로 이루어져 있는지 출력한다.\n",
        "\n",
        "### 예제 입력 1 \n",
        "    ljes=njak\n",
        "### 예제 출력 1 \n",
        "    6\n",
        "### 예제 입력 2 \n",
        "    ddz=z=\n",
        "### 예제 출력 2 \n",
        "    3\n",
        "### 예제 입력 3 \n",
        "    nljj\n",
        "### 예제 출력 3 \n",
        "    3\n",
        "### 예제 입력 4 \n",
        "    c=c=\n",
        "### 예제 출력 4 \n",
        "    2"
      ]
    },
    {
      "cell_type": "markdown",
      "metadata": {
        "id": "dv7Pmjp7b45v"
      },
      "source": [
        "### Code"
      ]
    },
    {
      "cell_type": "markdown",
      "metadata": {
        "id": "dPfqmM08soOU"
      },
      "source": [
        "#### 1st try (**틀림**)"
      ]
    },
    {
      "cell_type": "code",
      "metadata": {
        "colab": {
          "base_uri": "https://localhost:8080/"
        },
        "id": "1Uhbe5zmb56k",
        "outputId": "717839f2-eaca-4b11-d302-d96b53741389"
      },
      "source": [
        "userInput = input()\n",
        "rWord = list(userInput[::-1])\n",
        "\n",
        "croatianList = ['c=', 'c-', 'dz=', 'd-', 'lj', 'nj', 's=', 'z=']\n",
        "numAlphabet = 0\n",
        "\n",
        "for chr in rWord:\n",
        "  isLast = rWord.index(chr) < len(rWord)-1\n",
        "  if isLast:\n",
        "    nextChr = rWord[rWord.index(chr)+1]\n",
        "  else:\n",
        "    nextChr = None\n",
        "    \n",
        "  if chr in ['=', '-', 'j'] and nextChr+chr in croatianList and isLast:\n",
        "    if \n",
        "    rWord.remove(nextChr)\n",
        "  else: pass\n",
        "\n",
        "  rWord.remove(chr)\n",
        "  numAlphabet += 1\n",
        "\n",
        "print(numAlphabet)"
      ],
      "execution_count": 38,
      "outputs": [
        {
          "output_type": "stream",
          "text": [
            "ddz=z=\n",
            "3\n"
          ],
          "name": "stdout"
        }
      ]
    },
    {
      "cell_type": "markdown",
      "metadata": {
        "id": "ZYGFLe2osvI3"
      },
      "source": [
        "#### 2nd try"
      ]
    },
    {
      "cell_type": "code",
      "metadata": {
        "colab": {
          "base_uri": "https://localhost:8080/"
        },
        "id": "5yYvqndasz5e",
        "outputId": "f8d81c0e-6aaf-482b-d783-e007564a4e3e"
      },
      "source": [
        "userInput = input()\n",
        "word = list(userInput)\n",
        "\n",
        "croatianList = ['c=', 'c-', 'dz=', 'd-', 'lj', 'nj', 's=', 'z='] # 'dz=' is a invalid argument but existing for understanding\n",
        "numCroatian = 0\n",
        "\n",
        "while word:\n",
        "  remaining = len(word)\n",
        "  if remaining == 1:\n",
        "    numCroatian += 1\n",
        "    del word\n",
        "    break\n",
        "  elif remaining == 2:\n",
        "    wordToCheck = ''.join(word[0:2])\n",
        "    if wordToCheck in croatianList:\n",
        "      del word[0:2]\n",
        "    else:\n",
        "      del word[0]\n",
        "    numCroatian += 1\n",
        "  else:\n",
        "    wordToCheck = ''.join(word[0:2])\n",
        "    if ''.join(word[0:3]) == 'dz=':\n",
        "      del word[0:3]\n",
        "    elif wordToCheck in croatianList:\n",
        "      del word[0:2]\n",
        "    else:\n",
        "      del word[0]\n",
        "    numCroatian += 1\n",
        "    \n",
        "print(numCroatian)"
      ],
      "execution_count": 61,
      "outputs": [
        {
          "output_type": "stream",
          "text": [
            "c=c=\n",
            "2\n"
          ],
          "name": "stdout"
        }
      ]
    },
    {
      "cell_type": "markdown",
      "metadata": {
        "id": "CarpV3bD-PEE"
      },
      "source": [
        "## 1316. 그룹 단어 체커"
      ]
    },
    {
      "cell_type": "markdown",
      "metadata": {
        "id": "gVqiRSX8-R80"
      },
      "source": [
        "### 문제\n",
        "    그룹 단어란 단어에 존재하는 모든 문자에 대해서, 각 문자가 연속해서 나타나는 경우만을 말한다. 예를 들면, ccazzzzbb는 c, a, z, b가 모두 연속해서 나타나고, kin도 k, i, n이 연속해서 나타나기 때문에 그룹 단어이지만, aabbbccb는 b가 떨어져서 나타나기 때문에 그룹 단어가 아니다.\n",
        "\n",
        "    단어 N개를 입력으로 받아 그룹 단어의 개수를 출력하는 프로그램을 작성하시오.\n",
        "\n",
        "### 입력\n",
        "    첫째 줄에 단어의 개수 N이 들어온다. N은 100보다 작거나 같은 자연수이다. 둘째 줄부터 N개의 줄에 단어가 들어온다. 단어는 알파벳 소문자로만 되어있고 중복되지 않으며, 길이는 최대 100이다.\n",
        "\n",
        "### 출력\n",
        "    첫째 줄에 그룹 단어의 개수를 출력한다.\n",
        "\n",
        "### 예제 입력 1 \n",
        "    3\n",
        "    happy\n",
        "    new\n",
        "    year\n",
        "### 예제 출력 1 \n",
        "    3\n",
        "### 예제 입력 2 \n",
        "    4\n",
        "    aba\n",
        "    abab\n",
        "    abcabc\n",
        "    a\n",
        "### 예제 출력 2 \n",
        "    1"
      ]
    },
    {
      "cell_type": "markdown",
      "metadata": {
        "id": "h041ZQTO-dO6"
      },
      "source": [
        "### Code"
      ]
    },
    {
      "cell_type": "code",
      "metadata": {
        "colab": {
          "base_uri": "https://localhost:8080/",
          "height": 283
        },
        "id": "b0C8zZQ6-iIp",
        "outputId": "1f148c13-ee0e-4d44-c1c6-656115ccbb76"
      },
      "source": [
        "repeatNum = int(input())\n",
        "numGroupWord = 0\n",
        "\n",
        "for i in range(repeatNum):\n",
        "  wordToCheck = input()\n",
        "  charList = list(wordToCheck)\n",
        "  charDict = {char:0 for char in charList}\n",
        "  for char in charList:\n",
        "    charDict[char] += 1\n",
        "  print(charDict)\n",
        "  while wordToCheck:\n",
        "    firstChar = wordToCheck[0]\n",
        "    if wordToCheck.startswith(firstChar * charDict[firstChar]):\n",
        "      del charDict[firstChar], wordToCheck[0:charDict[firstChar]+1]\n",
        "    else:\n",
        "      break\n",
        "  else:\n",
        "    numGroupWord += 1\n",
        "\n",
        "  \n",
        "\n",
        "print(numGroupWord)"
      ],
      "execution_count": 6,
      "outputs": [
        {
          "output_type": "stream",
          "text": [
            "3\n",
            "happy\n",
            "{'h': 1, 'a': 1, 'p': 2, 'y': 1}\n"
          ],
          "name": "stdout"
        },
        {
          "output_type": "error",
          "ename": "KeyError",
          "evalue": "ignored",
          "traceback": [
            "\u001b[0;31m---------------------------------------------------------------------------\u001b[0m",
            "\u001b[0;31mKeyError\u001b[0m                                  Traceback (most recent call last)",
            "\u001b[0;32m<ipython-input-6-62e4990796e5>\u001b[0m in \u001b[0;36m<module>\u001b[0;34m()\u001b[0m\n\u001b[1;32m     12\u001b[0m     \u001b[0mfirstChar\u001b[0m \u001b[0;34m=\u001b[0m \u001b[0mwordToCheck\u001b[0m\u001b[0;34m[\u001b[0m\u001b[0;36m0\u001b[0m\u001b[0;34m]\u001b[0m\u001b[0;34m\u001b[0m\u001b[0;34m\u001b[0m\u001b[0m\n\u001b[1;32m     13\u001b[0m     \u001b[0;32mif\u001b[0m \u001b[0mwordToCheck\u001b[0m\u001b[0;34m.\u001b[0m\u001b[0mstartswith\u001b[0m\u001b[0;34m(\u001b[0m\u001b[0mfirstChar\u001b[0m \u001b[0;34m*\u001b[0m \u001b[0mcharDict\u001b[0m\u001b[0;34m[\u001b[0m\u001b[0mfirstChar\u001b[0m\u001b[0;34m]\u001b[0m\u001b[0;34m)\u001b[0m\u001b[0;34m:\u001b[0m\u001b[0;34m\u001b[0m\u001b[0;34m\u001b[0m\u001b[0m\n\u001b[0;32m---> 14\u001b[0;31m       \u001b[0;32mdel\u001b[0m \u001b[0mcharDict\u001b[0m\u001b[0;34m[\u001b[0m\u001b[0mfirstChar\u001b[0m\u001b[0;34m]\u001b[0m\u001b[0;34m,\u001b[0m \u001b[0mwordToCheck\u001b[0m\u001b[0;34m[\u001b[0m\u001b[0;36m0\u001b[0m\u001b[0;34m:\u001b[0m\u001b[0mcharDict\u001b[0m\u001b[0;34m[\u001b[0m\u001b[0mfirstChar\u001b[0m\u001b[0;34m]\u001b[0m\u001b[0;34m+\u001b[0m\u001b[0;36m1\u001b[0m\u001b[0;34m]\u001b[0m\u001b[0;34m\u001b[0m\u001b[0;34m\u001b[0m\u001b[0m\n\u001b[0m\u001b[1;32m     15\u001b[0m     \u001b[0;32melse\u001b[0m\u001b[0;34m:\u001b[0m\u001b[0;34m\u001b[0m\u001b[0;34m\u001b[0m\u001b[0m\n\u001b[1;32m     16\u001b[0m       \u001b[0;32mbreak\u001b[0m\u001b[0;34m\u001b[0m\u001b[0;34m\u001b[0m\u001b[0m\n",
            "\u001b[0;31mKeyError\u001b[0m: 'h'"
          ]
        }
      ]
    },
    {
      "cell_type": "code",
      "metadata": {
        "id": "yt6SjKqgAjFL"
      },
      "source": [
        ""
      ],
      "execution_count": null,
      "outputs": []
    }
  ]
}