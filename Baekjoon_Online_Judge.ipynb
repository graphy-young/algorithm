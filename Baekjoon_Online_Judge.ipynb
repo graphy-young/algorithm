{
  "nbformat": 4,
  "nbformat_minor": 0,
  "metadata": {
    "colab": {
      "name": "Copy of Baekjoon Online Judge.ipynb",
      "provenance": [],
      "collapsed_sections": [
        "43kRMmvtearb",
        "TaEKhBEOe8cq",
        "JCUzTzBfearc",
        "2QJJW6EAfBBr",
        "nCvxUslQeard",
        "u5TK3Xvqeare",
        "gr_ZEAcieare",
        "ZjVQQonMeare",
        "yICfLdiRearf",
        "4-QUwz2Bearf",
        "D1dmQ3tEearf",
        "XlLmcr03earg",
        "VqLY_AMsearg",
        "6abwrAlCYbVk",
        "ewXH2UmKYbVu",
        "vqq4IjVXYbVx",
        "bICxp7fJYbVy",
        "oDlDOtycYbV0",
        "B9d7ru0ZYfIZ",
        "H3JclujzfekW",
        "QExAhuSu9HDR",
        "DRJr-E7t9cmO",
        "J72le2r3tfS3",
        "1MYZZn8juXbz",
        "LSxcviJhAx4R",
        "ccbKoxrYtidX",
        "NABSioYrucFD",
        "2Ud6VkEksVqV",
        "NKWAZxa_tmOR",
        "7QLsdnacuft1",
        "CY7FFGtlskLt",
        "L37o_Og-tWZp",
        "sERT0afqumN0",
        "me3zFONXtL0L",
        "L8ESCcj6tv8Q",
        "zjbhcTpbt6fc",
        "c6aq3ZkruvP2",
        "4wSW0Zm5uzMj",
        "1Yo62AtVu9zk",
        "-zAQCQIGvD6D",
        "cAnnewAXvJJ7",
        "9gqJ_-6DvXwl",
        "su-bz0kCvf-x",
        "b34w_gYTvpWJ",
        "HxRV0r9SwW-g",
        "ztSxShNiwbCq",
        "WN9kKSkBwf6a",
        "p-Rd7AE8wvLR",
        "SC1bldelwykD",
        "92PZf1QUw8AE",
        "tAbkVuUxxG0T",
        "r9yzCr40xQM9",
        "ivHZmK-DxXR4",
        "9QScuoV4xgKQ",
        "PvdeqBdb1Iod",
        "uOC0uK3A1UZu",
        "vtkpr_-c1Y3V",
        "ITdkrEcX1bbW",
        "NUbiGawR92qv",
        "nAbTk7dH96Sz",
        "sY6htPjN-EYY",
        "ugA_wKe1UFo4",
        "32tP9rFgUIm4",
        "S4aDFttkUUtX",
        "oF-9SIpItIjk",
        "MvkYgUqctYiy",
        "cIXBJjrUtRDP",
        "5aHf13idtl1k",
        "xVV8gwsVunfH",
        "_ta2Lg-yuqFO",
        "q6UZG6pVu3Y4",
        "XGsvTPwwwjFo",
        "vnYDuwduwlhH",
        "FFw7jJjKwzIe",
        "bi2KLxnfWGqf",
        "SOZRXAR-WI4L",
        "DsFoZ0WOWxSn",
        "Ue_loKmpfzjb",
        "VK1lVYHKf3Uj",
        "ktD7b0yEgW-6",
        "1qtzR_E5l0L8",
        "zhX_BIANl3Gh",
        "Tv6K-5bEmAmY",
        "ILep3fziGEAa",
        "DW54fKWtGGaT",
        "7M2mgdQyGWsh",
        "PPVGEoEFvc13",
        "Ep_DFg5wvuqC",
        "53nVEGoCv00d",
        "ZOqzHTbhId6j",
        "1vz5TD3jIfgl",
        "OWAGE3bKImsn",
        "vQPbPlxaJCpX",
        "3A1EMO8xRQKH",
        "J1gLXSQpRO0R",
        "Y5JPmbLTm3Xj",
        "O5KjFc2rm6qT",
        "bHiNoD1LnE4j"
      ],
      "include_colab_link": true
    },
    "kernelspec": {
      "display_name": "Python 3",
      "language": "python",
      "name": "python3"
    },
    "language_info": {
      "codemirror_mode": {
        "name": "ipython",
        "version": 3
      },
      "file_extension": ".py",
      "mimetype": "text/x-python",
      "name": "python",
      "nbconvert_exporter": "python",
      "pygments_lexer": "ipython3",
      "version": "3.7.3"
    }
  },
  "cells": [
    {
      "cell_type": "markdown",
      "metadata": {
        "id": "view-in-github",
        "colab_type": "text"
      },
      "source": [
        "<a href=\"https://colab.research.google.com/github/graphy-young/algorithm/blob/main/Baekjoon_Online_Judge.ipynb\" target=\"_parent\"><img src=\"https://colab.research.google.com/assets/colab-badge.svg\" alt=\"Open In Colab\"/></a>"
      ]
    },
    {
      "cell_type": "markdown",
      "metadata": {
        "id": "t0QSnzjkearX"
      },
      "source": [
        "# 1단계. 입출력과 사칙연산\n",
        "\n",
        "입력, 출력과 사칙연산을 연습해 봅시다. Hello World!"
      ]
    },
    {
      "cell_type": "markdown",
      "metadata": {
        "id": "43kRMmvtearb"
      },
      "source": [
        "## Q2557. Hello World"
      ]
    },
    {
      "cell_type": "markdown",
      "metadata": {
        "id": "ludzacpye6yU"
      },
      "source": [
        "### 문제\n",
        "    Hello World!를 출력하시오.\n",
        "\n",
        "### 입력\n",
        "    없음\n",
        "\n",
        "### 출력\n",
        "    Hello World!를 출력하시오."
      ]
    },
    {
      "cell_type": "markdown",
      "metadata": {
        "id": "TaEKhBEOe8cq"
      },
      "source": [
        "### Code"
      ]
    },
    {
      "cell_type": "code",
      "metadata": {
        "id": "eM5eis3vearb",
        "outputId": "b054c357-24f6-4937-fc80-e835ec6aeec2"
      },
      "source": [
        "print('Hello World!')"
      ],
      "execution_count": null,
      "outputs": [
        {
          "output_type": "stream",
          "text": [
            "Hello World!\n"
          ],
          "name": "stdout"
        }
      ]
    },
    {
      "cell_type": "markdown",
      "metadata": {
        "id": "JCUzTzBfearc"
      },
      "source": [
        "## Q10718. We love kriii"
      ]
    },
    {
      "cell_type": "markdown",
      "metadata": {
        "id": "AHoCZttYe2mQ"
      },
      "source": [
        "### 문제\n",
        "    ACM-ICPC 인터넷 예선, Regional, 그리고 World Finals까지 이미 2회씩 진출해버린 kriii는 미련을 버리지 못하고 왠지 모르게 올 해에도 파주 World Finals 준비 캠프에 참여했다.\n",
        "    \n",
        "    대회를 뜰 줄 모르는 지박령 kriii를 위해서 격려의 문구를 출력해주자.\n",
        "\n",
        "### 입력\n",
        "    본 문제는 입력이 없다.\n",
        "\n",
        "### 출력\n",
        "    두 줄에 걸쳐 \"강한친구 대한육군\"을 한 줄에 한 번씩 출력한다."
      ]
    },
    {
      "cell_type": "markdown",
      "metadata": {
        "id": "2QJJW6EAfBBr"
      },
      "source": [
        "### Code"
      ]
    },
    {
      "cell_type": "code",
      "metadata": {
        "colab": {
          "base_uri": "https://localhost:8080/"
        },
        "id": "AztfZEzceard",
        "outputId": "3b7b4695-56cf-458e-804b-9b2f60aa9160"
      },
      "source": [
        "print('강한친구 대한육군\\n강한친구 대한육군')"
      ],
      "execution_count": null,
      "outputs": [
        {
          "output_type": "stream",
          "text": [
            "강한친구 대한육군\n",
            "강한친구 대한육군\n"
          ],
          "name": "stdout"
        }
      ]
    },
    {
      "cell_type": "code",
      "metadata": {
        "colab": {
          "base_uri": "https://localhost:8080/"
        },
        "id": "bj75Hq98eard",
        "outputId": "bb43139c-ccc8-454f-c4dd-ede79f9c8300"
      },
      "source": [
        "for i in range(2): print('강한친구 대한육군')"
      ],
      "execution_count": null,
      "outputs": [
        {
          "output_type": "stream",
          "text": [
            "강한친구 대한육군\n",
            "강한친구 대한육군\n"
          ],
          "name": "stdout"
        }
      ]
    },
    {
      "cell_type": "markdown",
      "metadata": {
        "id": "nCvxUslQeard"
      },
      "source": [
        "## Q10171. 고양이"
      ]
    },
    {
      "cell_type": "markdown",
      "metadata": {
        "id": "Frqh7dRufJnK"
      },
      "source": [
        "### 문제\n",
        "    아래 예제와 같이 고양이를 출력하시오.\n",
        "\n",
        "### 입력\n",
        "    없음.\n",
        "\n",
        "### 출력\n",
        "    고양이를 출력한다."
      ]
    },
    {
      "cell_type": "markdown",
      "metadata": {
        "id": "0tg-hJPJfKvn"
      },
      "source": [
        "### Code"
      ]
    },
    {
      "cell_type": "code",
      "metadata": {
        "id": "l1YTltrNeard",
        "outputId": "6d5e0f8a-dea0-4a64-ce7a-6f94d782d981"
      },
      "source": [
        "print('''\\    /\\ \n",
        " )  ( ')\n",
        "(  /  )\n",
        " \\(__)|''')"
      ],
      "execution_count": null,
      "outputs": [
        {
          "output_type": "stream",
          "text": [
            "\\    /\\ \n",
            " )  ( ')\n",
            "(  /  )\n",
            " \\(__)|\n"
          ],
          "name": "stdout"
        }
      ]
    },
    {
      "cell_type": "markdown",
      "metadata": {
        "id": "u5TK3Xvqeare"
      },
      "source": [
        "## Q10172. 개"
      ]
    },
    {
      "cell_type": "markdown",
      "metadata": {
        "id": "KLmuB1HdfsZ6"
      },
      "source": [
        "### 문제\n",
        "    아래 예제와 같이 개를 출력하시오.\n",
        "\n",
        "### 입력\n",
        "    없음.\n",
        "\n",
        "### 출력\n",
        "    개를 출력한다."
      ]
    },
    {
      "cell_type": "markdown",
      "metadata": {
        "id": "v-fO3sL4ftn-"
      },
      "source": [
        "### Code"
      ]
    },
    {
      "cell_type": "code",
      "metadata": {
        "id": "OGvz2p-Peare",
        "outputId": "2368ca07-c353-46c3-e1d1-82d062357eac"
      },
      "source": [
        "print('''|\\_/|\n",
        "|q p|   /}\n",
        "( 0 )\"\"\"\\\\\n",
        "|\"^\"`    |\n",
        "||_/=\\\\\\\\__|''')"
      ],
      "execution_count": null,
      "outputs": [
        {
          "output_type": "stream",
          "text": [
            "|\\_/|\n",
            "|q p|   /}\n",
            "( 0 )\"\"\"\\\n",
            "|\"^\"`    |\n",
            "||_/=\\\\__|\n"
          ],
          "name": "stdout"
        }
      ]
    },
    {
      "cell_type": "markdown",
      "metadata": {
        "id": "gr_ZEAcieare"
      },
      "source": [
        "## Q1000. A+B"
      ]
    },
    {
      "cell_type": "markdown",
      "metadata": {
        "id": "B63iX3y7f4pM"
      },
      "source": [
        "### 문제\n",
        "    두 정수 A와 B를 입력받은 다음, A+B를 출력하는 프로그램을 작성하시오.\n",
        "\n",
        "### 입력\n",
        "    첫째 줄에 A와 B가 주어진다. (0 < A, B < 10)\n",
        "\n",
        "### 출력\n",
        "    첫째 줄에 A+B를 출력한다."
      ]
    },
    {
      "cell_type": "markdown",
      "metadata": {
        "id": "Hnp_PecOf5pA"
      },
      "source": [
        "### Code"
      ]
    },
    {
      "cell_type": "code",
      "metadata": {
        "scrolled": true,
        "id": "lpFc-EEeeare",
        "outputId": "6da8e35b-9cab-483f-defd-67bd06e5d5cd"
      },
      "source": [
        "func = lambda x: sum(x)\n",
        "\n",
        "values = input().split()\n",
        "\n",
        "for idx in range(len(values)): values[idx] = int(values[idx])\n",
        "print(func(values))"
      ],
      "execution_count": null,
      "outputs": [
        {
          "output_type": "stream",
          "text": [
            "1 2\n",
            "3\n"
          ],
          "name": "stdout"
        }
      ]
    },
    {
      "cell_type": "markdown",
      "metadata": {
        "id": "ZjVQQonMeare"
      },
      "source": [
        "## Q1001. A-B"
      ]
    },
    {
      "cell_type": "markdown",
      "metadata": {
        "id": "RK0bQaN6gIoE"
      },
      "source": [
        "### 문제\n",
        "    두 정수 A와 B를 입력받은 다음, A-B를 출력하는 프로그램을 작성하시오.\n",
        "\n",
        "### 입력\n",
        "    첫째 줄에 A와 B가 주어진다. (0 < A, B < 10)\n",
        "\n",
        "### 출력\n",
        "    첫째 줄에 A-B를 출력한다.\n",
        "\n",
        "### 예제 입력 1\n",
        "    3 2\n",
        "### 예제 출력 1\n",
        "    1"
      ]
    },
    {
      "cell_type": "markdown",
      "metadata": {
        "id": "YoCfTRWcgJm1"
      },
      "source": [
        "### Code"
      ]
    },
    {
      "cell_type": "code",
      "metadata": {
        "id": "8GPtMH6Jeare",
        "outputId": "80b2269d-7e04-4218-977d-bef2fe2a03a3"
      },
      "source": [
        "def func(*args):\n",
        "    values = args[0]\n",
        "    for idx in range(len(values)):\n",
        "        if idx == len(values)-1: return values[0]\n",
        "        reverse_idx = (len(values)-1)-idx\n",
        "        values[0] -= values[reverse_idx]\n",
        "\n",
        "values = input().split()\n",
        "\n",
        "for idx in range(len(values)): values[idx] = int(values[idx])\n",
        "\n",
        "print(func(values))"
      ],
      "execution_count": null,
      "outputs": [
        {
          "output_type": "stream",
          "text": [
            "3 2\n",
            "1\n"
          ],
          "name": "stdout"
        }
      ]
    },
    {
      "cell_type": "markdown",
      "metadata": {
        "id": "yICfLdiRearf"
      },
      "source": [
        "## Q10998. AxB"
      ]
    },
    {
      "cell_type": "markdown",
      "metadata": {
        "id": "sHuCjHbAgUIE"
      },
      "source": [
        "### 문제\n",
        "    두 정수 A와 B를 입력받은 다음, A×B를 출력하는 프로그램을 작성하시오.\n",
        "\n",
        "### 입력\n",
        "    첫째 줄에 A와 B가 주어진다. (0 < A, B < 10)\n",
        "\n",
        "### 출력\n",
        "    첫째 줄에 A×B를 출력한다.\n",
        "\n",
        "### 예제 입력 1\n",
        "    1 2\n",
        "### 예제 출력 1\n",
        "    2\n",
        "\n",
        "### 예제 입력 2\n",
        "    3 4\n",
        "### 예제 출력 2\n",
        "    12"
      ]
    },
    {
      "cell_type": "markdown",
      "metadata": {
        "id": "PH7ijTl1gU8G"
      },
      "source": [
        "### Code"
      ]
    },
    {
      "cell_type": "code",
      "metadata": {
        "id": "XsQVo8Ltearf",
        "outputId": "913a23d7-0beb-4e79-8f9c-21d2c51bc100"
      },
      "source": [
        "print((lambda x: int(x[0]) * int(x[2]))(input()))"
      ],
      "execution_count": null,
      "outputs": [
        {
          "output_type": "stream",
          "text": [
            "1 2\n"
          ],
          "name": "stdout"
        },
        {
          "output_type": "execute_result",
          "data": {
            "text/plain": [
              "2"
            ]
          },
          "metadata": {
            "tags": []
          },
          "execution_count": 32
        }
      ]
    },
    {
      "cell_type": "markdown",
      "metadata": {
        "id": "4-QUwz2Bearf"
      },
      "source": [
        "## Q. 1008. A/B"
      ]
    },
    {
      "cell_type": "markdown",
      "metadata": {
        "id": "IBm-80eJgvx1"
      },
      "source": [
        "### 문제\n",
        "    두 정수 A와 B를 입력받은 다음, A/B를 출력하는 프로그램을 작성하시오.\n",
        "\n",
        "### 입력\n",
        "    첫째 줄에 A와 B가 주어진다. (0 < A, B < 10)\n",
        "\n",
        "### 출력\n",
        "    첫째 줄에 A/B를 출력한다. 실제 정답과 출력값의 절대오차 또는 상대오차가 10-9 이하이면 정답이다.\n",
        "\n",
        "### 예제 입력 1\n",
        "    1 3\n",
        "### 예제 출력 1\n",
        "    0.33333333333333333333333333333333\n",
        "\n",
        "**10-9 이하의 오차를 허용한다는 말은 꼭 소수 9번째 자리까지만 출력하라는 뜻이 아니다.**\n",
        "\n",
        "### 예제 입력 2\n",
        "    4 5\n",
        "### 예제 출력 2\n",
        "    0.8"
      ]
    },
    {
      "cell_type": "markdown",
      "metadata": {
        "id": "aElnm9nJgxJu"
      },
      "source": [
        "### Code"
      ]
    },
    {
      "cell_type": "code",
      "metadata": {
        "id": "8IAw5ZInearf",
        "outputId": "cdf133df-518c-4246-fbf4-54b813b9755e"
      },
      "source": [
        "print( (lambda x: int(x[0]) / int(x[2]))(input()) )"
      ],
      "execution_count": null,
      "outputs": [
        {
          "output_type": "stream",
          "text": [
            "1 3\n",
            "0.3333333333333333\n"
          ],
          "name": "stdout"
        }
      ]
    },
    {
      "cell_type": "markdown",
      "metadata": {
        "id": "D1dmQ3tEearf"
      },
      "source": [
        "## Q10869. 사칙연산"
      ]
    },
    {
      "cell_type": "markdown",
      "metadata": {
        "id": "ZcpzafkznkGj"
      },
      "source": [
        "### 문제\n",
        "    두 자연수 A와 B가 주어진다. 이때, A+B, A-B, A*B, A/B(몫), A%B(나머지)를 출력하는 프로그램을 작성하시오. \n",
        "\n",
        "### 입력\n",
        "    두 자연수 A와 B가 주어진다. (1 ≤ A, B ≤ 10,000)\n",
        "\n",
        "### 출력\n",
        "    첫째 줄에 A+B, 둘째 줄에 A-B, 셋째 줄에 A*B, 넷째 줄에 A/B, 다섯째 줄에 A%B를 출력한다.\n",
        "\n",
        "### 예제 입력 1\n",
        "    7 3\n",
        "### 예제 출력 1\n",
        "    10\n",
        "    4\n",
        "    21\n",
        "    2\n",
        "    1"
      ]
    },
    {
      "cell_type": "markdown",
      "metadata": {
        "id": "lFw2cd_NhXa5"
      },
      "source": [
        "### Code"
      ]
    },
    {
      "cell_type": "code",
      "metadata": {
        "id": "ynBWZGgzhRg8"
      },
      "source": [
        "def func(args):\n",
        "    values = [int(x) for x in args.split()]\n",
        "    a, b = values\n",
        "    if (1 <= a <= 10000) and (1 <= b <= 10000): \n",
        "        print(a+b)\n",
        "        print(a-b)\n",
        "        print(a*b)\n",
        "        print(a//b)\n",
        "        print(a%b)\n",
        "    else: print('Worng input')\n",
        "\n",
        "func(input())"
      ],
      "execution_count": null,
      "outputs": []
    },
    {
      "cell_type": "markdown",
      "metadata": {
        "id": "XlLmcr03earg"
      },
      "source": [
        "## Q10430. 나머지"
      ]
    },
    {
      "cell_type": "markdown",
      "metadata": {
        "id": "KWXaxBBanwMF"
      },
      "source": [
        "### 문제\n",
        "    (A+B)%C는 (A%C + B%C)%C 와 같을까?\n",
        "    \n",
        "    (A×B)%C는 (A%C × B%C)%C 와 같을까?\n",
        "    \n",
        "    세 수 A, B, C가 주어졌을 때, 위의 네 가지 값을 구하는 프로그램을 작성하시오.\n",
        "\n",
        "### 입력\n",
        "    첫째 줄에 A, B, C가 순서대로 주어진다. (2 ≤ A, B, C ≤ 10000)\n",
        "\n",
        "### 출력\n",
        "    첫째 줄에 (A+B)%C, 둘째 줄에 (A%C + B%C)%C, 셋째 줄에 (A×B)%C, 넷째 줄에 (A%C × B%C)%C를 출력한다.\n",
        "\n",
        "### 예제 입력 1\n",
        "    5 8 4\n",
        "### 예제 출력 1\n",
        "    1\n",
        "    1\n",
        "    0\n",
        "    0"
      ]
    },
    {
      "cell_type": "markdown",
      "metadata": {
        "id": "Cb-9b4nyn-Im"
      },
      "source": [
        "### Code"
      ]
    },
    {
      "cell_type": "code",
      "metadata": {
        "id": "JJT2chkNearg",
        "outputId": "58c6fb4a-21a4-46ca-d848-b751ffb447a8"
      },
      "source": [
        "def func(args):\n",
        "    values = [int(x) for x in args.split()]\n",
        "    for val in values:\n",
        "        if 2 <= val <= 10000: pass\n",
        "        else: raise ValueError\n",
        "    a, b, c = values[0], values[1], values[2]\n",
        "    print( (a+b)%c )\n",
        "    print( (a%c + b%c)%c )\n",
        "    print( (a*b)%c )\n",
        "    print( (a%c * b%c)%c )\n",
        "\n",
        "func(input())"
      ],
      "execution_count": null,
      "outputs": [
        {
          "output_type": "stream",
          "text": [
            "5 8 4\n",
            "1\n",
            "1\n",
            "0\n",
            "0\n"
          ],
          "name": "stdout"
        }
      ]
    },
    {
      "cell_type": "markdown",
      "metadata": {
        "id": "VqLY_AMsearg"
      },
      "source": [
        "## Q2588. 곱셈"
      ]
    },
    {
      "cell_type": "markdown",
      "metadata": {
        "id": "qoq5WszioQEc"
      },
      "source": [
        "\n",
        "### 문제\n",
        "    (세 자리 수) × (세 자리 수)는 다음과 같은 과정을 통하여 이루어진다.\n",
        "    \n",
        "    (1)과 (2)위치에 들어갈 세 자리 자연수가 주어질 때 (3), (4), (5), (6)위치에 들어갈 값을 구하는 프로그램을 작성하시오.\n",
        "\n",
        "### 입력\n",
        "    첫째 줄에 (1)의 위치에 들어갈 세 자리 자연수가, 둘째 줄에 (2)의 위치에 들어갈 세자리 자연수가 주어진다.\n",
        "\n",
        "### 출력\n",
        "    첫째 줄부터 넷째 줄까지 차례대로 (3), (4), (5), (6)에 들어갈 값을 출력한다.\n",
        "\n",
        "### 예제 입력 1\n",
        "    472\n",
        "    385\n",
        "### 예제 출력 1\n",
        "    2360\n",
        "    3776\n",
        "    1416\n",
        "    181720"
      ]
    },
    {
      "cell_type": "markdown",
      "metadata": {
        "id": "OXDBScKrohoL"
      },
      "source": [
        "### Code"
      ]
    },
    {
      "cell_type": "code",
      "metadata": {
        "id": "TM--7FyCearg",
        "outputId": "13bb798c-7d6a-44a0-d76c-27a110d396d2"
      },
      "source": [
        "def func():\n",
        "    values = list()\n",
        "    for i in range(2): values.append(int(input()))\n",
        "    #values = [int(x) for x in args.split('\\n')]\n",
        "    multiplicand = values[0] # 피승수\n",
        "    multiplier = values[1] # 승수\n",
        "    for i in range( len(str(multiplier))-1, -1, -1 ):\n",
        "        print(multiplicand * int(str(multiplier)[i]))\n",
        "    print(multiplicand * multiplier)\n",
        "        \n",
        "func()"
      ],
      "execution_count": null,
      "outputs": [
        {
          "output_type": "stream",
          "text": [
            "472\n",
            "385\n",
            "2360\n",
            "3776\n",
            "1416\n",
            "181720\n"
          ],
          "name": "stdout"
        }
      ]
    },
    {
      "cell_type": "code",
      "metadata": {
        "id": "WOwppJsUearh"
      },
      "source": [
        ""
      ],
      "execution_count": null,
      "outputs": []
    },
    {
      "cell_type": "markdown",
      "metadata": {
        "id": "6abwrAlCYbVk"
      },
      "source": [
        "# 2단계. if문\n",
        "\n",
        "if문을 사용해 봅시다."
      ]
    },
    {
      "cell_type": "markdown",
      "metadata": {
        "id": "ewXH2UmKYbVu"
      },
      "source": [
        "## 1330. 두 수 비교하기"
      ]
    },
    {
      "cell_type": "markdown",
      "metadata": {
        "id": "OiuMJBXLovUy"
      },
      "source": [
        "### 문제\n",
        "    두 정수 A와 B가 주어졌을 때, A와 B를 비교하는 프로그램을 작성하시오.\n",
        "\n",
        "### 입력\n",
        "    첫째 줄에 A와 B가 주어진다. A와 B는 공백 한 칸으로 구분되어져 있다.\n",
        "\n",
        "### 출력\n",
        "    첫째 줄에 다음 세 가지 중 하나를 출력한다.\n",
        "    A가 B보다 큰 경우에는 '>'를 출력한다.\n",
        "    A가 B보다 작은 경우에는 '<'를 출력한다.\n",
        "    A와 B가 같은 경우에는 '=='를 출력한다.\n",
        "\n",
        "### 제한\n",
        "    -10,000 ≤ A, B ≤ 10,000\n",
        "\n",
        "### 예제 입력 1\n",
        "    1 2\n",
        "### 예제 출력 1\n",
        "    <\n",
        "### 예제 입력 2\n",
        "    10 2\n",
        "### 예제 출력 2\n",
        "    >\n",
        "### 예제 입력 3\n",
        "    5 5\n",
        "### 예제 출력 3\n",
        "    =="
      ]
    },
    {
      "cell_type": "markdown",
      "metadata": {
        "id": "jQzqdUbBoqNu"
      },
      "source": [
        "### Code"
      ]
    },
    {
      "cell_type": "code",
      "metadata": {
        "id": "49w11xt2YbVv"
      },
      "source": [
        "def comparison(args):\n",
        "    values = [int(x) for x in args.split()]\n",
        "    for val in values:\n",
        "        if -10000 <= val <= 10000: pass\n",
        "        else: raise ValueError\n",
        "    a, b = values\n",
        "    if a > b: print('>')\n",
        "    elif a < b: print('<')\n",
        "    else: print('==')\n",
        "\n",
        "comparison(input())"
      ],
      "execution_count": null,
      "outputs": []
    },
    {
      "cell_type": "markdown",
      "metadata": {
        "id": "vqq4IjVXYbVx"
      },
      "source": [
        "## 9498. 시험 성적"
      ]
    },
    {
      "cell_type": "markdown",
      "metadata": {
        "id": "8pdV97LLozIy"
      },
      "source": [
        "### 문제\n",
        "    시험 점수를 입력받아 90 ~ 100점은 A, 80 ~ 89점은 B, 70 ~ 79점은 C, 60 ~ 69점은 D, 나머지 점수는 F를 출력하는 프로그램을 작성하시오.\n",
        "\n",
        "### 입력\n",
        "    첫째 줄에 시험 점수가 주어진다. 시험 점수는 0보다 크거나 같고, 100보다 작거나 같은 정수이다.\n",
        "\n",
        "### 출력\n",
        "    시험 성적을 출력한다.\n",
        "\n",
        "### 예제 입력 1\n",
        "    100\n",
        "### 예제 출력 1\n",
        "    A"
      ]
    },
    {
      "cell_type": "markdown",
      "metadata": {
        "id": "n4p2shBho0v-"
      },
      "source": [
        "### Code"
      ]
    },
    {
      "cell_type": "code",
      "metadata": {
        "id": "LIrQyoxrYbVx",
        "scrolled": true
      },
      "source": [
        "def testGrade(arg):\n",
        "    score = int(arg)\n",
        "    if 90 <= score <= 100: \n",
        "        print('A')\n",
        "    elif 80 <= score <= 89: \n",
        "        print('B')\n",
        "    elif 70 <= score <= 79:\n",
        "        print('C')\n",
        "    elif 60 <= score <= 69:\n",
        "        print('D')\n",
        "    else: \n",
        "        print('F')\n",
        "        \n",
        "testGrade(input())"
      ],
      "execution_count": null,
      "outputs": []
    },
    {
      "cell_type": "markdown",
      "metadata": {
        "id": "bICxp7fJYbVy"
      },
      "source": [
        "## 2753. 윤년"
      ]
    },
    {
      "cell_type": "markdown",
      "metadata": {
        "id": "59kfjSn9pXFN"
      },
      "source": [
        "### 문제\n",
        "    연도가 주어졌을 때, 윤년이면 1, 아니면 0을 출력하는 프로그램을 작성하시오.\n",
        "    \n",
        "    윤년은 연도가 4의 배수이면서, 100의 배수가 아닐 때 또는 400의 배수일 때 이다.\n",
        "    \n",
        "    예를들어, 2012년은 4의 배수라서 윤년이지만, 1900년은 4의 배수이지만, 100의 배수이기 때문에 윤년이 아니다.\n",
        "    \n",
        "    하지만, 2000년은 400의 배수이기 때문에 윤년이다.\n",
        "\n",
        "### 입력\n",
        "    첫째 줄에 연도가 주어진다. 연도는 1보다 크거나 같고, 4000보다 작거나 같은 자연수이다.\n",
        "\n",
        "### 출력\n",
        "    첫째 줄에 윤년이면 1, 아니면 0을 출력한다.\n",
        "\n",
        "### 예제 입력 1\n",
        "    2000\n",
        "### 예제 출력 1\n",
        "    1"
      ]
    },
    {
      "cell_type": "markdown",
      "metadata": {
        "id": "L3CdqIm6pZTx"
      },
      "source": [
        "### Code"
      ]
    },
    {
      "cell_type": "code",
      "metadata": {
        "id": "cTWhjBkNYbVy"
      },
      "source": [
        "def isLeafYear(arg):\n",
        "    year = int(arg)\n",
        "    if 1 <= year <= 4000: \n",
        "        pass\n",
        "    else: \n",
        "        raise ValueError\n",
        "    if (year%4 == 0) and ( (year%100 != 0) or (year%400 == 0) ):\n",
        "        print(1)\n",
        "    else: \n",
        "        print(0)\n",
        "        \n",
        "isLeafYear(input())"
      ],
      "execution_count": null,
      "outputs": []
    },
    {
      "cell_type": "markdown",
      "metadata": {
        "id": "oDlDOtycYbV0"
      },
      "source": [
        "## 10817. 세 수 (삭제됨)"
      ]
    },
    {
      "cell_type": "markdown",
      "metadata": {
        "id": "sHBAHaaWpcQC"
      },
      "source": [
        "### 문제\n",
        "    세 정수 A, B, C가 주어진다. 이때, 두 번째로 큰 정수를 출력하는 프로그램을 작성하시오. \n",
        "\n",
        "### 입력\n",
        "    첫째 줄에 세 정수 A, B, C가 공백으로 구분되어 주어진다. (1 ≤ A, B, C ≤ 100)\n",
        "\n",
        "### 출력\n",
        "    두 번째로 큰 정수를 출력한다.\n",
        "\n",
        "### 예제 입력 1\n",
        "    20 30 10\n",
        "### 예제 출력 1\n",
        "    20\n",
        "### 예제 입력 2\n",
        "    30 30 10\n",
        "### 예제 출력 2\n",
        "    30\n",
        "### 예제 입력 3\n",
        "    40 40 40\n",
        "### 예제 출력 3\n",
        "    40\n",
        "### 예제 입력 4\n",
        "    20 10 10\n",
        "### 예제 출력 4\n",
        "    10"
      ]
    },
    {
      "cell_type": "markdown",
      "metadata": {
        "id": "WI965EF5pfE6"
      },
      "source": [
        "### Code"
      ]
    },
    {
      "cell_type": "code",
      "metadata": {
        "id": "93NTdqJnYbV0"
      },
      "source": [
        "def threeDigits(args):\n",
        "    values = [int(x) for x in args.split()]\n",
        "    for val in values:\n",
        "        if 1 <= val <= 100: \n",
        "            pass\n",
        "        else: \n",
        "            raise ValueError\n",
        "    values.sort()\n",
        "    print(values[1])\n",
        "    \n",
        "threeDigits(input())"
      ],
      "execution_count": null,
      "outputs": []
    },
    {
      "cell_type": "markdown",
      "metadata": {
        "id": "B9d7ru0ZYfIZ"
      },
      "source": [
        "## 14681. 사분면 고르기"
      ]
    },
    {
      "cell_type": "markdown",
      "metadata": {
        "id": "lgdD6f7Ip5hq"
      },
      "source": [
        "### 문제\n",
        "    흔한 수학 문제 중 하나는 주어진 점이 어느 사분면에 속하는지 알아내는 것이다. 사분면은 아래 그림처럼 1부터 4까지 번호를 갖는다. \"Quadrant n\"은 \"제n사분면\"이라는 뜻이다.\n",
        "\n",
        "    예를 들어, 좌표가 (12, 5)인 점 A는 x좌표와 y좌표가 모두 양수이므로 제1사분면에 속한다. 점 B는 x좌표가 음수이고 y좌표가 양수이므로 제2사분면에 속한다.\n",
        "\n",
        "    점의 좌표를 입력받아 그 점이 어느 사분면에 속하는지 알아내는 프로그램을 작성하시오. 단, x좌표와 y좌표는 모두 양수나 음수라고 가정한다.\n",
        "\n",
        "### 입력\n",
        "    첫 줄에는 정수 x가 주어진다. (−1000 ≤ x ≤ 1000; x ≠ 0) 다음 줄에는 정수 y가 주어진다. (−1000 ≤ y ≤ 1000; y ≠ 0)\n",
        "\n",
        "### 출력\n",
        "    점 (x, y)의 사분면 번호(1, 2, 3, 4 중 하나)를 출력한다.\n",
        "\n",
        "### 예제 입력 1 \n",
        "    12\n",
        "    5\n",
        "### 예제 출력 1 \n",
        "    1\n",
        "### 예제 입력 2 \n",
        "    9\n",
        "    -13\n",
        "### 예제 출력 2 \n",
        "    4"
      ]
    },
    {
      "cell_type": "markdown",
      "metadata": {
        "id": "i9VDC-DOp6t8"
      },
      "source": [
        "### Code"
      ]
    },
    {
      "cell_type": "code",
      "metadata": {
        "id": "5Fl7v_MFeNPY"
      },
      "source": [
        "points = dict()\n",
        "points['x'] = int(input())\n",
        "points['y'] = int(input())\n",
        "\n",
        "if points['x'] > 0 and points['y'] > 0:\n",
        "  print(1)\n",
        "elif points['x'] < 0 and points['y'] > 0:\n",
        "  print(2)\n",
        "elif points['x'] > 0 and points['y'] < 0:\n",
        "  print(4)\n",
        "elif points['x'] < 0 and points['y'] < 0:\n",
        "  print(3)\n",
        "else:\n",
        "  raise NoQuadrantException"
      ],
      "execution_count": null,
      "outputs": []
    },
    {
      "cell_type": "markdown",
      "metadata": {
        "id": "H3JclujzfekW"
      },
      "source": [
        "## 2884.\t알람 시계\n",
        "\n",
        "### 문제\n",
        "    상근이는 매일 아침 알람을 듣고 일어난다. 알람을 듣고 바로 일어나면 다행이겠지만, 항상 조금만 더 자려는 마음 때문에 매일 학교를 지각하고 있다.\n",
        "    \n",
        "    상근이는 모든 방법을 동원해보았지만, 조금만 더 자려는 마음은 그 어떤 것도 없앨 수가 없었다.\n",
        "    \n",
        "    이런 상근이를 불쌍하게 보던, 창영이는 자신이 사용하는 방법을 추천해 주었다.\n",
        "    \n",
        "    바로 \"45분 일찍 알람 설정하기\"이다.\n",
        "    \n",
        "    이 방법은 단순하다. 원래 설정되어 있는 알람을 45분 앞서는 시간으로 바꾸는 것이다. 어차피 알람 소리를 들으면, 알람을 끄고 조금 더 잘 것이기 때문이다. 이 방법을 사용하면, 매일 아침 더 잤다는 기분을 느낄 수 있고, 학교도 지각하지 않게 된다.\n",
        "    \n",
        "    현재 상근이가 설정한 알람 시각이 주어졌을 때, 창영이의 방법을 사용한다면, 이를 언제로 고쳐야 하는지 구하는 프로그램을 작성하시오.\n",
        "\n",
        "### 입력\n",
        "    첫째 줄에 두 정수 H와 M이 주어진다. (0 ≤ H ≤ 23, 0 ≤ M ≤ 59) 그리고 이것은 현재 상근이가 설정한 놓은 알람 시간 H시 M분을 의미한다.\n",
        "    \n",
        "    입력 시간은 24시간 표현을 사용한다. 24시간 표현에서 하루의 시작은 0:0(자정)이고, 끝은 23:59(다음날 자정 1분 전)이다. 시간을 나타낼 때, 불필요한 0은 사용하지 않는다.\n",
        "\n",
        "### 출력\n",
        "    첫째 줄에 상근이가 창영이의 방법을 사용할 때, 설정해야 하는 알람 시간을 출력한다. (입력과 같은 형태로 출력하면 된다.)\n",
        "\n",
        "### 예제 입력 1 \n",
        "    10 10\n",
        "### 예제 출력 1 \n",
        "    9 25\n",
        "### 예제 입력 2 \n",
        "    0 30\n",
        "### 예제 출력 2 \n",
        "    23 45\n",
        "### 예제 입력 3 \n",
        "    23 40\n",
        "### 예제 출력 3 \n",
        "    22 55"
      ]
    },
    {
      "cell_type": "code",
      "metadata": {
        "id": "DYzyFwp8vXpa"
      },
      "source": [
        "H, M = [int(i) for i in input().split()]\n",
        "\n",
        "if 0 <= H <= 23 and 0 <= M <= 59:\n",
        "  pass\n",
        "else:\n",
        "  raise WrongInputException\n",
        "\n",
        "if M-45 < 0:\n",
        "  H = H - 1\n",
        "  M = 60 - abs(M-45)\n",
        "else:\n",
        "  M = M - 45\n",
        "\n",
        "if H < 0:\n",
        "  H = 24 + H\n",
        "else:\n",
        "  pass\n",
        "\n",
        "print(H, M)"
      ],
      "execution_count": null,
      "outputs": []
    },
    {
      "cell_type": "markdown",
      "metadata": {
        "id": "oADJwnpgearj"
      },
      "source": [
        "<a href=\"https://colab.research.google.com/github/graphy-young/algorithm/blob/main/Baekjoon%20Online%20judge/3.%20for%EB%AC%B8.ipynb\" target=\"_parent\"><img src=\"https://colab.research.google.com/assets/colab-badge.svg\" alt=\"Open In Colab\"/></a>"
      ]
    },
    {
      "cell_type": "markdown",
      "metadata": {
        "id": "QExAhuSu9HDR"
      },
      "source": [
        "# 3. for문\n",
        "\n",
        "for문을 사용해 봅시다."
      ]
    },
    {
      "cell_type": "markdown",
      "metadata": {
        "id": "DRJr-E7t9cmO"
      },
      "source": [
        "## 2739. 구구단"
      ]
    },
    {
      "cell_type": "markdown",
      "metadata": {
        "id": "J72le2r3tfS3"
      },
      "source": [
        "### 문제\n",
        "    N을 입력받은 뒤, 구구단 N단을 출력하는 프로그램을 작성하시오. 출력 형식에 맞춰서 출력하면 된다.\n",
        "\n",
        "### 입력\n",
        "    첫째 줄에 N이 주어진다. N은 1보다 크거나 같고, 9보다 작거나 같다.\n",
        "\n",
        "### 출력\n",
        "    출력형식과 같게 N*1부터 N*9까지 출력한다.\n",
        "\n",
        "### 예제 입력 1 \n",
        "    2\n",
        "### 예제 출력 1 \n",
        "    2 * 1 = 2\n",
        "    2 * 2 = 4\n",
        "    2 * 3 = 6\n",
        "    2 * 4 = 8\n",
        "    2 * 5 = 10\n",
        "    2 * 6 = 12\n",
        "    2 * 7 = 14\n",
        "    2 * 8 = 16\n",
        "    2 * 9 = 18"
      ]
    },
    {
      "cell_type": "markdown",
      "metadata": {
        "id": "1MYZZn8juXbz"
      },
      "source": [
        "### Code"
      ]
    },
    {
      "cell_type": "code",
      "metadata": {
        "colab": {
          "base_uri": "https://localhost:8080/"
        },
        "id": "eeXLZkN6-_42",
        "outputId": "815ce09d-7834-4f06-8de2-d99f7f31a2ca"
      },
      "source": [
        "digit = int(input())\n",
        "\n",
        "for i in range(1, 10):\n",
        "  message = \"{} * {} = {}\".format(digit, i, digit*i)\n",
        "  print(message)\n",
        "  #result = digit * i\n",
        "  #print(\"{digit} * {i} = {result}\")\n"
      ],
      "execution_count": null,
      "outputs": [
        {
          "output_type": "stream",
          "text": [
            "2\n",
            "2 * 1 = 2\n",
            "2 * 2 = 4\n",
            "2 * 3 = 6\n",
            "2 * 4 = 8\n",
            "2 * 5 = 10\n",
            "2 * 6 = 12\n",
            "2 * 7 = 14\n",
            "2 * 8 = 16\n",
            "2 * 9 = 18\n"
          ],
          "name": "stdout"
        }
      ]
    },
    {
      "cell_type": "markdown",
      "metadata": {
        "id": "LSxcviJhAx4R"
      },
      "source": [
        "## 10950. A+B - 3"
      ]
    },
    {
      "cell_type": "markdown",
      "metadata": {
        "id": "ccbKoxrYtidX"
      },
      "source": [
        "### 문제\n",
        "    두 정수 A와 B를 입력받은 다음, A+B를 출력하는 프로그램을 작성하시오.\n",
        "\n",
        "### 입력\n",
        "    첫째 줄에 테스트 케이스의 개수 T가 주어진다.\n",
        "    \n",
        "    각 테스트 케이스는 한 줄로 이루어져 있으며, 각 줄에 A와 B가 주어진다. (0 < A, B < 10)\n",
        "\n",
        "### 출력\n",
        "    각 테스트 케이스마다 A+B를 출력한다.\n",
        "\n",
        "### 예제 입력 1 \n",
        "    5\n",
        "    1 1\n",
        "    2 3\n",
        "    3 4\n",
        "    9 8\n",
        "    5 2\n",
        "\n",
        "### 예제 출력 1 \n",
        "    2\n",
        "    5\n",
        "    7\n",
        "    17\n",
        "    7"
      ]
    },
    {
      "cell_type": "markdown",
      "metadata": {
        "id": "NABSioYrucFD"
      },
      "source": [
        "### Code"
      ]
    },
    {
      "cell_type": "code",
      "metadata": {
        "colab": {
          "base_uri": "https://localhost:8080/"
        },
        "id": "63AQWjQbBRm1",
        "outputId": "27c0d996-b28b-4b30-85a9-93722094f823"
      },
      "source": [
        "testCase = int(input())\n",
        "\n",
        "for i in range(1, testCase+1):\n",
        "  digits = list()\n",
        "  digits = [int(i) for i in input().split()]\n",
        "  for digit in digits:\n",
        "    if 0 < digit < 10:\n",
        "      pass\n",
        "    else:\n",
        "      raise WrongInputException\n",
        "  print(sum(digits))"
      ],
      "execution_count": null,
      "outputs": [
        {
          "output_type": "stream",
          "text": [
            "5\n",
            "1 1\n",
            "2\n",
            "2 3\n",
            "5\n",
            "3 4\n",
            "7\n",
            "9 8\n",
            "17\n",
            "5 2\n",
            "7\n"
          ],
          "name": "stdout"
        }
      ]
    },
    {
      "cell_type": "markdown",
      "metadata": {
        "id": "2Ud6VkEksVqV"
      },
      "source": [
        "## 8393. 합"
      ]
    },
    {
      "cell_type": "markdown",
      "metadata": {
        "id": "NKWAZxa_tmOR"
      },
      "source": [
        "### 문제\n",
        "    n이 주어졌을 때, 1부터 n까지 합을 구하는 프로그램을 작성하시오.\n",
        "\n",
        "### 입력\n",
        "    첫째 줄에 n (1 ≤ n ≤ 10,000)이 주어진다.\n",
        "\n",
        "### 출력\n",
        "    1부터 n까지 합을 출력한다.\n",
        "\n",
        "### 예제 입력 1 \n",
        "    3\n",
        "### 예제 출력 1 \n",
        "    6"
      ]
    },
    {
      "cell_type": "markdown",
      "metadata": {
        "id": "7QLsdnacuft1"
      },
      "source": [
        "### Code"
      ]
    },
    {
      "cell_type": "code",
      "metadata": {
        "id": "4MLPi63bse4E"
      },
      "source": [
        "digit = int(input())\n",
        "\n",
        "if 1 <= digit <= 10000:\n",
        "  pass\n",
        "else:\n",
        "  raise WrongInputException\n",
        "\n",
        "result = 0\n",
        "\n",
        "for i in range(1, digit+1):\n",
        "  result += i\n",
        "\n",
        "print(result)"
      ],
      "execution_count": null,
      "outputs": []
    },
    {
      "cell_type": "markdown",
      "metadata": {
        "id": "CY7FFGtlskLt"
      },
      "source": [
        "## 15552. 빠른 A+B"
      ]
    },
    {
      "cell_type": "markdown",
      "metadata": {
        "id": "L37o_Og-tWZp"
      },
      "source": [
        "### 문제\n",
        "    본격적으로 for문 문제를 풀기 전에 주의해야 할 점이 있다. 입출력 방식이 느리면 여러 줄을 입력받거나 출력할 때 시간초과가 날 수 있다는 점이다.\n",
        "    \n",
        "    C++을 사용하고 있고 cin/cout을 사용하고자 한다면, cin.tie(NULL)과 sync_with_stdio(false)를 둘 다 적용해 주고, endl 대신 개행문자(\\n)를 쓰자. 단, 이렇게 하면 더 이상 scanf/printf/puts/getchar/putchar 등 C의 입출력 방식을 사용하면 안 된다.\n",
        "    \n",
        "    Java를 사용하고 있다면, Scanner와 System.out.println 대신 BufferedReader와 BufferedWriter를 사용할 수 있다. BufferedWriter.flush는 맨 마지막에 한 번만 하면 된다.\n",
        "    \n",
        "    Python을 사용하고 있다면, input 대신 sys.stdin.readline을 사용할 수 있다. 단, 이때는 맨 끝의 개행문자까지 같이 입력받기 때문에 문자열을 저장하고 싶을 경우 .rstrip()을 추가로 해 주는 것이 좋다.\n",
        "    \n",
        "    또한 입력과 출력 스트림은 별개이므로, 테스트케이스를 전부 입력받아서 저장한 뒤 전부 출력할 필요는 없다. 테스트케이스를 하나 받은 뒤 하나 출력해도 된다.\n",
        "    \n",
        "    자세한 설명 및 다른 언어의 경우는 이 글에 설명되어 있다.\n",
        "    \n",
        "    이 블로그 글에서 BOJ의 기타 여러 가지 팁을 볼 수 있다.\n",
        "\n",
        "### 입력\n",
        "    첫 줄에 테스트케이스의 개수 T가 주어진다. T는 최대 1,000,000이다. 다음 T줄에는 각각 두 정수 A와 B가 주어진다. A와 B는 1 이상, 1,000 이하이다.\n",
        "\n",
        "### 출력\n",
        "    각 테스트케이스마다 A+B를 한 줄에 하나씩 순서대로 출력한다.\n",
        "\n",
        "### 예제 입력 1\n",
        "    5\n",
        "    1 1\n",
        "    12 34\n",
        "    5 500\n",
        "    40 60\n",
        "    1000 1000\n",
        "\n",
        "### 예제 출력 1\n",
        "    2\n",
        "    46\n",
        "    505\n",
        "    100\n",
        "    2000"
      ]
    },
    {
      "cell_type": "markdown",
      "metadata": {
        "id": "sERT0afqumN0"
      },
      "source": [
        "### Code"
      ]
    },
    {
      "cell_type": "code",
      "metadata": {
        "id": "WkLGElBptHva"
      },
      "source": [
        "# this doesn't work in colab\n",
        "from sys import stdin\n",
        "\n",
        "t = int(stdin.readline())\n",
        "\n",
        "for i in range(t):\n",
        "  digits = map(int, stdin.readline().split())\n",
        "  result = sum(digits)\n",
        "  print(result)"
      ],
      "execution_count": null,
      "outputs": []
    },
    {
      "cell_type": "markdown",
      "metadata": {
        "id": "me3zFONXtL0L"
      },
      "source": [
        "## 2741. N 찍기"
      ]
    },
    {
      "cell_type": "markdown",
      "metadata": {
        "id": "L8ESCcj6tv8Q"
      },
      "source": [
        "### 문제\n",
        "    자연수 N이 주어졌을 때, 1부터 N까지 한 줄에 하나씩 출력하는 프로그램을 작성하시오.\n",
        "\n",
        "### 입력\n",
        "    첫째 줄에 100,000보다 작거나 같은 자연수 N이 주어진다.\n",
        "\n",
        "### 출력\n",
        "    첫째 줄부터 N번째 줄 까지 차례대로 출력한다.\n",
        "\n",
        "### 예제 입력 1\n",
        "    5\n",
        "\n",
        "### 예제 출력 1\n",
        "    1\n",
        "    2\n",
        "    3\n",
        "    4\n",
        "    5"
      ]
    },
    {
      "cell_type": "markdown",
      "metadata": {
        "id": "zjbhcTpbt6fc"
      },
      "source": [
        "### Code"
      ]
    },
    {
      "cell_type": "code",
      "metadata": {
        "id": "QFAN0nMhuqkr"
      },
      "source": [
        "from sys import stdin\n",
        "N = int(stdin.readline().rstrip())\n",
        "\n",
        "for i in range(N):\n",
        "  print(i+1)"
      ],
      "execution_count": null,
      "outputs": []
    },
    {
      "cell_type": "markdown",
      "metadata": {
        "id": "c6aq3ZkruvP2"
      },
      "source": [
        "## 2742. 기찍 N"
      ]
    },
    {
      "cell_type": "markdown",
      "metadata": {
        "id": "4wSW0Zm5uzMj"
      },
      "source": [
        "### 문제\n",
        "    자연수 N이 주어졌을 때, N부터 1까지 한 줄에 하나씩 출력하는 프로그램을 작성하시오.\n",
        "\n",
        "### 입력\n",
        "    첫째 줄에 100,000보다 작거나 같은 자연수 N이 주어진다.\n",
        "\n",
        "### 출력\n",
        "    첫째 줄부터 N번째 줄 까지 차례대로 출력한다.\n",
        "\n",
        "### 예제 입력 1\n",
        "    5\n",
        "### 예제 출력 1\n",
        "    5\n",
        "    4\n",
        "    3\n",
        "    2\n",
        "    1"
      ]
    },
    {
      "cell_type": "markdown",
      "metadata": {
        "id": "1Yo62AtVu9zk"
      },
      "source": [
        "### Code"
      ]
    },
    {
      "cell_type": "code",
      "metadata": {
        "id": "uvnfU2mvu_xO"
      },
      "source": [
        "# N = int(input())\n",
        "from sys import stdin\n",
        "N = int(stdin.readline())\n",
        "\n",
        "for i in range(N, 0, -1):\n",
        "  print(i)"
      ],
      "execution_count": null,
      "outputs": []
    },
    {
      "cell_type": "markdown",
      "metadata": {
        "id": "-zAQCQIGvD6D"
      },
      "source": [
        "## 11021. A+B - 7"
      ]
    },
    {
      "cell_type": "markdown",
      "metadata": {
        "id": "cAnnewAXvJJ7"
      },
      "source": [
        "### 문제\n",
        "    두 정수 A와 B를 입력받은 다음, A+B를 출력하는 프로그램을 작성하시오.\n",
        "\n",
        "### 입력\n",
        "    첫째 줄에 테스트 케이스의 개수 T가 주어진다.\n",
        "    \n",
        "    각 테스트 케이스는 한 줄로 이루어져 있으며, 각 줄에 A와 B가 주어진다. (0 < A, B < 10)\n",
        "\n",
        "### 출력\n",
        "    각 테스트 케이스마다 \"Case #x: \"를 출력한 다음, A+B를 출력한다. 테스트 케이스 번호는 1부터 시작한다.\n",
        "\n",
        "### 예제 입력 1\n",
        "    5\n",
        "    1 1\n",
        "    2 3\n",
        "    3 4\n",
        "    9 8\n",
        "    5 2\n",
        "\n",
        "### 예제 출력 1\n",
        "    Case #1: 2\n",
        "    Case #2: 5\n",
        "    Case #3: 7\n",
        "    Case #4: 17\n",
        "    Case #5: 7"
      ]
    },
    {
      "cell_type": "markdown",
      "metadata": {
        "id": "9gqJ_-6DvXwl"
      },
      "source": [
        "### Code\n"
      ]
    },
    {
      "cell_type": "code",
      "metadata": {
        "id": "bydRGWVPvY8M"
      },
      "source": [
        "from sys import stdin\n",
        "t = int(stdin.readline())\n",
        "\n",
        "for i in range(t):\n",
        "  digits = map(int, stdin.readline().split())\n",
        "  print(\"Case #{}:\".format(i+1), str(sum(digits)))"
      ],
      "execution_count": null,
      "outputs": []
    },
    {
      "cell_type": "markdown",
      "metadata": {
        "id": "su-bz0kCvf-x"
      },
      "source": [
        "## 11022. A+B - 8"
      ]
    },
    {
      "cell_type": "markdown",
      "metadata": {
        "id": "b34w_gYTvpWJ"
      },
      "source": [
        "### 문제\n",
        "    두 정수 A와 B를 입력받은 다음, A+B를 출력하는 프로그램을 작성하시오.\n",
        "\n",
        "### 입력\n",
        "    첫째 줄에 테스트 케이스의 개수 T가 주어진다.\n",
        "    \n",
        "    각 테스트 케이스는 한 줄로 이루어져 있으며, 각 줄에 A와 B가 주어진다. (0 < A, B < 10)\n",
        "\n",
        "### 출력\n",
        "    각 테스트 케이스마다 \"Case #x: A + B = C\" 형식으로 출력한다. x는 테스트 케이스 번호이고 1부터 시작하며, C는 A+B이다.\n",
        "\n",
        "### 예제 입력 1\n",
        "    5\n",
        "    1 1\n",
        "    2 3\n",
        "    3 4\n",
        "    9 8\n",
        "    5 2\n",
        "\n",
        "### 예제 출력 1\n",
        "    Case #1: 1 + 1 = 2\n",
        "    Case #2: 2 + 3 = 5\n",
        "    Case #3: 3 + 4 = 7\n",
        "    Case #4: 9 + 8 = 17\n",
        "    Case #5: 5 + 2 = 7"
      ]
    },
    {
      "cell_type": "markdown",
      "metadata": {
        "id": "HxRV0r9SwW-g"
      },
      "source": [
        "### Code"
      ]
    },
    {
      "cell_type": "code",
      "metadata": {
        "id": "8omWdB5GwYih"
      },
      "source": [
        "from sys import stdin\n",
        "t = int(stdin.readline())\n",
        "\n",
        "for i in range(t):\n",
        "  digits = list(map(int, stdin.readline().split()))\n",
        "  print(\"Case #{}: {} + {} = {}\".format(i+1, digits[0], digits[1], sum(digits)))"
      ],
      "execution_count": null,
      "outputs": []
    },
    {
      "cell_type": "markdown",
      "metadata": {
        "id": "ztSxShNiwbCq"
      },
      "source": [
        "## 2438\t별 찍기 - 1"
      ]
    },
    {
      "cell_type": "markdown",
      "metadata": {
        "id": "WN9kKSkBwf6a"
      },
      "source": [
        "### 문제\n",
        "    첫째 줄에는 별 1개, 둘째 줄에는 별 2개, N번째 줄에는 별 N개를 찍는 문제\n",
        "\n",
        "### 입력\n",
        "    첫째 줄에 N(1 ≤ N ≤ 100)이 주어진다.\n",
        "\n",
        "### 출력\n",
        "    첫째 줄부터 N번째 줄까지 차례대로 별을 출력한다.\n",
        "\n",
        "### 예제 입력 1\n",
        "    5\n",
        "\n",
        "### 예제 출력 1\n",
        "    *\n",
        "    **\n",
        "    ***\n",
        "    ****\n",
        "    *****"
      ]
    },
    {
      "cell_type": "markdown",
      "metadata": {
        "id": "p-Rd7AE8wvLR"
      },
      "source": [
        "### Code"
      ]
    },
    {
      "cell_type": "code",
      "metadata": {
        "id": "tbM3inyuwv_S"
      },
      "source": [
        "from sys import stdin, stdout\n",
        "n = int(stdin.readline())\n",
        "\n",
        "for i in range(n):\n",
        "  for j in range(i+1):\n",
        "    stdout.write('*')\n",
        "  if i+1 != n: \n",
        "    stdout.write('\\n')"
      ],
      "execution_count": null,
      "outputs": []
    },
    {
      "cell_type": "markdown",
      "metadata": {
        "id": "SC1bldelwykD"
      },
      "source": [
        "## 2439. 별 찍기 - 2"
      ]
    },
    {
      "cell_type": "markdown",
      "metadata": {
        "id": "92PZf1QUw8AE"
      },
      "source": [
        "### 문제\n",
        "    첫째 줄에는 별 1개, 둘째 줄에는 별 2개, N번째 줄에는 별 N개를 찍는 문제\n",
        "    \n",
        "    하지만, 오른쪽을 기준으로 정렬한 별(예제 참고)을 출력하시오.\n",
        "\n",
        "### 입력\n",
        "    첫째 줄에 N(1 ≤ N ≤ 100)이 주어진다.\n",
        "\n",
        "### 출력\n",
        "    첫째 줄부터 N번째 줄까지 차례대로 별을 출력한다.\n",
        "\n",
        "### 예제 입력 1\n",
        "    5\n",
        "### 예제 출력 1\n",
        "        *\n",
        "       **\n",
        "      ***\n",
        "     ****\n",
        "    *****"
      ]
    },
    {
      "cell_type": "markdown",
      "metadata": {
        "id": "tAbkVuUxxG0T"
      },
      "source": [
        "### Code"
      ]
    },
    {
      "cell_type": "code",
      "metadata": {
        "id": "D6GbCtYCxIBK"
      },
      "source": [
        "from sys import stdin\n",
        "n = int(stdin.readline())\n",
        "#n = int(input())\n",
        "\n",
        "for i in range(n):\n",
        "  result = \"\"\n",
        "  for j in range(i+1):\n",
        "    result += \"*\"\n",
        "  print(result.rjust(n))"
      ],
      "execution_count": null,
      "outputs": []
    },
    {
      "cell_type": "markdown",
      "metadata": {
        "id": "r9yzCr40xQM9"
      },
      "source": [
        "## 10871. X보다 작은 수"
      ]
    },
    {
      "cell_type": "markdown",
      "metadata": {
        "id": "ivHZmK-DxXR4"
      },
      "source": [
        "### 문제\n",
        "    정수 N개로 이루어진 수열 A와 정수 X가 주어진다. 이때, A에서 X보다 작은 수를 모두 출력하는 프로그램을 작성하시오.\n",
        "\n",
        "### 입력\n",
        "    첫째 줄에 N과 X가 주어진다. (1 ≤ N, X ≤ 10,000)\n",
        "    \n",
        "    둘째 줄에 수열 A를 이루는 정수 N개가 주어진다. 주어지는 정수는 모두 1보다 크거나 같고, 10,000보다 작거나 같은 정수이다.\n",
        "\n",
        "### 출력\n",
        "    X보다 작은 수를 입력받은 순서대로 공백으로 구분해 출력한다. X보다 작은 수는 적어도 하나 존재한다.\n",
        "\n",
        "### 예제 입력 1\n",
        "    10 5\n",
        "    1 10 4 9 2 3 8 5 7 6\n",
        "\n",
        "### 예제 출력 1\n",
        "    1 4 2 3"
      ]
    },
    {
      "cell_type": "markdown",
      "metadata": {
        "id": "9QScuoV4xgKQ"
      },
      "source": [
        "### Code"
      ]
    },
    {
      "cell_type": "code",
      "metadata": {
        "id": "oQORMwBIxhIo"
      },
      "source": [
        "from sys import stdin\n",
        "n, x = list(map(int, stdin.readline().split()))\n",
        "\n",
        "a = list(map(int, stdin.readline().split()))\n",
        "result = list()\n",
        "\n",
        "for i in a:\n",
        "  if i < x:\n",
        "    result.append(str(i))\n",
        "  else:\n",
        "    pass\n",
        "\n",
        "print(' '.join(result))"
      ],
      "execution_count": null,
      "outputs": []
    },
    {
      "cell_type": "markdown",
      "metadata": {
        "id": "zSEQTW55earo"
      },
      "source": [
        "<a href=\"https://colab.research.google.com/github/graphy-young/algorithm/blob/main/Baekjoon%20Online%20Judge/4_While%EB%AC%B8.ipynb\" target=\"_parent\"><img src=\"https://colab.research.google.com/assets/colab-badge.svg\" alt=\"Open In Colab\"/></a>"
      ]
    },
    {
      "cell_type": "markdown",
      "metadata": {
        "id": "PvdeqBdb1Iod"
      },
      "source": [
        "# 4. While문"
      ]
    },
    {
      "cell_type": "markdown",
      "metadata": {
        "id": "bMriFQRF1ScM"
      },
      "source": [
        "while문을 사용해 봅시다."
      ]
    },
    {
      "cell_type": "markdown",
      "metadata": {
        "id": "uOC0uK3A1UZu"
      },
      "source": [
        "## 10952. A+B - 5"
      ]
    },
    {
      "cell_type": "markdown",
      "metadata": {
        "id": "vtkpr_-c1Y3V"
      },
      "source": [
        "### 문제\n",
        "    두 정수 A와 B를 입력받은 다음, A+B를 출력하는 프로그램을 작성하시오.\n",
        "\n",
        "### 입력\n",
        "    입력은 여러 개의 테스트 케이스로 이루어져 있다.\n",
        "    \n",
        "    각 테스트 케이스는 한 줄로 이루어져 있으며, 각 줄에 A와 B가 주어진다. (0 < A, B < 10)\n",
        "    \n",
        "    입력의 마지막에는 0 두 개가 들어온다.\n",
        "\n",
        "### 출력\n",
        "    각 테스트 케이스마다 A+B를 출력한다.\n",
        "\n",
        "### 예제 입력 1\n",
        "    1 1\n",
        "    2 3\n",
        "    3 4\n",
        "    9 8\n",
        "    5 2\n",
        "    0 0\n",
        "\n",
        "### 예제 출력 1\n",
        "    2\n",
        "    5\n",
        "    7\n",
        "    17\n",
        "    7"
      ]
    },
    {
      "cell_type": "markdown",
      "metadata": {
        "id": "ITdkrEcX1bbW"
      },
      "source": [
        "### Code"
      ]
    },
    {
      "cell_type": "code",
      "metadata": {
        "colab": {
          "base_uri": "https://localhost:8080/"
        },
        "id": "iXRpnAOO1qHh",
        "outputId": "c3ff02f0-f05b-480e-9acc-ac99ba84df25"
      },
      "source": [
        "from sys import stdin\n",
        "\n",
        "while(True):\n",
        "  #A, B = list(map(int, stdin.readline().split()))\n",
        "  A, B = list(map(int, input().split()))\n",
        "  if A == 0 and B == 0:\n",
        "    break\n",
        "  else:\n",
        "    print(A+B)"
      ],
      "execution_count": null,
      "outputs": [
        {
          "output_type": "stream",
          "text": [
            "1 1\n",
            "2\n",
            "2 3\n",
            "5\n",
            "3 4\n",
            "7\n",
            "9 8\n",
            "17\n",
            "5 2\n",
            "7\n",
            "0 0\n"
          ],
          "name": "stdout"
        }
      ]
    },
    {
      "cell_type": "markdown",
      "metadata": {
        "id": "NUbiGawR92qv"
      },
      "source": [
        "## 10951. A+B - 4"
      ]
    },
    {
      "cell_type": "markdown",
      "metadata": {
        "id": "nAbTk7dH96Sz"
      },
      "source": [
        "### 문제\n",
        "    두 정수 A와 B를 입력받은 다음, A+B를 출력하는 프로그램을 작성하시오.\n",
        "\n",
        "### 입력\n",
        "    입력은 여러 개의 테스트 케이스로 이루어져 있다.\n",
        "    \n",
        "    각 테스트 케이스는 한 줄로 이루어져 있으며, 각 줄에 A와 B가 주어진다. (0 < A, B < 10)\n",
        "\n",
        "### 출력\n",
        "    각 테스트 케이스마다 A+B를 출력한다.\n",
        "\n",
        "### 예제 입력 1\n",
        "    1 1\n",
        "    2 3\n",
        "    3 4\n",
        "    9 8\n",
        "    5 2\n",
        "\n",
        "### 예제 출력 1\n",
        "    2\n",
        "    5\n",
        "    7\n",
        "    17\n",
        "    7"
      ]
    },
    {
      "cell_type": "markdown",
      "metadata": {
        "id": "sY6htPjN-EYY"
      },
      "source": [
        "### Code"
      ]
    },
    {
      "cell_type": "markdown",
      "metadata": {
        "id": "7ar-wcz1_DSq"
      },
      "source": [
        "EOF에 대응하는 방법을 알아야는데, 마땅히 괜찮은 방법이 인터넷에 안보임.."
      ]
    },
    {
      "cell_type": "code",
      "metadata": {
        "id": "ZTaEkKod-FnD"
      },
      "source": [
        "from sys import stdin\n",
        "\n",
        "while(True):\n",
        "  try:\n",
        "    A, B = list(map(int, stdin.readline().split()))\n",
        "    #A, B = list(map(int, input().split()))\n",
        "  except ValueError:\n",
        "    break\n",
        "  print(A+B)"
      ],
      "execution_count": null,
      "outputs": []
    },
    {
      "cell_type": "markdown",
      "metadata": {
        "id": "ugA_wKe1UFo4"
      },
      "source": [
        "## 1110. 더하기 사이클"
      ]
    },
    {
      "cell_type": "markdown",
      "metadata": {
        "id": "32tP9rFgUIm4"
      },
      "source": [
        "### 입력\n",
        "    첫째 줄에 N이 주어진다. N은 0보다 크거나 같고, 99보다 작거나 같은 정수이다.\n",
        "\n",
        "### 출력\n",
        "    첫째 줄에 N의 사이클 길이를 출력한다.\n",
        "\n",
        "### 예제 입력 1 \n",
        "    26\n",
        "### 예제 출력 1 \n",
        "    4\n",
        "### 예제 입력 2 \n",
        "    55\n",
        "### 예제 출력 2 \n",
        "     3\n",
        "### 예제 입력 3 \n",
        "    1\n",
        "### 예제 출력 3 \n",
        "    60\n",
        "### 예제 입력 4 \n",
        "    0\n",
        "### 예제 출력 4\n",
        "    1"
      ]
    },
    {
      "cell_type": "markdown",
      "metadata": {
        "id": "S4aDFttkUUtX"
      },
      "source": [
        "### Code"
      ]
    },
    {
      "cell_type": "code",
      "metadata": {
        "colab": {
          "base_uri": "https://localhost:8080/"
        },
        "id": "ZrNhSXV5UWU4",
        "outputId": "db888bb6-8eb1-49f2-f2f9-2e3400bfaef4"
      },
      "source": [
        "digit = int(input())\n",
        "\n",
        "if digit < 10:\n",
        "  digit = digit * 10\n",
        "\n",
        "tens = digit // 10\n",
        "units = digit % 10\n",
        "cnt = 0\n",
        "\n",
        "while(True):\n",
        "  tens, units = units, tens\n",
        "  units = tens + units\n",
        "  if units >= 10: \n",
        "    units = units % 10\n",
        "  cnt += 1\n",
        "  if digit == tens*10 + units:\n",
        "    break\n",
        "\n",
        "print(cnt)"
      ],
      "execution_count": null,
      "outputs": [
        {
          "output_type": "stream",
          "text": [
            "26\n",
            "4\n"
          ],
          "name": "stdout"
        }
      ]
    },
    {
      "cell_type": "markdown",
      "metadata": {
        "id": "SrSLIN0Qearq"
      },
      "source": [
        "<a href=\"https://colab.research.google.com/github/graphy-young/algorithm/blob/main/Baekjoon%20Online%20Judge/5_1%EC%B0%A8%EC%9B%90%20%EB%B0%B0%EC%97%B4.ipynb\" target=\"_parent\"><img src=\"https://colab.research.google.com/assets/colab-badge.svg\" alt=\"Open In Colab\"/></a>"
      ]
    },
    {
      "cell_type": "markdown",
      "metadata": {
        "id": "oF-9SIpItIjk"
      },
      "source": [
        "# 5. 1차원 배열\n",
        "\n",
        "배열을 사용해 봅시다."
      ]
    },
    {
      "cell_type": "markdown",
      "metadata": {
        "id": "MvkYgUqctYiy"
      },
      "source": [
        "## 10818. 최소, 최대"
      ]
    },
    {
      "cell_type": "markdown",
      "metadata": {
        "id": "cIXBJjrUtRDP"
      },
      "source": [
        "### 문제\n",
        "    N개의 정수가 주어진다. 이때, 최솟값과 최댓값을 구하는 프로그램을 작성하시오.\n",
        "\n",
        "### 입력\n",
        "    첫째 줄에 정수의 개수 N (1 ≤ N ≤ 1,000,000)이 주어진다. 둘째 줄에는 N개의 정수를 공백으로 구분해서 주어진다. 모든 정수는 -1,000,000보다 크거나 같고, 1,000,000보다 작거나 같은 정수이다.\n",
        "\n",
        "### 출력\n",
        "    첫째 줄에 주어진 정수 N개의 최솟값과 최댓값을 공백으로 구분해 출력한다.\n",
        "\n",
        "### 예제 입력 1 \n",
        "    5\n",
        "    20 10 35 30 7\n",
        "### 예제 출력 1 \n",
        "    7 35"
      ]
    },
    {
      "cell_type": "markdown",
      "metadata": {
        "id": "5aHf13idtl1k"
      },
      "source": [
        "### Code"
      ]
    },
    {
      "cell_type": "code",
      "metadata": {
        "colab": {
          "base_uri": "https://localhost:8080/"
        },
        "id": "hdeedr_0tnPu",
        "outputId": "2f366e70-b222-448a-f095-e478f720c5b8"
      },
      "source": [
        "digitNums = int(input())\n",
        "numbers = list(map(int, input().split()))\n",
        "\n",
        "print(min(numbers), max(numbers))"
      ],
      "execution_count": null,
      "outputs": [
        {
          "output_type": "stream",
          "text": [
            "5\n",
            "20 10 35 30 7\n",
            "35 7\n"
          ],
          "name": "stdout"
        }
      ]
    },
    {
      "cell_type": "markdown",
      "metadata": {
        "id": "xVV8gwsVunfH"
      },
      "source": [
        "## 2562. 최댓값"
      ]
    },
    {
      "cell_type": "markdown",
      "metadata": {
        "id": "_ta2Lg-yuqFO"
      },
      "source": [
        "### 문제\n",
        "    9개의 서로 다른 자연수가 주어질 때, 이들 중 최댓값을 찾고 그 최댓값이 몇 번째 수인지를 구하는 프로그램을 작성하시오.\n",
        "    \n",
        "    예를 들어, 서로 다른 9개의 자연수\n",
        "    \n",
        "    3, 29, 38, 12, 57, 74, 40, 85, 61\n",
        "    \n",
        "    이 주어지면, 이들 중 최댓값은 85이고, 이 값은 8번째 수이다.\n",
        "\n",
        "### 입력\n",
        "    첫째 줄부터 아홉 번째 줄까지 한 줄에 하나의 자연수가 주어진다. 주어지는 자연수는 100 보다 작다.\n",
        "\n",
        "### 출력\n",
        "    첫째 줄에 최댓값을 출력하고, 둘째 줄에 최댓값이 몇 번째 수인지를 출력한다.\n",
        "\n",
        "### 예제 입력 1 \n",
        "    3\n",
        "    29\n",
        "    38\n",
        "    12\n",
        "    57\n",
        "    74\n",
        "    40\n",
        "    85\n",
        "    61\n",
        "\n",
        "### 예제 출력 1 \n",
        "    85\n",
        "    8"
      ]
    },
    {
      "cell_type": "markdown",
      "metadata": {
        "id": "q6UZG6pVu3Y4"
      },
      "source": [
        "### Code"
      ]
    },
    {
      "cell_type": "code",
      "metadata": {
        "colab": {
          "base_uri": "https://localhost:8080/"
        },
        "id": "Ngq-bQ4qu44s",
        "outputId": "2ad30b53-2c82-466d-f97c-16d27c6fc6ae"
      },
      "source": [
        "maxValue = 0\n",
        "cnt = 0\n",
        "\n",
        "for i in range(9):\n",
        "  digit = int(input())\n",
        "  if maxValue < digit:\n",
        "    maxValue = digit\n",
        "    cnt = i + 1  \n",
        "  else:\n",
        "    continue\n",
        "else:\n",
        "  print(maxValue)\n",
        "  print(cnt)"
      ],
      "execution_count": null,
      "outputs": [
        {
          "output_type": "stream",
          "text": [
            "3\n",
            "29\n",
            "38\n",
            "12\n",
            "57\n",
            "74\n",
            "40\n",
            "85\n",
            "61\n",
            "85\n",
            "8\n"
          ],
          "name": "stdout"
        }
      ]
    },
    {
      "cell_type": "markdown",
      "metadata": {
        "id": "XGsvTPwwwjFo"
      },
      "source": [
        "## 2577. 숫자의 개수"
      ]
    },
    {
      "cell_type": "markdown",
      "metadata": {
        "id": "vnYDuwduwlhH"
      },
      "source": [
        "### 문제\n",
        "    세 개의 자연수 A, B, C가 주어질 때 A×B×C를 계산한 결과에 0부터 9까지 각각의 숫자가 몇 번씩 쓰였는지를 구하는 프로그램을 작성하시오.\n",
        "    \n",
        "    예를 들어 A = 150, B = 266, C = 427 이라면 \n",
        "    \n",
        "    A × B × C = 150 × 266 × 427 = 17037300 이 되고, \n",
        "    \n",
        "    계산한 결과 17037300 에는 0이 3번, 1이 1번, 3이 2번, 7이 2번 쓰였다.\n",
        "\n",
        "### 입력\n",
        "    첫째 줄에 A, 둘째 줄에 B, 셋째 줄에 C가 주어진다. A, B, C는 모두 100보다 같거나 크고, 1,000보다 작은 자연수이다.\n",
        "\n",
        "### 출력\n",
        "    첫째 줄에는 A×B×C의 결과에 0 이 몇 번 쓰였는지 출력한다. 마찬가지로 둘째 줄부터 열 번째 줄까지 A×B×C의 결과에 1부터 9까지의 숫자가 각각 몇 번 쓰였는지 차례로 한 줄에 하나씩 출력한다.\n",
        "\n",
        "### 예제 입력 1 \n",
        "    150\n",
        "    266\n",
        "    427\n",
        "\n",
        "\n",
        "### 예제 출력 1 \n",
        "    3\n",
        "    1\n",
        "    0\n",
        "    2\n",
        "    0\n",
        "    0\n",
        "    0\n",
        "    2\n",
        "    0\n",
        "    0"
      ]
    },
    {
      "cell_type": "markdown",
      "metadata": {
        "id": "FFw7jJjKwzIe"
      },
      "source": [
        "### Code"
      ]
    },
    {
      "cell_type": "code",
      "metadata": {
        "colab": {
          "base_uri": "https://localhost:8080/"
        },
        "id": "4e6AFYTVw0Fz",
        "outputId": "0caef99e-aa1b-4eaa-a5a8-3cae0f67e4b1"
      },
      "source": [
        "numbers = 1\n",
        "for i in range(3):\n",
        "  numbers *= int(input())\n",
        "numbers = list(map(int, list(str(numbers))))\n",
        "\n",
        "for digit in range(10):\n",
        "  cnt = 0\n",
        "  for number in numbers:\n",
        "    if number == digit:\n",
        "      cnt += 1\n",
        "  print(cnt)"
      ],
      "execution_count": null,
      "outputs": [
        {
          "output_type": "stream",
          "text": [
            "150\n",
            "266\n",
            "427\n",
            "[1, 7, 0, 3, 7, 3, 0, 0]\n",
            "3\n",
            "1\n",
            "0\n",
            "2\n",
            "0\n",
            "0\n",
            "0\n",
            "2\n",
            "0\n",
            "0\n"
          ],
          "name": "stdout"
        }
      ]
    },
    {
      "cell_type": "markdown",
      "metadata": {
        "id": "bi2KLxnfWGqf"
      },
      "source": [
        "## 3052. 나머지"
      ]
    },
    {
      "cell_type": "markdown",
      "metadata": {
        "id": "SOZRXAR-WI4L"
      },
      "source": [
        "### 문제\n",
        "    두 자연수 A와 B가 있을 때, A%B는 A를 B로 나눈 나머지 이다. 예를 들어, 7, 14, 27, 38을 3으로 나눈 나머지는 1, 2, 0, 2이다. \n",
        "    \n",
        "    수 10개를 입력받은 뒤, 이를 42로 나눈 나머지를 구한다. 그 다음 서로 다른 값이 몇 개 있는지 출력하는 프로그램을 작성하시오.\n",
        "\n",
        "### 입력\n",
        "    첫째 줄부터 열번째 줄 까지 숫자가 한 줄에 하나씩 주어진다. 이 숫자는 1,000보다 작거나 같고, 음이 아닌 정수이다.\n",
        "\n",
        "### 출력\n",
        "    첫째 줄에, 42로 나누었을 때, 서로 다른 나머지가 몇 개 있는지 출력한다.\n",
        "\n",
        "### 예제 입력 1 \n",
        "    1\n",
        "    2\n",
        "    3\n",
        "    4\n",
        "    5\n",
        "    6\n",
        "    7\n",
        "    8\n",
        "    9\n",
        "    10\n",
        "\n",
        "### 예제 출력 1 \n",
        "    10\n",
        "각 수를 42로 나눈 나머지는 1, 2, 3, 4, 5, 6, 7, 8, 9, 10이다.\n",
        "\n",
        "### 예제 입력 2 \n",
        "    42\n",
        "    84\n",
        "    252\n",
        "    420\n",
        "    840\n",
        "    126\n",
        "    42\n",
        "    84\n",
        "    420\n",
        "    126\n",
        "\n",
        "### 예제 출력 2 \n",
        "    1\n",
        "모든 수를 42로 나눈 나머지는 0이다.\n",
        "\n",
        "### 예제 입력 3 \n",
        "    39\n",
        "    40\n",
        "    41\n",
        "    42\n",
        "    43\n",
        "    44\n",
        "    82\n",
        "    83\n",
        "    84\n",
        "    85\n",
        "\n",
        "### 예제 출력 3 \n",
        "    6\n",
        "각 수를 42로 나눈 나머지는 39, 40, 41, 0, 1, 2, 40, 41, 0, 1이다. 서로 다른 값은 6개가 있다."
      ]
    },
    {
      "cell_type": "markdown",
      "metadata": {
        "id": "DsFoZ0WOWxSn"
      },
      "source": [
        "### Code"
      ]
    },
    {
      "cell_type": "code",
      "metadata": {
        "colab": {
          "base_uri": "https://localhost:8080/"
        },
        "id": "nzLG3uJtWykK",
        "outputId": "b663c1dd-15f1-4bf7-d068-1af7d6aeeb89"
      },
      "source": [
        "numbers = list()\n",
        "\n",
        "for i in range(10):\n",
        "  numbers.append(int(input()))\n",
        "  numbers[i] = numbers[i] % 42\n",
        "\n",
        "numbers = list(set(numbers))\n",
        "print(len(numbers))"
      ],
      "execution_count": null,
      "outputs": [
        {
          "output_type": "stream",
          "text": [
            "39\n",
            "40\n",
            "41\n",
            "42\n",
            "43\n",
            "44\n",
            "82\n",
            "83\n",
            "84\n",
            "85\n",
            "6\n"
          ],
          "name": "stdout"
        }
      ]
    },
    {
      "cell_type": "markdown",
      "metadata": {
        "id": "Ue_loKmpfzjb"
      },
      "source": [
        "## 1546. 평균"
      ]
    },
    {
      "cell_type": "markdown",
      "metadata": {
        "id": "VK1lVYHKf3Uj"
      },
      "source": [
        "### 문제\n",
        "    세준이는 기말고사를 망쳤다. 세준이는 점수를 조작해서 집에 가져가기로 했다. 일단 세준이는 자기 점수 중에 최댓값을 골랐다. 이 값을 M이라고 한다. 그리고 나서 모든 점수를 점수/M*100으로 고쳤다.\n",
        "    \n",
        "    예를 들어, 세준이의 최고점이 70이고, 수학점수가 50이었으면 수학점수는 50/70*100이 되어 71.43점이 된다.\n",
        "    \n",
        "    세준이의 성적을 위의 방법대로 새로 계산했을 때, 새로운 평균을 구하는 프로그램을 작성하시오.\n",
        "\n",
        "### 입력\n",
        "    첫째 줄에 시험 본 과목의 개수 N이 주어진다. 이 값은 1000보다 작거나 같다. 둘째 줄에 세준이의 현재 성적이 주어진다. 이 값은 100보다 작거나 같은 음이 아닌 정수이고, 적어도 하나의 값은 0보다 크다.\n",
        "\n",
        "### 출력\n",
        "    첫째 줄에 새로운 평균을 출력한다. 실제 정답과 출력값의 절대오차 또는 상대오차가 10-2 이하이면 정답이다.\n",
        "\n",
        "### 예제 입력 1 \n",
        "    3\n",
        "    40 80 60\n",
        "\n",
        "### 예제 출력 1 \n",
        "    75.0\n",
        "\n",
        "### 예제 입력 2 \n",
        "    3\n",
        "    10 20 30\n",
        "\n",
        "### 예제 출력 2 \n",
        "    66.666667\n",
        "10-2 이하의 오차를 허용한다는 말은 정확히 소수 2번째 자리까지 출력하라는 뜻이 아니다.\n",
        "\n",
        "### 예제 입력 3 \n",
        "    4\n",
        "    1 100 100 100\n",
        "\n",
        "### 예제 출력 3 \n",
        "    75.25\n",
        "\n",
        "### 예제 입력 4 \n",
        "    5\n",
        "    1 2 4 8 16\n",
        "\n",
        "### 예제 출력 4 \n",
        "    38.75\n",
        "### 예제 입력 5 \n",
        "    2\n",
        "    3 10\n",
        "\n",
        "### 예제 출력 5 \n",
        "    65.0"
      ]
    },
    {
      "cell_type": "markdown",
      "metadata": {
        "id": "ktD7b0yEgW-6"
      },
      "source": [
        "### Code"
      ]
    },
    {
      "cell_type": "code",
      "metadata": {
        "colab": {
          "base_uri": "https://localhost:8080/"
        },
        "id": "V2uI77A8gYrL",
        "outputId": "2d98442c-2670-4857-e04f-c51f4bc03468"
      },
      "source": [
        "subjectNumber = int(input())\n",
        "scores = list(map(int, input().split()))\n",
        "\n",
        "maxScore = max(scores)\n",
        "for score in scores:\n",
        "  scores[scores.index(score)] = score / maxScore * 100\n",
        "\n",
        "avg = sum(scores) / len(scores)\n",
        "print(avg)"
      ],
      "execution_count": null,
      "outputs": [
        {
          "output_type": "stream",
          "text": [
            "3\n",
            "40 80 60\n",
            "[50.0, 100.0, 75.0]\n",
            "75.0\n"
          ],
          "name": "stdout"
        }
      ]
    },
    {
      "cell_type": "markdown",
      "metadata": {
        "id": "1qtzR_E5l0L8"
      },
      "source": [
        "## 8958. OX퀴즈"
      ]
    },
    {
      "cell_type": "markdown",
      "metadata": {
        "id": "zhX_BIANl3Gh"
      },
      "source": [
        "### 문제\n",
        "    \"OOXXOXXOOO\"와 같은 OX퀴즈의 결과가 있다. O는 문제를 맞은 것이고, X는 문제를 틀린 것이다. 문제를 맞은 경우 그 문제의 점수는 그 문제까지 연속된 O의 개수가 된다. 예를 들어, 10번 문제의 점수는 3이 된다.\n",
        "    \n",
        "    \"OOXXOXXOOO\"의 점수는 1+2+0+0+1+0+0+1+2+3 = 10점이다.\n",
        "    \n",
        "    OX퀴즈의 결과가 주어졌을 때, 점수를 구하는 프로그램을 작성하시오.\n",
        "\n",
        "### 입력\n",
        "    첫째 줄에 테스트 케이스의 개수가 주어진다. 각 테스트 케이스는 한 줄로 이루어져 있고, 길이가 0보다 크고 80보다 작은 문자열이 주어진다. 문자열은 O와 X만으로 이루어져 있다.\n",
        "\n",
        "### 출력\n",
        "    각 테스트 케이스마다 점수를 출력한다.\n",
        "\n",
        "### 예제 입력 1 \n",
        "    5\n",
        "    OOXXOXXOOO\n",
        "    OOXXOOXXOO\n",
        "    OXOXOXOXOXOXOX\n",
        "    OOOOOOOOOO\n",
        "    OOOOXOOOOXOOOOX\n",
        "\n",
        "### 예제 출력 1 \n",
        "    10\n",
        "    9\n",
        "    7\n",
        "    55\n",
        "    30"
      ]
    },
    {
      "cell_type": "markdown",
      "metadata": {
        "id": "Tv6K-5bEmAmY"
      },
      "source": [
        "### Code"
      ]
    },
    {
      "cell_type": "code",
      "metadata": {
        "colab": {
          "base_uri": "https://localhost:8080/"
        },
        "id": "PRWqlkrRmBuy",
        "outputId": "6059072c-9102-4ef0-f303-6b0fadea36fc"
      },
      "source": [
        "testCase = int(input())\n",
        "\n",
        "for i in range(testCase):\n",
        "  scores = list(input())\n",
        "  cumCnt = 0\n",
        "  result = 0\n",
        "  for score in scores:\n",
        "    if score == 'O':\n",
        "      cumCnt += 1\n",
        "    else:\n",
        "      cumCnt = 0\n",
        "    result += cumCnt\n",
        "  print(result)"
      ],
      "execution_count": null,
      "outputs": [
        {
          "output_type": "stream",
          "text": [
            "5\n",
            "OOXXOXXOOO\n",
            "10\n",
            "OOXXOOXXOO\n",
            "9\n",
            "OXOXOXOXOXOXOX\n",
            "7\n",
            "OOOOOOOOOO\n",
            "55\n",
            "OOOOXOOOOXOOOOX\n",
            "30\n"
          ],
          "name": "stdout"
        }
      ]
    },
    {
      "cell_type": "markdown",
      "metadata": {
        "id": "ILep3fziGEAa"
      },
      "source": [
        "## 4344. 평균은 넘겠지"
      ]
    },
    {
      "cell_type": "markdown",
      "metadata": {
        "id": "DW54fKWtGGaT"
      },
      "source": [
        "### 문제\n",
        "    대학생 새내기들의 90%는 자신이 반에서 평균은 넘는다고 생각한다. 당신은 그들에게 슬픈 진실을 알려줘야 한다.\n",
        "\n",
        "### 입력\n",
        "    첫째 줄에는 테스트 케이스의 개수 C가 주어진다.\n",
        "    \n",
        "    둘째 줄부터 각 테스트 케이스마다 학생의 수 N(1 ≤ N ≤ 1000, N은 정수)이 첫 수로 주어지고, 이어서 N명의 점수가 주어진다. 점수는 0보다 크거나 같고, 100보다 작거나 같은 정수이다.\n",
        "\n",
        "### 출력\n",
        "    각 케이스마다 한 줄씩 평균을 넘는 학생들의 비율을 반올림하여 소수점 셋째 자리까지 출력한다.\n",
        "\n",
        "### 예제 입력 1 \n",
        "    5\n",
        "    5 50 50 70 80 100\n",
        "    7 100 95 90 80 70 60 50\n",
        "    3 70 90 80\n",
        "    3 70 90 81\n",
        "    9 100 99 98 97 96 95 94 93 91\n",
        "\n",
        "### 예제 출력 1 \n",
        "    40.000%\n",
        "    57.143%\n",
        "    33.333%\n",
        "    66.667%\n",
        "    55.556%"
      ]
    },
    {
      "cell_type": "markdown",
      "metadata": {
        "id": "7M2mgdQyGWsh"
      },
      "source": [
        "### Code"
      ]
    },
    {
      "cell_type": "code",
      "metadata": {
        "colab": {
          "base_uri": "https://localhost:8080/"
        },
        "id": "UHE7U_D9J_Mj",
        "outputId": "78b9e182-259c-4033-d03a-ee2ff347d5b5"
      },
      "source": [
        "#from sys import stdin\n",
        "\n",
        "testCase = int(input())\n",
        "#testCase = int(stdin.readline().rstrip())\n",
        "\n",
        "for i in range(testCase):\n",
        "  scores = list(map(int, input().split(' ')))\n",
        "  #scores = list(map(int, stdin.readline().split()))\n",
        "  groupAvg = sum(scores[1:]) / scores[0]\n",
        "  for score in scores[1:]:\n",
        "    if score > groupAvg:\n",
        "      scores[scores.index(score)] = True\n",
        "    else:\n",
        "      scores[scores.index(score)] = False\n",
        "  aboveRatio = round(sum(scores[1:]) / scores[0] * 100, 3)\n",
        "  print(\"%0.3f\" % aboveRatio + \"%\")"
      ],
      "execution_count": null,
      "outputs": [
        {
          "output_type": "stream",
          "text": [
            "5\n",
            "5 50 50 70 80 100\n",
            "40.000%\n",
            "7 100 95 90 80 70 60 50\n",
            "57.143%\n",
            "3 70 90 80\n",
            "33.333%\n",
            "3 70 90 81\n",
            "66.667%\n",
            "9 100 99 98 97 96 95 94 93 91\n",
            "55.556%\n"
          ],
          "name": "stdout"
        }
      ]
    },
    {
      "cell_type": "markdown",
      "metadata": {
        "id": "0qH_K9d_N-qA"
      },
      "source": [
        "** Colab에서는 정상 작동하나, 백준 제출에서는 런타임 에러 발생. 수정 필요할듯 **"
      ]
    },
    {
      "cell_type": "markdown",
      "metadata": {
        "id": "E6RXyzWfearw"
      },
      "source": [
        "<a href=\"https://colab.research.google.com/github/graphy-young/algorithm/blob/main/Baekjoon%20Online%20Judge/6_%ED%95%A8%EC%88%98.ipynb\" target=\"_parent\"><img src=\"https://colab.research.google.com/assets/colab-badge.svg\" alt=\"Open In Colab\"/></a>"
      ]
    },
    {
      "cell_type": "markdown",
      "metadata": {
        "id": "PPVGEoEFvc13"
      },
      "source": [
        "# 6. 함수\n",
        "\n",
        "함수를 정의하면 코드가 깔끔해지고 관리하기 쉬워집니다."
      ]
    },
    {
      "cell_type": "markdown",
      "metadata": {
        "id": "Ep_DFg5wvuqC"
      },
      "source": [
        "## 15596. 정수 N개의 합"
      ]
    },
    {
      "cell_type": "markdown",
      "metadata": {
        "id": "53nVEGoCv00d"
      },
      "source": [
        "### 문제\n",
        "    정수 n개가 주어졌을 때, n개의 합을 구하는 함수를 작성하시오.\n",
        "    \n",
        "    작성해야 하는 함수는 다음과 같다.\n",
        "    \n",
        "    C, C11, C (Clang), C11 (Clang): long long sum(int *a, int n);\n",
        "    a: 합을 구해야 하는 정수 n개가 저장되어 있는 배열 (0 ≤ a[i] ≤ 1,000,000, 1 ≤ n ≤ 3,000,000)\n",
        "    n: 합을 구해야 하는 정수의 개수\n",
        "    리턴값: a에 포함되어 있는 정수 n개의 합\n",
        "    \n",
        "    C++, C++11, C++14, C++17, C++ (Clang), C++11 (Clang), C++14 (Clang), C++17 (Clang): long long sum(std::vector<int> &a);\n",
        "    a: 합을 구해야 하는 정수 n개가 저장되어 있는 배열 (0 ≤ a[i] ≤ 1,000,000, 1 ≤ n ≤ 3,000,000)\n",
        "    리턴값: a에 포함되어 있는 정수 n개의 합\n",
        "    \n",
        "    Python 2, Python 3, PyPy, PyPy3: def solve(a: list) -> int\n",
        "    a: 합을 구해야 하는 정수 n개가 저장되어 있는 리스트 (0 ≤ a[i] ≤ 1,000,000, 1 ≤ n ≤ 3,000,000)\n",
        "    리턴값: a에 포함되어 있는 정수 n개의 합 (정수)\n",
        "    \n",
        "    Java: long sum(int[] a); (클래스 이름: Test)\n",
        "    a: 합을 구해야 하는 정수 n개가 저장되어 있는 배열 (0 ≤ a[i] ≤ 1,000,000, 1 ≤ n ≤ 3,000,000)\n",
        "    리턴값: a에 포함되어 있는 정수 n개의 합\n",
        "    \n",
        "    Go: sum(a []int) int\n",
        "    a: 합을 구해야 하는 정수 n개가 저장되어 있는 배열 (0 ≤ a[i] ≤ 1,000,000, 1 ≤ n ≤ 3,000,000)\n",
        "    리턴값: a에 포함되어 있는 정수 n개의 합"
      ]
    },
    {
      "cell_type": "markdown",
      "metadata": {
        "id": "ZOqzHTbhId6j"
      },
      "source": [
        "### Code"
      ]
    },
    {
      "cell_type": "code",
      "metadata": {
        "id": "WuYtwHGQwD2W"
      },
      "source": [
        "def solve(a):\n",
        "    return sum(a)"
      ],
      "execution_count": null,
      "outputs": []
    },
    {
      "cell_type": "markdown",
      "metadata": {
        "id": "1vz5TD3jIfgl"
      },
      "source": [
        "## 4673. 셀프 넘버"
      ]
    },
    {
      "cell_type": "markdown",
      "metadata": {
        "id": "OWAGE3bKImsn"
      },
      "source": [
        "### 문제\n",
        "    셀프 넘버는 1949년 인도 수학자 D.R. Kaprekar가 이름 붙였다. 양의 정수 n에 대해서 d(n)을 n과 n의 각 자리수를 더하는 함수라고 정의하자. 예를 들어, d(75) = 75+7+5 = 87이다.\n",
        "    \n",
        "    양의 정수 n이 주어졌을 때, 이 수를 시작해서 n, d(n), d(d(n)), d(d(d(n))), ...과 같은 무한 수열을 만들 수 있다. \n",
        "    \n",
        "    예를 들어, 33으로 시작한다면 다음 수는 33 + 3 + 3 = 39이고, 그 다음 수는 39 + 3 + 9 = 51, 다음 수는 51 + 5 + 1 = 57이다. 이런식으로 다음과 같은 수열을 만들 수 있다.\n",
        "    \n",
        "    33, 39, 51, 57, 69, 84, 96, 111, 114, 120, 123, 129, 141, ...\n",
        "    \n",
        "    n을 d(n)의 생성자라고 한다. 위의 수열에서 33은 39의 생성자이고, 39는 51의 생성자, 51은 57의 생성자이다. 생성자가 한 개보다 많은 경우도 있다. 예를 들어, 101은 생성자가 2개(91과 100) 있다. \n",
        "    \n",
        "    생성자가 없는 숫자를 셀프 넘버라고 한다. 100보다 작은 셀프 넘버는 총 13개가 있다. 1, 3, 5, 7, 9, 20, 31, 42, 53, 64, 75, 86, 97\n",
        "    \n",
        "    10000보다 작거나 같은 셀프 넘버를 한 줄에 하나씩 출력하는 프로그램을 작성하시오.\n",
        "\n",
        "### 입력\n",
        "    입력은 없다.\n",
        "\n",
        "### 출력\n",
        "    10,000보다 작거나 같은 셀프 넘버를 한 줄에 하나씩 증가하는 순서로 출력한다.\n",
        "\n",
        "### 예제 출력 1 \n",
        "    1\n",
        "    3\n",
        "    5\n",
        "    7\n",
        "    9\n",
        "    20\n",
        "    31\n",
        "    42\n",
        "    53\n",
        "    64\n",
        "     |\n",
        "     |       <-- a lot more numbers\n",
        "     |\n",
        "    9903\n",
        "    9914\n",
        "    9925\n",
        "    9927\n",
        "    9938\n",
        "    9949\n",
        "    9960\n",
        "    9971\n",
        "    9982\n",
        "    9993"
      ]
    },
    {
      "cell_type": "markdown",
      "metadata": {
        "id": "vQPbPlxaJCpX"
      },
      "source": [
        "### Code"
      ]
    },
    {
      "cell_type": "markdown",
      "metadata": {
        "id": "3A1EMO8xRQKH"
      },
      "source": [
        "#### 1st try. 시간초과\n",
        "\n",
        "오답인거같음..."
      ]
    },
    {
      "cell_type": "code",
      "metadata": {
        "colab": {
          "base_uri": "https://localhost:8080/"
        },
        "id": "qgRDbWEoJEAW",
        "outputId": "2e73aec6-bcd1-4e58-e0cc-1bb2d72e95a2"
      },
      "source": [
        "def getSelfNumber(num, numList=[]):\n",
        "  selfNumber = num + (num // 10) + (num % 10)\n",
        "  if selfNumber <= 10000:\n",
        "    numList.append(selfNumber)\n",
        "    return getSelfNumber(selfNumber, numList)\n",
        "  else:\n",
        "    return numList\n",
        "\n",
        "targetList = [i for i in range(1, 10001)]\n",
        "selfNumList = set()\n",
        "\n",
        "for i in range(1, 10001):\n",
        "  selfNumList.update(getSelfNumber(i))\n",
        "\n",
        "result = sorted(list(set(targetList) - selfNumList))\n",
        "\n",
        "for j in result:\n",
        "  print(j)"
      ],
      "execution_count": null,
      "outputs": [
        {
          "output_type": "stream",
          "text": [
            "1\n",
            "3\n",
            "5\n",
            "7\n",
            "9\n",
            "20\n",
            "31\n",
            "42\n",
            "53\n",
            "64\n",
            "75\n",
            "86\n",
            "97\n",
            "108\n",
            "119\n",
            "130\n",
            "141\n",
            "152\n",
            "163\n",
            "174\n",
            "185\n",
            "196\n",
            "207\n",
            "218\n",
            "229\n",
            "240\n",
            "251\n",
            "262\n",
            "273\n",
            "284\n",
            "295\n",
            "306\n",
            "317\n",
            "328\n",
            "339\n",
            "350\n",
            "361\n",
            "372\n",
            "383\n",
            "394\n",
            "405\n",
            "416\n",
            "427\n",
            "438\n",
            "449\n",
            "460\n",
            "471\n",
            "482\n",
            "493\n",
            "504\n",
            "515\n",
            "526\n",
            "537\n",
            "548\n",
            "559\n",
            "570\n",
            "581\n",
            "592\n",
            "603\n",
            "614\n",
            "625\n",
            "636\n",
            "647\n",
            "658\n",
            "669\n",
            "680\n",
            "691\n",
            "702\n",
            "713\n",
            "724\n",
            "735\n",
            "746\n",
            "757\n",
            "768\n",
            "779\n",
            "790\n",
            "801\n",
            "812\n",
            "823\n",
            "834\n",
            "845\n",
            "856\n",
            "867\n",
            "878\n",
            "889\n",
            "900\n",
            "911\n",
            "922\n",
            "933\n",
            "944\n",
            "955\n",
            "966\n",
            "977\n",
            "988\n",
            "999\n",
            "1010\n",
            "1021\n",
            "1032\n",
            "1043\n",
            "1054\n",
            "1065\n",
            "1076\n",
            "1087\n",
            "1098\n",
            "1109\n",
            "1120\n",
            "1131\n",
            "1142\n",
            "1153\n",
            "1164\n",
            "1175\n",
            "1186\n",
            "1197\n",
            "1208\n",
            "1219\n",
            "1230\n",
            "1241\n",
            "1252\n",
            "1263\n",
            "1274\n",
            "1285\n",
            "1296\n",
            "1307\n",
            "1318\n",
            "1329\n",
            "1340\n",
            "1351\n",
            "1362\n",
            "1373\n",
            "1384\n",
            "1395\n",
            "1406\n",
            "1417\n",
            "1428\n",
            "1439\n",
            "1450\n",
            "1461\n",
            "1472\n",
            "1483\n",
            "1494\n",
            "1505\n",
            "1516\n",
            "1527\n",
            "1538\n",
            "1549\n",
            "1560\n",
            "1571\n",
            "1582\n",
            "1593\n",
            "1604\n",
            "1615\n",
            "1626\n",
            "1637\n",
            "1648\n",
            "1659\n",
            "1670\n",
            "1681\n",
            "1692\n",
            "1703\n",
            "1714\n",
            "1725\n",
            "1736\n",
            "1747\n",
            "1758\n",
            "1769\n",
            "1780\n",
            "1791\n",
            "1802\n",
            "1813\n",
            "1824\n",
            "1835\n",
            "1846\n",
            "1857\n",
            "1868\n",
            "1879\n",
            "1890\n",
            "1901\n",
            "1912\n",
            "1923\n",
            "1934\n",
            "1945\n",
            "1956\n",
            "1967\n",
            "1978\n",
            "1989\n",
            "2000\n",
            "2011\n",
            "2022\n",
            "2033\n",
            "2044\n",
            "2055\n",
            "2066\n",
            "2077\n",
            "2088\n",
            "2099\n",
            "2110\n",
            "2121\n",
            "2132\n",
            "2143\n",
            "2154\n",
            "2165\n",
            "2176\n",
            "2187\n",
            "2198\n",
            "2209\n",
            "2220\n",
            "2231\n",
            "2242\n",
            "2253\n",
            "2264\n",
            "2275\n",
            "2286\n",
            "2297\n",
            "2308\n",
            "2319\n",
            "2330\n",
            "2341\n",
            "2352\n",
            "2363\n",
            "2374\n",
            "2385\n",
            "2396\n",
            "2407\n",
            "2418\n",
            "2429\n",
            "2440\n",
            "2451\n",
            "2462\n",
            "2473\n",
            "2484\n",
            "2495\n",
            "2506\n",
            "2517\n",
            "2528\n",
            "2539\n",
            "2550\n",
            "2561\n",
            "2572\n",
            "2583\n",
            "2594\n",
            "2605\n",
            "2616\n",
            "2627\n",
            "2638\n",
            "2649\n",
            "2660\n",
            "2671\n",
            "2682\n",
            "2693\n",
            "2704\n",
            "2715\n",
            "2726\n",
            "2737\n",
            "2748\n",
            "2759\n",
            "2770\n",
            "2781\n",
            "2792\n",
            "2803\n",
            "2814\n",
            "2825\n",
            "2836\n",
            "2847\n",
            "2858\n",
            "2869\n",
            "2880\n",
            "2891\n",
            "2902\n",
            "2913\n",
            "2924\n",
            "2935\n",
            "2946\n",
            "2957\n",
            "2968\n",
            "2979\n",
            "2990\n",
            "3001\n",
            "3012\n",
            "3023\n",
            "3034\n",
            "3045\n",
            "3056\n",
            "3067\n",
            "3078\n",
            "3089\n",
            "3100\n",
            "3111\n",
            "3122\n",
            "3133\n",
            "3144\n",
            "3155\n",
            "3166\n",
            "3177\n",
            "3188\n",
            "3199\n",
            "3210\n",
            "3221\n",
            "3232\n",
            "3243\n",
            "3254\n",
            "3265\n",
            "3276\n",
            "3287\n",
            "3298\n",
            "3309\n",
            "3320\n",
            "3331\n",
            "3342\n",
            "3353\n",
            "3364\n",
            "3375\n",
            "3386\n",
            "3397\n",
            "3408\n",
            "3419\n",
            "3430\n",
            "3441\n",
            "3452\n",
            "3463\n",
            "3474\n",
            "3485\n",
            "3496\n",
            "3507\n",
            "3518\n",
            "3529\n",
            "3540\n",
            "3551\n",
            "3562\n",
            "3573\n",
            "3584\n",
            "3595\n",
            "3606\n",
            "3617\n",
            "3628\n",
            "3639\n",
            "3650\n",
            "3661\n",
            "3672\n",
            "3683\n",
            "3694\n",
            "3705\n",
            "3716\n",
            "3727\n",
            "3738\n",
            "3749\n",
            "3760\n",
            "3771\n",
            "3782\n",
            "3793\n",
            "3804\n",
            "3815\n",
            "3826\n",
            "3837\n",
            "3848\n",
            "3859\n",
            "3870\n",
            "3881\n",
            "3892\n",
            "3903\n",
            "3914\n",
            "3925\n",
            "3936\n",
            "3947\n",
            "3958\n",
            "3969\n",
            "3980\n",
            "3991\n",
            "4002\n",
            "4013\n",
            "4024\n",
            "4035\n",
            "4046\n",
            "4057\n",
            "4068\n",
            "4079\n",
            "4090\n",
            "4101\n",
            "4112\n",
            "4123\n",
            "4134\n",
            "4145\n",
            "4156\n",
            "4167\n",
            "4178\n",
            "4189\n",
            "4200\n",
            "4211\n",
            "4222\n",
            "4233\n",
            "4244\n",
            "4255\n",
            "4266\n",
            "4277\n",
            "4288\n",
            "4299\n",
            "4310\n",
            "4321\n",
            "4332\n",
            "4343\n",
            "4354\n",
            "4365\n",
            "4376\n",
            "4387\n",
            "4398\n",
            "4409\n",
            "4420\n",
            "4431\n",
            "4442\n",
            "4453\n",
            "4464\n",
            "4475\n",
            "4486\n",
            "4497\n",
            "4508\n",
            "4519\n",
            "4530\n",
            "4541\n",
            "4552\n",
            "4563\n",
            "4574\n",
            "4585\n",
            "4596\n",
            "4607\n",
            "4618\n",
            "4629\n",
            "4640\n",
            "4651\n",
            "4662\n",
            "4673\n",
            "4684\n",
            "4695\n",
            "4706\n",
            "4717\n",
            "4728\n",
            "4739\n",
            "4750\n",
            "4761\n",
            "4772\n",
            "4783\n",
            "4794\n",
            "4805\n",
            "4816\n",
            "4827\n",
            "4838\n",
            "4849\n",
            "4860\n",
            "4871\n",
            "4882\n",
            "4893\n",
            "4904\n",
            "4915\n",
            "4926\n",
            "4937\n",
            "4948\n",
            "4959\n",
            "4970\n",
            "4981\n",
            "4992\n",
            "5003\n",
            "5014\n",
            "5025\n",
            "5036\n",
            "5047\n",
            "5058\n",
            "5069\n",
            "5080\n",
            "5091\n",
            "5102\n",
            "5113\n",
            "5124\n",
            "5135\n",
            "5146\n",
            "5157\n",
            "5168\n",
            "5179\n",
            "5190\n",
            "5201\n",
            "5212\n",
            "5223\n",
            "5234\n",
            "5245\n",
            "5256\n",
            "5267\n",
            "5278\n",
            "5289\n",
            "5300\n",
            "5311\n",
            "5322\n",
            "5333\n",
            "5344\n",
            "5355\n",
            "5366\n",
            "5377\n",
            "5388\n",
            "5399\n",
            "5410\n",
            "5421\n",
            "5432\n",
            "5443\n",
            "5454\n",
            "5465\n",
            "5476\n",
            "5487\n",
            "5498\n",
            "5509\n",
            "5520\n",
            "5531\n",
            "5542\n",
            "5553\n",
            "5564\n",
            "5575\n",
            "5586\n",
            "5597\n",
            "5608\n",
            "5619\n",
            "5630\n",
            "5641\n",
            "5652\n",
            "5663\n",
            "5674\n",
            "5685\n",
            "5696\n",
            "5707\n",
            "5718\n",
            "5729\n",
            "5740\n",
            "5751\n",
            "5762\n",
            "5773\n",
            "5784\n",
            "5795\n",
            "5806\n",
            "5817\n",
            "5828\n",
            "5839\n",
            "5850\n",
            "5861\n",
            "5872\n",
            "5883\n",
            "5894\n",
            "5905\n",
            "5916\n",
            "5927\n",
            "5938\n",
            "5949\n",
            "5960\n",
            "5971\n",
            "5982\n",
            "5993\n",
            "6004\n",
            "6015\n",
            "6026\n",
            "6037\n",
            "6048\n",
            "6059\n",
            "6070\n",
            "6081\n",
            "6092\n",
            "6103\n",
            "6114\n",
            "6125\n",
            "6136\n",
            "6147\n",
            "6158\n",
            "6169\n",
            "6180\n",
            "6191\n",
            "6202\n",
            "6213\n",
            "6224\n",
            "6235\n",
            "6246\n",
            "6257\n",
            "6268\n",
            "6279\n",
            "6290\n",
            "6301\n",
            "6312\n",
            "6323\n",
            "6334\n",
            "6345\n",
            "6356\n",
            "6367\n",
            "6378\n",
            "6389\n",
            "6400\n",
            "6411\n",
            "6422\n",
            "6433\n",
            "6444\n",
            "6455\n",
            "6466\n",
            "6477\n",
            "6488\n",
            "6499\n",
            "6510\n",
            "6521\n",
            "6532\n",
            "6543\n",
            "6554\n",
            "6565\n",
            "6576\n",
            "6587\n",
            "6598\n",
            "6609\n",
            "6620\n",
            "6631\n",
            "6642\n",
            "6653\n",
            "6664\n",
            "6675\n",
            "6686\n",
            "6697\n",
            "6708\n",
            "6719\n",
            "6730\n",
            "6741\n",
            "6752\n",
            "6763\n",
            "6774\n",
            "6785\n",
            "6796\n",
            "6807\n",
            "6818\n",
            "6829\n",
            "6840\n",
            "6851\n",
            "6862\n",
            "6873\n",
            "6884\n",
            "6895\n",
            "6906\n",
            "6917\n",
            "6928\n",
            "6939\n",
            "6950\n",
            "6961\n",
            "6972\n",
            "6983\n",
            "6994\n",
            "7005\n",
            "7016\n",
            "7027\n",
            "7038\n",
            "7049\n",
            "7060\n",
            "7071\n",
            "7082\n",
            "7093\n",
            "7104\n",
            "7115\n",
            "7126\n",
            "7137\n",
            "7148\n",
            "7159\n",
            "7170\n",
            "7181\n",
            "7192\n",
            "7203\n",
            "7214\n",
            "7225\n",
            "7236\n",
            "7247\n",
            "7258\n",
            "7269\n",
            "7280\n",
            "7291\n",
            "7302\n",
            "7313\n",
            "7324\n",
            "7335\n",
            "7346\n",
            "7357\n",
            "7368\n",
            "7379\n",
            "7390\n",
            "7401\n",
            "7412\n",
            "7423\n",
            "7434\n",
            "7445\n",
            "7456\n",
            "7467\n",
            "7478\n",
            "7489\n",
            "7500\n",
            "7511\n",
            "7522\n",
            "7533\n",
            "7544\n",
            "7555\n",
            "7566\n",
            "7577\n",
            "7588\n",
            "7599\n",
            "7610\n",
            "7621\n",
            "7632\n",
            "7643\n",
            "7654\n",
            "7665\n",
            "7676\n",
            "7687\n",
            "7698\n",
            "7709\n",
            "7720\n",
            "7731\n",
            "7742\n",
            "7753\n",
            "7764\n",
            "7775\n",
            "7786\n",
            "7797\n",
            "7808\n",
            "7819\n",
            "7830\n",
            "7841\n",
            "7852\n",
            "7863\n",
            "7874\n",
            "7885\n",
            "7896\n",
            "7907\n",
            "7918\n",
            "7929\n",
            "7940\n",
            "7951\n",
            "7962\n",
            "7973\n",
            "7984\n",
            "7995\n",
            "8006\n",
            "8017\n",
            "8028\n",
            "8039\n",
            "8050\n",
            "8061\n",
            "8072\n",
            "8083\n",
            "8094\n",
            "8105\n",
            "8116\n",
            "8127\n",
            "8138\n",
            "8149\n",
            "8160\n",
            "8171\n",
            "8182\n",
            "8193\n",
            "8204\n",
            "8215\n",
            "8226\n",
            "8237\n",
            "8248\n",
            "8259\n",
            "8270\n",
            "8281\n",
            "8292\n",
            "8303\n",
            "8314\n",
            "8325\n",
            "8336\n",
            "8347\n",
            "8358\n",
            "8369\n",
            "8380\n",
            "8391\n",
            "8402\n",
            "8413\n",
            "8424\n",
            "8435\n",
            "8446\n",
            "8457\n",
            "8468\n",
            "8479\n",
            "8490\n",
            "8501\n",
            "8512\n",
            "8523\n",
            "8534\n",
            "8545\n",
            "8556\n",
            "8567\n",
            "8578\n",
            "8589\n",
            "8600\n",
            "8611\n",
            "8622\n",
            "8633\n",
            "8644\n",
            "8655\n",
            "8666\n",
            "8677\n",
            "8688\n",
            "8699\n",
            "8710\n",
            "8721\n",
            "8732\n",
            "8743\n",
            "8754\n",
            "8765\n",
            "8776\n",
            "8787\n",
            "8798\n",
            "8809\n",
            "8820\n",
            "8831\n",
            "8842\n",
            "8853\n",
            "8864\n",
            "8875\n",
            "8886\n",
            "8897\n",
            "8908\n",
            "8919\n",
            "8930\n",
            "8941\n",
            "8952\n",
            "8963\n",
            "8974\n",
            "8985\n",
            "8996\n",
            "9007\n",
            "9018\n",
            "9029\n",
            "9040\n",
            "9051\n",
            "9062\n",
            "9073\n",
            "9084\n",
            "9095\n",
            "9106\n",
            "9117\n",
            "9128\n",
            "9139\n",
            "9150\n",
            "9161\n",
            "9172\n",
            "9183\n",
            "9194\n",
            "9205\n",
            "9216\n",
            "9227\n",
            "9238\n",
            "9249\n",
            "9260\n",
            "9271\n",
            "9282\n",
            "9293\n",
            "9304\n",
            "9315\n",
            "9326\n",
            "9337\n",
            "9348\n",
            "9359\n",
            "9370\n",
            "9381\n",
            "9392\n",
            "9403\n",
            "9414\n",
            "9425\n",
            "9436\n",
            "9447\n",
            "9458\n",
            "9469\n",
            "9480\n",
            "9491\n",
            "9502\n",
            "9513\n",
            "9524\n",
            "9535\n",
            "9546\n",
            "9557\n",
            "9568\n",
            "9579\n",
            "9590\n",
            "9601\n",
            "9612\n",
            "9623\n",
            "9634\n",
            "9645\n",
            "9656\n",
            "9667\n",
            "9678\n",
            "9689\n",
            "9700\n",
            "9711\n",
            "9722\n",
            "9733\n",
            "9744\n",
            "9755\n",
            "9766\n",
            "9777\n",
            "9788\n",
            "9799\n",
            "9810\n",
            "9821\n",
            "9832\n",
            "9843\n",
            "9854\n",
            "9865\n",
            "9876\n",
            "9887\n",
            "9898\n",
            "9909\n",
            "9920\n",
            "9931\n",
            "9942\n",
            "9953\n",
            "9964\n",
            "9975\n",
            "9986\n",
            "9997\n"
          ],
          "name": "stdout"
        }
      ]
    },
    {
      "cell_type": "markdown",
      "metadata": {
        "id": "J1gLXSQpRO0R"
      },
      "source": [
        "#### 2nd try"
      ]
    },
    {
      "cell_type": "code",
      "metadata": {
        "colab": {
          "base_uri": "https://localhost:8080/"
        },
        "id": "9G4Wv_h4Rb_O",
        "outputId": "358d263f-791b-4000-e2a4-bba07d14f447"
      },
      "source": [
        "def showSelfNumbers(selfNumList=[]):\n",
        "  \n",
        "  maxValue = 10000\n",
        "\n",
        "  if selfNumList == []:\n",
        "    selfNumList = [i for i in range(1, maxValue+1)]\n",
        "\n",
        "  def generateNumber(number):\n",
        "    digits = [ int(i) for i in list(str(number)) ]\n",
        "    return number + sum(digits)\n",
        "  \n",
        "  while(selfNumList != []):\n",
        "    number = selfNumList[0]\n",
        "    print(number)\n",
        "    selfNumList.remove(number)\n",
        "\n",
        "    generatedNumber = generateNumber(number)\n",
        "    while(generatedNumber <= maxValue):\n",
        "      if generatedNumber in selfNumList:\n",
        "        selfNumList.remove(generatedNumber)\n",
        "      else:\n",
        "        break\n",
        "      generatedNumber = generateNumber(generatedNumber)\n",
        "\n",
        "showSelfNumbers()"
      ],
      "execution_count": null,
      "outputs": [
        {
          "output_type": "stream",
          "text": [
            "1\n",
            "3\n",
            "5\n",
            "7\n",
            "9\n",
            "20\n",
            "31\n",
            "42\n",
            "53\n",
            "64\n",
            "75\n",
            "86\n",
            "97\n",
            "108\n",
            "110\n",
            "121\n",
            "132\n",
            "143\n",
            "154\n",
            "165\n",
            "176\n",
            "187\n",
            "198\n",
            "209\n",
            "211\n",
            "222\n",
            "233\n",
            "244\n",
            "255\n",
            "266\n",
            "277\n",
            "288\n",
            "299\n",
            "310\n",
            "312\n",
            "323\n",
            "334\n",
            "345\n",
            "356\n",
            "367\n",
            "378\n",
            "389\n",
            "400\n",
            "411\n",
            "413\n",
            "424\n",
            "435\n",
            "446\n",
            "457\n",
            "468\n",
            "479\n",
            "490\n",
            "501\n",
            "512\n",
            "514\n",
            "525\n",
            "536\n",
            "547\n",
            "558\n",
            "569\n",
            "580\n",
            "591\n",
            "602\n",
            "613\n",
            "615\n",
            "626\n",
            "637\n",
            "648\n",
            "659\n",
            "670\n",
            "681\n",
            "692\n",
            "703\n",
            "714\n",
            "716\n",
            "727\n",
            "738\n",
            "749\n",
            "760\n",
            "771\n",
            "782\n",
            "793\n",
            "804\n",
            "815\n",
            "817\n",
            "828\n",
            "839\n",
            "850\n",
            "861\n",
            "872\n",
            "883\n",
            "894\n",
            "905\n",
            "916\n",
            "918\n",
            "929\n",
            "940\n",
            "951\n",
            "962\n",
            "973\n",
            "984\n",
            "995\n",
            "1006\n",
            "1021\n",
            "1032\n",
            "1043\n",
            "1054\n",
            "1065\n",
            "1076\n",
            "1087\n",
            "1098\n",
            "1109\n",
            "1111\n",
            "1122\n",
            "1133\n",
            "1144\n",
            "1155\n",
            "1166\n",
            "1177\n",
            "1188\n",
            "1199\n",
            "1210\n",
            "1212\n",
            "1223\n",
            "1234\n",
            "1245\n",
            "1256\n",
            "1267\n",
            "1278\n",
            "1289\n",
            "1300\n",
            "1311\n",
            "1313\n",
            "1324\n",
            "1335\n",
            "1346\n",
            "1357\n",
            "1368\n",
            "1379\n",
            "1390\n",
            "1401\n",
            "1412\n",
            "1414\n",
            "1425\n",
            "1436\n",
            "1447\n",
            "1458\n",
            "1469\n",
            "1480\n",
            "1491\n",
            "1502\n",
            "1513\n",
            "1515\n",
            "1526\n",
            "1537\n",
            "1548\n",
            "1559\n",
            "1570\n",
            "1581\n",
            "1592\n",
            "1603\n",
            "1614\n",
            "1616\n",
            "1627\n",
            "1638\n",
            "1649\n",
            "1660\n",
            "1671\n",
            "1682\n",
            "1693\n",
            "1704\n",
            "1715\n",
            "1717\n",
            "1728\n",
            "1739\n",
            "1750\n",
            "1761\n",
            "1772\n",
            "1783\n",
            "1794\n",
            "1805\n",
            "1816\n",
            "1818\n",
            "1829\n",
            "1840\n",
            "1851\n",
            "1862\n",
            "1873\n",
            "1884\n",
            "1895\n",
            "1906\n",
            "1917\n",
            "1919\n",
            "1930\n",
            "1941\n",
            "1952\n",
            "1963\n",
            "1974\n",
            "1985\n",
            "1996\n",
            "2007\n",
            "2022\n",
            "2033\n",
            "2044\n",
            "2055\n",
            "2066\n",
            "2077\n",
            "2088\n",
            "2099\n",
            "2110\n",
            "2112\n",
            "2123\n",
            "2134\n",
            "2145\n",
            "2156\n",
            "2167\n",
            "2178\n",
            "2189\n",
            "2200\n",
            "2211\n",
            "2213\n",
            "2224\n",
            "2235\n",
            "2246\n",
            "2257\n",
            "2268\n",
            "2279\n",
            "2290\n",
            "2301\n",
            "2312\n",
            "2314\n",
            "2325\n",
            "2336\n",
            "2347\n",
            "2358\n",
            "2369\n",
            "2380\n",
            "2391\n",
            "2402\n",
            "2413\n",
            "2415\n",
            "2426\n",
            "2437\n",
            "2448\n",
            "2459\n",
            "2470\n",
            "2481\n",
            "2492\n",
            "2503\n",
            "2514\n",
            "2516\n",
            "2527\n",
            "2538\n",
            "2549\n",
            "2560\n",
            "2571\n",
            "2582\n",
            "2593\n",
            "2604\n",
            "2615\n",
            "2617\n",
            "2628\n",
            "2639\n",
            "2650\n",
            "2661\n",
            "2672\n",
            "2683\n",
            "2694\n",
            "2705\n",
            "2716\n",
            "2718\n",
            "2729\n",
            "2740\n",
            "2751\n",
            "2762\n",
            "2773\n",
            "2784\n",
            "2795\n",
            "2806\n",
            "2817\n",
            "2819\n",
            "2830\n",
            "2841\n",
            "2852\n",
            "2863\n",
            "2874\n",
            "2885\n",
            "2896\n",
            "2907\n",
            "2918\n",
            "2920\n",
            "2931\n",
            "2942\n",
            "2953\n",
            "2964\n",
            "2975\n",
            "2986\n",
            "2997\n",
            "3008\n",
            "3023\n",
            "3034\n",
            "3045\n",
            "3056\n",
            "3067\n",
            "3078\n",
            "3089\n",
            "3100\n",
            "3111\n",
            "3113\n",
            "3124\n",
            "3135\n",
            "3146\n",
            "3157\n",
            "3168\n",
            "3179\n",
            "3190\n",
            "3201\n",
            "3212\n",
            "3214\n",
            "3225\n",
            "3236\n",
            "3247\n",
            "3258\n",
            "3269\n",
            "3280\n",
            "3291\n",
            "3302\n",
            "3313\n",
            "3315\n",
            "3326\n",
            "3337\n",
            "3348\n",
            "3359\n",
            "3370\n",
            "3381\n",
            "3392\n",
            "3403\n",
            "3414\n",
            "3416\n",
            "3427\n",
            "3438\n",
            "3449\n",
            "3460\n",
            "3471\n",
            "3482\n",
            "3493\n",
            "3504\n",
            "3515\n",
            "3517\n",
            "3528\n",
            "3539\n",
            "3550\n",
            "3561\n",
            "3572\n",
            "3583\n",
            "3594\n",
            "3605\n",
            "3616\n",
            "3618\n",
            "3629\n",
            "3640\n",
            "3651\n",
            "3662\n",
            "3673\n",
            "3684\n",
            "3695\n",
            "3706\n",
            "3717\n",
            "3719\n",
            "3730\n",
            "3741\n",
            "3752\n",
            "3763\n",
            "3774\n",
            "3785\n",
            "3796\n",
            "3807\n",
            "3818\n",
            "3820\n",
            "3831\n",
            "3842\n",
            "3853\n",
            "3864\n",
            "3875\n",
            "3886\n",
            "3897\n",
            "3908\n",
            "3919\n",
            "3921\n",
            "3932\n",
            "3943\n",
            "3954\n",
            "3965\n",
            "3976\n",
            "3987\n",
            "3998\n",
            "4009\n",
            "4024\n",
            "4035\n",
            "4046\n",
            "4057\n",
            "4068\n",
            "4079\n",
            "4090\n",
            "4101\n",
            "4112\n",
            "4114\n",
            "4125\n",
            "4136\n",
            "4147\n",
            "4158\n",
            "4169\n",
            "4180\n",
            "4191\n",
            "4202\n",
            "4213\n",
            "4215\n",
            "4226\n",
            "4237\n",
            "4248\n",
            "4259\n",
            "4270\n",
            "4281\n",
            "4292\n",
            "4303\n",
            "4314\n",
            "4316\n",
            "4327\n",
            "4338\n",
            "4349\n",
            "4360\n",
            "4371\n",
            "4382\n",
            "4393\n",
            "4404\n",
            "4415\n",
            "4417\n",
            "4428\n",
            "4439\n",
            "4450\n",
            "4461\n",
            "4472\n",
            "4483\n",
            "4494\n",
            "4505\n",
            "4516\n",
            "4518\n",
            "4529\n",
            "4540\n",
            "4551\n",
            "4562\n",
            "4573\n",
            "4584\n",
            "4595\n",
            "4606\n",
            "4617\n",
            "4619\n",
            "4630\n",
            "4641\n",
            "4652\n",
            "4663\n",
            "4674\n",
            "4685\n",
            "4696\n",
            "4707\n",
            "4718\n",
            "4720\n",
            "4731\n",
            "4742\n",
            "4753\n",
            "4764\n",
            "4775\n",
            "4786\n",
            "4797\n",
            "4808\n",
            "4819\n",
            "4821\n",
            "4832\n",
            "4843\n",
            "4854\n",
            "4865\n",
            "4876\n",
            "4887\n",
            "4898\n",
            "4909\n",
            "4920\n",
            "4922\n",
            "4933\n",
            "4944\n",
            "4955\n",
            "4966\n",
            "4977\n",
            "4988\n",
            "4999\n",
            "5010\n",
            "5025\n",
            "5036\n",
            "5047\n",
            "5058\n",
            "5069\n",
            "5080\n",
            "5091\n",
            "5102\n",
            "5113\n",
            "5115\n",
            "5126\n",
            "5137\n",
            "5148\n",
            "5159\n",
            "5170\n",
            "5181\n",
            "5192\n",
            "5203\n",
            "5214\n",
            "5216\n",
            "5227\n",
            "5238\n",
            "5249\n",
            "5260\n",
            "5271\n",
            "5282\n",
            "5293\n",
            "5304\n",
            "5315\n",
            "5317\n",
            "5328\n",
            "5339\n",
            "5350\n",
            "5361\n",
            "5372\n",
            "5383\n",
            "5394\n",
            "5405\n",
            "5416\n",
            "5418\n",
            "5429\n",
            "5440\n",
            "5451\n",
            "5462\n",
            "5473\n",
            "5484\n",
            "5495\n",
            "5506\n",
            "5517\n",
            "5519\n",
            "5530\n",
            "5541\n",
            "5552\n",
            "5563\n",
            "5574\n",
            "5585\n",
            "5596\n",
            "5607\n",
            "5618\n",
            "5620\n",
            "5631\n",
            "5642\n",
            "5653\n",
            "5664\n",
            "5675\n",
            "5686\n",
            "5697\n",
            "5708\n",
            "5719\n",
            "5721\n",
            "5732\n",
            "5743\n",
            "5754\n",
            "5765\n",
            "5776\n",
            "5787\n",
            "5798\n",
            "5809\n",
            "5820\n",
            "5822\n",
            "5833\n",
            "5844\n",
            "5855\n",
            "5866\n",
            "5877\n",
            "5888\n",
            "5899\n",
            "5910\n",
            "5921\n",
            "5923\n",
            "5934\n",
            "5945\n",
            "5956\n",
            "5967\n",
            "5978\n",
            "5989\n",
            "6000\n",
            "6011\n",
            "6026\n",
            "6037\n",
            "6048\n",
            "6059\n",
            "6070\n",
            "6081\n",
            "6092\n",
            "6103\n",
            "6114\n",
            "6116\n",
            "6127\n",
            "6138\n",
            "6149\n",
            "6160\n",
            "6171\n",
            "6182\n",
            "6193\n",
            "6204\n",
            "6215\n",
            "6217\n",
            "6228\n",
            "6239\n",
            "6250\n",
            "6261\n",
            "6272\n",
            "6283\n",
            "6294\n",
            "6305\n",
            "6316\n",
            "6318\n",
            "6329\n",
            "6340\n",
            "6351\n",
            "6362\n",
            "6373\n",
            "6384\n",
            "6395\n",
            "6406\n",
            "6417\n",
            "6419\n",
            "6430\n",
            "6441\n",
            "6452\n",
            "6463\n",
            "6474\n",
            "6485\n",
            "6496\n",
            "6507\n",
            "6518\n",
            "6520\n",
            "6531\n",
            "6542\n",
            "6553\n",
            "6564\n",
            "6575\n",
            "6586\n",
            "6597\n",
            "6608\n",
            "6619\n",
            "6621\n",
            "6632\n",
            "6643\n",
            "6654\n",
            "6665\n",
            "6676\n",
            "6687\n",
            "6698\n",
            "6709\n",
            "6720\n",
            "6722\n",
            "6733\n",
            "6744\n",
            "6755\n",
            "6766\n",
            "6777\n",
            "6788\n",
            "6799\n",
            "6810\n",
            "6821\n",
            "6823\n",
            "6834\n",
            "6845\n",
            "6856\n",
            "6867\n",
            "6878\n",
            "6889\n",
            "6900\n",
            "6911\n",
            "6922\n",
            "6924\n",
            "6935\n",
            "6946\n",
            "6957\n",
            "6968\n",
            "6979\n",
            "6990\n",
            "7001\n",
            "7012\n",
            "7027\n",
            "7038\n",
            "7049\n",
            "7060\n",
            "7071\n",
            "7082\n",
            "7093\n",
            "7104\n",
            "7115\n",
            "7117\n",
            "7128\n",
            "7139\n",
            "7150\n",
            "7161\n",
            "7172\n",
            "7183\n",
            "7194\n",
            "7205\n",
            "7216\n",
            "7218\n",
            "7229\n",
            "7240\n",
            "7251\n",
            "7262\n",
            "7273\n",
            "7284\n",
            "7295\n",
            "7306\n",
            "7317\n",
            "7319\n",
            "7330\n",
            "7341\n",
            "7352\n",
            "7363\n",
            "7374\n",
            "7385\n",
            "7396\n",
            "7407\n",
            "7418\n",
            "7420\n",
            "7431\n",
            "7442\n",
            "7453\n",
            "7464\n",
            "7475\n",
            "7486\n",
            "7497\n",
            "7508\n",
            "7519\n",
            "7521\n",
            "7532\n",
            "7543\n",
            "7554\n",
            "7565\n",
            "7576\n",
            "7587\n",
            "7598\n",
            "7609\n",
            "7620\n",
            "7622\n",
            "7633\n",
            "7644\n",
            "7655\n",
            "7666\n",
            "7677\n",
            "7688\n",
            "7699\n",
            "7710\n",
            "7721\n",
            "7723\n",
            "7734\n",
            "7745\n",
            "7756\n",
            "7767\n",
            "7778\n",
            "7789\n",
            "7800\n",
            "7811\n",
            "7822\n",
            "7824\n",
            "7835\n",
            "7846\n",
            "7857\n",
            "7868\n",
            "7879\n",
            "7890\n",
            "7901\n",
            "7912\n",
            "7923\n",
            "7925\n",
            "7936\n",
            "7947\n",
            "7958\n",
            "7969\n",
            "7980\n",
            "7991\n",
            "8002\n",
            "8013\n",
            "8028\n",
            "8039\n",
            "8050\n",
            "8061\n",
            "8072\n",
            "8083\n",
            "8094\n",
            "8105\n",
            "8116\n",
            "8118\n",
            "8129\n",
            "8140\n",
            "8151\n",
            "8162\n",
            "8173\n",
            "8184\n",
            "8195\n",
            "8206\n",
            "8217\n",
            "8219\n",
            "8230\n",
            "8241\n",
            "8252\n",
            "8263\n",
            "8274\n",
            "8285\n",
            "8296\n",
            "8307\n",
            "8318\n",
            "8320\n",
            "8331\n",
            "8342\n",
            "8353\n",
            "8364\n",
            "8375\n",
            "8386\n",
            "8397\n",
            "8408\n",
            "8419\n",
            "8421\n",
            "8432\n",
            "8443\n",
            "8454\n",
            "8465\n",
            "8476\n",
            "8487\n",
            "8498\n",
            "8509\n",
            "8520\n",
            "8522\n",
            "8533\n",
            "8544\n",
            "8555\n",
            "8566\n",
            "8577\n",
            "8588\n",
            "8599\n",
            "8610\n",
            "8621\n",
            "8623\n",
            "8634\n",
            "8645\n",
            "8656\n",
            "8667\n",
            "8678\n",
            "8689\n",
            "8700\n",
            "8711\n",
            "8722\n",
            "8724\n",
            "8735\n",
            "8746\n",
            "8757\n",
            "8768\n",
            "8779\n",
            "8790\n",
            "8801\n",
            "8812\n",
            "8823\n",
            "8825\n",
            "8836\n",
            "8847\n",
            "8858\n",
            "8869\n",
            "8880\n",
            "8891\n",
            "8902\n",
            "8913\n",
            "8924\n",
            "8926\n",
            "8937\n",
            "8948\n",
            "8959\n",
            "8970\n",
            "8981\n",
            "8992\n",
            "9003\n",
            "9014\n",
            "9029\n",
            "9040\n",
            "9051\n",
            "9062\n",
            "9073\n",
            "9084\n",
            "9095\n",
            "9106\n",
            "9117\n",
            "9119\n",
            "9130\n",
            "9141\n",
            "9152\n",
            "9163\n",
            "9174\n",
            "9185\n",
            "9196\n",
            "9207\n",
            "9218\n",
            "9220\n",
            "9231\n",
            "9242\n",
            "9253\n",
            "9264\n",
            "9275\n",
            "9286\n",
            "9297\n",
            "9308\n",
            "9319\n",
            "9321\n",
            "9332\n",
            "9343\n",
            "9354\n",
            "9365\n",
            "9376\n",
            "9387\n",
            "9398\n",
            "9409\n",
            "9420\n",
            "9422\n",
            "9433\n",
            "9444\n",
            "9455\n",
            "9466\n",
            "9477\n",
            "9488\n",
            "9499\n",
            "9510\n",
            "9521\n",
            "9523\n",
            "9534\n",
            "9545\n",
            "9556\n",
            "9567\n",
            "9578\n",
            "9589\n",
            "9600\n",
            "9611\n",
            "9622\n",
            "9624\n",
            "9635\n",
            "9646\n",
            "9657\n",
            "9668\n",
            "9679\n",
            "9690\n",
            "9701\n",
            "9712\n",
            "9723\n",
            "9725\n",
            "9736\n",
            "9747\n",
            "9758\n",
            "9769\n",
            "9780\n",
            "9791\n",
            "9802\n",
            "9813\n",
            "9824\n",
            "9826\n",
            "9837\n",
            "9848\n",
            "9859\n",
            "9870\n",
            "9881\n",
            "9892\n",
            "9903\n",
            "9914\n",
            "9925\n",
            "9927\n",
            "9938\n",
            "9949\n",
            "9960\n",
            "9971\n",
            "9982\n",
            "9993\n"
          ],
          "name": "stdout"
        }
      ]
    },
    {
      "cell_type": "markdown",
      "metadata": {
        "id": "Y5JPmbLTm3Xj"
      },
      "source": [
        "## 1065. 한수"
      ]
    },
    {
      "cell_type": "markdown",
      "metadata": {
        "id": "O5KjFc2rm6qT"
      },
      "source": [
        "### 문제\n",
        "    어떤 양의 정수 X의 각 자리가 등차수열을 이룬다면, 그 수를 한수라고 한다. 등차수열은 연속된 두 개의 수의 차이가 일정한 수열을 말한다. N이 주어졌을 때, 1보다 크거나 같고, N보다 작거나 같은 한수의 개수를 출력하는 프로그램을 작성하시오. \n",
        "\n",
        "### 입력\n",
        "    첫째 줄에 1,000보다 작거나 같은 자연수 N이 주어진다.\n",
        "\n",
        "### 출력\n",
        "    첫째 줄에 1보다 크거나 같고, N보다 작거나 같은 한수의 개수를 출력한다.\n",
        "\n",
        "### 예제 입력 1 \n",
        "    110\n",
        "### 예제 출력 1 \n",
        "    99\n",
        "### 예제 입력 2 \n",
        "    1\n",
        "### 예제 출력 2 \n",
        "    1\n",
        "### 예제 입력 3 \n",
        "    210\n",
        "### 예제 출력 3 \n",
        "    105\n",
        "### 예제 입력 4 \n",
        "    1000\n",
        "### 예제 출력 4 \n",
        "    144"
      ]
    },
    {
      "cell_type": "markdown",
      "metadata": {
        "id": "bHiNoD1LnE4j"
      },
      "source": [
        "### Code"
      ]
    },
    {
      "cell_type": "code",
      "metadata": {
        "colab": {
          "base_uri": "https://localhost:8080/"
        },
        "id": "_EkLxDo9nG5j",
        "outputId": "288586d5-f40a-41ff-cab6-67394555bb0d"
      },
      "source": [
        "# I don't know what means hansu in english..\n",
        "def getAllHansu(maxRange):\n",
        "  cnt = 0\n",
        "  for i in range(1, maxRange+1):\n",
        "    digits = [ int(d) for d in list(str(i)) ]\n",
        "    if len(digits) <= 2:\n",
        "      cnt += 1\n",
        "    else:\n",
        "      apList = []\n",
        "      for j in range(len(digits)-1):\n",
        "        apList.append(digits[j] - digits[j+1])\n",
        "      for k in range(len(apList)-1):\n",
        "        if apList[k] == apList[k+1]:\n",
        "          continue\n",
        "        else:\n",
        "          break\n",
        "      else:\n",
        "        cnt += 1\n",
        "  print(cnt)\n",
        "\n",
        "\n",
        "getAllHansu(int(input()))"
      ],
      "execution_count": null,
      "outputs": [
        {
          "output_type": "stream",
          "text": [
            "1000\n",
            "144\n"
          ],
          "name": "stdout"
        }
      ]
    },
    {
      "cell_type": "markdown",
      "metadata": {
        "id": "_OMhNzy5xNYB"
      },
      "source": [
        "# 7. 문자열\n",
        "\n",
        "문자열을 다루는 문제들을 해결해 봅시다."
      ]
    },
    {
      "cell_type": "markdown",
      "metadata": {
        "id": "KDX4JEjvxTWB"
      },
      "source": [
        "## 11654. 아스키 코드"
      ]
    },
    {
      "cell_type": "markdown",
      "metadata": {
        "id": "dX0dZ3h9xYWo"
      },
      "source": [
        "### 문제\n",
        "    알파벳 소문자, 대문자, 숫자 0-9중 하나가 주어졌을 때, 주어진 글자의 아스키 코드값을 출력하는 프로그램을 작성하시오.\n",
        "\n",
        "### 입력\n",
        "    알파벳 소문자, 대문자, 숫자 0-9 중 하나가 첫째 줄에 주어진다.\n",
        "\n",
        "### 출력\n",
        "    입력으로 주어진 글자의 아스키 코드 값을 출력한다.\n",
        "\n",
        "### 예제 입력 1 \n",
        "    A\n",
        "### 예제 출력 1 \n",
        "    65\n",
        "### 예제 입력 2 \n",
        "    C\n",
        "### 예제 출력 2 \n",
        "    67\n",
        "### 예제 입력 3 \n",
        "    0\n",
        "### 예제 출력 3 \n",
        "    48\n",
        "### 예제 입력 4 \n",
        "    9\n",
        "### 예제 출력 4 \n",
        "    57\n",
        "### 예제 입력 5 \n",
        "    a\n",
        "### 예제 출력 5 \n",
        "    97\n",
        "### 예제 입력 6 \n",
        "    z\n",
        "### 예제 출력 6 \n",
        "    122"
      ]
    },
    {
      "cell_type": "markdown",
      "metadata": {
        "id": "bFYztntfxk28"
      },
      "source": [
        "### Code"
      ]
    },
    {
      "cell_type": "code",
      "metadata": {
        "id": "P-CVaIaaxlwD",
        "colab": {
          "base_uri": "https://localhost:8080/"
        },
        "outputId": "72c3f63e-8fa7-40f1-d377-1cacb68daadf"
      },
      "source": [
        "userInput = ord(input())\n",
        "print(userInput)"
      ],
      "execution_count": null,
      "outputs": [
        {
          "output_type": "stream",
          "text": [
            "A\n",
            "65\n"
          ],
          "name": "stdout"
        }
      ]
    },
    {
      "cell_type": "markdown",
      "metadata": {
        "id": "ELdpgqjCyUqA"
      },
      "source": [
        "## 11720. 숫자의 합"
      ]
    },
    {
      "cell_type": "markdown",
      "metadata": {
        "id": "40mn7pRAyZ9w"
      },
      "source": [
        "### 문제\n",
        "    N개의 숫자가 공백 없이 쓰여있다. 이 숫자를 모두 합해서 출력하는 프로그램을 작성하시오.\n",
        "\n",
        "### 입력\n",
        "    첫째 줄에 숫자의 개수 N (1 ≤ N ≤ 100)이 주어진다. 둘째 줄에 숫자 N개가 공백없이 주어진다.\n",
        "\n",
        "### 출력\n",
        "    입력으로 주어진 숫자 N개의 합을 출력한다.\n",
        "\n",
        "### 예제 입력 1 \n",
        "    1\n",
        "    1\n",
        "### 예제 출력 1 \n",
        "    1\n",
        "### 예제 입력 2 \n",
        "    5\n",
        "    54321\n",
        "### 예제 출력 2 \n",
        "    15\n",
        "### 예제 입력 3 \n",
        "    25\n",
        "    7000000000000000000000000\n",
        "### 예제 출력 3 \n",
        "    7\n",
        "### 예제 입력 4 \n",
        "    11\n",
        "    10987654321\n",
        "### 예제 출력 4 \n",
        "    46"
      ]
    },
    {
      "cell_type": "markdown",
      "metadata": {
        "id": "gJs0vHSzyeIo"
      },
      "source": [
        "### Code"
      ]
    },
    {
      "cell_type": "code",
      "metadata": {
        "id": "d64BIIVoyfZp"
      },
      "source": [
        "numDigit = int(input())\n",
        "digitList = [int(i) for i in list(input())]\n",
        "\n",
        "print(sum(digitList))"
      ],
      "execution_count": null,
      "outputs": []
    },
    {
      "cell_type": "markdown",
      "metadata": {
        "id": "e4o8lxje0pWH"
      },
      "source": [
        "## 10809. 알파벳 찾기"
      ]
    },
    {
      "cell_type": "markdown",
      "metadata": {
        "id": "PhuJxNk10wzh"
      },
      "source": [
        "### 문제\n",
        "    알파벳 소문자로만 이루어진 단어 S가 주어진다. 각각의 알파벳에 대해서, 단어에 포함되어 있는 경우에는 처음 등장하는 위치를, 포함되어 있지 않은 경우에는 -1을 출력하는 프로그램을 작성하시오.\n",
        "\n",
        "### 입력\n",
        "    첫째 줄에 단어 S가 주어진다. 단어의 길이는 100을 넘지 않으며, 알파벳 소문자로만 이루어져 있다.\n",
        "\n",
        "### 출력\n",
        "    각각의 알파벳에 대해서, a가 처음 등장하는 위치, b가 처음 등장하는 위치, ... z가 처음 등장하는 위치를 공백으로 구분해서 출력한다.\n",
        "    \n",
        "    만약, 어떤 알파벳이 단어에 포함되어 있지 않다면 -1을 출력한다. 단어의 첫 번째 글자는 0번째 위치이고, 두 번째 글자는 1번째 위치이다.\n",
        "\n",
        "### 예제 입력 1 \n",
        "    baekjoon\n",
        "### 예제 출력 1 \n",
        "    1 0 -1 -1 2 -1 -1 -1 -1 4 3 -1 -1 7 5 -1 -1 -1 -1 -1 -1 -1 -1 -1 -1 -1"
      ]
    },
    {
      "cell_type": "markdown",
      "metadata": {
        "id": "0a3RTVft09yy"
      },
      "source": [
        "### Code"
      ]
    },
    {
      "cell_type": "code",
      "metadata": {
        "id": "5XGw4UNk1AOr"
      },
      "source": [
        "S = input()\n",
        "alphabetList = { i:-1 for i in list('abcdefghijklmnopqrstuvwxyz') }\n",
        "\n",
        "for alphabet in S:\n",
        "  if alphabetList[alphabet] == -1:\n",
        "    alphabetList[alphabet] = S.index(alphabet)\n",
        "\n",
        "result = [str(i) for i in alphabetList.values()]\n",
        "print(' '.join(result))"
      ],
      "execution_count": null,
      "outputs": []
    },
    {
      "cell_type": "markdown",
      "metadata": {
        "id": "yAZU9QIk19Yj"
      },
      "source": [
        "## 2675. 문자열 반복"
      ]
    },
    {
      "cell_type": "markdown",
      "metadata": {
        "id": "myJ6wvKv2ASs"
      },
      "source": [
        "### 문제\n",
        "    문자열 S를 입력받은 후에, 각 문자를 R번 반복해 새 문자열 P를 만든 후 출력하는 프로그램을 작성하시오. 즉, 첫 번째 문자를 R번 반복하고, 두 번째 문자를 R번 반복하는 식으로 P를 만들면 된다. S에는 QR Code \"alphanumeric\" 문자만 들어있다.\n",
        "    \n",
        "    QR Code \"alphanumeric\" 문자는 0123456789ABCDEFGHIJKLMNOPQRSTUVWXYZ\\$%*+-./: 이다.\n",
        "\n",
        "### 입력\n",
        "    첫째 줄에 테스트 케이스의 개수 T(1 ≤ T ≤ 1,000)가 주어진다. 각 테스트 케이스는 반복 횟수 R(1 ≤ R ≤ 8), 문자열 S가 공백으로 구분되어 주어진다. S의 길이는 적어도 1이며, 20글자를 넘지 않는다. \n",
        "\n",
        "### 출력\n",
        "    각 테스트 케이스에 대해 P를 출력한다.\n",
        "\n",
        "### 예제 입력 1 \n",
        "    2\n",
        "    3 ABC\n",
        "    5 /HTP\n",
        "### 예제 출력 1 \n",
        "    AAABBBCCC\n",
        "    /////HHHHHTTTTTPPPPP"
      ]
    },
    {
      "cell_type": "markdown",
      "metadata": {
        "id": "Bs4JCuIu2Ic9"
      },
      "source": [
        "### Code"
      ]
    },
    {
      "cell_type": "code",
      "metadata": {
        "id": "GENGe7h-2JVs"
      },
      "source": [
        "T = int(input())\n",
        "\n",
        "for i in range(T):\n",
        "  S = input()\n",
        "  repeatNum, word = S.split()\n",
        "  resultList = str()\n",
        "\n",
        "  for cha in list(word):\n",
        "    resultList += cha * int(repeatNum)\n",
        "\n",
        "  print(''.join(resultList))"
      ],
      "execution_count": null,
      "outputs": []
    },
    {
      "cell_type": "markdown",
      "metadata": {
        "id": "ltW6Etj12Twm"
      },
      "source": [
        "## 1157. 단어 공부"
      ]
    },
    {
      "cell_type": "markdown",
      "metadata": {
        "id": "LERyZVEH2YQW"
      },
      "source": [
        "### 문제\n",
        "    알파벳 대소문자로 된 단어가 주어지면, 이 단어에서 가장 많이 사용된 알파벳이 무엇인지 알아내는 프로그램을 작성하시오. 단, 대문자와 소문자를 구분하지 않는다.\n",
        "\n",
        "### 입력\n",
        "    첫째 줄에 알파벳 대소문자로 이루어진 단어가 주어진다. 주어지는 단어의 길이는 1,000,000을 넘지 않는다.\n",
        "\n",
        "### 출력\n",
        "    첫째 줄에 이 단어에서 가장 많이 사용된 알파벳을 대문자로 출력한다. 단, 가장 많이 사용된 알파벳이 여러 개 존재하는 경우에는 ?를 출력한다.\n",
        "\n",
        "### 예제 입력 1 \n",
        "    Mississipi\n",
        "### 예제 출력 1 \n",
        "    ?\n",
        "### 예제 입력 2 \n",
        "    zZa\n",
        "### 예제 출력 2 \n",
        "    Z\n",
        "### 예제 입력 3 \n",
        "    z\n",
        "### 예제 출력 3 \n",
        "    Z\n",
        "### 예제 입력 4 \n",
        "    baaa\n",
        "### 예제 출력 4 \n",
        "    A"
      ]
    },
    {
      "cell_type": "markdown",
      "metadata": {
        "id": "tHqbMO_Z21tT"
      },
      "source": [
        "### Code"
      ]
    },
    {
      "cell_type": "code",
      "metadata": {
        "id": "OJaVHuve222k"
      },
      "source": [
        "word = input().upper()\n",
        "alphabetDict = { i:0 for i in 'ABCDEFGHIJKLMNOPQRSTUVWXYZ' }\n",
        "\n",
        "for character in word:\n",
        "  alphabetDict[character] += 1\n",
        "\n",
        "maxValue = max(alphabetDict.values())\n",
        "\n",
        "if list(alphabetDict.values()).count(maxValue) > 1:\n",
        "  print('?')\n",
        "else:\n",
        "  print(str([k for k, v in alphabetDict.items() if v == maxValue][0]))"
      ],
      "execution_count": null,
      "outputs": []
    },
    {
      "cell_type": "markdown",
      "metadata": {
        "id": "G-bYMzwj28lb"
      },
      "source": [
        "## 1152. 단어의 개수"
      ]
    },
    {
      "cell_type": "markdown",
      "metadata": {
        "id": "k-jDF-bB3Ejc"
      },
      "source": [
        "### 문제\n",
        "    영어 대소문자와 띄어쓰기만으로 이루어진 문자열이 주어진다. 이 문자열에는 몇 개의 단어가 있을까? 이를 구하는 프로그램을 작성하시오. 단, 한 단어가 여러 번 등장하면 등장한 횟수만큼 모두 세어야 한다.\n",
        "\n",
        "### 입력\n",
        "    첫 줄에 영어 대소문자와 띄어쓰기로 이루어진 문자열이 주어진다. 이 문자열의 길이는 1,000,000을 넘지 않는다. 단어는 띄어쓰기 한 개로 구분되며, 공백이 연속해서 나오는 경우는 없다. 또한 문자열의 앞과 뒤에는 공백이 있을 수도 있다.\n",
        "\n",
        "### 출력\n",
        "    첫째 줄에 단어의 개수를 출력한다.\n",
        "\n",
        "### 예제 입력 1 \n",
        "    The Curious Case of Benjamin Button\n",
        "### 예제 출력 1 \n",
        "    6\n",
        "### 예제 입력 2 \n",
        "    Mazatneunde Wae Teullyeoyo\n",
        "### 예제 출력 2 \n",
        "    3\n",
        "### 예제 입력 3 \n",
        "    Teullinika Teullyeotzi \n",
        "### 예제 출력 3 \n",
        "    2"
      ]
    },
    {
      "cell_type": "markdown",
      "metadata": {
        "id": "dCkldwcf3UfQ"
      },
      "source": [
        "### Code"
      ]
    },
    {
      "cell_type": "code",
      "metadata": {
        "id": "de7sWikj3VjQ",
        "colab": {
          "base_uri": "https://localhost:8080/"
        },
        "outputId": "3778eddc-a903-498a-a37c-367ca8f702f8"
      },
      "source": [
        "userInput = input()\n",
        "listLength = len(list(filter(('').__ne__, userInput.split(' '))))\n",
        "print(listLength)"
      ],
      "execution_count": null,
      "outputs": [
        {
          "output_type": "stream",
          "text": [
            " where where\n",
            "2\n"
          ],
          "name": "stdout"
        }
      ]
    },
    {
      "cell_type": "markdown",
      "metadata": {
        "id": "TfeR8hN7Yo2D"
      },
      "source": [
        "## 2908. 상수"
      ]
    },
    {
      "cell_type": "markdown",
      "metadata": {
        "id": "dXuqzhMKYswt"
      },
      "source": [
        "### 문제\n",
        "    상근이의 동생 상수는 수학을 정말 못한다. 상수는 숫자를 읽는데 문제가 있다. 이렇게 수학을 못하는 상수를 위해서 상근이는 수의 크기를 비교하는 문제를 내주었다. 상근이는 세 자리 수 두 개를 칠판에 써주었다. 그 다음에 크기가 큰 수를 말해보라고 했다.\n",
        "\n",
        "    상수는 수를 다른 사람과 다르게 거꾸로 읽는다. 예를 들어, 734와 893을 칠판에 적었다면, 상수는 이 수를 437과 398로 읽는다. 따라서, 상수는 두 수중 큰 수인 437을 큰 수라고 말할 것이다.\n",
        "\n",
        "    두 수가 주어졌을 때, 상수의 대답을 출력하는 프로그램을 작성하시오.\n",
        "\n",
        "### 입력\n",
        "    첫째 줄에 상근이가 칠판에 적은 두 수 A와 B가 주어진다. 두 수는 같지 않은 세 자리 수이며, 0이 포함되어 있지 않다.\n",
        "\n",
        "### 출력\n",
        "    첫째 줄에 상수의 대답을 출력한다.\n",
        "\n",
        "### 예제 입력 1 \n",
        "    734 893\n",
        "### 예제 출력 1 \n",
        "    437"
      ]
    },
    {
      "cell_type": "markdown",
      "metadata": {
        "id": "QB89SW8IY0fX"
      },
      "source": [
        "### Code"
      ]
    },
    {
      "cell_type": "code",
      "metadata": {
        "id": "3RyaqVN4Y1hR",
        "colab": {
          "base_uri": "https://localhost:8080/"
        },
        "outputId": "e91f551e-61d8-40ea-e0b2-4248e01050aa"
      },
      "source": [
        "userInput = input().split(' ')\n",
        "\n",
        "for num in userInput:\n",
        "  userInput[userInput.index(num)] = int(num[::-1])\n",
        "\n",
        "print(max(userInput))"
      ],
      "execution_count": null,
      "outputs": [
        {
          "output_type": "stream",
          "text": [
            "123 321\n",
            "321\n"
          ],
          "name": "stdout"
        }
      ]
    },
    {
      "cell_type": "markdown",
      "metadata": {
        "id": "8-_GHyxSNnRD"
      },
      "source": [
        "## 5622. 다이얼"
      ]
    },
    {
      "cell_type": "markdown",
      "metadata": {
        "id": "SKuoxPcfONSE"
      },
      "source": [
        "#### 그림\n",
        "\n",
        "https://onlinejudgeimages.s3-ap-northeast-1.amazonaws.com/upload/images/dial.png"
      ]
    },
    {
      "cell_type": "markdown",
      "metadata": {
        "id": "CIQm0RijNpPn"
      },
      "source": [
        "### 문제\n",
        "    상근이의 할머니는 아래 그림과 같이 오래된 다이얼 전화기를 사용한다.\n",
        "    \n",
        "    전화를 걸고 싶은 번호가 있다면, 숫자를 하나를 누른 다음에 금속 핀이 있는 곳 까지 시계방향으로 돌려야 한다. 숫자를 하나 누르면 다이얼이 처음 위치로 돌아가고, 다음 숫자를 누르려면 다이얼을 처음 위치에서 다시 돌려야 한다.\n",
        "    \n",
        "    숫자 1을 걸려면 총 2초가 필요하다. 1보다 큰 수를 거는데 걸리는 시간은 이보다 더 걸리며, 한 칸 옆에 있는 숫자를 걸기 위해선 1초씩 더 걸린다.\n",
        "    \n",
        "    상근이의 할머니는 전화 번호를 각 숫자에 해당하는 문자로 외운다. 즉, 어떤 단어를 걸 때, 각 알파벳에 해당하는 숫자를 걸면 된다. 예를 들어, UNUCIC는 868242와 같다.\n",
        "    \n",
        "    할머니가 외운 단어가 주어졌을 때, 이 전화를 걸기 위해서 필요한 최소 시간을 구하는 프로그램을 작성하시오.\n",
        "\n",
        "### 입력\n",
        "    첫째 줄에 알파벳 대문자로 이루어진 단어가 주어진다. 단어의 길이는 2보다 크거나 같고, 15보다 작거나 같다.\n",
        "\n",
        "### 출력\n",
        "    첫째 줄에 다이얼을 걸기 위해서 필요한 최소 시간을 출력한다.\n",
        "\n",
        "### 예제 입력 1 \n",
        "    UNUCIC\n",
        "### 예제 출력 1 \n",
        "    36"
      ]
    },
    {
      "cell_type": "markdown",
      "metadata": {
        "id": "zJfdnY7eOXhe"
      },
      "source": [
        "### Code"
      ]
    },
    {
      "cell_type": "code",
      "metadata": {
        "colab": {
          "base_uri": "https://localhost:8080/"
        },
        "id": "KNPHEPhxOYgK",
        "outputId": "6f697295-ed03-4bc6-8bf2-84fe58f9db34"
      },
      "source": [
        "userInput = list(input())\n",
        "dialList = [list(i) for i in 'ABC DEF GHI JKL MNO PQRS TUV WXYZ'.split()]\n",
        "\n",
        "totalDistance = 0\n",
        "\n",
        "for alphabet in userInput:\n",
        "  dialIndex = 2 + 1\n",
        "  for dial in dialList:\n",
        "    if alphabet in dial:\n",
        "      dialIndex += dialList.index(dial)\n",
        "    else:\n",
        "      continue\n",
        "  totalDistance += dialIndex\n",
        "\n",
        "print(totalDistance)"
      ],
      "execution_count": null,
      "outputs": [
        {
          "output_type": "stream",
          "text": [
            "36\n"
          ],
          "name": "stdout"
        }
      ]
    },
    {
      "cell_type": "markdown",
      "metadata": {
        "id": "XjzZUUecYPDt"
      },
      "source": [
        "## 2941. 크로아티아 알파벳"
      ]
    },
    {
      "cell_type": "markdown",
      "metadata": {
        "id": "eVW09yyIYRbJ"
      },
      "source": [
        "### 문제\n",
        "    예전에는 운영체제에서 크로아티아 알파벳을 입력할 수가 없었다. 따라서, 다음과 같이 크로아티아 알파벳을 변경해서 입력했다.\n",
        "    \n",
        "    크로아티아 알파벳\t>\t변경\n",
        "    č\t>\tc=\n",
        "    ć\t>\tc-\n",
        "    dž\t>\tdz=\n",
        "    đ\t>\td-\n",
        "    lj\t>\tlj\n",
        "    nj\t>\tnj\n",
        "    š\t>\ts=\n",
        "    ž\t>\tz=\n",
        "    \n",
        "    예를 들어, ljes=njak은 크로아티아 알파벳 6개(lj, e, š, nj, a, k)로 이루어져 있다. 단어가 주어졌을 때, 몇 개의 크로아티아 알파벳으로 이루어져 있는지 출력한다.\n",
        "    \n",
        "    dž는 무조건 하나의 알파벳으로 쓰이고, d와 ž가 분리된 것으로 보지 않는다. lj와 nj도 마찬가지이다. 위 목록에 없는 알파벳은 한 글자씩 센다.\n",
        "\n",
        "### 입력\n",
        "    첫째 줄에 최대 100글자의 단어가 주어진다. 알파벳 소문자와 '-', '='로만 이루어져 있다.\n",
        "    \n",
        "    단어는 크로아티아 알파벳으로 이루어져 있다. 문제 설명의 표에 나와있는 알파벳은 변경된 형태로 입력된다.\n",
        "\n",
        "### 출력\n",
        "    입력으로 주어진 단어가 몇 개의 크로아티아 알파벳으로 이루어져 있는지 출력한다.\n",
        "\n",
        "### 예제 입력 1 \n",
        "    ljes=njak\n",
        "### 예제 출력 1 \n",
        "    6\n",
        "### 예제 입력 2 \n",
        "    ddz=z=\n",
        "### 예제 출력 2 \n",
        "    3\n",
        "### 예제 입력 3 \n",
        "    nljj\n",
        "### 예제 출력 3 \n",
        "    3\n",
        "### 예제 입력 4 \n",
        "    c=c=\n",
        "### 예제 출력 4 \n",
        "    2"
      ]
    },
    {
      "cell_type": "markdown",
      "metadata": {
        "id": "dv7Pmjp7b45v"
      },
      "source": [
        "### Code"
      ]
    },
    {
      "cell_type": "markdown",
      "metadata": {
        "id": "dPfqmM08soOU"
      },
      "source": [
        "#### 1st try (**틀림**)"
      ]
    },
    {
      "cell_type": "code",
      "metadata": {
        "colab": {
          "base_uri": "https://localhost:8080/"
        },
        "id": "1Uhbe5zmb56k",
        "outputId": "717839f2-eaca-4b11-d302-d96b53741389"
      },
      "source": [
        "userInput = input()\n",
        "rWord = list(userInput[::-1])\n",
        "\n",
        "croatianList = ['c=', 'c-', 'dz=', 'd-', 'lj', 'nj', 's=', 'z=']\n",
        "numAlphabet = 0\n",
        "\n",
        "for chr in rWord:\n",
        "  isLast = rWord.index(chr) < len(rWord)-1\n",
        "  if isLast:\n",
        "    nextChr = rWord[rWord.index(chr)+1]\n",
        "  else:\n",
        "    nextChr = None\n",
        "    \n",
        "  if chr in ['=', '-', 'j'] and nextChr+chr in croatianList and isLast:\n",
        "    if \n",
        "    rWord.remove(nextChr)\n",
        "  else: pass\n",
        "\n",
        "  rWord.remove(chr)\n",
        "  numAlphabet += 1\n",
        "\n",
        "print(numAlphabet)"
      ],
      "execution_count": null,
      "outputs": [
        {
          "output_type": "stream",
          "text": [
            "ddz=z=\n",
            "3\n"
          ],
          "name": "stdout"
        }
      ]
    },
    {
      "cell_type": "markdown",
      "metadata": {
        "id": "ZYGFLe2osvI3"
      },
      "source": [
        "#### 2nd try"
      ]
    },
    {
      "cell_type": "code",
      "metadata": {
        "colab": {
          "base_uri": "https://localhost:8080/"
        },
        "id": "5yYvqndasz5e",
        "outputId": "f8d81c0e-6aaf-482b-d783-e007564a4e3e"
      },
      "source": [
        "userInput = input()\n",
        "word = list(userInput)\n",
        "\n",
        "croatianList = ['c=', 'c-', 'dz=', 'd-', 'lj', 'nj', 's=', 'z='] # 'dz=' is a invalid argument but existing for understanding\n",
        "numCroatian = 0\n",
        "\n",
        "while word:\n",
        "  remaining = len(word)\n",
        "  if remaining == 1:\n",
        "    numCroatian += 1\n",
        "    del word\n",
        "    break\n",
        "  elif remaining == 2:\n",
        "    wordToCheck = ''.join(word[0:2])\n",
        "    if wordToCheck in croatianList:\n",
        "      del word[0:2]\n",
        "    else:\n",
        "      del word[0]\n",
        "    numCroatian += 1\n",
        "  else:\n",
        "    wordToCheck = ''.join(word[0:2])\n",
        "    if ''.join(word[0:3]) == 'dz=':\n",
        "      del word[0:3]\n",
        "    elif wordToCheck in croatianList:\n",
        "      del word[0:2]\n",
        "    else:\n",
        "      del word[0]\n",
        "    numCroatian += 1\n",
        "    \n",
        "print(numCroatian)"
      ],
      "execution_count": null,
      "outputs": [
        {
          "output_type": "stream",
          "text": [
            "c=c=\n",
            "2\n"
          ],
          "name": "stdout"
        }
      ]
    },
    {
      "cell_type": "markdown",
      "metadata": {
        "id": "CarpV3bD-PEE"
      },
      "source": [
        "## 1316. 그룹 단어 체커"
      ]
    },
    {
      "cell_type": "markdown",
      "metadata": {
        "id": "gVqiRSX8-R80"
      },
      "source": [
        "### 문제\n",
        "    그룹 단어란 단어에 존재하는 모든 문자에 대해서, 각 문자가 연속해서 나타나는 경우만을 말한다. 예를 들면, ccazzzzbb는 c, a, z, b가 모두 연속해서 나타나고, kin도 k, i, n이 연속해서 나타나기 때문에 그룹 단어이지만, aabbbccb는 b가 떨어져서 나타나기 때문에 그룹 단어가 아니다.\n",
        "\n",
        "    단어 N개를 입력으로 받아 그룹 단어의 개수를 출력하는 프로그램을 작성하시오.\n",
        "\n",
        "### 입력\n",
        "    첫째 줄에 단어의 개수 N이 들어온다. N은 100보다 작거나 같은 자연수이다. 둘째 줄부터 N개의 줄에 단어가 들어온다. 단어는 알파벳 소문자로만 되어있고 중복되지 않으며, 길이는 최대 100이다.\n",
        "\n",
        "### 출력\n",
        "    첫째 줄에 그룹 단어의 개수를 출력한다.\n",
        "\n",
        "### 예제 입력 1 \n",
        "    3\n",
        "    happy\n",
        "    new\n",
        "    year\n",
        "### 예제 출력 1 \n",
        "    3\n",
        "### 예제 입력 2 \n",
        "    4\n",
        "    aba\n",
        "    abab\n",
        "    abcabc\n",
        "    a\n",
        "### 예제 출력 2 \n",
        "    1"
      ]
    },
    {
      "cell_type": "markdown",
      "metadata": {
        "id": "h041ZQTO-dO6"
      },
      "source": [
        "### Code"
      ]
    },
    {
      "cell_type": "code",
      "metadata": {
        "colab": {
          "base_uri": "https://localhost:8080/"
        },
        "id": "b0C8zZQ6-iIp",
        "outputId": "66719c87-fc75-4ecd-e447-e5feffe983be"
      },
      "source": [
        "repeatNum = int(input())\n",
        "numGroupWord = 0\n",
        "\n",
        "for i in range(repeatNum):\n",
        "  wordToCheck = input()\n",
        "  charList = list(wordToCheck)\n",
        "  charDict = {char:0 for char in charList}\n",
        "  for char in charList:\n",
        "    charDict[char] += 1\n",
        "  while charList:\n",
        "    firstChar = charList[0]\n",
        "    charValue = charDict[firstChar]\n",
        "    if ''.join(charList[0:charValue]) == firstChar*charValue:\n",
        "      del charList[0:charValue]\n",
        "    else:\n",
        "      break\n",
        "  else:\n",
        "    numGroupWord += 1\n",
        "\n",
        "print(numGroupWord)"
      ],
      "execution_count": null,
      "outputs": [
        {
          "output_type": "stream",
          "text": [
            "4\n",
            "aba\n",
            "abab\n",
            "abcabc\n",
            "a\n",
            "1\n"
          ],
          "name": "stdout"
        }
      ]
    },
    {
      "cell_type": "markdown",
      "metadata": {
        "id": "WwcUKxgYs7jU"
      },
      "source": [
        "# 8. 기본 수학 1\n",
        "\n",
        "수학 문제로 수학적 사고력을 길러 봅시다."
      ]
    },
    {
      "cell_type": "markdown",
      "metadata": {
        "id": "yUonrC75tOvV"
      },
      "source": [
        "## 1712. 손익분기점"
      ]
    },
    {
      "cell_type": "markdown",
      "metadata": {
        "id": "qnVRwIektUFY"
      },
      "source": [
        "### 문제\n",
        "    월드전자는 노트북을 제조하고 판매하는 회사이다. 노트북 판매 대수에 상관없이 매년 임대료, 재산세, 보험료, 급여 등 A만원의 고정 비용이 들며, 한 대의 노트북을 생산하는 데에는 재료비와 인건비 등 총 B만원의 가변 비용이 든다고 한다.\n",
        "\n",
        "    예를 들어 A=1,000, B=70이라고 하자. 이 경우 노트북을 한 대 생산하는 데는 총 1,070만원이 들며, 열 대 생산하는 데는 총 1,700만원이 든다.\n",
        "\n",
        "    노트북 가격이 C만원으로 책정되었다고 한다. 일반적으로 생산 대수를 늘려 가다 보면 어느 순간 총 수입(판매비용)이 총 비용(=고정비용+가변비용)보다 많아지게 된다. 최초로 총 수입이 총 비용보다 많아져 이익이 발생하는 지점을 손익분기점(BREAK-EVEN POINT)이라고 한다.\n",
        "\n",
        "    A, B, C가 주어졌을 때, 손익분기점을 구하는 프로그램을 작성하시오.\n",
        "\n",
        "### 입력\n",
        "    첫째 줄에 A, B, C가 빈 칸을 사이에 두고 순서대로 주어진다. A, B, C는 21억 이하의 자연수이다.\n",
        "\n",
        "### 출력\n",
        "    첫 번째 줄에 손익분기점 즉 최초로 이익이 발생하는 판매량을 출력한다. 손익분기점이 존재하지 않으면 -1을 출력한다.\n",
        "\n",
        "### 예제 입력 1 \n",
        "    1000 70 170\n",
        "### 예제 출력 1 \n",
        "    11\n",
        "### 예제 입력 2 \n",
        "    3 2 1\n",
        "### 예제 출력 2 \n",
        "    -1\n",
        "### 노트\n",
        "    이 문제에서 설명하는 손익분기점은 회계학에서 정의하는 손익분기점과 다를 수 있다."
      ]
    },
    {
      "cell_type": "markdown",
      "metadata": {
        "id": "YUs2xUfXtyx4"
      },
      "source": [
        "### Code"
      ]
    },
    {
      "cell_type": "markdown",
      "metadata": {
        "id": "6IU5Iouzweja"
      },
      "source": [
        "#### 1st try\n",
        "\n",
        "시간초과"
      ]
    },
    {
      "cell_type": "code",
      "metadata": {
        "colab": {
          "base_uri": "https://localhost:8080/"
        },
        "id": "bA9EpBiOtzsC",
        "outputId": "b19bf454-a225-4bc5-903d-afd688538031"
      },
      "source": [
        "A, B, C = [int(i) for i in input().split(' ')]\n",
        "numSales = 1\n",
        "\n",
        "if B < C:\n",
        "  while A+(B*numSales) >= C*numSales:\n",
        "    numSales += 1\n",
        "else:\n",
        "  numSales = -1\n",
        "\n",
        "print(numSales)"
      ],
      "execution_count": null,
      "outputs": [
        {
          "output_type": "stream",
          "text": [
            "100 7 17\n",
            "11\n"
          ],
          "name": "stdout"
        }
      ]
    },
    {
      "cell_type": "markdown",
      "metadata": {
        "id": "MDvKPlQFwhLo"
      },
      "source": [
        "#### 2nd Try"
      ]
    },
    {
      "cell_type": "code",
      "metadata": {
        "colab": {
          "base_uri": "https://localhost:8080/"
        },
        "id": "r-n9RD12wi6B",
        "outputId": "1ff6ac3b-da9b-4d1e-993f-7cdca07650ad"
      },
      "source": [
        "A, B, C = [int(i) for i in input().split(' ')]\n",
        "\n",
        "if B < C:\n",
        "  numSales = A//(C-B)+1\n",
        "  print(numSales)\n",
        "else:\n",
        "  print(-1)"
      ],
      "execution_count": null,
      "outputs": [
        {
          "output_type": "stream",
          "text": [
            "1000 70 170\n",
            "11\n"
          ],
          "name": "stdout"
        }
      ]
    },
    {
      "cell_type": "markdown",
      "metadata": {
        "id": "0NPWiZOLh237"
      },
      "source": [
        "## 2292. 벌집"
      ]
    },
    {
      "cell_type": "markdown",
      "metadata": {
        "id": "HbubC5SGh7-3"
      },
      "source": [
        "#### 그림\n",
        "\n",
        "https://www.acmicpc.net/JudgeOnline/upload/201009/3(2).png"
      ]
    },
    {
      "cell_type": "markdown",
      "metadata": {
        "id": "oSZYbn1nh5V4"
      },
      "source": [
        "### 문제\n",
        "    위의 그림과 같이 육각형으로 이루어진 벌집이 있다. 그림에서 보는 바와 같이 중앙의 방 1부터 시작해서 이웃하는 방에 돌아가면서 1씩 증가하는 번호를 주소로 매길 수 있다. 숫자 N이 주어졌을 때, 벌집의 중앙 1에서 N번 방까지 최소 개수의 방을 지나서 갈 때 몇 개의 방을 지나가는지(시작과 끝을 포함하여)를 계산하는 프로그램을 작성하시오. 예를 들면, 13까지는 3개, 58까지는 5개를 지난다.\n",
        "\n",
        "### 입력\n",
        "    첫째 줄에 N(1 ≤ N ≤ 1,000,000,000)이 주어진다.\n",
        "\n",
        "### 출력\n",
        "    입력으로 주어진 방까지 최소 개수의 방을 지나서 갈 때 몇 개의 방을 지나는지 출력한다.\n",
        "\n",
        "### 예제 입력 1 \n",
        "    13\n",
        "### 예제 출력 1 \n",
        "    3"
      ]
    },
    {
      "cell_type": "markdown",
      "metadata": {
        "id": "e8tnn8QwiPRp"
      },
      "source": [
        "### Code"
      ]
    },
    {
      "cell_type": "markdown",
      "metadata": {
        "id": "ajcZV3itIFed"
      },
      "source": [
        "#### 1st try\n",
        "\n",
        "오답. 채점 중간에 틀림"
      ]
    },
    {
      "cell_type": "code",
      "metadata": {
        "colab": {
          "base_uri": "https://localhost:8080/"
        },
        "id": "x5mx_7GviQnF",
        "outputId": "ac83a66c-2bce-417d-e726-fb66cc51649a"
      },
      "source": [
        "number = int(input())-1\n",
        "step = 1\n",
        "\n",
        "while number >= (6*step):\n",
        "  number -= (6*step)\n",
        "  step += 1\n",
        "else:\n",
        "  step += 1\n",
        "\n",
        "print(step)"
      ],
      "execution_count": null,
      "outputs": [
        {
          "output_type": "stream",
          "text": [
            "70\n",
            "6\n"
          ],
          "name": "stdout"
        }
      ]
    },
    {
      "cell_type": "markdown",
      "metadata": {
        "id": "2FncPP_uII1l"
      },
      "source": [
        "#### 2nd try"
      ]
    },
    {
      "cell_type": "code",
      "metadata": {
        "colab": {
          "base_uri": "https://localhost:8080/"
        },
        "id": "6ecXQ-uSIVeY",
        "outputId": "a02a49fb-8351-4219-b823-85991ba564b8"
      },
      "source": [
        "number = int(input())-1\n",
        "layer = 1\n",
        "\n",
        "while number > 0:\n",
        "  number -= layer*6\n",
        "  layer += 1\n",
        "\n",
        "print(layer)"
      ],
      "execution_count": null,
      "outputs": [
        {
          "output_type": "stream",
          "text": [
            "58\n",
            "5\n"
          ],
          "name": "stdout"
        }
      ]
    },
    {
      "cell_type": "markdown",
      "metadata": {
        "id": "-nx89zUXJLHT"
      },
      "source": [
        "## 1193. 분수찾기"
      ]
    },
    {
      "cell_type": "markdown",
      "metadata": {
        "id": "gY_9zDBvJN2S"
      },
      "source": [
        "### 문제\n",
        "    무한히 큰 배열에 다음과 같이 분수들이 적혀있다.\n",
        "\n",
        "1/1\t1/2\t1/3\t1/4\t1/5\t…\n",
        "2/1\t2/2\t2/3\t2/4\t…\t…\n",
        "3/1\t3/2\t3/3\t…\t…\t…\n",
        "4/1\t4/2\t…\t…\t…\t…\n",
        "5/1\t…\t…\t…\t…\t…\n",
        "…\t…\t…\t…\t…\t…\n",
        "\n",
        "    이와 같이 나열된 분수들을 1/1 -> 1/2 -> 2/1 -> 3/1 -> 2/2 -> … 과 같은 지그재그 순서로 차례대로 1번, 2번, 3번, 4번, 5번, … 분수라고 하자.\n",
        "\n",
        "    X가 주어졌을 때, X번째 분수를 구하는 프로그램을 작성하시오.\n",
        "\n",
        "### 입력\n",
        "    첫째 줄에 X(1 ≤ X ≤ 10,000,000)가 주어진다.\n",
        "\n",
        "### 출력\n",
        "    첫째 줄에 분수를 출력한다.\n",
        "\n",
        "### 예제 입력 1 \n",
        "    14\n",
        "### 예제 출력 1 \n",
        "    2/4"
      ]
    },
    {
      "cell_type": "markdown",
      "metadata": {
        "id": "wkiGe0VcJWa8"
      },
      "source": [
        "### Code"
      ]
    },
    {
      "cell_type": "code",
      "metadata": {
        "colab": {
          "base_uri": "https://localhost:8080/"
        },
        "id": "QOcPp46GJXeM",
        "outputId": "739eadf5-66ee-4c5b-c215-6f62bbaca628"
      },
      "source": [
        "number = int(input())\n",
        "x = y = layer = 1\n",
        "\n",
        "while layer < number:\n",
        "  number -= layer\n",
        "  layer += 1\n",
        "\n",
        "if layer%2 == 1:\n",
        "  x, y = layer, 1\n",
        "  x -= (number-1)\n",
        "  y += (number-1)\n",
        "else:\n",
        "  x, y = 1, layer\n",
        "  x += (number-1)\n",
        "  y -= (number-1)\n",
        "  \n",
        "print(f'{x}/{y}')"
      ],
      "execution_count": null,
      "outputs": [
        {
          "output_type": "stream",
          "text": [
            "15\n",
            "1/5\n"
          ],
          "name": "stdout"
        }
      ]
    }
  ]
}