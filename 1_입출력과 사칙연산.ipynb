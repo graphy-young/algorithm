{
 "cells": [
  {
   "cell_type": "markdown",
   "metadata": {},
   "source": [
    "# 1단계. 입출력과 사칙연산\n",
    "\n",
    "입력, 출력과 사칙연산을 연습해 봅시다. Hello World!"
   ]
  },
  {
   "cell_type": "markdown",
   "metadata": {},
   "source": [
    "## Q2557. Hello World\n",
    "\n",
    "### 문제\n",
    "Hello World!를 출력하시오.\n",
    "\n",
    "### 입력\n",
    "없음\n",
    "\n",
    "### 출력\n",
    "Hello World!를 출력하시오."
   ]
  },
  {
   "cell_type": "code",
   "execution_count": 1,
   "metadata": {},
   "outputs": [
    {
     "name": "stdout",
     "output_type": "stream",
     "text": [
      "Hello World!\n"
     ]
    }
   ],
   "source": [
    "print('Hello World!')"
   ]
  },
  {
   "cell_type": "markdown",
   "metadata": {},
   "source": [
    "## Q10718. We love kriii\n",
    "\n",
    "### 문제\n",
    "ACM-ICPC 인터넷 예선, Regional, 그리고 World Finals까지 이미 2회씩 진출해버린 kriii는 미련을 버리지 못하고 왠지 모르게 올 해에도 파주 World Finals 준비 캠프에 참여했다.\n",
    "\n",
    "대회를 뜰 줄 모르는 지박령 kriii를 위해서 격려의 문구를 출력해주자.\n",
    "\n",
    "### 입력\n",
    "본 문제는 입력이 없다.\n",
    "\n",
    "### 출력\n",
    "두 줄에 걸쳐 \"강한친구 대한육군\"을 한 줄에 한 번씩 출력한다."
   ]
  },
  {
   "cell_type": "code",
   "execution_count": 2,
   "metadata": {},
   "outputs": [
    {
     "name": "stdout",
     "output_type": "stream",
     "text": [
      "강한친구 대한육군\n",
      "강한친구 대한육군\n"
     ]
    }
   ],
   "source": [
    "print('강한친구 대한육군\\n강한친구 대한육군')"
   ]
  },
  {
   "cell_type": "code",
   "execution_count": 3,
   "metadata": {},
   "outputs": [
    {
     "name": "stdout",
     "output_type": "stream",
     "text": [
      "강한친구 대한육군\n",
      "강한친구 대한육군\n"
     ]
    }
   ],
   "source": [
    "for i in range(2): print('강한친구 대한육군')"
   ]
  },
  {
   "cell_type": "markdown",
   "metadata": {},
   "source": [
    "## Q10171. 고양이\n",
    "\n",
    "### 문제\n",
    "아래 예제와 같이 고양이를 출력하시오.\n",
    "\n",
    "### 입력\n",
    "없음.\n",
    "\n",
    "### 출력\n",
    "고양이를 출력한다."
   ]
  },
  {
   "cell_type": "code",
   "execution_count": 10,
   "metadata": {},
   "outputs": [
    {
     "name": "stdout",
     "output_type": "stream",
     "text": [
      "\\    /\\ \n",
      " )  ( ')\n",
      "(  /  )\n",
      " \\(__)|\n"
     ]
    }
   ],
   "source": [
    "print('''\\    /\\ \n",
    " )  ( ')\n",
    "(  /  )\n",
    " \\(__)|''')"
   ]
  },
  {
   "cell_type": "markdown",
   "metadata": {},
   "source": [
    "## Q10172. 개\n",
    "\n",
    "### 문제\n",
    "아래 예제와 같이 개를 출력하시오.\n",
    "\n",
    "### 입력\n",
    "없음.\n",
    "\n",
    "### 출력\n",
    "개를 출력한다."
   ]
  },
  {
   "cell_type": "code",
   "execution_count": 16,
   "metadata": {},
   "outputs": [
    {
     "name": "stdout",
     "output_type": "stream",
     "text": [
      "|\\_/|\n",
      "|q p|   /}\n",
      "( 0 )\"\"\"\\\n",
      "|\"^\"`    |\n",
      "||_/=\\\\__|\n"
     ]
    }
   ],
   "source": [
    "print('''|\\_/|\n",
    "|q p|   /}\n",
    "( 0 )\"\"\"\\\\\n",
    "|\"^\"`    |\n",
    "||_/=\\\\\\\\__|''')"
   ]
  },
  {
   "cell_type": "markdown",
   "metadata": {},
   "source": [
    "## Q1000. A+B\n",
    "\n",
    "### 문제\n",
    "두 정수 A와 B를 입력받은 다음, A+B를 출력하는 프로그램을 작성하시오.\n",
    "\n",
    "### 입력\n",
    "첫째 줄에 A와 B가 주어진다. (0 < A, B < 10)\n",
    "\n",
    "### 출력\n",
    "첫째 줄에 A+B를 출력한다."
   ]
  },
  {
   "cell_type": "code",
   "execution_count": 20,
   "metadata": {
    "scrolled": true
   },
   "outputs": [
    {
     "name": "stdout",
     "output_type": "stream",
     "text": [
      "1 2\n",
      "3\n"
     ]
    }
   ],
   "source": [
    "func = lambda x: sum(x)\n",
    "\n",
    "values = input().split()\n",
    "\n",
    "for idx in range(len(values)): values[idx] = int(values[idx])\n",
    "print(func(values))"
   ]
  },
  {
   "cell_type": "markdown",
   "metadata": {},
   "source": [
    "## Q1001. A-B\n",
    "\n",
    "### 문제\n",
    "두 정수 A와 B를 입력받은 다음, A-B를 출력하는 프로그램을 작성하시오.\n",
    "\n",
    "### 입력\n",
    "첫째 줄에 A와 B가 주어진다. (0 < A, B < 10)\n",
    "\n",
    "### 출력\n",
    "첫째 줄에 A-B를 출력한다.\n",
    "\n",
    "### 예제 입력 1\n",
    "3 2\n",
    "### 예제 출력 1\n",
    "1"
   ]
  },
  {
   "cell_type": "code",
   "execution_count": 28,
   "metadata": {},
   "outputs": [
    {
     "name": "stdout",
     "output_type": "stream",
     "text": [
      "3 2\n",
      "1\n"
     ]
    }
   ],
   "source": [
    "def func(*args):\n",
    "    values = args[0]\n",
    "    for idx in range(len(values)):\n",
    "        if idx == len(values)-1: return values[0]\n",
    "        reverse_idx = (len(values)-1)-idx\n",
    "        values[0] -= values[reverse_idx]\n",
    "\n",
    "values = input().split()\n",
    "\n",
    "for idx in range(len(values)): values[idx] = int(values[idx])\n",
    "\n",
    "print(func(values))"
   ]
  },
  {
   "cell_type": "markdown",
   "metadata": {},
   "source": [
    "## Q10998. AxB\n",
    "\n",
    "### 문제\n",
    "\n",
    "두 정수 A와 B를 입력받은 다음, A×B를 출력하는 프로그램을 작성하시오.\n",
    "\n",
    "### 입력\n",
    "첫째 줄에 A와 B가 주어진다. (0 < A, B < 10)\n",
    "\n",
    "### 출력\n",
    "첫째 줄에 A×B를 출력한다.\n",
    "\n",
    "### 예제 입력 1\n",
    "1 2\n",
    "### 예제 출력 1\n",
    "2\n",
    "\n",
    "### 예제 입력 2\n",
    "3 4\n",
    "### 예제 출력 2\n",
    "12"
   ]
  },
  {
   "cell_type": "code",
   "execution_count": 32,
   "metadata": {},
   "outputs": [
    {
     "name": "stdout",
     "output_type": "stream",
     "text": [
      "1 2\n"
     ]
    },
    {
     "data": {
      "text/plain": [
       "2"
      ]
     },
     "execution_count": 32,
     "metadata": {},
     "output_type": "execute_result"
    }
   ],
   "source": [
    "print((lambda x: int(x[0]) * int(x[2]))(input()))"
   ]
  },
  {
   "cell_type": "markdown",
   "metadata": {},
   "source": [
    "## Q. 1008. A/B\n",
    "\n",
    "### 문제\n",
    "두 정수 A와 B를 입력받은 다음, A/B를 출력하는 프로그램을 작성하시오.\n",
    "\n",
    "### 입력\n",
    "첫째 줄에 A와 B가 주어진다. (0 < A, B < 10)\n",
    "\n",
    "### 출력\n",
    "첫째 줄에 A/B를 출력한다. 실제 정답과 출력값의 절대오차 또는 상대오차가 10-9 이하이면 정답이다.\n",
    "\n",
    "### 예제 입력 1\n",
    "1 3\n",
    "### 예제 출력 1\n",
    "0.33333333333333333333333333333333\n",
    "\n",
    "10-9 이하의 오차를 허용한다는 말은 꼭 소수 9번째 자리까지만 출력하라는 뜻이 아니다.\n",
    "\n",
    "### 예제 입력 2\n",
    "4 5\n",
    "### 예제 출력 2\n",
    "0.8"
   ]
  },
  {
   "cell_type": "code",
   "execution_count": 37,
   "metadata": {},
   "outputs": [
    {
     "name": "stdout",
     "output_type": "stream",
     "text": [
      "1 3\n",
      "0.3333333333333333\n"
     ]
    }
   ],
   "source": [
    "print( (lambda x: int(x[0]) / int(x[2]))(input()) )"
   ]
  },
  {
   "cell_type": "markdown",
   "metadata": {},
   "source": [
    "## Q10869. 사칙연산\n",
    "\n",
    "### 문제\n",
    "두 자연수 A와 B가 주어진다. 이때, A+B, A-B, A*B, A/B(몫), A%B(나머지)를 출력하는 프로그램을 작성하시오. \n",
    "\n",
    "### 입력\n",
    "두 자연수 A와 B가 주어진다. (1 ≤ A, B ≤ 10,000)\n",
    "\n",
    "### 출력\n",
    "첫째 줄에 A+B, 둘째 줄에 A-B, 셋째 줄에 A*B, 넷째 줄에 A/B, 다섯째 줄에 A%B를 출력한다.\n",
    "\n",
    "### 예제 입력 1\n",
    "7 3\n",
    "### 예제 출력 1\n",
    "10\n",
    "4\n",
    "21\n",
    "2\n",
    "1"
   ]
  },
  {
   "cell_type": "code",
   "execution_count": 58,
   "metadata": {},
   "outputs": [
    {
     "name": "stdout",
     "output_type": "stream",
     "text": [
      "7 3\n",
      "10\n",
      "4\n",
      "21\n",
      "2\n",
      "1\n"
     ]
    }
   ],
   "source": [
    "def func(args):\n",
    "    values = [int(x) for x in args.split()]\n",
    "    a, b = values\n",
    "    if (1 <= a <= 10000) and (1 <= b <= 10000): \n",
    "        print(a+b)\n",
    "        print(a-b)\n",
    "        print(a*b)\n",
    "        print(a//b)\n",
    "        print(a%b)\n",
    "    else: print('Worng input')\n",
    "\n",
    "func(input())"
   ]
  },
  {
   "cell_type": "markdown",
   "metadata": {},
   "source": [
    "## Q10430. 나머지\n",
    "\n",
    "### 문제\n",
    "(A+B)%C는 (A%C + B%C)%C 와 같을까?\n",
    "\n",
    "(A×B)%C는 (A%C × B%C)%C 와 같을까?\n",
    "\n",
    "세 수 A, B, C가 주어졌을 때, 위의 네 가지 값을 구하는 프로그램을 작성하시오.\n",
    "\n",
    "### 입력\n",
    "첫째 줄에 A, B, C가 순서대로 주어진다. (2 ≤ A, B, C ≤ 10000)\n",
    "\n",
    "### 출력\n",
    "첫째 줄에 (A+B)%C, 둘째 줄에 (A%C + B%C)%C, 셋째 줄에 (A×B)%C, 넷째 줄에 (A%C × B%C)%C를 출력한다.\n",
    "\n",
    "### 예제 입력 1\n",
    "5 8 4\n",
    "### 예제 출력 1\n",
    "1\n",
    "1\n",
    "0\n",
    "0"
   ]
  },
  {
   "cell_type": "code",
   "execution_count": 60,
   "metadata": {},
   "outputs": [
    {
     "name": "stdout",
     "output_type": "stream",
     "text": [
      "5 8 4\n",
      "1\n",
      "1\n",
      "0\n",
      "0\n"
     ]
    }
   ],
   "source": [
    "def func(args):\n",
    "    values = [int(x) for x in args.split()]\n",
    "    for val in values:\n",
    "        if 2 <= val <= 10000: pass\n",
    "        else: raise ValueError\n",
    "    a, b, c = values[0], values[1], values[2]\n",
    "    print( (a+b)%c )\n",
    "    print( (a%c + b%c)%c )\n",
    "    print( (a*b)%c )\n",
    "    print( (a%c * b%c)%c )\n",
    "\n",
    "func(input())"
   ]
  },
  {
   "attachments": {},
   "cell_type": "markdown",
   "metadata": {},
   "source": [
    "## Q2588. 곱셈\n",
    "\n",
    "### 문제\n",
    "(세 자리 수) × (세 자리 수)는 다음과 같은 과정을 통하여 이루어진다.\n",
    "\n",
    "https://www.acmicpc.net/upload/images/f5NhGHVLM4Ix74DtJrwfC97KepPl27s%20(1).png![image.png](attachment:image.png)\n",
    "\n",
    "(1)과 (2)위치에 들어갈 세 자리 자연수가 주어질 때 (3), (4), (5), (6)위치에 들어갈 값을 구하는 프로그램을 작성하시오.\n",
    "\n",
    "### 입력\n",
    "첫째 줄에 (1)의 위치에 들어갈 세 자리 자연수가, 둘째 줄에 (2)의 위치에 들어갈 세자리 자연수가 주어진다.\n",
    "\n",
    "### 출력\n",
    "첫째 줄부터 넷째 줄까지 차례대로 (3), (4), (5), (6)에 들어갈 값을 출력한다.\n",
    "\n",
    "### 예제 입력 1\n",
    "472\n",
    "385\n",
    "### 예제 출력 1\n",
    "2360\n",
    "3776\n",
    "1416\n",
    "181720"
   ]
  },
  {
   "cell_type": "code",
   "execution_count": 7,
   "metadata": {},
   "outputs": [
    {
     "name": "stdout",
     "output_type": "stream",
     "text": [
      "472\n",
      "385\n",
      "2360\n",
      "3776\n",
      "1416\n",
      "181720\n"
     ]
    }
   ],
   "source": [
    "def func():\n",
    "    values = list()\n",
    "    for i in range(2): values.append(int(input()))\n",
    "    #values = [int(x) for x in args.split('\\n')]\n",
    "    multiplicand = values[0] # 피승수\n",
    "    multiplier = values[1] # 승수\n",
    "    for i in range( len(str(multiplier))-1, -1, -1 ):\n",
    "        print(multiplicand * int(str(multiplier)[i]))\n",
    "    print(multiplicand * multiplier)\n",
    "        \n",
    "func()"
   ]
  },
  {
   "cell_type": "code",
   "execution_count": null,
   "metadata": {},
   "outputs": [],
   "source": []
  }
 ],
 "metadata": {
  "kernelspec": {
   "display_name": "Python 3",
   "language": "python",
   "name": "python3"
  },
  "language_info": {
   "codemirror_mode": {
    "name": "ipython",
    "version": 3
   },
   "file_extension": ".py",
   "mimetype": "text/x-python",
   "name": "python",
   "nbconvert_exporter": "python",
   "pygments_lexer": "ipython3",
   "version": "3.7.3"
  }
 },
 "nbformat": 4,
 "nbformat_minor": 2
}
