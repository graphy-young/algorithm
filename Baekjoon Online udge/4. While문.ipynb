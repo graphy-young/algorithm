{
  "nbformat": 4,
  "nbformat_minor": 0,
  "metadata": {
    "colab": {
      "name": "4. While문.ipynb",
      "provenance": [],
      "authorship_tag": "ABX9TyN/hkUmpBzN7mGW+E1VoUSz",
      "include_colab_link": true
    },
    "kernelspec": {
      "name": "python3",
      "display_name": "Python 3"
    }
  },
  "cells": [
    {
      "cell_type": "markdown",
      "metadata": {
        "id": "view-in-github",
        "colab_type": "text"
      },
      "source": [
        "<a href=\"https://colab.research.google.com/github/graphy-young/algorithm/blob/main/Baekjoon%20Online%20udge/4.%20While%EB%AC%B8.ipynb\" target=\"_parent\"><img src=\"https://colab.research.google.com/assets/colab-badge.svg\" alt=\"Open In Colab\"/></a>"
      ]
    },
    {
      "cell_type": "markdown",
      "metadata": {
        "id": "PvdeqBdb1Iod"
      },
      "source": [
        "# 4. While문"
      ]
    },
    {
      "cell_type": "markdown",
      "metadata": {
        "id": "bMriFQRF1ScM"
      },
      "source": [
        "    while문을 사용해 봅시다."
      ]
    },
    {
      "cell_type": "markdown",
      "metadata": {
        "id": "uOC0uK3A1UZu"
      },
      "source": [
        "## 10952. A+B - 5"
      ]
    },
    {
      "cell_type": "markdown",
      "metadata": {
        "id": "vtkpr_-c1Y3V"
      },
      "source": [
        "### 문제\n",
        "    두 정수 A와 B를 입력받은 다음, A+B를 출력하는 프로그램을 작성하시오.\n",
        "\n",
        "### 입력\n",
        "    입력은 여러 개의 테스트 케이스로 이루어져 있다.\n",
        "    \n",
        "    각 테스트 케이스는 한 줄로 이루어져 있으며, 각 줄에 A와 B가 주어진다. (0 < A, B < 10)\n",
        "    \n",
        "    입력의 마지막에는 0 두 개가 들어온다.\n",
        "\n",
        "### 출력\n",
        "    각 테스트 케이스마다 A+B를 출력한다.\n",
        "\n",
        "### 예제 입력 1\n",
        "    1 1\n",
        "    2 3\n",
        "    3 4\n",
        "    9 8\n",
        "    5 2\n",
        "    0 0\n",
        "\n",
        "### 예제 출력 1\n",
        "    2\n",
        "    5\n",
        "    7\n",
        "    17\n",
        "    7"
      ]
    },
    {
      "cell_type": "markdown",
      "metadata": {
        "id": "ITdkrEcX1bbW"
      },
      "source": [
        "### Code"
      ]
    },
    {
      "cell_type": "code",
      "metadata": {
        "id": "iXRpnAOO1qHh"
      },
      "source": [
        "from sys import stdin\n",
        "A, B = map(int, stdin.readline().split())"
      ],
      "execution_count": 1,
      "outputs": []
    }
  ]
}